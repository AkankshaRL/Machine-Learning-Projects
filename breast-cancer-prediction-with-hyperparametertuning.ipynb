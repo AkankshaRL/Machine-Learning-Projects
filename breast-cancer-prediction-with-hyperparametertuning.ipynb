{
 "cells": [
  {
   "cell_type": "code",
   "execution_count": 1,
   "id": "ede78fe2",
   "metadata": {
    "_cell_guid": "b1076dfc-b9ad-4769-8c92-a6c4dae69d19",
    "_uuid": "8f2839f25d086af736a60e9eeb907d3b93b6e0e5",
    "execution": {
     "iopub.execute_input": "2024-06-12T13:52:55.226423Z",
     "iopub.status.busy": "2024-06-12T13:52:55.225325Z",
     "iopub.status.idle": "2024-06-12T13:52:56.291406Z",
     "shell.execute_reply": "2024-06-12T13:52:56.290056Z"
    },
    "papermill": {
     "duration": 1.086708,
     "end_time": "2024-06-12T13:52:56.294402",
     "exception": false,
     "start_time": "2024-06-12T13:52:55.207694",
     "status": "completed"
    },
    "tags": []
   },
   "outputs": [],
   "source": [
    "# This Python 3 environment comes with many helpful analytics libraries installed\n",
    "# It is defined by the kaggle/python Docker image: https://github.com/kaggle/docker-python\n",
    "# For example, here's several helpful packages to load\n",
    "\n",
    "import numpy as np # linear algebra\n",
    "import pandas as pd # data processing, CSV file I/O (e.g. pd.read_csv)\n",
    "\n",
    "# Input data files are available in the read-only \"../input/\" directory\n",
    "# For example, running this (by clicking run or pressing Shift+Enter) will list all files under the input directory\n",
    "\n",
    "import os\n",
    "for dirname, _, filenames in os.walk('/kaggle/input'):\n",
    "    for filename in filenames:\n",
    "        print(os.path.join(dirname, filename))\n",
    "\n",
    "# You can write up to 20GB to the current directory (/kaggle/working/) that gets preserved as output when you create a version using \"Save & Run All\" \n",
    "# You can also write temporary files to /kaggle/temp/, but they won't be saved outside of the current session"
   ]
  },
  {
   "cell_type": "markdown",
   "id": "64ff5f05",
   "metadata": {
    "papermill": {
     "duration": 0.014464,
     "end_time": "2024-06-12T13:52:56.323882",
     "exception": false,
     "start_time": "2024-06-12T13:52:56.309418",
     "status": "completed"
    },
    "tags": []
   },
   "source": [
    "# Importing Necessary Libraries"
   ]
  },
  {
   "cell_type": "code",
   "execution_count": 2,
   "id": "fa03e505",
   "metadata": {
    "execution": {
     "iopub.execute_input": "2024-06-12T13:52:56.355689Z",
     "iopub.status.busy": "2024-06-12T13:52:56.355112Z",
     "iopub.status.idle": "2024-06-12T13:52:58.734362Z",
     "shell.execute_reply": "2024-06-12T13:52:58.732987Z"
    },
    "papermill": {
     "duration": 2.398228,
     "end_time": "2024-06-12T13:52:58.737199",
     "exception": false,
     "start_time": "2024-06-12T13:52:56.338971",
     "status": "completed"
    },
    "tags": []
   },
   "outputs": [],
   "source": [
    "from sklearn.datasets import load_breast_cancer\n",
    "from sklearn.model_selection import train_test_split, GridSearchCV, RandomizedSearchCV\n",
    "from sklearn.tree import DecisionTreeClassifier\n",
    "from sklearn import tree\n",
    "from sklearn.metrics import accuracy_score, confusion_matrix, classification_report\n",
    "\n",
    "import matplotlib.pyplot as plt\n",
    "import seaborn as sns\n",
    "\n",
    "%matplotlib inline"
   ]
  },
  {
   "cell_type": "markdown",
   "id": "0f073263",
   "metadata": {
    "papermill": {
     "duration": 0.014413,
     "end_time": "2024-06-12T13:52:58.766361",
     "exception": false,
     "start_time": "2024-06-12T13:52:58.751948",
     "status": "completed"
    },
    "tags": []
   },
   "source": [
    "# Loading Data"
   ]
  },
  {
   "cell_type": "code",
   "execution_count": 3,
   "id": "72faf1a1",
   "metadata": {
    "execution": {
     "iopub.execute_input": "2024-06-12T13:52:58.799011Z",
     "iopub.status.busy": "2024-06-12T13:52:58.798569Z",
     "iopub.status.idle": "2024-06-12T13:52:58.821637Z",
     "shell.execute_reply": "2024-06-12T13:52:58.820176Z"
    },
    "papermill": {
     "duration": 0.043679,
     "end_time": "2024-06-12T13:52:58.824737",
     "exception": false,
     "start_time": "2024-06-12T13:52:58.781058",
     "status": "completed"
    },
    "tags": []
   },
   "outputs": [],
   "source": [
    "cancer = load_breast_cancer()"
   ]
  },
  {
   "cell_type": "markdown",
   "id": "c77a0d62",
   "metadata": {
    "papermill": {
     "duration": 0.015128,
     "end_time": "2024-06-12T13:52:58.854635",
     "exception": false,
     "start_time": "2024-06-12T13:52:58.839507",
     "status": "completed"
    },
    "tags": []
   },
   "source": [
    "The line of code `cancer = load_breast_cancer()` is part of a typical workflow in machine learning or data analysis when using the `scikit-learn` library in Python. Here's a detailed explanation of this code:\n",
    "\n",
    "1. **scikit-learn (sklearn) Library**:\n",
    "   - `scikit-learn` is a powerful and widely used machine learning library in Python. It provides simple and efficient tools for data mining and data analysis, built on NumPy, SciPy, and matplotlib.\n",
    "\n",
    "2. **Importing the `load_breast_cancer` Function**:\n",
    "   - Before you can use `load_breast_cancer`, you need to import it from the `datasets` module in `scikit-learn`. This is typically done with the following line of code:\n",
    "     ```python\n",
    "     from sklearn.datasets import load_breast_cancer\n",
    "     ```\n",
    "\n",
    "3. **The `load_breast_cancer` Function**:\n",
    "   - The `load_breast_cancer` function is a utility function in `scikit-learn` that loads and returns the breast cancer dataset. This dataset is a classic and widely used dataset for binary classification tasks, where the goal is to classify tumors as malignant or benign based on various features.\n",
    "\n",
    "4. **Loading the Dataset**:\n",
    "   - When you call `load_breast_cancer()`, it loads the dataset into memory and returns it as a Bunch object, which is a subclass of Python's dictionary and can be used like a dictionary.\n",
    "   - The `Bunch` object contains several attributes, including:\n",
    "     - `data`: The feature matrix (a 2D array) where each row represents a sample and each column represents a feature.\n",
    "     - `target`: The target array (a 1D array) where each entry represents the label for the corresponding sample (0 for benign, 1 for malignant).\n",
    "     - `feature_names`: An array of strings containing the names of the features.\n",
    "     - `target_names`: An array of strings containing the names of the target classes.\n",
    "     - `DESCR`: A string containing a full description of the dataset.\n",
    "     - `filename`: The physical location of the dataset file.\n",
    "     - `frame`: A DataFrame containing the data and target, if pandas is installed.\n",
    "\n",
    "5. **Assigning the Dataset to a Variable**:\n",
    "   - `cancer = load_breast_cancer()`: This line assigns the loaded breast cancer dataset to the variable `cancer`. After executing this line, `cancer` is a Bunch object containing all the information and data of the breast cancer dataset.\n"
   ]
  },
  {
   "cell_type": "code",
   "execution_count": 4,
   "id": "83293a65",
   "metadata": {
    "execution": {
     "iopub.execute_input": "2024-06-12T13:52:58.886634Z",
     "iopub.status.busy": "2024-06-12T13:52:58.886168Z",
     "iopub.status.idle": "2024-06-12T13:52:58.895514Z",
     "shell.execute_reply": "2024-06-12T13:52:58.894131Z"
    },
    "papermill": {
     "duration": 0.028223,
     "end_time": "2024-06-12T13:52:58.898026",
     "exception": false,
     "start_time": "2024-06-12T13:52:58.869803",
     "status": "completed"
    },
    "tags": []
   },
   "outputs": [
    {
     "data": {
      "text/plain": [
       "dict_keys(['data', 'target', 'frame', 'target_names', 'DESCR', 'feature_names', 'filename', 'data_module'])"
      ]
     },
     "execution_count": 4,
     "metadata": {},
     "output_type": "execute_result"
    }
   ],
   "source": [
    "cancer.keys()"
   ]
  },
  {
   "cell_type": "markdown",
   "id": "dc3327e9",
   "metadata": {
    "papermill": {
     "duration": 0.014498,
     "end_time": "2024-06-12T13:52:58.928225",
     "exception": false,
     "start_time": "2024-06-12T13:52:58.913727",
     "status": "completed"
    },
    "tags": []
   },
   "source": [
    "**`cancer.keys()`**:\n",
    "   - This will print the keys of the Bunch object, which typically includes `['data', 'target', 'frame', 'target_names', 'DESCR', 'feature_names', 'filename']`."
   ]
  },
  {
   "cell_type": "code",
   "execution_count": 5,
   "id": "a012673c",
   "metadata": {
    "execution": {
     "iopub.execute_input": "2024-06-12T13:52:58.960066Z",
     "iopub.status.busy": "2024-06-12T13:52:58.959581Z",
     "iopub.status.idle": "2024-06-12T13:52:58.969548Z",
     "shell.execute_reply": "2024-06-12T13:52:58.968339Z"
    },
    "papermill": {
     "duration": 0.028914,
     "end_time": "2024-06-12T13:52:58.972202",
     "exception": false,
     "start_time": "2024-06-12T13:52:58.943288",
     "status": "completed"
    },
    "tags": []
   },
   "outputs": [
    {
     "data": {
      "text/plain": [
       "array([[1.799e+01, 1.038e+01, 1.228e+02, ..., 2.654e-01, 4.601e-01,\n",
       "        1.189e-01],\n",
       "       [2.057e+01, 1.777e+01, 1.329e+02, ..., 1.860e-01, 2.750e-01,\n",
       "        8.902e-02],\n",
       "       [1.969e+01, 2.125e+01, 1.300e+02, ..., 2.430e-01, 3.613e-01,\n",
       "        8.758e-02],\n",
       "       ...,\n",
       "       [1.660e+01, 2.808e+01, 1.083e+02, ..., 1.418e-01, 2.218e-01,\n",
       "        7.820e-02],\n",
       "       [2.060e+01, 2.933e+01, 1.401e+02, ..., 2.650e-01, 4.087e-01,\n",
       "        1.240e-01],\n",
       "       [7.760e+00, 2.454e+01, 4.792e+01, ..., 0.000e+00, 2.871e-01,\n",
       "        7.039e-02]])"
      ]
     },
     "execution_count": 5,
     "metadata": {},
     "output_type": "execute_result"
    }
   ],
   "source": [
    "cancer['data']"
   ]
  },
  {
   "cell_type": "code",
   "execution_count": 6,
   "id": "0fb3bf41",
   "metadata": {
    "execution": {
     "iopub.execute_input": "2024-06-12T13:52:59.004922Z",
     "iopub.status.busy": "2024-06-12T13:52:59.004253Z",
     "iopub.status.idle": "2024-06-12T13:52:59.012903Z",
     "shell.execute_reply": "2024-06-12T13:52:59.011389Z"
    },
    "papermill": {
     "duration": 0.028282,
     "end_time": "2024-06-12T13:52:59.015695",
     "exception": false,
     "start_time": "2024-06-12T13:52:58.987413",
     "status": "completed"
    },
    "tags": []
   },
   "outputs": [
    {
     "data": {
      "text/plain": [
       "array(['malignant', 'benign'], dtype='<U9')"
      ]
     },
     "execution_count": 6,
     "metadata": {},
     "output_type": "execute_result"
    }
   ],
   "source": [
    "cancer['target_names']"
   ]
  },
  {
   "cell_type": "code",
   "execution_count": 7,
   "id": "f44d452e",
   "metadata": {
    "execution": {
     "iopub.execute_input": "2024-06-12T13:52:59.048219Z",
     "iopub.status.busy": "2024-06-12T13:52:59.047707Z",
     "iopub.status.idle": "2024-06-12T13:52:59.056106Z",
     "shell.execute_reply": "2024-06-12T13:52:59.054549Z"
    },
    "papermill": {
     "duration": 0.027392,
     "end_time": "2024-06-12T13:52:59.058646",
     "exception": false,
     "start_time": "2024-06-12T13:52:59.031254",
     "status": "completed"
    },
    "tags": []
   },
   "outputs": [
    {
     "data": {
      "text/plain": [
       "array(['mean radius', 'mean texture', 'mean perimeter', 'mean area',\n",
       "       'mean smoothness', 'mean compactness', 'mean concavity',\n",
       "       'mean concave points', 'mean symmetry', 'mean fractal dimension',\n",
       "       'radius error', 'texture error', 'perimeter error', 'area error',\n",
       "       'smoothness error', 'compactness error', 'concavity error',\n",
       "       'concave points error', 'symmetry error',\n",
       "       'fractal dimension error', 'worst radius', 'worst texture',\n",
       "       'worst perimeter', 'worst area', 'worst smoothness',\n",
       "       'worst compactness', 'worst concavity', 'worst concave points',\n",
       "       'worst symmetry', 'worst fractal dimension'], dtype='<U23')"
      ]
     },
     "execution_count": 7,
     "metadata": {},
     "output_type": "execute_result"
    }
   ],
   "source": [
    "cancer['feature_names']"
   ]
  },
  {
   "cell_type": "markdown",
   "id": "be7b46d8",
   "metadata": {
    "papermill": {
     "duration": 0.015258,
     "end_time": "2024-06-12T13:52:59.090080",
     "exception": false,
     "start_time": "2024-06-12T13:52:59.074822",
     "status": "completed"
    },
    "tags": []
   },
   "source": [
    "## Creating a DataFrame"
   ]
  },
  {
   "cell_type": "code",
   "execution_count": 8,
   "id": "756abb04",
   "metadata": {
    "execution": {
     "iopub.execute_input": "2024-06-12T13:52:59.122535Z",
     "iopub.status.busy": "2024-06-12T13:52:59.122095Z",
     "iopub.status.idle": "2024-06-12T13:52:59.172780Z",
     "shell.execute_reply": "2024-06-12T13:52:59.171492Z"
    },
    "papermill": {
     "duration": 0.069979,
     "end_time": "2024-06-12T13:52:59.175408",
     "exception": false,
     "start_time": "2024-06-12T13:52:59.105429",
     "status": "completed"
    },
    "tags": []
   },
   "outputs": [
    {
     "data": {
      "text/html": [
       "<div>\n",
       "<style scoped>\n",
       "    .dataframe tbody tr th:only-of-type {\n",
       "        vertical-align: middle;\n",
       "    }\n",
       "\n",
       "    .dataframe tbody tr th {\n",
       "        vertical-align: top;\n",
       "    }\n",
       "\n",
       "    .dataframe thead th {\n",
       "        text-align: right;\n",
       "    }\n",
       "</style>\n",
       "<table border=\"1\" class=\"dataframe\">\n",
       "  <thead>\n",
       "    <tr style=\"text-align: right;\">\n",
       "      <th></th>\n",
       "      <th>mean radius</th>\n",
       "      <th>mean texture</th>\n",
       "      <th>mean perimeter</th>\n",
       "      <th>mean area</th>\n",
       "      <th>mean smoothness</th>\n",
       "      <th>mean compactness</th>\n",
       "      <th>mean concavity</th>\n",
       "      <th>mean concave points</th>\n",
       "      <th>mean symmetry</th>\n",
       "      <th>mean fractal dimension</th>\n",
       "      <th>...</th>\n",
       "      <th>worst texture</th>\n",
       "      <th>worst perimeter</th>\n",
       "      <th>worst area</th>\n",
       "      <th>worst smoothness</th>\n",
       "      <th>worst compactness</th>\n",
       "      <th>worst concavity</th>\n",
       "      <th>worst concave points</th>\n",
       "      <th>worst symmetry</th>\n",
       "      <th>worst fractal dimension</th>\n",
       "      <th>label</th>\n",
       "    </tr>\n",
       "  </thead>\n",
       "  <tbody>\n",
       "    <tr>\n",
       "      <th>0</th>\n",
       "      <td>17.99</td>\n",
       "      <td>10.38</td>\n",
       "      <td>122.80</td>\n",
       "      <td>1001.0</td>\n",
       "      <td>0.11840</td>\n",
       "      <td>0.27760</td>\n",
       "      <td>0.3001</td>\n",
       "      <td>0.14710</td>\n",
       "      <td>0.2419</td>\n",
       "      <td>0.07871</td>\n",
       "      <td>...</td>\n",
       "      <td>17.33</td>\n",
       "      <td>184.60</td>\n",
       "      <td>2019.0</td>\n",
       "      <td>0.1622</td>\n",
       "      <td>0.6656</td>\n",
       "      <td>0.7119</td>\n",
       "      <td>0.2654</td>\n",
       "      <td>0.4601</td>\n",
       "      <td>0.11890</td>\n",
       "      <td>0</td>\n",
       "    </tr>\n",
       "    <tr>\n",
       "      <th>1</th>\n",
       "      <td>20.57</td>\n",
       "      <td>17.77</td>\n",
       "      <td>132.90</td>\n",
       "      <td>1326.0</td>\n",
       "      <td>0.08474</td>\n",
       "      <td>0.07864</td>\n",
       "      <td>0.0869</td>\n",
       "      <td>0.07017</td>\n",
       "      <td>0.1812</td>\n",
       "      <td>0.05667</td>\n",
       "      <td>...</td>\n",
       "      <td>23.41</td>\n",
       "      <td>158.80</td>\n",
       "      <td>1956.0</td>\n",
       "      <td>0.1238</td>\n",
       "      <td>0.1866</td>\n",
       "      <td>0.2416</td>\n",
       "      <td>0.1860</td>\n",
       "      <td>0.2750</td>\n",
       "      <td>0.08902</td>\n",
       "      <td>0</td>\n",
       "    </tr>\n",
       "    <tr>\n",
       "      <th>2</th>\n",
       "      <td>19.69</td>\n",
       "      <td>21.25</td>\n",
       "      <td>130.00</td>\n",
       "      <td>1203.0</td>\n",
       "      <td>0.10960</td>\n",
       "      <td>0.15990</td>\n",
       "      <td>0.1974</td>\n",
       "      <td>0.12790</td>\n",
       "      <td>0.2069</td>\n",
       "      <td>0.05999</td>\n",
       "      <td>...</td>\n",
       "      <td>25.53</td>\n",
       "      <td>152.50</td>\n",
       "      <td>1709.0</td>\n",
       "      <td>0.1444</td>\n",
       "      <td>0.4245</td>\n",
       "      <td>0.4504</td>\n",
       "      <td>0.2430</td>\n",
       "      <td>0.3613</td>\n",
       "      <td>0.08758</td>\n",
       "      <td>0</td>\n",
       "    </tr>\n",
       "    <tr>\n",
       "      <th>3</th>\n",
       "      <td>11.42</td>\n",
       "      <td>20.38</td>\n",
       "      <td>77.58</td>\n",
       "      <td>386.1</td>\n",
       "      <td>0.14250</td>\n",
       "      <td>0.28390</td>\n",
       "      <td>0.2414</td>\n",
       "      <td>0.10520</td>\n",
       "      <td>0.2597</td>\n",
       "      <td>0.09744</td>\n",
       "      <td>...</td>\n",
       "      <td>26.50</td>\n",
       "      <td>98.87</td>\n",
       "      <td>567.7</td>\n",
       "      <td>0.2098</td>\n",
       "      <td>0.8663</td>\n",
       "      <td>0.6869</td>\n",
       "      <td>0.2575</td>\n",
       "      <td>0.6638</td>\n",
       "      <td>0.17300</td>\n",
       "      <td>0</td>\n",
       "    </tr>\n",
       "    <tr>\n",
       "      <th>4</th>\n",
       "      <td>20.29</td>\n",
       "      <td>14.34</td>\n",
       "      <td>135.10</td>\n",
       "      <td>1297.0</td>\n",
       "      <td>0.10030</td>\n",
       "      <td>0.13280</td>\n",
       "      <td>0.1980</td>\n",
       "      <td>0.10430</td>\n",
       "      <td>0.1809</td>\n",
       "      <td>0.05883</td>\n",
       "      <td>...</td>\n",
       "      <td>16.67</td>\n",
       "      <td>152.20</td>\n",
       "      <td>1575.0</td>\n",
       "      <td>0.1374</td>\n",
       "      <td>0.2050</td>\n",
       "      <td>0.4000</td>\n",
       "      <td>0.1625</td>\n",
       "      <td>0.2364</td>\n",
       "      <td>0.07678</td>\n",
       "      <td>0</td>\n",
       "    </tr>\n",
       "  </tbody>\n",
       "</table>\n",
       "<p>5 rows × 31 columns</p>\n",
       "</div>"
      ],
      "text/plain": [
       "   mean radius  mean texture  mean perimeter  mean area  mean smoothness  \\\n",
       "0        17.99         10.38          122.80     1001.0          0.11840   \n",
       "1        20.57         17.77          132.90     1326.0          0.08474   \n",
       "2        19.69         21.25          130.00     1203.0          0.10960   \n",
       "3        11.42         20.38           77.58      386.1          0.14250   \n",
       "4        20.29         14.34          135.10     1297.0          0.10030   \n",
       "\n",
       "   mean compactness  mean concavity  mean concave points  mean symmetry  \\\n",
       "0           0.27760          0.3001              0.14710         0.2419   \n",
       "1           0.07864          0.0869              0.07017         0.1812   \n",
       "2           0.15990          0.1974              0.12790         0.2069   \n",
       "3           0.28390          0.2414              0.10520         0.2597   \n",
       "4           0.13280          0.1980              0.10430         0.1809   \n",
       "\n",
       "   mean fractal dimension  ...  worst texture  worst perimeter  worst area  \\\n",
       "0                 0.07871  ...          17.33           184.60      2019.0   \n",
       "1                 0.05667  ...          23.41           158.80      1956.0   \n",
       "2                 0.05999  ...          25.53           152.50      1709.0   \n",
       "3                 0.09744  ...          26.50            98.87       567.7   \n",
       "4                 0.05883  ...          16.67           152.20      1575.0   \n",
       "\n",
       "   worst smoothness  worst compactness  worst concavity  worst concave points  \\\n",
       "0            0.1622             0.6656           0.7119                0.2654   \n",
       "1            0.1238             0.1866           0.2416                0.1860   \n",
       "2            0.1444             0.4245           0.4504                0.2430   \n",
       "3            0.2098             0.8663           0.6869                0.2575   \n",
       "4            0.1374             0.2050           0.4000                0.1625   \n",
       "\n",
       "   worst symmetry  worst fractal dimension  label  \n",
       "0          0.4601                  0.11890      0  \n",
       "1          0.2750                  0.08902      0  \n",
       "2          0.3613                  0.08758      0  \n",
       "3          0.6638                  0.17300      0  \n",
       "4          0.2364                  0.07678      0  \n",
       "\n",
       "[5 rows x 31 columns]"
      ]
     },
     "execution_count": 8,
     "metadata": {},
     "output_type": "execute_result"
    }
   ],
   "source": [
    "df = pd.DataFrame(cancer.data, columns = cancer.feature_names)\n",
    "df['label'] = cancer.target\n",
    "df.head()"
   ]
  },
  {
   "cell_type": "markdown",
   "id": "19616f56",
   "metadata": {
    "papermill": {
     "duration": 0.015568,
     "end_time": "2024-06-12T13:52:59.207345",
     "exception": false,
     "start_time": "2024-06-12T13:52:59.191777",
     "status": "completed"
    },
    "tags": []
   },
   "source": [
    "**Creating a DataFrame**:\n",
    "   - A pandas DataFrame is created from the feature matrix `cancer.data`, with columns named according to `cancer.feature_names`.\n",
    "   - The target array `cancer.target` is added to the DataFrame as a new column named 'target'."
   ]
  },
  {
   "cell_type": "markdown",
   "id": "19570903",
   "metadata": {
    "papermill": {
     "duration": 0.016043,
     "end_time": "2024-06-12T13:52:59.240977",
     "exception": false,
     "start_time": "2024-06-12T13:52:59.224934",
     "status": "completed"
    },
    "tags": []
   },
   "source": [
    "# Visualization"
   ]
  },
  {
   "cell_type": "code",
   "execution_count": 9,
   "id": "f6de8f4d",
   "metadata": {
    "execution": {
     "iopub.execute_input": "2024-06-12T13:52:59.275746Z",
     "iopub.status.busy": "2024-06-12T13:52:59.275312Z",
     "iopub.status.idle": "2024-06-12T13:52:59.576276Z",
     "shell.execute_reply": "2024-06-12T13:52:59.575113Z"
    },
    "papermill": {
     "duration": 0.321609,
     "end_time": "2024-06-12T13:52:59.579149",
     "exception": false,
     "start_time": "2024-06-12T13:52:59.257540",
     "status": "completed"
    },
    "tags": []
   },
   "outputs": [
    {
     "data": {
      "text/plain": [
       "<Axes: ylabel='count'>"
      ]
     },
     "execution_count": 9,
     "metadata": {},
     "output_type": "execute_result"
    },
    {
     "data": {
      "image/png": "[encoded data removed]",
      "text/plain": [
       "<Figure size 640x480 with 1 Axes>"
      ]
     },
     "metadata": {},
     "output_type": "display_data"
    }
   ],
   "source": [
    "sns.countplot(x = cancer['target'])"
   ]
  },
  {
   "cell_type": "markdown",
   "id": "e621888a",
   "metadata": {
    "papermill": {
     "duration": 0.016074,
     "end_time": "2024-06-12T13:52:59.611475",
     "exception": false,
     "start_time": "2024-06-12T13:52:59.595401",
     "status": "completed"
    },
    "tags": []
   },
   "source": [
    "Here's a breakdown of each component:\n",
    "\n",
    "### Seaborn Library\n",
    "Seaborn is a Python data visualization library based on Matplotlib. It provides a high-level interface for drawing attractive and informative statistical graphics.\n",
    "\n",
    "### The `countplot` Function\n",
    "The `countplot` function in Seaborn is used to create a bar plot that shows the counts of observations in each categorical bin using bars. It is especially useful for visualizing the distribution of categorical data.\n",
    "\n",
    "### Code Explanation\n",
    "```python\n",
    "sns.countplot(x = cancer['target'])\n",
    "```\n",
    "\n",
    "1. **`sns`**: This is the alias commonly used for the Seaborn library. When you import Seaborn, you typically use:\n",
    "   ```python\n",
    "   import seaborn as sns\n",
    "   ```\n",
    "\n",
    "2. **`countplot`**: This is the function within the Seaborn library that creates the count plot.\n",
    "\n",
    "3. **`x = cancer['target']`**: This is the parameter passed to the `countplot` function.\n",
    "   - **`x`**: This specifies that the data provided is for the x-axis.\n",
    "   - **`cancer['target']`**: This is the data being plotted. Here, `cancer` is assumed to be a Pandas DataFrame, and `'target'` is the name of the column within that DataFrame. This column contains the categorical data that you want to plot.\n",
    "\n",
    "### What the Code Does\n",
    "- The code creates a bar plot where the x-axis represents the different categories within the `target` column of the `cancer` DataFrame.\n",
    "- Each bar corresponds to a unique category in the `target` column.\n",
    "- The height of each bar represents the number of occurrences (count) of each category in the `target` column.\n",
    "\n",
    "### Example Visualization\n",
    "If the `cancer['target']` column contains data about whether cancer is benign (0) or malignant (1), the resulting plot would have:\n",
    "- Two bars: one for 0 (benign) and one for 1 (malignant).\n",
    "- The height of each bar would indicate how many samples are benign and how many are malignant.\n"
   ]
  },
  {
   "cell_type": "markdown",
   "id": "2e0dc491",
   "metadata": {
    "papermill": {
     "duration": 0.016247,
     "end_time": "2024-06-12T13:52:59.644342",
     "exception": false,
     "start_time": "2024-06-12T13:52:59.628095",
     "status": "completed"
    },
    "tags": []
   },
   "source": [
    "# Splitting the Dataset"
   ]
  },
  {
   "cell_type": "code",
   "execution_count": 10,
   "id": "7e2bfebc",
   "metadata": {
    "execution": {
     "iopub.execute_input": "2024-06-12T13:52:59.681499Z",
     "iopub.status.busy": "2024-06-12T13:52:59.680402Z",
     "iopub.status.idle": "2024-06-12T13:52:59.690048Z",
     "shell.execute_reply": "2024-06-12T13:52:59.688901Z"
    },
    "papermill": {
     "duration": 0.031425,
     "end_time": "2024-06-12T13:52:59.693009",
     "exception": false,
     "start_time": "2024-06-12T13:52:59.661584",
     "status": "completed"
    },
    "tags": []
   },
   "outputs": [],
   "source": [
    "x = cancer['data']\n",
    "y = cancer['target']\n",
    "\n",
    "x_train, x_test, y_train, y_test = train_test_split(x,y, test_size = 0.2)"
   ]
  },
  {
   "cell_type": "markdown",
   "id": "56f36e07",
   "metadata": {
    "papermill": {
     "duration": 0.016163,
     "end_time": "2024-06-12T13:52:59.725876",
     "exception": false,
     "start_time": "2024-06-12T13:52:59.709713",
     "status": "completed"
    },
    "tags": []
   },
   "source": [
    "This code is part of a typical machine learning workflow in Python, using the popular library `scikit-learn`. Here’s a detailed explanation of each line of code:\n",
    "\n",
    "### 1. Importing Data\n",
    "\n",
    "```python\n",
    "x = cancer['data']\n",
    "y = cancer['target']\n",
    "```\n",
    "\n",
    "In these lines, the code is accessing the features and labels from the `cancer` dataset.\n",
    "\n",
    "- `cancer['data']`: This part extracts the features (inputs) of the dataset, which are typically in the form of a 2D array or DataFrame. Each row represents an instance (e.g., a patient's data), and each column represents a feature (e.g., measurements from cancer screening).\n",
    "- `cancer['target']`: This part extracts the labels (outputs) of the dataset, which are typically in the form of a 1D array or Series. Each entry represents the class label or target variable for the corresponding instance in the data.\n",
    "\n",
    "### 2. Splitting the Data\n",
    "\n",
    "```python\n",
    "x_train, x_test, y_train, y_test = train_test_split(x, y, test_size=0.2)\n",
    "```\n",
    "\n",
    "In this line, the code is splitting the dataset into training and testing subsets using the `train_test_split` function from `scikit-learn`.\n",
    "\n",
    "- `train_test_split(x, y, test_size=0.2)`: This function takes the features `x` and the labels `y`, and splits them into training and testing sets.\n",
    "  - `x`: The input features.\n",
    "  - `y`: The target labels.\n",
    "  - `test_size=0.2`: This parameter specifies the proportion of the dataset to include in the test split. Here, `0.2` means 20% of the data will be used for testing, and the remaining 80% will be used for training.\n",
    "\n",
    "The function returns four variables:\n",
    "- `x_train`: The training set features.\n",
    "- `x_test`: The testing set features.\n",
    "- `y_train`: The training set labels.\n",
    "- `y_test`: The testing set labels.\n",
    "\n",
    "### Summary\n",
    "\n",
    "Putting it all together, the code does the following:\n",
    "\n",
    "1. **Extracts the Features and Labels**: `x` gets the features from the `cancer` dataset, and `y` gets the corresponding labels.\n",
    "2. **Splits the Data**: Using `train_test_split`, it divides the data into training and testing sets. This is crucial for training the model on one subset of the data (`x_train`, `y_train`) and evaluating its performance on a separate subset (`x_test`, `y_test`).\n",
    "\n",
    "### Context\n",
    "\n",
    "In the context of machine learning:\n",
    "- **Training Set**: Used to train the model.\n",
    "- **Testing Set**: Used to evaluate the performance of the trained model to ensure it generalizes well to new, unseen data.\n",
    "\n",
    "This process helps in assessing the model’s performance and its ability to generalize to new data, thereby preventing overfitting."
   ]
  },
  {
   "cell_type": "markdown",
   "id": "aaf8553b",
   "metadata": {
    "papermill": {
     "duration": 0.016756,
     "end_time": "2024-06-12T13:52:59.758918",
     "exception": false,
     "start_time": "2024-06-12T13:52:59.742162",
     "status": "completed"
    },
    "tags": []
   },
   "source": [
    "# Model Building"
   ]
  },
  {
   "cell_type": "code",
   "execution_count": 11,
   "id": "4c508b91",
   "metadata": {
    "execution": {
     "iopub.execute_input": "2024-06-12T13:52:59.793384Z",
     "iopub.status.busy": "2024-06-12T13:52:59.792862Z",
     "iopub.status.idle": "2024-06-12T13:52:59.798527Z",
     "shell.execute_reply": "2024-06-12T13:52:59.797318Z"
    },
    "papermill": {
     "duration": 0.02595,
     "end_time": "2024-06-12T13:52:59.801136",
     "exception": false,
     "start_time": "2024-06-12T13:52:59.775186",
     "status": "completed"
    },
    "tags": []
   },
   "outputs": [],
   "source": [
    "model = DecisionTreeClassifier()"
   ]
  },
  {
   "cell_type": "markdown",
   "id": "cfc22213",
   "metadata": {
    "papermill": {
     "duration": 0.016362,
     "end_time": "2024-06-12T13:52:59.833749",
     "exception": false,
     "start_time": "2024-06-12T13:52:59.817387",
     "status": "completed"
    },
    "tags": []
   },
   "source": [
    "This line of code is written in Python and is part of the scikit-learn library, which is a popular machine learning library in Python. Let's break it down in detail:\n",
    "\n",
    "1. **`model`**:\n",
    "   - This is a variable name, and in this context, it is used to store an instance of the `DecisionTreeClassifier` class. The variable name can be anything, but `model` is a common convention.\n",
    "\n",
    "2. **`DecisionTreeClassifier`**:\n",
    "   - This is a class provided by the scikit-learn library. The class implements a decision tree algorithm for classification tasks.\n",
    "   - A decision tree is a flowchart-like tree structure where an internal node represents a feature (or attribute), the branch represents a decision rule, and each leaf node represents the outcome (class label).\n",
    "   - Decision trees are used for both classification and regression tasks. The `DecisionTreeClassifier` specifically is used for classification tasks, meaning it helps in predicting a category or class label.\n",
    "\n",
    "3. **`DecisionTreeClassifier()`**:\n",
    "   - This is a constructor call that creates a new instance of the `DecisionTreeClassifier` class.\n",
    "   - When called without any parameters, it initializes the classifier with default settings. However, the constructor can accept several parameters to customize the behavior of the decision tree. Some of the common parameters include:\n",
    "     - `criterion`: The function to measure the quality of a split. Supported criteria are “gini” for the Gini impurity and “entropy” for the information gain.\n",
    "     - `splitter`: The strategy used to choose the split at each node. Supported strategies are “best” to choose the best split and “random” to choose the best random split.\n",
    "     - `max_depth`: The maximum depth of the tree. If not specified, the nodes are expanded until all leaves are pure or until all leaves contain less than `min_samples_split` samples.\n",
    "     - `min_samples_split`: The minimum number of samples required to split an internal node.\n",
    "     - `min_samples_leaf`: The minimum number of samples required to be at a leaf node.\n",
    "     - `max_features`: The number of features to consider when looking for the best split.\n",
    "     - `random_state`: Controls the randomness of the estimator. The features are always randomly permuted at each split.\n",
    "\n",
    "Here’s a more detailed example with parameters:\n",
    "\n",
    "```python\n",
    "from sklearn.tree import DecisionTreeClassifier\n",
    "\n",
    "# Initialize the classifier with custom parameters\n",
    "model = DecisionTreeClassifier(criterion='entropy', max_depth=3, random_state=42)\n",
    "```\n",
    "\n",
    "In this example:\n",
    "- `criterion='entropy'` specifies that the model should use information gain as the criterion for splitting.\n",
    "- `max_depth=3` limits the depth of the tree to 3 levels.\n",
    "- `random_state=42` ensures reproducibility of the results by controlling the randomness.\n",
    "\n",
    "**Summary**:\n",
    "- The line `model = DecisionTreeClassifier()` creates an instance of the decision tree classifier with default settings.\n",
    "- This model can then be trained on data and used to make predictions for classification tasks. \n",
    "\n",
    "Next steps typically involve fitting the model to data using `model.fit(X, y)` where `X` is the feature matrix and `y` is the target vector, and then making predictions using `model.predict(X_test)`."
   ]
  },
  {
   "cell_type": "markdown",
   "id": "600e5ea4",
   "metadata": {
    "papermill": {
     "duration": 0.081084,
     "end_time": "2024-06-12T13:52:59.931709",
     "exception": false,
     "start_time": "2024-06-12T13:52:59.850625",
     "status": "completed"
    },
    "tags": []
   },
   "source": [
    "# Hyperparameter Tuning"
   ]
  },
  {
   "cell_type": "code",
   "execution_count": 12,
   "id": "8f130abe",
   "metadata": {
    "execution": {
     "iopub.execute_input": "2024-06-12T13:52:59.966382Z",
     "iopub.status.busy": "2024-06-12T13:52:59.965903Z",
     "iopub.status.idle": "2024-06-12T13:52:59.972185Z",
     "shell.execute_reply": "2024-06-12T13:52:59.971039Z"
    },
    "papermill": {
     "duration": 0.026887,
     "end_time": "2024-06-12T13:52:59.974882",
     "exception": false,
     "start_time": "2024-06-12T13:52:59.947995",
     "status": "completed"
    },
    "tags": []
   },
   "outputs": [],
   "source": [
    "dist = {\"max_depth\" : [3, None],\n",
    "       \"max_features\":range(1,11),\n",
    "       \"min_samples_split\": range(2,11),\n",
    "       \"criterion\": ['gini', 'entropy']}"
   ]
  },
  {
   "cell_type": "markdown",
   "id": "72e44010",
   "metadata": {
    "papermill": {
     "duration": 0.016585,
     "end_time": "2024-06-12T13:53:00.008599",
     "exception": false,
     "start_time": "2024-06-12T13:52:59.992014",
     "status": "completed"
    },
    "tags": []
   },
   "source": [
    "This code snippet defines a dictionary named `dist` which is commonly used for specifying the parameter grid in a machine learning model's hyperparameter tuning process. Here, it seems to be tailored for tuning the hyperparameters of a decision tree classifier or a similar model in a machine learning framework such as scikit-learn. Let's break down each key-value pair in the dictionary:\n",
    "\n",
    "### `max_depth`\n",
    "```python\n",
    "\"max_depth\": [3, None]\n",
    "```\n",
    "- **Definition**: This parameter specifies the maximum depth of the tree.\n",
    "- **Values**: It can take on the values 3 or None.\n",
    "  - `3`: This means the tree can grow to a maximum depth of 3 levels.\n",
    "  - `None`: This means the tree can grow until all leaves are pure or until all leaves contain less than `min_samples_split` samples.\n",
    "\n",
    "### `max_features`\n",
    "```python\n",
    "\"max_features\": range(1, 11)\n",
    "```\n",
    "- **Definition**: This parameter specifies the number of features to consider when looking for the best split.\n",
    "- **Values**: It can take on any integer value from 1 to 10 (inclusive).\n",
    "  - `range(1, 11)`: This creates a range object which includes integers from 1 to 10. In the context of decision trees, this controls the number of features to consider at each split.\n",
    "\n",
    "### `min_samples_split`\n",
    "```python\n",
    "\"min_samples_split\": range(2, 11)\n",
    "```\n",
    "- **Definition**: This parameter specifies the minimum number of samples required to split an internal node.\n",
    "- **Values**: It can take on any integer value from 2 to 10 (inclusive).\n",
    "  - `range(2, 11)`: This creates a range object which includes integers from 2 to 10. A split will only be considered if it leaves at least `min_samples_split` samples in each of the left and right branches.\n",
    "\n",
    "### `criterion`\n",
    "```python\n",
    "\"criterion\": ['gini', 'entropy']\n",
    "```\n",
    "- **Definition**: This parameter specifies the function to measure the quality of a split.\n",
    "- **Values**: It can take on the values 'gini' or 'entropy'.\n",
    "  - `'gini'`: This uses the Gini impurity as a criterion for choosing splits.\n",
    "  - `'entropy'`: This uses information gain (based on entropy) as a criterion for choosing splits.\n"
   ]
  },
  {
   "cell_type": "markdown",
   "id": "91cd05d9",
   "metadata": {
    "papermill": {
     "duration": 0.016228,
     "end_time": "2024-06-12T13:53:00.041873",
     "exception": false,
     "start_time": "2024-06-12T13:53:00.025645",
     "status": "completed"
    },
    "tags": []
   },
   "source": [
    "## RandomizedSearchCV"
   ]
  },
  {
   "cell_type": "code",
   "execution_count": 13,
   "id": "31679f75",
   "metadata": {
    "execution": {
     "iopub.execute_input": "2024-06-12T13:53:00.076366Z",
     "iopub.status.busy": "2024-06-12T13:53:00.075901Z",
     "iopub.status.idle": "2024-06-12T13:53:00.885824Z",
     "shell.execute_reply": "2024-06-12T13:53:00.884521Z"
    },
    "papermill": {
     "duration": 0.830102,
     "end_time": "2024-06-12T13:53:00.888290",
     "exception": false,
     "start_time": "2024-06-12T13:53:00.058188",
     "status": "completed"
    },
    "tags": []
   },
   "outputs": [
    {
     "data": {
      "text/html": [
       "<style>#sk-container-id-1 {color: black;background-color: white;}#sk-container-id-1 pre{padding: 0;}#sk-container-id-1 div.sk-toggleable {background-color: white;}#sk-container-id-1 label.sk-toggleable__label {cursor: pointer;display: block;width: 100%;margin-bottom: 0;padding: 0.3em;box-sizing: border-box;text-align: center;}#sk-container-id-1 label.sk-toggleable__label-arrow:before {content: \"▸\";float: left;margin-right: 0.25em;color: #696969;}#sk-container-id-1 label.sk-toggleable__label-arrow:hover:before {color: black;}#sk-container-id-1 div.sk-estimator:hover label.sk-toggleable__label-arrow:before {color: black;}#sk-container-id-1 div.sk-toggleable__content {max-height: 0;max-width: 0;overflow: hidden;text-align: left;background-color: #f0f8ff;}#sk-container-id-1 div.sk-toggleable__content pre {margin: 0.2em;color: black;border-radius: 0.25em;background-color: #f0f8ff;}#sk-container-id-1 input.sk-toggleable__control:checked~div.sk-toggleable__content {max-height: 200px;max-width: 100%;overflow: auto;}#sk-container-id-1 input.sk-toggleable__control:checked~label.sk-toggleable__label-arrow:before {content: \"▾\";}#sk-container-id-1 div.sk-estimator input.sk-toggleable__control:checked~label.sk-toggleable__label {background-color: #d4ebff;}#sk-container-id-1 div.sk-label input.sk-toggleable__control:checked~label.sk-toggleable__label {background-color: #d4ebff;}#sk-container-id-1 input.sk-hidden--visually {border: 0;clip: rect(1px 1px 1px 1px);clip: rect(1px, 1px, 1px, 1px);height: 1px;margin: -1px;overflow: hidden;padding: 0;position: absolute;width: 1px;}#sk-container-id-1 div.sk-estimator {font-family: monospace;background-color: #f0f8ff;border: 1px dotted black;border-radius: 0.25em;box-sizing: border-box;margin-bottom: 0.5em;}#sk-container-id-1 div.sk-estimator:hover {background-color: #d4ebff;}#sk-container-id-1 div.sk-parallel-item::after {content: \"\";width: 100%;border-bottom: 1px solid gray;flex-grow: 1;}#sk-container-id-1 div.sk-label:hover label.sk-toggleable__label {background-color: #d4ebff;}#sk-container-id-1 div.sk-serial::before {content: \"\";position: absolute;border-left: 1px solid gray;box-sizing: border-box;top: 0;bottom: 0;left: 50%;z-index: 0;}#sk-container-id-1 div.sk-serial {display: flex;flex-direction: column;align-items: center;background-color: white;padding-right: 0.2em;padding-left: 0.2em;position: relative;}#sk-container-id-1 div.sk-item {position: relative;z-index: 1;}#sk-container-id-1 div.sk-parallel {display: flex;align-items: stretch;justify-content: center;background-color: white;position: relative;}#sk-container-id-1 div.sk-item::before, #sk-container-id-1 div.sk-parallel-item::before {content: \"\";position: absolute;border-left: 1px solid gray;box-sizing: border-box;top: 0;bottom: 0;left: 50%;z-index: -1;}#sk-container-id-1 div.sk-parallel-item {display: flex;flex-direction: column;z-index: 1;position: relative;background-color: white;}#sk-container-id-1 div.sk-parallel-item:first-child::after {align-self: flex-end;width: 50%;}#sk-container-id-1 div.sk-parallel-item:last-child::after {align-self: flex-start;width: 50%;}#sk-container-id-1 div.sk-parallel-item:only-child::after {width: 0;}#sk-container-id-1 div.sk-dashed-wrapped {border: 1px dashed gray;margin: 0 0.4em 0.5em 0.4em;box-sizing: border-box;padding-bottom: 0.4em;background-color: white;}#sk-container-id-1 div.sk-label label {font-family: monospace;font-weight: bold;display: inline-block;line-height: 1.2em;}#sk-container-id-1 div.sk-label-container {text-align: center;}#sk-container-id-1 div.sk-container {/* jupyter's `normalize.less` sets `[hidden] { display: none; }` but bootstrap.min.css set `[hidden] { display: none !important; }` so we also need the `!important` here to be able to override the default hidden behavior on the sphinx rendered scikit-learn.org. See: https://github.com/scikit-learn/scikit-learn/issues/21755 */display: inline-block !important;position: relative;}#sk-container-id-1 div.sk-text-repr-fallback {display: none;}</style><div id=\"sk-container-id-1\" class=\"sk-top-container\"><div class=\"sk-text-repr-fallback\"><pre>RandomizedSearchCV(cv=5, estimator=DecisionTreeClassifier(), n_iter=50,\n",
       "                   param_distributions={&#x27;criterion&#x27;: [&#x27;gini&#x27;, &#x27;entropy&#x27;],\n",
       "                                        &#x27;max_depth&#x27;: [3, None],\n",
       "                                        &#x27;max_features&#x27;: range(1, 11),\n",
       "                                        &#x27;min_samples_split&#x27;: range(2, 11)})</pre><b>In a Jupyter environment, please rerun this cell to show the HTML representation or trust the notebook. <br />On GitHub, the HTML representation is unable to render, please try loading this page with nbviewer.org.</b></div><div class=\"sk-container\" hidden><div class=\"sk-item sk-dashed-wrapped\"><div class=\"sk-label-container\"><div class=\"sk-label sk-toggleable\"><input class=\"sk-toggleable__control sk-hidden--visually\" id=\"sk-estimator-id-1\" type=\"checkbox\" ><label for=\"sk-estimator-id-1\" class=\"sk-toggleable__label sk-toggleable__label-arrow\">RandomizedSearchCV</label><div class=\"sk-toggleable__content\"><pre>RandomizedSearchCV(cv=5, estimator=DecisionTreeClassifier(), n_iter=50,\n",
       "                   param_distributions={&#x27;criterion&#x27;: [&#x27;gini&#x27;, &#x27;entropy&#x27;],\n",
       "                                        &#x27;max_depth&#x27;: [3, None],\n",
       "                                        &#x27;max_features&#x27;: range(1, 11),\n",
       "                                        &#x27;min_samples_split&#x27;: range(2, 11)})</pre></div></div></div><div class=\"sk-parallel\"><div class=\"sk-parallel-item\"><div class=\"sk-item\"><div class=\"sk-label-container\"><div class=\"sk-label sk-toggleable\"><input class=\"sk-toggleable__control sk-hidden--visually\" id=\"sk-estimator-id-2\" type=\"checkbox\" ><label for=\"sk-estimator-id-2\" class=\"sk-toggleable__label sk-toggleable__label-arrow\">estimator: DecisionTreeClassifier</label><div class=\"sk-toggleable__content\"><pre>DecisionTreeClassifier()</pre></div></div></div><div class=\"sk-serial\"><div class=\"sk-item\"><div class=\"sk-estimator sk-toggleable\"><input class=\"sk-toggleable__control sk-hidden--visually\" id=\"sk-estimator-id-3\" type=\"checkbox\" ><label for=\"sk-estimator-id-3\" class=\"sk-toggleable__label sk-toggleable__label-arrow\">DecisionTreeClassifier</label><div class=\"sk-toggleable__content\"><pre>DecisionTreeClassifier()</pre></div></div></div></div></div></div></div></div></div></div>"
      ],
      "text/plain": [
       "RandomizedSearchCV(cv=5, estimator=DecisionTreeClassifier(), n_iter=50,\n",
       "                   param_distributions={'criterion': ['gini', 'entropy'],\n",
       "                                        'max_depth': [3, None],\n",
       "                                        'max_features': range(1, 11),\n",
       "                                        'min_samples_split': range(2, 11)})"
      ]
     },
     "execution_count": 13,
     "metadata": {},
     "output_type": "execute_result"
    }
   ],
   "source": [
    "rs = RandomizedSearchCV(model, param_distributions = dist, n_iter = 50, cv = 5)\n",
    "rs.fit(x_train,y_train)"
   ]
  },
  {
   "cell_type": "markdown",
   "id": "c5cc5721",
   "metadata": {
    "papermill": {
     "duration": 0.016625,
     "end_time": "2024-06-12T13:53:00.921637",
     "exception": false,
     "start_time": "2024-06-12T13:53:00.905012",
     "status": "completed"
    },
    "tags": []
   },
   "source": [
    "This code snippet uses `RandomizedSearchCV` from the `scikit-learn` library to perform hyperparameter optimization for a machine learning model. Let's break it down step by step:\n",
    "\n",
    "### 1. Importing Necessary Libraries\n",
    "\n",
    "```python\n",
    "from sklearn.model_selection import RandomizedSearchCV\n",
    "```\n",
    "\n",
    "### 2. Defining the RandomizedSearchCV Object\n",
    "\n",
    "```python\n",
    "rs = RandomizedSearchCV(model, param_distributions=dist, n_iter=50, cv=5)\n",
    "```\n",
    "\n",
    "This line creates an instance of the `RandomizedSearchCV` class. Here's what each parameter means:\n",
    "\n",
    "- **`model`**: This is the machine learning model you want to tune. It can be any model from `scikit-learn` such as `RandomForestClassifier()`, `SVC()`, etc.\n",
    "- **`param_distributions`**: This is a dictionary (`dist`) where the keys are the hyperparameters of the model, and the values are distributions or lists of values from which the hyperparameters will be sampled. For example:\n",
    "  ```python\n",
    "  dist = {\n",
    "      'n_estimators': [50, 100, 200],\n",
    "      'max_depth': [None, 10, 20, 30],\n",
    "      'min_samples_split': [2, 5, 10]\n",
    "  }\n",
    "  ```\n",
    "  Here, `n_estimators`, `max_depth`, and `min_samples_split` are hyperparameters of a decision tree or random forest model.\n",
    "- **`n_iter=50`**: This specifies the number of different combinations of hyperparameters to try. In this case, it will sample 50 different combinations.\n",
    "- **`cv=5`**: This stands for cross-validation and specifies the number of folds. Here, 5-fold cross-validation is used, which means the dataset is split into 5 parts and the model is trained and validated 5 times, each time using a different fold as the validation set and the remaining 4 folds as the training set.\n",
    "\n",
    "### 3. Fitting the RandomizedSearchCV Object\n",
    "\n",
    "```python\n",
    "rs.fit(x_train, y_train)\n",
    "```\n",
    "\n",
    "This line fits the `RandomizedSearchCV` object (`rs`) to the training data:\n",
    "\n",
    "- **`x_train`**: The input features of the training data.\n",
    "- **`y_train`**: The target variable of the training data.\n",
    "\n",
    "During the fitting process, `RandomizedSearchCV` will:\n",
    "1. Randomly sample 50 different combinations of hyperparameters from the distributions provided.\n",
    "2. For each combination, it will train the model using 5-fold cross-validation.\n",
    "3. Evaluate the performance of the model for each combination of hyperparameters.\n",
    "4. Select the combination of hyperparameters that gives the best cross-validated performance according to the default scoring method (which can be changed using the `scoring` parameter).\n",
    "\n",
    "### What Happens Internally\n",
    "\n",
    "1. **Sampling Hyperparameters**: `RandomizedSearchCV` will randomly select 50 sets of hyperparameters from the specified distributions.\n",
    "2. **Cross-Validation**: For each set of hyperparameters, it will:\n",
    "   - Split the training data (`x_train`, `y_train`) into 5 folds.\n",
    "   - Train the model on 4 folds and validate it on the remaining fold. This process is repeated 5 times, each time with a different fold as the validation set.\n",
    "   - Compute the average performance across the 5 folds.\n",
    "3. **Selecting the Best Model**: After evaluating all 50 sets of hyperparameters, `RandomizedSearchCV` will identify the set that gave the best performance on the validation sets.\n",
    "\n",
    "### Final Result\n",
    "\n",
    "After fitting, `rs.best_params_` will contain the best set of hyperparameters found, and `rs.best_estimator_` will be the model trained with those hyperparameters on the entire training set. You can use this optimized model to make predictions on new data.\n"
   ]
  },
  {
   "cell_type": "code",
   "execution_count": 14,
   "id": "09204c7e",
   "metadata": {
    "execution": {
     "iopub.execute_input": "2024-06-12T13:53:00.957861Z",
     "iopub.status.busy": "2024-06-12T13:53:00.957396Z",
     "iopub.status.idle": "2024-06-12T13:53:00.965033Z",
     "shell.execute_reply": "2024-06-12T13:53:00.963851Z"
    },
    "papermill": {
     "duration": 0.028468,
     "end_time": "2024-06-12T13:53:00.967400",
     "exception": false,
     "start_time": "2024-06-12T13:53:00.938932",
     "status": "completed"
    },
    "tags": []
   },
   "outputs": [
    {
     "data": {
      "text/plain": [
       "{'min_samples_split': 7,\n",
       " 'max_features': 7,\n",
       " 'max_depth': 3,\n",
       " 'criterion': 'gini'}"
      ]
     },
     "execution_count": 14,
     "metadata": {},
     "output_type": "execute_result"
    }
   ],
   "source": [
    "rs.best_params_"
   ]
  },
  {
   "cell_type": "markdown",
   "id": "ae0663f6",
   "metadata": {
    "papermill": {
     "duration": 0.016444,
     "end_time": "2024-06-12T13:53:01.000598",
     "exception": false,
     "start_time": "2024-06-12T13:53:00.984154",
     "status": "completed"
    },
    "tags": []
   },
   "source": [
    "The `rs.best_params_` attribute in the `RandomizedSearchCV` object contains the best hyperparameter settings found during the search. These are the parameters that resulted in the highest cross-validated performance.\n",
    "\n"
   ]
  },
  {
   "cell_type": "code",
   "execution_count": 15,
   "id": "66cfbb57",
   "metadata": {
    "execution": {
     "iopub.execute_input": "2024-06-12T13:53:01.039326Z",
     "iopub.status.busy": "2024-06-12T13:53:01.038882Z",
     "iopub.status.idle": "2024-06-12T13:53:01.046214Z",
     "shell.execute_reply": "2024-06-12T13:53:01.045099Z"
    },
    "papermill": {
     "duration": 0.030671,
     "end_time": "2024-06-12T13:53:01.048775",
     "exception": false,
     "start_time": "2024-06-12T13:53:01.018104",
     "status": "completed"
    },
    "tags": []
   },
   "outputs": [
    {
     "data": {
      "text/plain": [
       "0.9406593406593406"
      ]
     },
     "execution_count": 15,
     "metadata": {},
     "output_type": "execute_result"
    }
   ],
   "source": [
    "rs.best_score_"
   ]
  },
  {
   "cell_type": "markdown",
   "id": "e444700d",
   "metadata": {
    "papermill": {
     "duration": 0.01717,
     "end_time": "2024-06-12T13:53:01.084001",
     "exception": false,
     "start_time": "2024-06-12T13:53:01.066831",
     "status": "completed"
    },
    "tags": []
   },
   "source": [
    "The `rs.best_score_` attribute in the `RandomizedSearchCV` object provides the best score achieved during the cross-validation process for the best set of hyperparameters found. This score is typically the mean cross-validated score of the best estimator, giving you an indication of how well the model with the best hyperparameters performed during the cross-validation process.\n",
    "\n"
   ]
  },
  {
   "cell_type": "markdown",
   "id": "0feb2237",
   "metadata": {
    "papermill": {
     "duration": 0.016778,
     "end_time": "2024-06-12T13:53:01.118574",
     "exception": false,
     "start_time": "2024-06-12T13:53:01.101796",
     "status": "completed"
    },
    "tags": []
   },
   "source": [
    "## GridSearchCV"
   ]
  },
  {
   "cell_type": "code",
   "execution_count": 16,
   "id": "d0ac457f",
   "metadata": {
    "execution": {
     "iopub.execute_input": "2024-06-12T13:53:01.156034Z",
     "iopub.status.busy": "2024-06-12T13:53:01.155602Z",
     "iopub.status.idle": "2024-06-12T13:53:06.477410Z",
     "shell.execute_reply": "2024-06-12T13:53:06.476027Z"
    },
    "papermill": {
     "duration": 5.34425,
     "end_time": "2024-06-12T13:53:06.480650",
     "exception": false,
     "start_time": "2024-06-12T13:53:01.136400",
     "status": "completed"
    },
    "tags": []
   },
   "outputs": [
    {
     "data": {
      "text/html": [
       "<style>#sk-container-id-2 {color: black;background-color: white;}#sk-container-id-2 pre{padding: 0;}#sk-container-id-2 div.sk-toggleable {background-color: white;}#sk-container-id-2 label.sk-toggleable__label {cursor: pointer;display: block;width: 100%;margin-bottom: 0;padding: 0.3em;box-sizing: border-box;text-align: center;}#sk-container-id-2 label.sk-toggleable__label-arrow:before {content: \"▸\";float: left;margin-right: 0.25em;color: #696969;}#sk-container-id-2 label.sk-toggleable__label-arrow:hover:before {color: black;}#sk-container-id-2 div.sk-estimator:hover label.sk-toggleable__label-arrow:before {color: black;}#sk-container-id-2 div.sk-toggleable__content {max-height: 0;max-width: 0;overflow: hidden;text-align: left;background-color: #f0f8ff;}#sk-container-id-2 div.sk-toggleable__content pre {margin: 0.2em;color: black;border-radius: 0.25em;background-color: #f0f8ff;}#sk-container-id-2 input.sk-toggleable__control:checked~div.sk-toggleable__content {max-height: 200px;max-width: 100%;overflow: auto;}#sk-container-id-2 input.sk-toggleable__control:checked~label.sk-toggleable__label-arrow:before {content: \"▾\";}#sk-container-id-2 div.sk-estimator input.sk-toggleable__control:checked~label.sk-toggleable__label {background-color: #d4ebff;}#sk-container-id-2 div.sk-label input.sk-toggleable__control:checked~label.sk-toggleable__label {background-color: #d4ebff;}#sk-container-id-2 input.sk-hidden--visually {border: 0;clip: rect(1px 1px 1px 1px);clip: rect(1px, 1px, 1px, 1px);height: 1px;margin: -1px;overflow: hidden;padding: 0;position: absolute;width: 1px;}#sk-container-id-2 div.sk-estimator {font-family: monospace;background-color: #f0f8ff;border: 1px dotted black;border-radius: 0.25em;box-sizing: border-box;margin-bottom: 0.5em;}#sk-container-id-2 div.sk-estimator:hover {background-color: #d4ebff;}#sk-container-id-2 div.sk-parallel-item::after {content: \"\";width: 100%;border-bottom: 1px solid gray;flex-grow: 1;}#sk-container-id-2 div.sk-label:hover label.sk-toggleable__label {background-color: #d4ebff;}#sk-container-id-2 div.sk-serial::before {content: \"\";position: absolute;border-left: 1px solid gray;box-sizing: border-box;top: 0;bottom: 0;left: 50%;z-index: 0;}#sk-container-id-2 div.sk-serial {display: flex;flex-direction: column;align-items: center;background-color: white;padding-right: 0.2em;padding-left: 0.2em;position: relative;}#sk-container-id-2 div.sk-item {position: relative;z-index: 1;}#sk-container-id-2 div.sk-parallel {display: flex;align-items: stretch;justify-content: center;background-color: white;position: relative;}#sk-container-id-2 div.sk-item::before, #sk-container-id-2 div.sk-parallel-item::before {content: \"\";position: absolute;border-left: 1px solid gray;box-sizing: border-box;top: 0;bottom: 0;left: 50%;z-index: -1;}#sk-container-id-2 div.sk-parallel-item {display: flex;flex-direction: column;z-index: 1;position: relative;background-color: white;}#sk-container-id-2 div.sk-parallel-item:first-child::after {align-self: flex-end;width: 50%;}#sk-container-id-2 div.sk-parallel-item:last-child::after {align-self: flex-start;width: 50%;}#sk-container-id-2 div.sk-parallel-item:only-child::after {width: 0;}#sk-container-id-2 div.sk-dashed-wrapped {border: 1px dashed gray;margin: 0 0.4em 0.5em 0.4em;box-sizing: border-box;padding-bottom: 0.4em;background-color: white;}#sk-container-id-2 div.sk-label label {font-family: monospace;font-weight: bold;display: inline-block;line-height: 1.2em;}#sk-container-id-2 div.sk-label-container {text-align: center;}#sk-container-id-2 div.sk-container {/* jupyter's `normalize.less` sets `[hidden] { display: none; }` but bootstrap.min.css set `[hidden] { display: none !important; }` so we also need the `!important` here to be able to override the default hidden behavior on the sphinx rendered scikit-learn.org. See: https://github.com/scikit-learn/scikit-learn/issues/21755 */display: inline-block !important;position: relative;}#sk-container-id-2 div.sk-text-repr-fallback {display: none;}</style><div id=\"sk-container-id-2\" class=\"sk-top-container\"><div class=\"sk-text-repr-fallback\"><pre>GridSearchCV(cv=5, estimator=DecisionTreeClassifier(),\n",
       "             param_grid={&#x27;criterion&#x27;: [&#x27;gini&#x27;, &#x27;entropy&#x27;],\n",
       "                         &#x27;max_depth&#x27;: [3, None], &#x27;max_features&#x27;: range(1, 11),\n",
       "                         &#x27;min_samples_split&#x27;: range(2, 11)})</pre><b>In a Jupyter environment, please rerun this cell to show the HTML representation or trust the notebook. <br />On GitHub, the HTML representation is unable to render, please try loading this page with nbviewer.org.</b></div><div class=\"sk-container\" hidden><div class=\"sk-item sk-dashed-wrapped\"><div class=\"sk-label-container\"><div class=\"sk-label sk-toggleable\"><input class=\"sk-toggleable__control sk-hidden--visually\" id=\"sk-estimator-id-4\" type=\"checkbox\" ><label for=\"sk-estimator-id-4\" class=\"sk-toggleable__label sk-toggleable__label-arrow\">GridSearchCV</label><div class=\"sk-toggleable__content\"><pre>GridSearchCV(cv=5, estimator=DecisionTreeClassifier(),\n",
       "             param_grid={&#x27;criterion&#x27;: [&#x27;gini&#x27;, &#x27;entropy&#x27;],\n",
       "                         &#x27;max_depth&#x27;: [3, None], &#x27;max_features&#x27;: range(1, 11),\n",
       "                         &#x27;min_samples_split&#x27;: range(2, 11)})</pre></div></div></div><div class=\"sk-parallel\"><div class=\"sk-parallel-item\"><div class=\"sk-item\"><div class=\"sk-label-container\"><div class=\"sk-label sk-toggleable\"><input class=\"sk-toggleable__control sk-hidden--visually\" id=\"sk-estimator-id-5\" type=\"checkbox\" ><label for=\"sk-estimator-id-5\" class=\"sk-toggleable__label sk-toggleable__label-arrow\">estimator: DecisionTreeClassifier</label><div class=\"sk-toggleable__content\"><pre>DecisionTreeClassifier()</pre></div></div></div><div class=\"sk-serial\"><div class=\"sk-item\"><div class=\"sk-estimator sk-toggleable\"><input class=\"sk-toggleable__control sk-hidden--visually\" id=\"sk-estimator-id-6\" type=\"checkbox\" ><label for=\"sk-estimator-id-6\" class=\"sk-toggleable__label sk-toggleable__label-arrow\">DecisionTreeClassifier</label><div class=\"sk-toggleable__content\"><pre>DecisionTreeClassifier()</pre></div></div></div></div></div></div></div></div></div></div>"
      ],
      "text/plain": [
       "GridSearchCV(cv=5, estimator=DecisionTreeClassifier(),\n",
       "             param_grid={'criterion': ['gini', 'entropy'],\n",
       "                         'max_depth': [3, None], 'max_features': range(1, 11),\n",
       "                         'min_samples_split': range(2, 11)})"
      ]
     },
     "execution_count": 16,
     "metadata": {},
     "output_type": "execute_result"
    }
   ],
   "source": [
    "gs = GridSearchCV(model, param_grid = dist, cv = 5)\n",
    "gs.fit(x_train, y_train)"
   ]
  },
  {
   "cell_type": "markdown",
   "id": "546eef6f",
   "metadata": {
    "papermill": {
     "duration": 0.017051,
     "end_time": "2024-06-12T13:53:06.516376",
     "exception": false,
     "start_time": "2024-06-12T13:53:06.499325",
     "status": "completed"
    },
    "tags": []
   },
   "source": [
    "The code snippet you provided uses `GridSearchCV` from the `scikit-learn` library to perform an exhaustive search over a specified hyperparameter grid for a machine learning model. Here's a detailed explanation:\n",
    "\n",
    "### 1. Importing Necessary Libraries\n",
    "\n",
    "```python\n",
    "from sklearn.model_selection import GridSearchCV\n",
    "```\n",
    "\n",
    "### 2. Defining the GridSearchCV Object\n",
    "\n",
    "```python\n",
    "gs = GridSearchCV(model, param_grid=dist, cv=5)\n",
    "```\n",
    "\n",
    "This line creates an instance of the `GridSearchCV` class. Here's what each parameter means:\n",
    "\n",
    "- **`model`**: This is the machine learning model you want to tune. It can be any model from `scikit-learn` such as `RandomForestClassifier()`, `SVC()`, etc.\n",
    "- **`param_grid`**: This is a dictionary (`dist`) where the keys are the hyperparameters of the model, and the values are lists of values to be tried. For example:\n",
    "  ```python\n",
    "  dist = {\n",
    "      'n_estimators': [50, 100, 200],\n",
    "      'max_depth': [None, 10, 20, 30],\n",
    "      'min_samples_split': [2, 5, 10]\n",
    "  }\n",
    "  ```\n",
    "  Here, `n_estimators`, `max_depth`, and `min_samples_split` are hyperparameters of a decision tree or random forest model.\n",
    "- **`cv=5`**: This stands for cross-validation and specifies the number of folds. Here, 5-fold cross-validation is used, which means the dataset is split into 5 parts and the model is trained and validated 5 times, each time using a different fold as the validation set and the remaining 4 folds as the training set.\n",
    "\n",
    "### 3. Fitting the GridSearchCV Object\n",
    "\n",
    "```python\n",
    "gs.fit(x_train, y_train)\n",
    "```\n",
    "\n",
    "This line fits the `GridSearchCV` object (`gs`) to the training data:\n",
    "\n",
    "- **`x_train`**: The input features of the training data.\n",
    "- **`y_train`**: The target variable of the training data.\n",
    "\n",
    "During the fitting process, `GridSearchCV` will:\n",
    "1. Create all possible combinations of hyperparameters from the grid provided.\n",
    "2. For each combination, it will train the model using 5-fold cross-validation.\n",
    "3. Evaluate the performance of the model for each combination of hyperparameters.\n",
    "4. Select the combination of hyperparameters that gives the best cross-validated performance according to the default scoring method (which can be changed using the `scoring` parameter).\n",
    "\n",
    "### What Happens Internally\n",
    "\n",
    "1. **Exhaustive Search**: `GridSearchCV` will try every possible combination of hyperparameters specified in `param_grid`.\n",
    "2. **Cross-Validation**: For each combination of hyperparameters, it will:\n",
    "   - Split the training data (`x_train`, `y_train`) into 5 folds.\n",
    "   - Train the model on 4 folds and validate it on the remaining fold. This process is repeated 5 times, each time with a different fold as the validation set.\n",
    "   - Compute the average performance across the 5 folds.\n",
    "3. **Selecting the Best Model**: After evaluating all combinations of hyperparameters, `GridSearchCV` will identify the set that gave the best performance on the validation sets.\n",
    "\n",
    "### Final Result\n",
    "\n",
    "After fitting, `gs.best_params_` will contain the best set of hyperparameters found, and `gs.best_estimator_` will be the model trained with those hyperparameters on the entire training set. You can use this optimized model to make predictions on new data.\n"
   ]
  },
  {
   "cell_type": "code",
   "execution_count": 17,
   "id": "cf6f832a",
   "metadata": {
    "execution": {
     "iopub.execute_input": "2024-06-12T13:53:06.553404Z",
     "iopub.status.busy": "2024-06-12T13:53:06.552999Z",
     "iopub.status.idle": "2024-06-12T13:53:06.561847Z",
     "shell.execute_reply": "2024-06-12T13:53:06.560561Z"
    },
    "papermill": {
     "duration": 0.030235,
     "end_time": "2024-06-12T13:53:06.564463",
     "exception": false,
     "start_time": "2024-06-12T13:53:06.534228",
     "status": "completed"
    },
    "tags": []
   },
   "outputs": [
    {
     "data": {
      "text/plain": [
       "{'criterion': 'gini',\n",
       " 'max_depth': 3,\n",
       " 'max_features': 10,\n",
       " 'min_samples_split': 6}"
      ]
     },
     "execution_count": 17,
     "metadata": {},
     "output_type": "execute_result"
    }
   ],
   "source": [
    "gs.best_params_"
   ]
  },
  {
   "cell_type": "code",
   "execution_count": 18,
   "id": "68c6f076",
   "metadata": {
    "execution": {
     "iopub.execute_input": "2024-06-12T13:53:06.602421Z",
     "iopub.status.busy": "2024-06-12T13:53:06.602005Z",
     "iopub.status.idle": "2024-06-12T13:53:06.610067Z",
     "shell.execute_reply": "2024-06-12T13:53:06.608727Z"
    },
    "papermill": {
     "duration": 0.029901,
     "end_time": "2024-06-12T13:53:06.612510",
     "exception": false,
     "start_time": "2024-06-12T13:53:06.582609",
     "status": "completed"
    },
    "tags": []
   },
   "outputs": [
    {
     "data": {
      "text/plain": [
       "0.9494505494505494"
      ]
     },
     "execution_count": 18,
     "metadata": {},
     "output_type": "execute_result"
    }
   ],
   "source": [
    "gs.best_score_"
   ]
  },
  {
   "cell_type": "code",
   "execution_count": 19,
   "id": "9874913f",
   "metadata": {
    "execution": {
     "iopub.execute_input": "2024-06-12T13:53:06.651423Z",
     "iopub.status.busy": "2024-06-12T13:53:06.650981Z",
     "iopub.status.idle": "2024-06-12T13:53:06.660159Z",
     "shell.execute_reply": "2024-06-12T13:53:06.658722Z"
    },
    "papermill": {
     "duration": 0.032627,
     "end_time": "2024-06-12T13:53:06.663374",
     "exception": false,
     "start_time": "2024-06-12T13:53:06.630747",
     "status": "completed"
    },
    "tags": []
   },
   "outputs": [
    {
     "data": {
      "text/html": [
       "<style>#sk-container-id-3 {color: black;background-color: white;}#sk-container-id-3 pre{padding: 0;}#sk-container-id-3 div.sk-toggleable {background-color: white;}#sk-container-id-3 label.sk-toggleable__label {cursor: pointer;display: block;width: 100%;margin-bottom: 0;padding: 0.3em;box-sizing: border-box;text-align: center;}#sk-container-id-3 label.sk-toggleable__label-arrow:before {content: \"▸\";float: left;margin-right: 0.25em;color: #696969;}#sk-container-id-3 label.sk-toggleable__label-arrow:hover:before {color: black;}#sk-container-id-3 div.sk-estimator:hover label.sk-toggleable__label-arrow:before {color: black;}#sk-container-id-3 div.sk-toggleable__content {max-height: 0;max-width: 0;overflow: hidden;text-align: left;background-color: #f0f8ff;}#sk-container-id-3 div.sk-toggleable__content pre {margin: 0.2em;color: black;border-radius: 0.25em;background-color: #f0f8ff;}#sk-container-id-3 input.sk-toggleable__control:checked~div.sk-toggleable__content {max-height: 200px;max-width: 100%;overflow: auto;}#sk-container-id-3 input.sk-toggleable__control:checked~label.sk-toggleable__label-arrow:before {content: \"▾\";}#sk-container-id-3 div.sk-estimator input.sk-toggleable__control:checked~label.sk-toggleable__label {background-color: #d4ebff;}#sk-container-id-3 div.sk-label input.sk-toggleable__control:checked~label.sk-toggleable__label {background-color: #d4ebff;}#sk-container-id-3 input.sk-hidden--visually {border: 0;clip: rect(1px 1px 1px 1px);clip: rect(1px, 1px, 1px, 1px);height: 1px;margin: -1px;overflow: hidden;padding: 0;position: absolute;width: 1px;}#sk-container-id-3 div.sk-estimator {font-family: monospace;background-color: #f0f8ff;border: 1px dotted black;border-radius: 0.25em;box-sizing: border-box;margin-bottom: 0.5em;}#sk-container-id-3 div.sk-estimator:hover {background-color: #d4ebff;}#sk-container-id-3 div.sk-parallel-item::after {content: \"\";width: 100%;border-bottom: 1px solid gray;flex-grow: 1;}#sk-container-id-3 div.sk-label:hover label.sk-toggleable__label {background-color: #d4ebff;}#sk-container-id-3 div.sk-serial::before {content: \"\";position: absolute;border-left: 1px solid gray;box-sizing: border-box;top: 0;bottom: 0;left: 50%;z-index: 0;}#sk-container-id-3 div.sk-serial {display: flex;flex-direction: column;align-items: center;background-color: white;padding-right: 0.2em;padding-left: 0.2em;position: relative;}#sk-container-id-3 div.sk-item {position: relative;z-index: 1;}#sk-container-id-3 div.sk-parallel {display: flex;align-items: stretch;justify-content: center;background-color: white;position: relative;}#sk-container-id-3 div.sk-item::before, #sk-container-id-3 div.sk-parallel-item::before {content: \"\";position: absolute;border-left: 1px solid gray;box-sizing: border-box;top: 0;bottom: 0;left: 50%;z-index: -1;}#sk-container-id-3 div.sk-parallel-item {display: flex;flex-direction: column;z-index: 1;position: relative;background-color: white;}#sk-container-id-3 div.sk-parallel-item:first-child::after {align-self: flex-end;width: 50%;}#sk-container-id-3 div.sk-parallel-item:last-child::after {align-self: flex-start;width: 50%;}#sk-container-id-3 div.sk-parallel-item:only-child::after {width: 0;}#sk-container-id-3 div.sk-dashed-wrapped {border: 1px dashed gray;margin: 0 0.4em 0.5em 0.4em;box-sizing: border-box;padding-bottom: 0.4em;background-color: white;}#sk-container-id-3 div.sk-label label {font-family: monospace;font-weight: bold;display: inline-block;line-height: 1.2em;}#sk-container-id-3 div.sk-label-container {text-align: center;}#sk-container-id-3 div.sk-container {/* jupyter's `normalize.less` sets `[hidden] { display: none; }` but bootstrap.min.css set `[hidden] { display: none !important; }` so we also need the `!important` here to be able to override the default hidden behavior on the sphinx rendered scikit-learn.org. See: https://github.com/scikit-learn/scikit-learn/issues/21755 */display: inline-block !important;position: relative;}#sk-container-id-3 div.sk-text-repr-fallback {display: none;}</style><div id=\"sk-container-id-3\" class=\"sk-top-container\"><div class=\"sk-text-repr-fallback\"><pre>DecisionTreeClassifier(max_depth=3, max_features=10, min_samples_split=6)</pre><b>In a Jupyter environment, please rerun this cell to show the HTML representation or trust the notebook. <br />On GitHub, the HTML representation is unable to render, please try loading this page with nbviewer.org.</b></div><div class=\"sk-container\" hidden><div class=\"sk-item\"><div class=\"sk-estimator sk-toggleable\"><input class=\"sk-toggleable__control sk-hidden--visually\" id=\"sk-estimator-id-7\" type=\"checkbox\" checked><label for=\"sk-estimator-id-7\" class=\"sk-toggleable__label sk-toggleable__label-arrow\">DecisionTreeClassifier</label><div class=\"sk-toggleable__content\"><pre>DecisionTreeClassifier(max_depth=3, max_features=10, min_samples_split=6)</pre></div></div></div></div></div>"
      ],
      "text/plain": [
       "DecisionTreeClassifier(max_depth=3, max_features=10, min_samples_split=6)"
      ]
     },
     "execution_count": 19,
     "metadata": {},
     "output_type": "execute_result"
    }
   ],
   "source": [
    "final = gs.best_estimator_\n",
    "final"
   ]
  },
  {
   "cell_type": "markdown",
   "id": "9d1246e5",
   "metadata": {
    "papermill": {
     "duration": 0.01926,
     "end_time": "2024-06-12T13:53:06.701822",
     "exception": false,
     "start_time": "2024-06-12T13:53:06.682562",
     "status": "completed"
    },
    "tags": []
   },
   "source": [
    "After fitting `GridSearchCV`, the `gs.best_estimator_` attribute contains the model with the best combination of hyperparameters found during the grid search. You can use this model for making predictions on new data."
   ]
  },
  {
   "cell_type": "code",
   "execution_count": 20,
   "id": "eb34e40f",
   "metadata": {
    "execution": {
     "iopub.execute_input": "2024-06-12T13:53:06.741890Z",
     "iopub.status.busy": "2024-06-12T13:53:06.740672Z",
     "iopub.status.idle": "2024-06-12T13:53:07.641356Z",
     "shell.execute_reply": "2024-06-12T13:53:07.640252Z"
    },
    "papermill": {
     "duration": 0.924071,
     "end_time": "2024-06-12T13:53:07.643965",
     "exception": false,
     "start_time": "2024-06-12T13:53:06.719894",
     "status": "completed"
    },
    "tags": []
   },
   "outputs": [
    {
     "data": {
      "text/plain": [
       "[Text(0.5, 0.875, 'x[7] <= 0.051\\ngini = 0.474\\nsamples = 455\\nvalue = [176, 279]'),\n",
       " Text(0.25, 0.625, 'x[23] <= 893.65\\ngini = 0.118\\nsamples = 271\\nvalue = [17, 254]'),\n",
       " Text(0.125, 0.375, 'x[13] <= 48.7\\ngini = 0.053\\nsamples = 256\\nvalue = [7, 249]'),\n",
       " Text(0.0625, 0.125, 'gini = 0.039\\nsamples = 254\\nvalue = [5, 249]'),\n",
       " Text(0.1875, 0.125, 'gini = 0.0\\nsamples = 2\\nvalue = [2, 0]'),\n",
       " Text(0.375, 0.375, 'x[1] <= 17.385\\ngini = 0.444\\nsamples = 15\\nvalue = [10, 5]'),\n",
       " Text(0.3125, 0.125, 'gini = 0.0\\nsamples = 4\\nvalue = [0, 4]'),\n",
       " Text(0.4375, 0.125, 'gini = 0.165\\nsamples = 11\\nvalue = [10, 1]'),\n",
       " Text(0.75, 0.625, 'x[22] <= 103.25\\ngini = 0.235\\nsamples = 184\\nvalue = [159, 25]'),\n",
       " Text(0.625, 0.375, 'x[21] <= 25.925\\ngini = 0.386\\nsamples = 23\\nvalue = [6, 17]'),\n",
       " Text(0.5625, 0.125, 'gini = 0.0\\nsamples = 16\\nvalue = [0, 16]'),\n",
       " Text(0.6875, 0.125, 'gini = 0.245\\nsamples = 7\\nvalue = [6, 1]'),\n",
       " Text(0.875, 0.375, 'x[1] <= 16.795\\ngini = 0.094\\nsamples = 161\\nvalue = [153, 8]'),\n",
       " Text(0.8125, 0.125, 'gini = 0.455\\nsamples = 20\\nvalue = [13, 7]'),\n",
       " Text(0.9375, 0.125, 'gini = 0.014\\nsamples = 141\\nvalue = [140, 1]')]"
      ]
     },
     "execution_count": 20,
     "metadata": {},
     "output_type": "execute_result"
    },
    {
     "data": {
      "image/png": "[encoded data removed]",
      "text/plain": [
       "<Figure size 640x480 with 1 Axes>"
      ]
     },
     "metadata": {},
     "output_type": "display_data"
    }
   ],
   "source": [
    "tree.plot_tree(final)"
   ]
  },
  {
   "cell_type": "markdown",
   "id": "aa6d5c2b",
   "metadata": {
    "papermill": {
     "duration": 0.018648,
     "end_time": "2024-06-12T13:53:07.681227",
     "exception": false,
     "start_time": "2024-06-12T13:53:07.662579",
     "status": "completed"
    },
    "tags": []
   },
   "source": [
    "When you want to visualize the decision tree. However, the `tree.plot_tree()` function is not available for a `RandomForestClassifier`. This function is specifically for visualizing decision trees generated by models like `DecisionTreeClassifier`. \n",
    "\n",
    "This will plot the first decision tree in the random forest ensemble. If you want to visualize a specific decision tree within the forest, you can access it using `final.estimators_[index]`, where `index` is the index of the decision tree you want to visualize."
   ]
  },
  {
   "cell_type": "markdown",
   "id": "3e90ef3f",
   "metadata": {
    "papermill": {
     "duration": 0.01799,
     "end_time": "2024-06-12T13:53:07.717620",
     "exception": false,
     "start_time": "2024-06-12T13:53:07.699630",
     "status": "completed"
    },
    "tags": []
   },
   "source": [
    "# Testing the Model"
   ]
  },
  {
   "cell_type": "code",
   "execution_count": 21,
   "id": "2e241f7b",
   "metadata": {
    "execution": {
     "iopub.execute_input": "2024-06-12T13:53:07.757325Z",
     "iopub.status.busy": "2024-06-12T13:53:07.756870Z",
     "iopub.status.idle": "2024-06-12T13:53:07.763837Z",
     "shell.execute_reply": "2024-06-12T13:53:07.762557Z"
    },
    "papermill": {
     "duration": 0.029918,
     "end_time": "2024-06-12T13:53:07.766599",
     "exception": false,
     "start_time": "2024-06-12T13:53:07.736681",
     "status": "completed"
    },
    "tags": []
   },
   "outputs": [],
   "source": [
    "y_pred = final.predict(x_test)"
   ]
  },
  {
   "cell_type": "markdown",
   "id": "9f89822e",
   "metadata": {
    "papermill": {
     "duration": 0.018167,
     "end_time": "2024-06-12T13:53:07.804298",
     "exception": false,
     "start_time": "2024-06-12T13:53:07.786131",
     "status": "completed"
    },
    "tags": []
   },
   "source": [
    "We made predictions on our test data using the final optimized model. Now, `y_pred` contains the predicted labels for the test data `x_test`. We can use these predictions to evaluate the performance of our model. Common evaluation metrics for classification tasks include accuracy, precision, recall, F1-score, etc.\n",
    "\n",
    "For example, to calculate accuracy:\n",
    "\n",
    "```python\n",
    "from sklearn.metrics import accuracy_score\n",
    "\n",
    "accuracy = accuracy_score(y_test, y_pred)\n",
    "print(\"Accuracy:\", accuracy)\n",
    "```\n",
    "\n",
    "Similarly, you can calculate other metrics depending on your specific requirements and the nature of your dataset.\n"
   ]
  },
  {
   "cell_type": "code",
   "execution_count": 22,
   "id": "10bcae4d",
   "metadata": {
    "execution": {
     "iopub.execute_input": "2024-06-12T13:53:07.846257Z",
     "iopub.status.busy": "2024-06-12T13:53:07.845349Z",
     "iopub.status.idle": "2024-06-12T13:53:07.853985Z",
     "shell.execute_reply": "2024-06-12T13:53:07.852720Z"
    },
    "papermill": {
     "duration": 0.032521,
     "end_time": "2024-06-12T13:53:07.856351",
     "exception": false,
     "start_time": "2024-06-12T13:53:07.823830",
     "status": "completed"
    },
    "tags": []
   },
   "outputs": [
    {
     "data": {
      "text/plain": [
       "0.956140350877193"
      ]
     },
     "execution_count": 22,
     "metadata": {},
     "output_type": "execute_result"
    }
   ],
   "source": [
    "accuracy_score(y_test, y_pred)"
   ]
  },
  {
   "cell_type": "code",
   "execution_count": 23,
   "id": "1233fe7e",
   "metadata": {
    "execution": {
     "iopub.execute_input": "2024-06-12T13:53:07.896559Z",
     "iopub.status.busy": "2024-06-12T13:53:07.895312Z",
     "iopub.status.idle": "2024-06-12T13:53:07.902941Z",
     "shell.execute_reply": "2024-06-12T13:53:07.901749Z"
    },
    "papermill": {
     "duration": 0.030485,
     "end_time": "2024-06-12T13:53:07.905517",
     "exception": false,
     "start_time": "2024-06-12T13:53:07.875032",
     "status": "completed"
    },
    "tags": []
   },
   "outputs": [],
   "source": [
    "cm = confusion_matrix(y_test, y_pred)"
   ]
  },
  {
   "cell_type": "code",
   "execution_count": 24,
   "id": "4ecd90b4",
   "metadata": {
    "execution": {
     "iopub.execute_input": "2024-06-12T13:53:07.945502Z",
     "iopub.status.busy": "2024-06-12T13:53:07.945020Z",
     "iopub.status.idle": "2024-06-12T13:53:08.292644Z",
     "shell.execute_reply": "2024-06-12T13:53:08.291266Z"
    },
    "papermill": {
     "duration": 0.371161,
     "end_time": "2024-06-12T13:53:08.295374",
     "exception": false,
     "start_time": "2024-06-12T13:53:07.924213",
     "status": "completed"
    },
    "tags": []
   },
   "outputs": [
    {
     "data": {
      "text/plain": [
       "<Axes: >"
      ]
     },
     "execution_count": 24,
     "metadata": {},
     "output_type": "execute_result"
    },
    {
     "data": {
      "image/png": "[encoded data removed]",
      "text/plain": [
       "<Figure size 640x480 with 2 Axes>"
      ]
     },
     "metadata": {},
     "output_type": "display_data"
    }
   ],
   "source": [
    "sns.heatmap(cm, cmap = \"coolwarm\", annot = True)"
   ]
  },
  {
   "cell_type": "markdown",
   "id": "203dc737",
   "metadata": {
    "papermill": {
     "duration": 0.019859,
     "end_time": "2024-06-12T13:53:08.335697",
     "exception": false,
     "start_time": "2024-06-12T13:53:08.315838",
     "status": "completed"
    },
    "tags": []
   },
   "source": [
    "Sure! This code snippet involves using the `confusion_matrix` function from the `sklearn.metrics` module to generate a confusion matrix, and then visualizing the confusion matrix using `seaborn`'s `heatmap` function. Here's a detailed explanation:\n",
    "\n",
    "### 1. Importing Necessary Libraries\n",
    "\n",
    "```python\n",
    "from sklearn.metrics import confusion_matrix\n",
    "import seaborn as sns\n",
    "```\n",
    "\n",
    "### 2. Generating the Confusion Matrix\n",
    "\n",
    "```python\n",
    "cm = confusion_matrix(y_test, y_pred)\n",
    "```\n",
    "\n",
    "This line calculates the confusion matrix. A confusion matrix is a table that is often used to describe the performance of a classification model on a set of test data for which the true values are known. It allows visualization of the performance of an algorithm. The confusion matrix `cm` is a square matrix where the rows correspond to the true classes and the columns correspond to the predicted classes.\n",
    "\n",
    "- **`y_test`**: The true labels of the test data.\n",
    "- **`y_pred`**: The predicted labels generated by the model for the test data.\n",
    "\n",
    "### 3. Visualizing the Confusion Matrix\n",
    "\n",
    "```python\n",
    "sns.heatmap(cm, cmap=\"coolwarm\", annot=True)\n",
    "```\n",
    "\n",
    "This line creates a heatmap of the confusion matrix using `seaborn`'s `heatmap` function. Here's what each parameter means:\n",
    "\n",
    "- **`cm`**: The confusion matrix calculated earlier.\n",
    "- **`cmap=\"coolwarm\"`**: This parameter specifies the color map to be used for the heatmap. In this case, it's set to \"coolwarm\", which represents low values with cool colors (blues) and high values with warm colors (reds).\n",
    "- **`annot=True`**: This parameter specifies whether to annotate each cell of the heatmap with the numeric value. Setting it to `True` adds numerical annotations to the heatmap cells.\n",
    "\n",
    "### What Happens Internally\n",
    "\n",
    "The `sns.heatmap` function takes the confusion matrix `cm` and visualizes it as a heatmap. Each cell in the heatmap represents the number of instances that were classified correctly or incorrectly. The color intensity represents the number of instances, with darker colors indicating higher values.\n",
    "\n",
    "\n",
    "This code will display a heatmap visualization of the confusion matrix. Each cell in the heatmap represents the number of instances where the true label (row) and the predicted label (column) intersect. The diagonal elements of the matrix represent correct predictions, while off-diagonal elements represent incorrect predictions."
   ]
  },
  {
   "cell_type": "code",
   "execution_count": 25,
   "id": "246c5dfc",
   "metadata": {
    "execution": {
     "iopub.execute_input": "2024-06-12T13:53:08.377906Z",
     "iopub.status.busy": "2024-06-12T13:53:08.376829Z",
     "iopub.status.idle": "2024-06-12T13:53:08.395151Z",
     "shell.execute_reply": "2024-06-12T13:53:08.393207Z"
    },
    "papermill": {
     "duration": 0.042296,
     "end_time": "2024-06-12T13:53:08.397981",
     "exception": false,
     "start_time": "2024-06-12T13:53:08.355685",
     "status": "completed"
    },
    "tags": []
   },
   "outputs": [
    {
     "name": "stdout",
     "output_type": "stream",
     "text": [
      "              precision    recall  f1-score   support\n",
      "\n",
      "           0       0.94      0.92      0.93        37\n",
      "           1       0.96      0.97      0.97        77\n",
      "\n",
      "    accuracy                           0.96       114\n",
      "   macro avg       0.95      0.95      0.95       114\n",
      "weighted avg       0.96      0.96      0.96       114\n",
      "\n"
     ]
    }
   ],
   "source": [
    "print(classification_report(y_pred, y_test))"
   ]
  },
  {
   "cell_type": "markdown",
   "id": "c6c05e38",
   "metadata": {
    "papermill": {
     "duration": 0.01898,
     "end_time": "2024-06-12T13:53:08.436862",
     "exception": false,
     "start_time": "2024-06-12T13:53:08.417882",
     "status": "completed"
    },
    "tags": []
   },
   "source": [
    "The `classification_report` function from `scikit-learn` library generates a comprehensive report of various classification metrics for each class in your classification problem. Let's break down the code:\n",
    "\n",
    "### Importing Necessary Libraries\n",
    "```python\n",
    "from sklearn.metrics import classification_report\n",
    "```\n",
    "This line imports the `classification_report` function from the `sklearn.metrics` module.\n",
    "\n",
    "### Generating the Classification Report\n",
    "```python\n",
    "print(classification_report(y_pred, y_test))\n",
    "```\n",
    "This line generates the classification report and prints it to the console.\n",
    "\n",
    "- **`y_pred`**: This is the array containing the predicted labels for the test data.\n",
    "- **`y_test`**: This is the array containing the true labels for the test data.\n",
    "\n",
    "### Output of `classification_report`\n",
    "\n",
    "The classification report consists of the following metrics for each class:\n",
    "- **Precision**: Precision measures the proportion of true positive predictions among all positive predictions made by the model. It is calculated as the ratio of true positives to the sum of true positives and false positives.\n",
    "- **Recall**: Recall measures the proportion of true positive predictions among all actual positives in the data. It is calculated as the ratio of true positives to the sum of true positives and false negatives.\n",
    "- **F1-score**: The F1-score is the harmonic mean of precision and recall. It provides a balance between precision and recall. It is calculated as 2 * (precision * recall) / (precision + recall).\n",
    "- **Support**: Support is the number of actual occurrences of the class in the specified dataset.\n",
    "- **Accuracy**: Accuracy is the proportion of correctly classified instances out of all instances in the dataset.\n",
    "\n",
    "The report also includes:\n",
    "- **Macro average**: Average of the metrics calculated for each class, giving each class equal weight.\n",
    "- **Weighted average**: Average of the metrics calculated for each class, weighted by the number of true instances for each class.\n",
    "\n",
    "\n",
    "This will output the classification report containing precision, recall, F1-score, and support for each class, as well as the macro and weighted averages."
   ]
  },
  {
   "cell_type": "markdown",
   "id": "d642c59b",
   "metadata": {
    "papermill": {
     "duration": 0.019422,
     "end_time": "2024-06-12T13:53:08.476271",
     "exception": false,
     "start_time": "2024-06-12T13:53:08.456849",
     "status": "completed"
    },
    "tags": []
   },
   "source": [
    "\n",
    "-------------------------------------------------------------------------------------------------\n",
    "\n",
    "Hi there,\n",
    "\n",
    "I wanted to take a moment to express my sincere gratitude to each and every one of you who took the time to explore my Kaggle notebook. Your interest and engagement mean the world to me!\n",
    "\n",
    "I hope you found the content insightful and valuable. Whether you were seeking knowledge, inspiration, or simply curious exploration, your presence is greatly appreciated.\n",
    "\n",
    "Your feedback, questions, and insights are always welcome. Feel free to reach out if you have any comments or suggestions. Let's continue to learn and grow together!\n",
    "\n",
    "Thank you once again for your visit. Wishing you all the best on your data science journey!\n",
    "\n",
    "Warm regards,\n",
    "\n",
    "Akanksha"
   ]
  }
 ],
 "metadata": {
  "kaggle": {
   "accelerator": "none",
   "dataSources": [],
   "dockerImageVersionId": 30732,
   "isGpuEnabled": false,
   "isInternetEnabled": true,
   "language": "python",
   "sourceType": "notebook"
  },
  "kernelspec": {
   "display_name": "Python 3",
   "language": "python",
   "name": "python3"
  },
  "language_info": {
   "codemirror_mode": {
    "name": "ipython",
    "version": 3
   },
   "file_extension": ".py",
   "mimetype": "text/x-python",
   "name": "python",
   "nbconvert_exporter": "python",
   "pygments_lexer": "ipython3",
   "version": "3.10.13"
  },
  "papermill": {
   "default_parameters": {},
   "duration": 17.285248,
   "end_time": "2024-06-12T13:53:09.220519",
   "environment_variables": {},
   "exception": null,
   "input_path": "__notebook__.ipynb",
   "output_path": "__notebook__.ipynb",
   "parameters": {},
   "start_time": "2024-06-12T13:52:51.935271",
   "version": "2.5.0"
  }
 },
 "nbformat": 4,
 "nbformat_minor": 5
}
