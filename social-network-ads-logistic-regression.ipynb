{
 "cells": [
  {
   "cell_type": "code",
   "execution_count": 1,
   "id": "0d415f24",
   "metadata": {
    "_cell_guid": "b1076dfc-b9ad-4769-8c92-a6c4dae69d19",
    "_uuid": "8f2839f25d086af736a60e9eeb907d3b93b6e0e5",
    "execution": {
     "iopub.execute_input": "2024-03-01T11:53:17.413526Z",
     "iopub.status.busy": "2024-03-01T11:53:17.413076Z",
     "iopub.status.idle": "2024-03-01T11:53:18.447737Z",
     "shell.execute_reply": "2024-03-01T11:53:18.446402Z"
    },
    "papermill": {
     "duration": 1.053221,
     "end_time": "2024-03-01T11:53:18.450943",
     "exception": false,
     "start_time": "2024-03-01T11:53:17.397722",
     "status": "completed"
    },
    "tags": []
   },
   "outputs": [
    {
     "name": "stdout",
     "output_type": "stream",
     "text": [
      "/kaggle/input/social-network-ads/Social_Network_Ads.csv\n"
     ]
    }
   ],
   "source": [
    "# This Python 3 environment comes with many helpful analytics libraries installed\n",
    "# It is defined by the kaggle/python Docker image: https://github.com/kaggle/docker-python\n",
    "# For example, here's several helpful packages to load\n",
    "\n",
    "import numpy as np # linear algebra\n",
    "import pandas as pd # data processing, CSV file I/O (e.g. pd.read_csv)\n",
    "\n",
    "# Input data files are available in the read-only \"../input/\" directory\n",
    "# For example, running this (by clicking run or pressing Shift+Enter) will list all files under the input directory\n",
    "\n",
    "import os\n",
    "for dirname, _, filenames in os.walk('/kaggle/input'):\n",
    "    for filename in filenames:\n",
    "        print(os.path.join(dirname, filename))\n",
    "\n",
    "# You can write up to 20GB to the current directory (/kaggle/working/) that gets preserved as output when you create a version using \"Save & Run All\" \n",
    "# You can also write temporary files to /kaggle/temp/, but they won't be saved outside of the current session"
   ]
  },
  {
   "cell_type": "markdown",
   "id": "7363d8ca",
   "metadata": {
    "papermill": {
     "duration": 0.011274,
     "end_time": "2024-03-01T11:53:18.474478",
     "exception": false,
     "start_time": "2024-03-01T11:53:18.463204",
     "status": "completed"
    },
    "tags": []
   },
   "source": [
    "## Importing Necessary Libraries"
   ]
  },
  {
   "cell_type": "code",
   "execution_count": 2,
   "id": "85bf719c",
   "metadata": {
    "execution": {
     "iopub.execute_input": "2024-03-01T11:53:18.500281Z",
     "iopub.status.busy": "2024-03-01T11:53:18.499753Z",
     "iopub.status.idle": "2024-03-01T11:53:20.449102Z",
     "shell.execute_reply": "2024-03-01T11:53:20.447411Z"
    },
    "papermill": {
     "duration": 1.96565,
     "end_time": "2024-03-01T11:53:20.451905",
     "exception": false,
     "start_time": "2024-03-01T11:53:18.486255",
     "status": "completed"
    },
    "tags": []
   },
   "outputs": [],
   "source": [
    "import matplotlib.pyplot as plt\n",
    "import seaborn as sns\n",
    "from sklearn.model_selection import train_test_split\n",
    "from sklearn.preprocessing import StandardScaler, LabelEncoder\n",
    "from sklearn.metrics import confusion_matrix, accuracy_score, precision_score, recall_score, f1_score\n",
    "from matplotlib.colors import ListedColormap\n",
    "\n",
    "%matplotlib inline"
   ]
  },
  {
   "cell_type": "markdown",
   "id": "6b04971a",
   "metadata": {
    "papermill": {
     "duration": 0.012007,
     "end_time": "2024-03-01T11:53:20.476380",
     "exception": false,
     "start_time": "2024-03-01T11:53:20.464373",
     "status": "completed"
    },
    "tags": []
   },
   "source": [
    "## Introduction\n",
    "\n",
    "In this study, our goal was to construct a predictive model that assesses the likelihood of a customer making a purchase. We focused on demographic variables like age and gender, alongside estimated salary, to understand the factors influencing purchasing behavior."
   ]
  },
  {
   "cell_type": "markdown",
   "id": "b7c490d0",
   "metadata": {
    "papermill": {
     "duration": 0.011383,
     "end_time": "2024-03-01T11:53:20.501874",
     "exception": false,
     "start_time": "2024-03-01T11:53:20.490491",
     "status": "completed"
    },
    "tags": []
   },
   "source": [
    "## Data Loading:\n",
    "Our initial step involved importing essential libraries and loading the dataset obtained from the \"Social Network Ads\" dataset. This dataset included details on customers' age, gender, estimated salary, and their purchase behavior."
   ]
  },
  {
   "cell_type": "code",
   "execution_count": 3,
   "id": "a6681b62",
   "metadata": {
    "execution": {
     "iopub.execute_input": "2024-03-01T11:53:20.529504Z",
     "iopub.status.busy": "2024-03-01T11:53:20.529030Z",
     "iopub.status.idle": "2024-03-01T11:53:20.568497Z",
     "shell.execute_reply": "2024-03-01T11:53:20.567165Z"
    },
    "papermill": {
     "duration": 0.057342,
     "end_time": "2024-03-01T11:53:20.571082",
     "exception": false,
     "start_time": "2024-03-01T11:53:20.513740",
     "status": "completed"
    },
    "tags": []
   },
   "outputs": [
    {
     "data": {
      "text/html": [
       "<div>\n",
       "<style scoped>\n",
       "    .dataframe tbody tr th:only-of-type {\n",
       "        vertical-align: middle;\n",
       "    }\n",
       "\n",
       "    .dataframe tbody tr th {\n",
       "        vertical-align: top;\n",
       "    }\n",
       "\n",
       "    .dataframe thead th {\n",
       "        text-align: right;\n",
       "    }\n",
       "</style>\n",
       "<table border=\"1\" class=\"dataframe\">\n",
       "  <thead>\n",
       "    <tr style=\"text-align: right;\">\n",
       "      <th></th>\n",
       "      <th>User ID</th>\n",
       "      <th>Gender</th>\n",
       "      <th>Age</th>\n",
       "      <th>EstimatedSalary</th>\n",
       "      <th>Purchased</th>\n",
       "    </tr>\n",
       "  </thead>\n",
       "  <tbody>\n",
       "    <tr>\n",
       "      <th>0</th>\n",
       "      <td>15624510</td>\n",
       "      <td>Male</td>\n",
       "      <td>19</td>\n",
       "      <td>19000</td>\n",
       "      <td>0</td>\n",
       "    </tr>\n",
       "    <tr>\n",
       "      <th>1</th>\n",
       "      <td>15810944</td>\n",
       "      <td>Male</td>\n",
       "      <td>35</td>\n",
       "      <td>20000</td>\n",
       "      <td>0</td>\n",
       "    </tr>\n",
       "    <tr>\n",
       "      <th>2</th>\n",
       "      <td>15668575</td>\n",
       "      <td>Female</td>\n",
       "      <td>26</td>\n",
       "      <td>43000</td>\n",
       "      <td>0</td>\n",
       "    </tr>\n",
       "    <tr>\n",
       "      <th>3</th>\n",
       "      <td>15603246</td>\n",
       "      <td>Female</td>\n",
       "      <td>27</td>\n",
       "      <td>57000</td>\n",
       "      <td>0</td>\n",
       "    </tr>\n",
       "    <tr>\n",
       "      <th>4</th>\n",
       "      <td>15804002</td>\n",
       "      <td>Male</td>\n",
       "      <td>19</td>\n",
       "      <td>76000</td>\n",
       "      <td>0</td>\n",
       "    </tr>\n",
       "    <tr>\n",
       "      <th>...</th>\n",
       "      <td>...</td>\n",
       "      <td>...</td>\n",
       "      <td>...</td>\n",
       "      <td>...</td>\n",
       "      <td>...</td>\n",
       "    </tr>\n",
       "    <tr>\n",
       "      <th>395</th>\n",
       "      <td>15691863</td>\n",
       "      <td>Female</td>\n",
       "      <td>46</td>\n",
       "      <td>41000</td>\n",
       "      <td>1</td>\n",
       "    </tr>\n",
       "    <tr>\n",
       "      <th>396</th>\n",
       "      <td>15706071</td>\n",
       "      <td>Male</td>\n",
       "      <td>51</td>\n",
       "      <td>23000</td>\n",
       "      <td>1</td>\n",
       "    </tr>\n",
       "    <tr>\n",
       "      <th>397</th>\n",
       "      <td>15654296</td>\n",
       "      <td>Female</td>\n",
       "      <td>50</td>\n",
       "      <td>20000</td>\n",
       "      <td>1</td>\n",
       "    </tr>\n",
       "    <tr>\n",
       "      <th>398</th>\n",
       "      <td>15755018</td>\n",
       "      <td>Male</td>\n",
       "      <td>36</td>\n",
       "      <td>33000</td>\n",
       "      <td>0</td>\n",
       "    </tr>\n",
       "    <tr>\n",
       "      <th>399</th>\n",
       "      <td>15594041</td>\n",
       "      <td>Female</td>\n",
       "      <td>49</td>\n",
       "      <td>36000</td>\n",
       "      <td>1</td>\n",
       "    </tr>\n",
       "  </tbody>\n",
       "</table>\n",
       "<p>400 rows × 5 columns</p>\n",
       "</div>"
      ],
      "text/plain": [
       "      User ID  Gender  Age  EstimatedSalary  Purchased\n",
       "0    15624510    Male   19            19000          0\n",
       "1    15810944    Male   35            20000          0\n",
       "2    15668575  Female   26            43000          0\n",
       "3    15603246  Female   27            57000          0\n",
       "4    15804002    Male   19            76000          0\n",
       "..        ...     ...  ...              ...        ...\n",
       "395  15691863  Female   46            41000          1\n",
       "396  15706071    Male   51            23000          1\n",
       "397  15654296  Female   50            20000          1\n",
       "398  15755018    Male   36            33000          0\n",
       "399  15594041  Female   49            36000          1\n",
       "\n",
       "[400 rows x 5 columns]"
      ]
     },
     "execution_count": 3,
     "metadata": {},
     "output_type": "execute_result"
    }
   ],
   "source": [
    "df1 = pd.read_csv(\"/kaggle/input/social-network-ads/Social_Network_Ads.csv\")\n",
    "df1"
   ]
  },
  {
   "cell_type": "markdown",
   "id": "29443e97",
   "metadata": {
    "papermill": {
     "duration": 0.012484,
     "end_time": "2024-03-01T11:53:20.596046",
     "exception": false,
     "start_time": "2024-03-01T11:53:20.583562",
     "status": "completed"
    },
    "tags": []
   },
   "source": [
    "This dataset contains information about customers, including their User ID, Gender, Age, Estimated Salary, and whether they Purchased a product or not. Each row represents a single customer, with details such as their gender, age, estimated salary, and purchase status. This dataset seems suitable for building predictive models to understand factors influencing customer purchasing behavior."
   ]
  },
  {
   "cell_type": "markdown",
   "id": "656338ac",
   "metadata": {
    "papermill": {
     "duration": 0.012099,
     "end_time": "2024-03-01T11:53:20.621650",
     "exception": false,
     "start_time": "2024-03-01T11:53:20.609551",
     "status": "completed"
    },
    "tags": []
   },
   "source": [
    "## Data Processing"
   ]
  },
  {
   "cell_type": "markdown",
   "id": "0873e926",
   "metadata": {
    "papermill": {
     "duration": 0.012357,
     "end_time": "2024-03-01T11:53:20.646505",
     "exception": false,
     "start_time": "2024-03-01T11:53:20.634148",
     "status": "completed"
    },
    "tags": []
   },
   "source": [
    "### Data Cleaning:\n",
    "We conducted basic data cleaning, identifying and confirming zero missing values in the dataset, eliminating the need for further cleaning."
   ]
  },
  {
   "cell_type": "code",
   "execution_count": 4,
   "id": "0805035a",
   "metadata": {
    "execution": {
     "iopub.execute_input": "2024-03-01T11:53:20.673412Z",
     "iopub.status.busy": "2024-03-01T11:53:20.672947Z",
     "iopub.status.idle": "2024-03-01T11:53:20.684533Z",
     "shell.execute_reply": "2024-03-01T11:53:20.683074Z"
    },
    "papermill": {
     "duration": 0.028557,
     "end_time": "2024-03-01T11:53:20.687520",
     "exception": false,
     "start_time": "2024-03-01T11:53:20.658963",
     "status": "completed"
    },
    "tags": []
   },
   "outputs": [
    {
     "data": {
      "text/plain": [
       "User ID            0\n",
       "Gender             0\n",
       "Age                0\n",
       "EstimatedSalary    0\n",
       "Purchased          0\n",
       "dtype: int64"
      ]
     },
     "execution_count": 4,
     "metadata": {},
     "output_type": "execute_result"
    }
   ],
   "source": [
    "df1.isnull().sum()"
   ]
  },
  {
   "cell_type": "markdown",
   "id": "f4f249a1",
   "metadata": {
    "papermill": {
     "duration": 0.012357,
     "end_time": "2024-03-01T11:53:20.712241",
     "exception": false,
     "start_time": "2024-03-01T11:53:20.699884",
     "status": "completed"
    },
    "tags": []
   },
   "source": [
    "Before we make changes to the dataset, let's duplicate it."
   ]
  },
  {
   "cell_type": "code",
   "execution_count": 5,
   "id": "872b9594",
   "metadata": {
    "execution": {
     "iopub.execute_input": "2024-03-01T11:53:20.739053Z",
     "iopub.status.busy": "2024-03-01T11:53:20.738616Z",
     "iopub.status.idle": "2024-03-01T11:53:20.744059Z",
     "shell.execute_reply": "2024-03-01T11:53:20.742823Z"
    },
    "papermill": {
     "duration": 0.022021,
     "end_time": "2024-03-01T11:53:20.746637",
     "exception": false,
     "start_time": "2024-03-01T11:53:20.724616",
     "status": "completed"
    },
    "tags": []
   },
   "outputs": [],
   "source": [
    "df = df1.copy()"
   ]
  },
  {
   "cell_type": "markdown",
   "id": "73f32528",
   "metadata": {
    "papermill": {
     "duration": 0.012232,
     "end_time": "2024-03-01T11:53:20.771765",
     "exception": false,
     "start_time": "2024-03-01T11:53:20.759533",
     "status": "completed"
    },
    "tags": []
   },
   "source": [
    "### Dropping unwanted columns\n",
    "Dropping the \"User ID\" column in a dataset is often considered for the following reasons:\n",
    "\n",
    "1. Uniqueness and Irrelevance:\n",
    "\n",
    "If each user has a unique identifier (User ID) and it does not carry meaningful information for the analysis, it may be redundant. In such cases, the column doesn't contribute to the patterns or insights sought from the data.\n",
    "\n",
    "2. Non-informative for Predictive Modeling:\n",
    "\n",
    "When building predictive models, especially if the User ID is assigned randomly and doesn't represent any intrinsic characteristic, it may not contribute to the model's ability to generalize patterns."
   ]
  },
  {
   "cell_type": "code",
   "execution_count": 6,
   "id": "ab060ce4",
   "metadata": {
    "execution": {
     "iopub.execute_input": "2024-03-01T11:53:20.797969Z",
     "iopub.status.busy": "2024-03-01T11:53:20.797546Z",
     "iopub.status.idle": "2024-03-01T11:53:20.806581Z",
     "shell.execute_reply": "2024-03-01T11:53:20.805229Z"
    },
    "papermill": {
     "duration": 0.02514,
     "end_time": "2024-03-01T11:53:20.809168",
     "exception": false,
     "start_time": "2024-03-01T11:53:20.784028",
     "status": "completed"
    },
    "tags": []
   },
   "outputs": [],
   "source": [
    "df.drop(\"User ID\",axis = 1, inplace = True)"
   ]
  },
  {
   "cell_type": "markdown",
   "id": "b65db410",
   "metadata": {
    "papermill": {
     "duration": 0.011993,
     "end_time": "2024-03-01T11:53:20.834010",
     "exception": false,
     "start_time": "2024-03-01T11:53:20.822017",
     "status": "completed"
    },
    "tags": []
   },
   "source": [
    "## Visualisation\n",
    "\n",
    "To understand the dataset better, let's try out a couple of plots"
   ]
  },
  {
   "cell_type": "code",
   "execution_count": 7,
   "id": "81ec2630",
   "metadata": {
    "execution": {
     "iopub.execute_input": "2024-03-01T11:53:20.861263Z",
     "iopub.status.busy": "2024-03-01T11:53:20.860691Z",
     "iopub.status.idle": "2024-03-01T11:53:21.273038Z",
     "shell.execute_reply": "2024-03-01T11:53:21.271820Z"
    },
    "papermill": {
     "duration": 0.428956,
     "end_time": "2024-03-01T11:53:21.275808",
     "exception": false,
     "start_time": "2024-03-01T11:53:20.846852",
     "status": "completed"
    },
    "tags": []
   },
   "outputs": [
    {
     "data": {
      "text/plain": [
       "Text(0.5, 1.0, 'Age Distribution')"
      ]
     },
     "execution_count": 7,
     "metadata": {},
     "output_type": "execute_result"
    },
    {
     "data": {
      "image/png": "[encoded data removed]",
      "text/plain": [
       "<Figure size 1000x1000 with 1 Axes>"
      ]
     },
     "metadata": {},
     "output_type": "display_data"
    }
   ],
   "source": [
    "plt.figure(figsize=(10, 10))\n",
    "plt.hist(df['Age'], bins=20, edgecolor='black')\n",
    "plt.title('Age Distribution')"
   ]
  },
  {
   "cell_type": "code",
   "execution_count": 8,
   "id": "5c448248",
   "metadata": {
    "execution": {
     "iopub.execute_input": "2024-03-01T11:53:21.304168Z",
     "iopub.status.busy": "2024-03-01T11:53:21.303775Z",
     "iopub.status.idle": "2024-03-01T11:53:21.660800Z",
     "shell.execute_reply": "2024-03-01T11:53:21.659641Z"
    },
    "papermill": {
     "duration": 0.374952,
     "end_time": "2024-03-01T11:53:21.663636",
     "exception": false,
     "start_time": "2024-03-01T11:53:21.288684",
     "status": "completed"
    },
    "tags": []
   },
   "outputs": [
    {
     "data": {
      "text/plain": [
       "Text(0.5, 1.0, 'Estimated Salary Distribution')"
      ]
     },
     "execution_count": 8,
     "metadata": {},
     "output_type": "execute_result"
    },
    {
     "data": {
      "image/png": "[encoded data removed]",
      "text/plain": [
       "<Figure size 640x480 with 1 Axes>"
      ]
     },
     "metadata": {},
     "output_type": "display_data"
    }
   ],
   "source": [
    "plt.hist(df['EstimatedSalary'], bins=20 , edgecolor='black')\n",
    "plt.title('Estimated Salary Distribution')"
   ]
  },
  {
   "cell_type": "code",
   "execution_count": 9,
   "id": "c2e27ea9",
   "metadata": {
    "execution": {
     "iopub.execute_input": "2024-03-01T11:53:21.693571Z",
     "iopub.status.busy": "2024-03-01T11:53:21.693138Z",
     "iopub.status.idle": "2024-03-01T11:53:22.007853Z",
     "shell.execute_reply": "2024-03-01T11:53:22.006585Z"
    },
    "papermill": {
     "duration": 0.333579,
     "end_time": "2024-03-01T11:53:22.010832",
     "exception": false,
     "start_time": "2024-03-01T11:53:21.677253",
     "status": "completed"
    },
    "tags": []
   },
   "outputs": [
    {
     "data": {
      "text/plain": [
       "Text(0.5, 1.0, 'Gender Distribution')"
      ]
     },
     "execution_count": 9,
     "metadata": {},
     "output_type": "execute_result"
    },
    {
     "data": {
      "image/png": "[encoded data removed]",
      "text/plain": [
       "<Figure size 640x480 with 1 Axes>"
      ]
     },
     "metadata": {},
     "output_type": "display_data"
    }
   ],
   "source": [
    "sns.countplot(x = \"Gender\", data= df)\n",
    "plt.title('Gender Distribution')"
   ]
  },
  {
   "cell_type": "code",
   "execution_count": 10,
   "id": "bf2c240b",
   "metadata": {
    "execution": {
     "iopub.execute_input": "2024-03-01T11:53:22.040951Z",
     "iopub.status.busy": "2024-03-01T11:53:22.040505Z",
     "iopub.status.idle": "2024-03-01T11:53:22.322179Z",
     "shell.execute_reply": "2024-03-01T11:53:22.321080Z"
    },
    "papermill": {
     "duration": 0.299767,
     "end_time": "2024-03-01T11:53:22.324847",
     "exception": false,
     "start_time": "2024-03-01T11:53:22.025080",
     "status": "completed"
    },
    "tags": []
   },
   "outputs": [
    {
     "data": {
      "text/plain": [
       "Text(0.5, 1.0, 'Purchase Distribution')"
      ]
     },
     "execution_count": 10,
     "metadata": {},
     "output_type": "execute_result"
    },
    {
     "data": {
      "image/png": "[encoded data removed]",
      "text/plain": [
       "<Figure size 640x480 with 1 Axes>"
      ]
     },
     "metadata": {},
     "output_type": "display_data"
    }
   ],
   "source": [
    "sns.countplot(x= \"Purchased\", data = df)\n",
    "plt.title('Purchase Distribution')"
   ]
  },
  {
   "cell_type": "markdown",
   "id": "b75343bf",
   "metadata": {
    "papermill": {
     "duration": 0.014346,
     "end_time": "2024-03-01T11:53:22.354222",
     "exception": false,
     "start_time": "2024-03-01T11:53:22.339876",
     "status": "completed"
    },
    "tags": []
   },
   "source": [
    "### Feature Selection:\n",
    "We opted for the following features in our analysis: Age, Gender, and Estimated Salary."
   ]
  },
  {
   "cell_type": "code",
   "execution_count": 11,
   "id": "d9504cb1",
   "metadata": {
    "execution": {
     "iopub.execute_input": "2024-03-01T11:53:22.385668Z",
     "iopub.status.busy": "2024-03-01T11:53:22.384425Z",
     "iopub.status.idle": "2024-03-01T11:53:22.396517Z",
     "shell.execute_reply": "2024-03-01T11:53:22.395214Z"
    },
    "papermill": {
     "duration": 0.030948,
     "end_time": "2024-03-01T11:53:22.399602",
     "exception": false,
     "start_time": "2024-03-01T11:53:22.368654",
     "status": "completed"
    },
    "tags": []
   },
   "outputs": [
    {
     "data": {
      "text/html": [
       "<div>\n",
       "<style scoped>\n",
       "    .dataframe tbody tr th:only-of-type {\n",
       "        vertical-align: middle;\n",
       "    }\n",
       "\n",
       "    .dataframe tbody tr th {\n",
       "        vertical-align: top;\n",
       "    }\n",
       "\n",
       "    .dataframe thead th {\n",
       "        text-align: right;\n",
       "    }\n",
       "</style>\n",
       "<table border=\"1\" class=\"dataframe\">\n",
       "  <thead>\n",
       "    <tr style=\"text-align: right;\">\n",
       "      <th></th>\n",
       "      <th>Gender</th>\n",
       "      <th>Age</th>\n",
       "      <th>EstimatedSalary</th>\n",
       "      <th>Purchased</th>\n",
       "    </tr>\n",
       "  </thead>\n",
       "  <tbody>\n",
       "    <tr>\n",
       "      <th>0</th>\n",
       "      <td>Male</td>\n",
       "      <td>19</td>\n",
       "      <td>19000</td>\n",
       "      <td>0</td>\n",
       "    </tr>\n",
       "    <tr>\n",
       "      <th>1</th>\n",
       "      <td>Male</td>\n",
       "      <td>35</td>\n",
       "      <td>20000</td>\n",
       "      <td>0</td>\n",
       "    </tr>\n",
       "    <tr>\n",
       "      <th>2</th>\n",
       "      <td>Female</td>\n",
       "      <td>26</td>\n",
       "      <td>43000</td>\n",
       "      <td>0</td>\n",
       "    </tr>\n",
       "    <tr>\n",
       "      <th>3</th>\n",
       "      <td>Female</td>\n",
       "      <td>27</td>\n",
       "      <td>57000</td>\n",
       "      <td>0</td>\n",
       "    </tr>\n",
       "    <tr>\n",
       "      <th>4</th>\n",
       "      <td>Male</td>\n",
       "      <td>19</td>\n",
       "      <td>76000</td>\n",
       "      <td>0</td>\n",
       "    </tr>\n",
       "  </tbody>\n",
       "</table>\n",
       "</div>"
      ],
      "text/plain": [
       "   Gender  Age  EstimatedSalary  Purchased\n",
       "0    Male   19            19000          0\n",
       "1    Male   35            20000          0\n",
       "2  Female   26            43000          0\n",
       "3  Female   27            57000          0\n",
       "4    Male   19            76000          0"
      ]
     },
     "execution_count": 11,
     "metadata": {},
     "output_type": "execute_result"
    }
   ],
   "source": [
    "df.head()"
   ]
  },
  {
   "cell_type": "code",
   "execution_count": 12,
   "id": "b09df4ce",
   "metadata": {
    "execution": {
     "iopub.execute_input": "2024-03-01T11:53:22.434060Z",
     "iopub.status.busy": "2024-03-01T11:53:22.433374Z",
     "iopub.status.idle": "2024-03-01T11:53:22.440136Z",
     "shell.execute_reply": "2024-03-01T11:53:22.439098Z"
    },
    "papermill": {
     "duration": 0.027179,
     "end_time": "2024-03-01T11:53:22.442806",
     "exception": false,
     "start_time": "2024-03-01T11:53:22.415627",
     "status": "completed"
    },
    "tags": []
   },
   "outputs": [],
   "source": [
    "X = df.drop(\"Purchased\", axis=1).values\n",
    "y = df['Purchased'].values"
   ]
  },
  {
   "cell_type": "markdown",
   "id": "cceeb9a5",
   "metadata": {
    "papermill": {
     "duration": 0.014893,
     "end_time": "2024-03-01T11:53:22.472837",
     "exception": false,
     "start_time": "2024-03-01T11:53:22.457944",
     "status": "completed"
    },
    "tags": []
   },
   "source": [
    "### Data Encoding:\n",
    "To facilitate machine learning algorithms, we employed Label Encoding on the categorical variable \"Gender,\" transforming it into a numerical format."
   ]
  },
  {
   "cell_type": "code",
   "execution_count": 13,
   "id": "a9c7c4fe",
   "metadata": {
    "execution": {
     "iopub.execute_input": "2024-03-01T11:53:22.507222Z",
     "iopub.status.busy": "2024-03-01T11:53:22.505959Z",
     "iopub.status.idle": "2024-03-01T11:53:22.514767Z",
     "shell.execute_reply": "2024-03-01T11:53:22.513733Z"
    },
    "papermill": {
     "duration": 0.029024,
     "end_time": "2024-03-01T11:53:22.517072",
     "exception": false,
     "start_time": "2024-03-01T11:53:22.488048",
     "status": "completed"
    },
    "tags": []
   },
   "outputs": [
    {
     "data": {
      "text/plain": [
       "array([[1, 19, 19000],\n",
       "       [1, 35, 20000],\n",
       "       [0, 26, 43000],\n",
       "       ...,\n",
       "       [0, 50, 20000],\n",
       "       [1, 36, 33000],\n",
       "       [0, 49, 36000]], dtype=object)"
      ]
     },
     "execution_count": 13,
     "metadata": {},
     "output_type": "execute_result"
    }
   ],
   "source": [
    "labelencoder = LabelEncoder()\n",
    "X[:,0] = labelencoder.fit_transform(X[:,0])\n",
    "X"
   ]
  },
  {
   "cell_type": "markdown",
   "id": "01fa8a06",
   "metadata": {
    "papermill": {
     "duration": 0.015208,
     "end_time": "2024-03-01T11:53:22.548768",
     "exception": false,
     "start_time": "2024-03-01T11:53:22.533560",
     "status": "completed"
    },
    "tags": []
   },
   "source": [
    "### Data Splitting:\n",
    "Train-test split is a crucial step in machine learning model development. It involves dividing a dataset into two subsets: a training set used to train the model, and a testing set to evaluate its performance. This ensures an unbiased assessment of the model's generalization capabilities and helps prevent overfitting to the training data.\n",
    "\n",
    "The dataset underwent division into training and testing sets, allocating 70% for training and 30% for testing."
   ]
  },
  {
   "cell_type": "code",
   "execution_count": 14,
   "id": "f47712ef",
   "metadata": {
    "execution": {
     "iopub.execute_input": "2024-03-01T11:53:22.581021Z",
     "iopub.status.busy": "2024-03-01T11:53:22.579974Z",
     "iopub.status.idle": "2024-03-01T11:53:22.587183Z",
     "shell.execute_reply": "2024-03-01T11:53:22.586311Z"
    },
    "papermill": {
     "duration": 0.025617,
     "end_time": "2024-03-01T11:53:22.589397",
     "exception": false,
     "start_time": "2024-03-01T11:53:22.563780",
     "status": "completed"
    },
    "tags": []
   },
   "outputs": [],
   "source": [
    "X_train, X_test, y_train, y_test = train_test_split(X,y, test_size = 0.30, random_state= 42)"
   ]
  },
  {
   "cell_type": "code",
   "execution_count": 15,
   "id": "1c97acfb",
   "metadata": {
    "execution": {
     "iopub.execute_input": "2024-03-01T11:53:22.622460Z",
     "iopub.status.busy": "2024-03-01T11:53:22.621647Z",
     "iopub.status.idle": "2024-03-01T11:53:22.629553Z",
     "shell.execute_reply": "2024-03-01T11:53:22.628122Z"
    },
    "papermill": {
     "duration": 0.027417,
     "end_time": "2024-03-01T11:53:22.631982",
     "exception": false,
     "start_time": "2024-03-01T11:53:22.604565",
     "status": "completed"
    },
    "tags": []
   },
   "outputs": [
    {
     "data": {
      "text/plain": [
       "((280, 3), (280,), (120, 3), (120,))"
      ]
     },
     "execution_count": 15,
     "metadata": {},
     "output_type": "execute_result"
    }
   ],
   "source": [
    "X_train.shape, y_train.shape, X_test.shape, y_test.shape"
   ]
  },
  {
   "cell_type": "markdown",
   "id": "73e7cf06",
   "metadata": {
    "papermill": {
     "duration": 0.014645,
     "end_time": "2024-03-01T11:53:22.661588",
     "exception": false,
     "start_time": "2024-03-01T11:53:22.646943",
     "status": "completed"
    },
    "tags": []
   },
   "source": [
    "### Feature Scaling:\n",
    "Ensuring uniformity in scale, we applied Standard Scaling to standardize numerical features, promoting optimal performance across all features in the dataset."
   ]
  },
  {
   "cell_type": "code",
   "execution_count": 16,
   "id": "358b6425",
   "metadata": {
    "execution": {
     "iopub.execute_input": "2024-03-01T11:53:22.695476Z",
     "iopub.status.busy": "2024-03-01T11:53:22.694453Z",
     "iopub.status.idle": "2024-03-01T11:53:22.703882Z",
     "shell.execute_reply": "2024-03-01T11:53:22.702400Z"
    },
    "papermill": {
     "duration": 0.029252,
     "end_time": "2024-03-01T11:53:22.706450",
     "exception": false,
     "start_time": "2024-03-01T11:53:22.677198",
     "status": "completed"
    },
    "tags": []
   },
   "outputs": [],
   "source": [
    "# Feature Scaling to bring the variable in a single scale\n",
    "from sklearn.preprocessing import StandardScaler\n",
    "sc = StandardScaler()\n",
    "X_train = sc.fit_transform(X_train)\n",
    "X_test = sc.transform(X_test)"
   ]
  },
  {
   "cell_type": "markdown",
   "id": "e04b4d7d",
   "metadata": {
    "papermill": {
     "duration": 0.014838,
     "end_time": "2024-03-01T11:53:22.737399",
     "exception": false,
     "start_time": "2024-03-01T11:53:22.722561",
     "status": "completed"
    },
    "tags": []
   },
   "source": [
    "## Model Building"
   ]
  },
  {
   "cell_type": "markdown",
   "id": "1d8c3927",
   "metadata": {
    "papermill": {
     "duration": 0.014524,
     "end_time": "2024-03-01T11:53:22.767976",
     "exception": false,
     "start_time": "2024-03-01T11:53:22.753452",
     "status": "completed"
    },
    "tags": []
   },
   "source": [
    "### Training and testing the model\n",
    "We use scikit-learn’s LogisticRegression to train our model on both the training and test sets."
   ]
  },
  {
   "cell_type": "code",
   "execution_count": 17,
   "id": "1c900503",
   "metadata": {
    "execution": {
     "iopub.execute_input": "2024-03-01T11:53:22.801211Z",
     "iopub.status.busy": "2024-03-01T11:53:22.800517Z",
     "iopub.status.idle": "2024-03-01T11:53:22.936606Z",
     "shell.execute_reply": "2024-03-01T11:53:22.935317Z"
    },
    "papermill": {
     "duration": 0.155927,
     "end_time": "2024-03-01T11:53:22.939275",
     "exception": false,
     "start_time": "2024-03-01T11:53:22.783348",
     "status": "completed"
    },
    "tags": []
   },
   "outputs": [
    {
     "data": {
      "text/html": [
       "<style>#sk-container-id-1 {color: black;background-color: white;}#sk-container-id-1 pre{padding: 0;}#sk-container-id-1 div.sk-toggleable {background-color: white;}#sk-container-id-1 label.sk-toggleable__label {cursor: pointer;display: block;width: 100%;margin-bottom: 0;padding: 0.3em;box-sizing: border-box;text-align: center;}#sk-container-id-1 label.sk-toggleable__label-arrow:before {content: \"▸\";float: left;margin-right: 0.25em;color: #696969;}#sk-container-id-1 label.sk-toggleable__label-arrow:hover:before {color: black;}#sk-container-id-1 div.sk-estimator:hover label.sk-toggleable__label-arrow:before {color: black;}#sk-container-id-1 div.sk-toggleable__content {max-height: 0;max-width: 0;overflow: hidden;text-align: left;background-color: #f0f8ff;}#sk-container-id-1 div.sk-toggleable__content pre {margin: 0.2em;color: black;border-radius: 0.25em;background-color: #f0f8ff;}#sk-container-id-1 input.sk-toggleable__control:checked~div.sk-toggleable__content {max-height: 200px;max-width: 100%;overflow: auto;}#sk-container-id-1 input.sk-toggleable__control:checked~label.sk-toggleable__label-arrow:before {content: \"▾\";}#sk-container-id-1 div.sk-estimator input.sk-toggleable__control:checked~label.sk-toggleable__label {background-color: #d4ebff;}#sk-container-id-1 div.sk-label input.sk-toggleable__control:checked~label.sk-toggleable__label {background-color: #d4ebff;}#sk-container-id-1 input.sk-hidden--visually {border: 0;clip: rect(1px 1px 1px 1px);clip: rect(1px, 1px, 1px, 1px);height: 1px;margin: -1px;overflow: hidden;padding: 0;position: absolute;width: 1px;}#sk-container-id-1 div.sk-estimator {font-family: monospace;background-color: #f0f8ff;border: 1px dotted black;border-radius: 0.25em;box-sizing: border-box;margin-bottom: 0.5em;}#sk-container-id-1 div.sk-estimator:hover {background-color: #d4ebff;}#sk-container-id-1 div.sk-parallel-item::after {content: \"\";width: 100%;border-bottom: 1px solid gray;flex-grow: 1;}#sk-container-id-1 div.sk-label:hover label.sk-toggleable__label {background-color: #d4ebff;}#sk-container-id-1 div.sk-serial::before {content: \"\";position: absolute;border-left: 1px solid gray;box-sizing: border-box;top: 0;bottom: 0;left: 50%;z-index: 0;}#sk-container-id-1 div.sk-serial {display: flex;flex-direction: column;align-items: center;background-color: white;padding-right: 0.2em;padding-left: 0.2em;position: relative;}#sk-container-id-1 div.sk-item {position: relative;z-index: 1;}#sk-container-id-1 div.sk-parallel {display: flex;align-items: stretch;justify-content: center;background-color: white;position: relative;}#sk-container-id-1 div.sk-item::before, #sk-container-id-1 div.sk-parallel-item::before {content: \"\";position: absolute;border-left: 1px solid gray;box-sizing: border-box;top: 0;bottom: 0;left: 50%;z-index: -1;}#sk-container-id-1 div.sk-parallel-item {display: flex;flex-direction: column;z-index: 1;position: relative;background-color: white;}#sk-container-id-1 div.sk-parallel-item:first-child::after {align-self: flex-end;width: 50%;}#sk-container-id-1 div.sk-parallel-item:last-child::after {align-self: flex-start;width: 50%;}#sk-container-id-1 div.sk-parallel-item:only-child::after {width: 0;}#sk-container-id-1 div.sk-dashed-wrapped {border: 1px dashed gray;margin: 0 0.4em 0.5em 0.4em;box-sizing: border-box;padding-bottom: 0.4em;background-color: white;}#sk-container-id-1 div.sk-label label {font-family: monospace;font-weight: bold;display: inline-block;line-height: 1.2em;}#sk-container-id-1 div.sk-label-container {text-align: center;}#sk-container-id-1 div.sk-container {/* jupyter's `normalize.less` sets `[hidden] { display: none; }` but bootstrap.min.css set `[hidden] { display: none !important; }` so we also need the `!important` here to be able to override the default hidden behavior on the sphinx rendered scikit-learn.org. See: https://github.com/scikit-learn/scikit-learn/issues/21755 */display: inline-block !important;position: relative;}#sk-container-id-1 div.sk-text-repr-fallback {display: none;}</style><div id=\"sk-container-id-1\" class=\"sk-top-container\"><div class=\"sk-text-repr-fallback\"><pre>LogisticRegression()</pre><b>In a Jupyter environment, please rerun this cell to show the HTML representation or trust the notebook. <br />On GitHub, the HTML representation is unable to render, please try loading this page with nbviewer.org.</b></div><div class=\"sk-container\" hidden><div class=\"sk-item\"><div class=\"sk-estimator sk-toggleable\"><input class=\"sk-toggleable__control sk-hidden--visually\" id=\"sk-estimator-id-1\" type=\"checkbox\" checked><label for=\"sk-estimator-id-1\" class=\"sk-toggleable__label sk-toggleable__label-arrow\">LogisticRegression</label><div class=\"sk-toggleable__content\"><pre>LogisticRegression()</pre></div></div></div></div></div>"
      ],
      "text/plain": [
       "LogisticRegression()"
      ]
     },
     "execution_count": 17,
     "metadata": {},
     "output_type": "execute_result"
    }
   ],
   "source": [
    "# Fitting Logistic Regression to the Training set\n",
    "from sklearn.linear_model import LogisticRegression\n",
    "log_reg = LogisticRegression()\n",
    "log_reg.fit(X_train, y_train)"
   ]
  },
  {
   "cell_type": "code",
   "execution_count": 18,
   "id": "8cb3ca23",
   "metadata": {
    "execution": {
     "iopub.execute_input": "2024-03-01T11:53:22.972771Z",
     "iopub.status.busy": "2024-03-01T11:53:22.971521Z",
     "iopub.status.idle": "2024-03-01T11:53:22.979953Z",
     "shell.execute_reply": "2024-03-01T11:53:22.978259Z"
    },
    "papermill": {
     "duration": 0.027581,
     "end_time": "2024-03-01T11:53:22.982454",
     "exception": false,
     "start_time": "2024-03-01T11:53:22.954873",
     "status": "completed"
    },
    "tags": []
   },
   "outputs": [
    {
     "name": "stdout",
     "output_type": "stream",
     "text": [
      "[0 1 0 1 0 0 1 0 0 0 0 1 0 0 0 0 1 1 0 1 0 0 0 1 0 1 1 0 1 0 0 0 1 0 1 0 0\n",
      " 0 0 0 0 0 0 0 0 1 0 0 1 0 0 1 0 0 0 0 1 0 0 0 0 0 1 0 0 0 1 1 0 0 1 0 0 0\n",
      " 0 0 1 1 0 0 0 0 1 0 1 0 0 1 0 0 1 0 0 0 0 0 1 0 1 0 1 0 0 0 0 1 0 0 1 0 0\n",
      " 0 1 0 1 0 0 0 0 0]\n"
     ]
    }
   ],
   "source": [
    "# Predicting the Test set results\n",
    "y_pred = log_reg.predict(X_test)\n",
    "print(y_pred)"
   ]
  },
  {
   "cell_type": "code",
   "execution_count": 19,
   "id": "1438e504",
   "metadata": {
    "execution": {
     "iopub.execute_input": "2024-03-01T11:53:23.017829Z",
     "iopub.status.busy": "2024-03-01T11:53:23.016472Z",
     "iopub.status.idle": "2024-03-01T11:53:23.028179Z",
     "shell.execute_reply": "2024-03-01T11:53:23.026264Z"
    },
    "papermill": {
     "duration": 0.032781,
     "end_time": "2024-03-01T11:53:23.031316",
     "exception": false,
     "start_time": "2024-03-01T11:53:22.998535",
     "status": "completed"
    },
    "tags": []
   },
   "outputs": [
    {
     "data": {
      "text/plain": [
       "array([[71,  2],\n",
       "       [15, 32]])"
      ]
     },
     "execution_count": 19,
     "metadata": {},
     "output_type": "execute_result"
    }
   ],
   "source": [
    "# Making the Confusion Matrix\n",
    "from sklearn.metrics import confusion_matrix\n",
    "cm = confusion_matrix(y_test, y_pred)\n",
    "cm"
   ]
  },
  {
   "cell_type": "markdown",
   "id": "383fb1d6",
   "metadata": {
    "papermill": {
     "duration": 0.015259,
     "end_time": "2024-03-01T11:53:23.062281",
     "exception": false,
     "start_time": "2024-03-01T11:53:23.047022",
     "status": "completed"
    },
    "tags": []
   },
   "source": [
    "A confusion matrix is a table that is used to evaluate the performance of a classification model. It compares the predicted classifications to the true classifications, breaking down the results into four categories:\n",
    "\n",
    "- **True Positive (TP):** Instances where the model correctly predicted the positive class.\n",
    "- **True Negative (TN):** Instances where the model correctly predicted the negative class.\n",
    "- **False Positive (FP):** Instances where the model incorrectly predicted the positive class (Type I error).\n",
    "- **False Negative (FN):** Instances where the model incorrectly predicted the negative class (Type II error).\n",
    "\n",
    "In this confusion matrix:\n",
    "\n",
    "```\n",
    "[[71,  2],\n",
    " [15, 32]]\n",
    "```\n",
    "\n",
    "- **71 True Positives (TP):** The model correctly predicted the positive class 71 times.\n",
    "- **32 True Negatives (TN):** The model correctly predicted the negative class 32 times.\n",
    "- **2 False Positives (FP):** The model incorrectly predicted the positive class 2 times.\n",
    "- **15 False Negatives (FN):** The model incorrectly predicted the negative class 15 times.\n",
    "\n",
    "This confusion matrix allows you to calculate various performance metrics such as accuracy, precision, recall, and F1 score, providing a more comprehensive assessment of the model's classification capabilities."
   ]
  },
  {
   "cell_type": "code",
   "execution_count": 20,
   "id": "80914158",
   "metadata": {
    "execution": {
     "iopub.execute_input": "2024-03-01T11:53:23.096375Z",
     "iopub.status.busy": "2024-03-01T11:53:23.095926Z",
     "iopub.status.idle": "2024-03-01T11:53:23.466783Z",
     "shell.execute_reply": "2024-03-01T11:53:23.465061Z"
    },
    "papermill": {
     "duration": 0.3908,
     "end_time": "2024-03-01T11:53:23.469576",
     "exception": false,
     "start_time": "2024-03-01T11:53:23.078776",
     "status": "completed"
    },
    "tags": []
   },
   "outputs": [
    {
     "data": {
      "text/plain": [
       "<Axes: >"
      ]
     },
     "execution_count": 20,
     "metadata": {},
     "output_type": "execute_result"
    },
    {
     "data": {
      "image/png": "[encoded data removed]",
      "text/plain": [
       "<Figure size 640x480 with 2 Axes>"
      ]
     },
     "metadata": {},
     "output_type": "display_data"
    }
   ],
   "source": [
    "sns.heatmap(cm, annot=True, cmap = \"coolwarm\")"
   ]
  },
  {
   "cell_type": "code",
   "execution_count": 21,
   "id": "ef0bea3a",
   "metadata": {
    "execution": {
     "iopub.execute_input": "2024-03-01T11:53:23.510998Z",
     "iopub.status.busy": "2024-03-01T11:53:23.510056Z",
     "iopub.status.idle": "2024-03-01T11:53:23.533143Z",
     "shell.execute_reply": "2024-03-01T11:53:23.531792Z"
    },
    "papermill": {
     "duration": 0.05002,
     "end_time": "2024-03-01T11:53:23.537108",
     "exception": false,
     "start_time": "2024-03-01T11:53:23.487088",
     "status": "completed"
    },
    "tags": []
   },
   "outputs": [
    {
     "name": "stdout",
     "output_type": "stream",
     "text": [
      "              precision    recall  f1-score   support\n",
      "\n",
      "           0       0.83      0.97      0.89        73\n",
      "           1       0.94      0.68      0.79        47\n",
      "\n",
      "    accuracy                           0.86       120\n",
      "   macro avg       0.88      0.83      0.84       120\n",
      "weighted avg       0.87      0.86      0.85       120\n",
      "\n"
     ]
    }
   ],
   "source": [
    "from sklearn.metrics import classification_report\n",
    "print(classification_report(y_test,y_pred))"
   ]
  },
  {
   "cell_type": "markdown",
   "id": "539411bb",
   "metadata": {
    "papermill": {
     "duration": 0.022057,
     "end_time": "2024-03-01T11:53:23.583623",
     "exception": false,
     "start_time": "2024-03-01T11:53:23.561566",
     "status": "completed"
    },
    "tags": []
   },
   "source": [
    "## Model Assesment\n",
    "\n",
    "A classification report provides a comprehensive evaluation of a classification model's performance. Each row of the report corresponds to a different class (in this case, classes 0 and 1), and columns represent various metrics.\n",
    "\n",
    "\n",
    "- **Precision:**\n",
    "  - Precision measures the accuracy of positive predictions. For class 0, it's 0.83, indicating that when the model predicts class 0, it is correct 83% of the time. For class 1, the precision is 0.94, meaning that when the model predicts class 1, it is correct 94% of the time.\n",
    "\n",
    "- **Recall (Sensitivity):**\n",
    "  - Recall measures the ability of the model to capture instances of a particular class. For class 0, it's 0.97, indicating that the model captures 97% of the actual instances of class 0. For class 1, the recall is 0.68, meaning the model captures 68% of the actual instances of class 1.\n",
    "\n",
    "- **F1-Score:**\n",
    "  - F1-score is the harmonic mean of precision and recall, providing a balanced measure. For class 0, the F1-score is 0.89, and for class 1, it is 0.79.\n",
    "\n",
    "- **Support:**\n",
    "  - Support is the number of actual occurrences of the class in the specified dataset. For class 0, there are 73 instances, and for class 1, there are 47 instances.\n",
    "\n",
    "- **Accuracy:**\n",
    "  - Overall model accuracy is 0.86, meaning that the model correctly predicts the target variable for 86% of the instances in the dataset.\n",
    "\n",
    "- **Macro Avg:**\n",
    "  - The macro average is the average of precision, recall, and F1-score across all classes. In this case, the macro average precision is 0.88, recall is 0.83, and F1-score is 0.84.\n",
    "\n",
    "- **Weighted Avg:**\n",
    "  - The weighted average considers the number of occurrences of each class, providing a weighted average of precision, recall, and F1-score. It accounts for class imbalance. In this case, the weighted average precision is 0.87, recall is 0.86, and F1-score is 0.85."
   ]
  },
  {
   "cell_type": "code",
   "execution_count": 22,
   "id": "7368be93",
   "metadata": {
    "execution": {
     "iopub.execute_input": "2024-03-01T11:53:23.631727Z",
     "iopub.status.busy": "2024-03-01T11:53:23.629924Z",
     "iopub.status.idle": "2024-03-01T11:53:23.641987Z",
     "shell.execute_reply": "2024-03-01T11:53:23.640866Z"
    },
    "papermill": {
     "duration": 0.037984,
     "end_time": "2024-03-01T11:53:23.645238",
     "exception": false,
     "start_time": "2024-03-01T11:53:23.607254",
     "status": "completed"
    },
    "tags": []
   },
   "outputs": [
    {
     "data": {
      "text/plain": [
       "0.8583333333333333"
      ]
     },
     "execution_count": 22,
     "metadata": {},
     "output_type": "execute_result"
    }
   ],
   "source": [
    "log_reg.score(X_test, y_test)"
   ]
  },
  {
   "cell_type": "markdown",
   "id": "cf0a4293",
   "metadata": {
    "papermill": {
     "duration": 0.01735,
     "end_time": "2024-03-01T11:53:23.683496",
     "exception": false,
     "start_time": "2024-03-01T11:53:23.666146",
     "status": "completed"
    },
    "tags": []
   },
   "source": [
    "## Accuracy:\n",
    "\n",
    "In classification tasks, accuracy is a common metric that represents the ratio of correctly predicted instances to the total number of instances. An accuracy score of 0.8583333333333333 would mean that the model correctly predicted the target variable for approximately 85.83% of the instances.\n",
    "\n",
    "## R2 Score (Coefficient of Determination):\n",
    "\n",
    "In regression tasks, the R2 score measures the proportion of the variance in the dependent variable that is predictable from the independent variables. An R2 score of 0.8583333333333333 would indicate that the model explains about 85.83% of the variability in the target variable."
   ]
  },
  {
   "cell_type": "markdown",
   "id": "a98e109e",
   "metadata": {
    "papermill": {
     "duration": 0.016026,
     "end_time": "2024-03-01T11:53:23.793995",
     "exception": false,
     "start_time": "2024-03-01T11:53:23.777969",
     "status": "completed"
    },
    "tags": []
   },
   "source": [
    "## Conclusion:\n",
    "In this examination, we developed and assessed a Logistic Regression model for customer prediction. Our models demonstrated commendable accuracy, precision, recall, and F1 score. Nevertheless, there is room for additional exploration and optimization to further enhance the performance of the model."
   ]
  }
 ],
 "metadata": {
  "kaggle": {
   "accelerator": "none",
   "dataSources": [
    {
     "datasetId": 1846,
     "sourceId": 3197,
     "sourceType": "datasetVersion"
    }
   ],
   "dockerImageVersionId": 30664,
   "isGpuEnabled": false,
   "isInternetEnabled": true,
   "language": "python",
   "sourceType": "notebook"
  },
  "kernelspec": {
   "display_name": "Python 3",
   "language": "python",
   "name": "python3"
  },
  "language_info": {
   "codemirror_mode": {
    "name": "ipython",
    "version": 3
   },
   "file_extension": ".py",
   "mimetype": "text/x-python",
   "name": "python",
   "nbconvert_exporter": "python",
   "pygments_lexer": "ipython3",
   "version": "3.10.13"
  },
  "papermill": {
   "default_parameters": {},
   "duration": 10.388772,
   "end_time": "2024-03-01T11:53:24.534142",
   "environment_variables": {},
   "exception": null,
   "input_path": "__notebook__.ipynb",
   "output_path": "__notebook__.ipynb",
   "parameters": {},
   "start_time": "2024-03-01T11:53:14.145370",
   "version": "2.5.0"
  }
 },
 "nbformat": 4,
 "nbformat_minor": 5
}
