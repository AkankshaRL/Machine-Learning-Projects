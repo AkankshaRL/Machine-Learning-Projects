{
 "cells": [
  {
   "cell_type": "markdown",
   "id": "3324fd42",
   "metadata": {
    "papermill": {
     "duration": 0.016382,
     "end_time": "2025-01-21T05:09:38.856116",
     "exception": false,
     "start_time": "2025-01-21T05:09:38.839734",
     "status": "completed"
    },
    "tags": []
   },
   "source": [
    "# Gradient Descent and Linear Regression with PyTorch\n",
    "\n"
   ]
  },
  {
   "cell_type": "markdown",
   "id": "a70350ba",
   "metadata": {
    "papermill": {
     "duration": 0.015512,
     "end_time": "2025-01-21T05:09:38.887545",
     "exception": false,
     "start_time": "2025-01-21T05:09:38.872033",
     "status": "completed"
    },
    "tags": []
   },
   "source": [
    "This notebook covers the following topics:\n",
    "\n",
    "- Introduction to linear regression and gradient descent\n",
    "- Implementing a linear regression model using PyTorch tensors\n",
    "- Training a linear regression model using the gradient descent algorithm\n",
    "- Implementing gradient descent and linear regression using PyTorch built-in"
   ]
  },
  {
   "cell_type": "markdown",
   "id": "16e5ea7d",
   "metadata": {
    "papermill": {
     "duration": 0.014809,
     "end_time": "2025-01-21T05:09:38.917673",
     "exception": false,
     "start_time": "2025-01-21T05:09:38.902864",
     "status": "completed"
    },
    "tags": []
   },
   "source": [
    "## Introduction to Linear Regression\n",
    "\n",
    "In this notebook, we'll discuss one of the foundational algorithms in machine learning: *Linear regression*. We'll create a model that predicts crop yields for apples and oranges (*target variables*) by looking at the average temperature, rainfall, and humidity (*input variables or features*) in a region. Here's the training data:\n",
    "\n",
    "![linear-regression-training-data](https://i.imgur.com/6Ujttb4.png)\n",
    "\n",
    "In a linear regression model, each target variable is estimated to be a weighted sum of the input variables, offset by some constant, known as a bias :\n",
    "\n",
    "```\n",
    "yield_apple  = w11 * temp + w12 * rainfall + w13 * humidity + b1\n",
    "yield_orange = w21 * temp + w22 * rainfall + w23 * humidity + b2\n",
    "```\n",
    "\n",
    "Visually, it means that the yield of apples is a linear or planar function of temperature, rainfall and humidity:\n",
    "\n",
    "![linear-regression-graph](https://i.imgur.com/4DJ9f8X.png)"
   ]
  },
  {
   "cell_type": "markdown",
   "id": "7b273f8c",
   "metadata": {
    "papermill": {
     "duration": 0.014297,
     "end_time": "2025-01-21T05:09:38.947077",
     "exception": false,
     "start_time": "2025-01-21T05:09:38.932780",
     "status": "completed"
    },
    "tags": []
   },
   "source": [
    "The *learning* part of linear regression is to figure out a set of weights `w11, w12,... w23, b1 & b2` using the training data, to make accurate predictions for new data. The _learned_ weights will be used to predict the yields for apples and oranges in a new region using the average temperature, rainfall, and humidity for that region. \n",
    "\n",
    "We'll _train_ our model by adjusting the weights slightly many times to make better predictions, using an optimization technique called *gradient descent*. Let's begin by importing Numpy and PyTorch."
   ]
  },
  {
   "cell_type": "code",
   "execution_count": 1,
   "id": "faafb52d",
   "metadata": {
    "execution": {
     "iopub.execute_input": "2025-01-21T05:09:38.977664Z",
     "iopub.status.busy": "2025-01-21T05:09:38.977322Z",
     "iopub.status.idle": "2025-01-21T05:09:42.974298Z",
     "shell.execute_reply": "2025-01-21T05:09:42.973190Z"
    },
    "papermill": {
     "duration": 4.014484,
     "end_time": "2025-01-21T05:09:42.976241",
     "exception": false,
     "start_time": "2025-01-21T05:09:38.961757",
     "status": "completed"
    },
    "tags": []
   },
   "outputs": [],
   "source": [
    "import numpy as np\n",
    "import torch"
   ]
  },
  {
   "cell_type": "markdown",
   "id": "89ce56f1",
   "metadata": {
    "papermill": {
     "duration": 0.014542,
     "end_time": "2025-01-21T05:09:43.005716",
     "exception": false,
     "start_time": "2025-01-21T05:09:42.991174",
     "status": "completed"
    },
    "tags": []
   },
   "source": [
    "## Training data\n",
    "\n",
    "We can represent the training data using two matrices: `inputs` and `targets`, each with one row per observation, and one column per variable."
   ]
  },
  {
   "cell_type": "code",
   "execution_count": 2,
   "id": "90130d14",
   "metadata": {
    "execution": {
     "iopub.execute_input": "2025-01-21T05:09:43.037580Z",
     "iopub.status.busy": "2025-01-21T05:09:43.037087Z",
     "iopub.status.idle": "2025-01-21T05:09:43.041916Z",
     "shell.execute_reply": "2025-01-21T05:09:43.040852Z"
    },
    "papermill": {
     "duration": 0.023058,
     "end_time": "2025-01-21T05:09:43.043620",
     "exception": false,
     "start_time": "2025-01-21T05:09:43.020562",
     "status": "completed"
    },
    "tags": []
   },
   "outputs": [],
   "source": [
    "# Input (temp, rainfall, humidity)\n",
    "inputs = np.array([[73, 67, 43], \n",
    "                   [91, 88, 64], \n",
    "                   [87, 134, 58], \n",
    "                   [102, 43, 37], \n",
    "                   [69, 96, 70]], dtype='float32')"
   ]
  },
  {
   "cell_type": "code",
   "execution_count": 3,
   "id": "9ea2b2d3",
   "metadata": {
    "execution": {
     "iopub.execute_input": "2025-01-21T05:09:43.074529Z",
     "iopub.status.busy": "2025-01-21T05:09:43.074139Z",
     "iopub.status.idle": "2025-01-21T05:09:43.078910Z",
     "shell.execute_reply": "2025-01-21T05:09:43.077822Z"
    },
    "papermill": {
     "duration": 0.02211,
     "end_time": "2025-01-21T05:09:43.080630",
     "exception": false,
     "start_time": "2025-01-21T05:09:43.058520",
     "status": "completed"
    },
    "tags": []
   },
   "outputs": [],
   "source": [
    "# Targets (apples, oranges)\n",
    "targets = np.array([[56, 70], \n",
    "                    [81, 101], \n",
    "                    [119, 133], \n",
    "                    [22, 37], \n",
    "                    [103, 119]], dtype='float32')"
   ]
  },
  {
   "cell_type": "markdown",
   "id": "fdbe4fb0",
   "metadata": {
    "papermill": {
     "duration": 0.014415,
     "end_time": "2025-01-21T05:09:43.109759",
     "exception": false,
     "start_time": "2025-01-21T05:09:43.095344",
     "status": "completed"
    },
    "tags": []
   },
   "source": [
    "We've separated the input and target variables because we'll operate on them separately. Also, we've created numpy arrays, because this is typically how you would work with training data: read some CSV files as numpy arrays, do some processing, and then convert them to PyTorch tensors.\n",
    "\n",
    "Let's convert the arrays to PyTorch tensors."
   ]
  },
  {
   "cell_type": "code",
   "execution_count": 4,
   "id": "f6e2197a",
   "metadata": {
    "execution": {
     "iopub.execute_input": "2025-01-21T05:09:43.140300Z",
     "iopub.status.busy": "2025-01-21T05:09:43.139850Z",
     "iopub.status.idle": "2025-01-21T05:09:43.247417Z",
     "shell.execute_reply": "2025-01-21T05:09:43.246177Z"
    },
    "papermill": {
     "duration": 0.125004,
     "end_time": "2025-01-21T05:09:43.249422",
     "exception": false,
     "start_time": "2025-01-21T05:09:43.124418",
     "status": "completed"
    },
    "tags": []
   },
   "outputs": [
    {
     "name": "stdout",
     "output_type": "stream",
     "text": [
      "tensor([[ 73.,  67.,  43.],\n",
      "        [ 91.,  88.,  64.],\n",
      "        [ 87., 134.,  58.],\n",
      "        [102.,  43.,  37.],\n",
      "        [ 69.,  96.,  70.]])\n",
      "tensor([[ 56.,  70.],\n",
      "        [ 81., 101.],\n",
      "        [119., 133.],\n",
      "        [ 22.,  37.],\n",
      "        [103., 119.]])\n"
     ]
    }
   ],
   "source": [
    "# Convert inputs and targets to tensors\n",
    "inputs = torch.from_numpy(inputs)\n",
    "targets = torch.from_numpy(targets)\n",
    "print(inputs)\n",
    "print(targets)"
   ]
  },
  {
   "cell_type": "markdown",
   "id": "4b842745",
   "metadata": {
    "papermill": {
     "duration": 0.014405,
     "end_time": "2025-01-21T05:09:43.278795",
     "exception": false,
     "start_time": "2025-01-21T05:09:43.264390",
     "status": "completed"
    },
    "tags": []
   },
   "source": [
    "## Linear regression model from scratch\n",
    "\n",
    "The weights and biases (`w11, w12,... w23, b1 & b2`) can also be represented as matrices, initialized as random values. The first row of `w` and the first element of `b` are used to predict the first target variable, i.e., yield of apples, and similarly, the second for oranges."
   ]
  },
  {
   "cell_type": "code",
   "execution_count": 5,
   "id": "604c4930",
   "metadata": {
    "execution": {
     "iopub.execute_input": "2025-01-21T05:09:43.312656Z",
     "iopub.status.busy": "2025-01-21T05:09:43.312325Z",
     "iopub.status.idle": "2025-01-21T05:09:43.325003Z",
     "shell.execute_reply": "2025-01-21T05:09:43.323828Z"
    },
    "papermill": {
     "duration": 0.031389,
     "end_time": "2025-01-21T05:09:43.327039",
     "exception": false,
     "start_time": "2025-01-21T05:09:43.295650",
     "status": "completed"
    },
    "tags": []
   },
   "outputs": [
    {
     "name": "stdout",
     "output_type": "stream",
     "text": [
      "tensor([[-0.3703, -1.2312, -0.9970],\n",
      "        [ 0.1277,  0.2211, -2.5231]], requires_grad=True)\n",
      "tensor([0.1076, 0.2042], requires_grad=True)\n"
     ]
    }
   ],
   "source": [
    "# Weights and biases\n",
    "w = torch.randn(2, 3, requires_grad=True)\n",
    "b = torch.randn(2, requires_grad=True)\n",
    "print(w)\n",
    "print(b)"
   ]
  },
  {
   "cell_type": "markdown",
   "id": "f0c33174",
   "metadata": {
    "papermill": {
     "duration": 0.015365,
     "end_time": "2025-01-21T05:09:43.357536",
     "exception": false,
     "start_time": "2025-01-21T05:09:43.342171",
     "status": "completed"
    },
    "tags": []
   },
   "source": [
    "`torch.randn` creates a tensor with the given shape, with elements picked randomly from a [normal distribution](https://en.wikipedia.org/wiki/Normal_distribution) with mean 0 and standard deviation 1.\n",
    "\n",
    "Our *model* is simply a function that performs a matrix multiplication of the `inputs` and the weights `w` (transposed) and adds the bias `b` (replicated for each observation).\n",
    "\n",
    "![matrix-mult](https://i.imgur.com/WGXLFvA.png)\n",
    "\n",
    "We can define the model as follows:"
   ]
  },
  {
   "cell_type": "code",
   "execution_count": 6,
   "id": "50b10bf3",
   "metadata": {
    "execution": {
     "iopub.execute_input": "2025-01-21T05:09:43.393164Z",
     "iopub.status.busy": "2025-01-21T05:09:43.392744Z",
     "iopub.status.idle": "2025-01-21T05:09:43.425408Z",
     "shell.execute_reply": "2025-01-21T05:09:43.424439Z"
    },
    "papermill": {
     "duration": 0.054685,
     "end_time": "2025-01-21T05:09:43.427130",
     "exception": false,
     "start_time": "2025-01-21T05:09:43.372445",
     "status": "completed"
    },
    "tags": []
   },
   "outputs": [
    {
     "data": {
      "text/plain": [
       "tensor([[-152.2897,  -84.1604],\n",
       "        [-205.7483, -130.2060],\n",
       "        [-254.9225, -105.4091],\n",
       "        [-127.4970,  -70.6252],\n",
       "        [-213.4332, -146.3846]], grad_fn=<AddBackward0>)"
      ]
     },
     "execution_count": 6,
     "metadata": {},
     "output_type": "execute_result"
    }
   ],
   "source": [
    "inputs @ w.t() + b"
   ]
  },
  {
   "cell_type": "code",
   "execution_count": 7,
   "id": "185f44ad",
   "metadata": {
    "execution": {
     "iopub.execute_input": "2025-01-21T05:09:43.458843Z",
     "iopub.status.busy": "2025-01-21T05:09:43.458487Z",
     "iopub.status.idle": "2025-01-21T05:09:43.465294Z",
     "shell.execute_reply": "2025-01-21T05:09:43.464281Z"
    },
    "papermill": {
     "duration": 0.024502,
     "end_time": "2025-01-21T05:09:43.466796",
     "exception": false,
     "start_time": "2025-01-21T05:09:43.442294",
     "status": "completed"
    },
    "tags": []
   },
   "outputs": [
    {
     "data": {
      "text/plain": [
       "tensor([[ 73.,  67.,  43.],\n",
       "        [ 91.,  88.,  64.],\n",
       "        [ 87., 134.,  58.],\n",
       "        [102.,  43.,  37.],\n",
       "        [ 69.,  96.,  70.]])"
      ]
     },
     "execution_count": 7,
     "metadata": {},
     "output_type": "execute_result"
    }
   ],
   "source": [
    "inputs"
   ]
  },
  {
   "cell_type": "code",
   "execution_count": 8,
   "id": "bc3c9a82",
   "metadata": {
    "execution": {
     "iopub.execute_input": "2025-01-21T05:09:43.498655Z",
     "iopub.status.busy": "2025-01-21T05:09:43.498278Z",
     "iopub.status.idle": "2025-01-21T05:09:43.502846Z",
     "shell.execute_reply": "2025-01-21T05:09:43.501707Z"
    },
    "papermill": {
     "duration": 0.022322,
     "end_time": "2025-01-21T05:09:43.504519",
     "exception": false,
     "start_time": "2025-01-21T05:09:43.482197",
     "status": "completed"
    },
    "tags": []
   },
   "outputs": [],
   "source": [
    "def model(x):\n",
    "    return x @ w.t() + b"
   ]
  },
  {
   "cell_type": "markdown",
   "id": "a1f8d658",
   "metadata": {
    "papermill": {
     "duration": 0.015458,
     "end_time": "2025-01-21T05:09:43.535168",
     "exception": false,
     "start_time": "2025-01-21T05:09:43.519710",
     "status": "completed"
    },
    "tags": []
   },
   "source": [
    "`@` represents matrix multiplication in PyTorch, and the `.t` method returns the transpose of a tensor.\n",
    "\n",
    "The matrix obtained by passing the input data into the model is a set of predictions for the target variables."
   ]
  },
  {
   "cell_type": "code",
   "execution_count": 9,
   "id": "3d0159b2",
   "metadata": {
    "execution": {
     "iopub.execute_input": "2025-01-21T05:09:43.567513Z",
     "iopub.status.busy": "2025-01-21T05:09:43.567105Z",
     "iopub.status.idle": "2025-01-21T05:09:43.573192Z",
     "shell.execute_reply": "2025-01-21T05:09:43.572253Z"
    },
    "papermill": {
     "duration": 0.024185,
     "end_time": "2025-01-21T05:09:43.574781",
     "exception": false,
     "start_time": "2025-01-21T05:09:43.550596",
     "status": "completed"
    },
    "tags": []
   },
   "outputs": [
    {
     "name": "stdout",
     "output_type": "stream",
     "text": [
      "tensor([[-152.2897,  -84.1604],\n",
      "        [-205.7483, -130.2060],\n",
      "        [-254.9225, -105.4091],\n",
      "        [-127.4970,  -70.6252],\n",
      "        [-213.4332, -146.3846]], grad_fn=<AddBackward0>)\n"
     ]
    }
   ],
   "source": [
    "# Generate predictions\n",
    "preds = model(inputs)\n",
    "print(preds)"
   ]
  },
  {
   "cell_type": "markdown",
   "id": "c6063516",
   "metadata": {
    "papermill": {
     "duration": 0.014855,
     "end_time": "2025-01-21T05:09:43.661820",
     "exception": false,
     "start_time": "2025-01-21T05:09:43.646965",
     "status": "completed"
    },
    "tags": []
   },
   "source": [
    "Let's compare the predictions of our model with the actual targets."
   ]
  },
  {
   "cell_type": "code",
   "execution_count": 10,
   "id": "95428790",
   "metadata": {
    "execution": {
     "iopub.execute_input": "2025-01-21T05:09:43.694155Z",
     "iopub.status.busy": "2025-01-21T05:09:43.693759Z",
     "iopub.status.idle": "2025-01-21T05:09:43.699770Z",
     "shell.execute_reply": "2025-01-21T05:09:43.698722Z"
    },
    "papermill": {
     "duration": 0.023843,
     "end_time": "2025-01-21T05:09:43.701363",
     "exception": false,
     "start_time": "2025-01-21T05:09:43.677520",
     "status": "completed"
    },
    "tags": []
   },
   "outputs": [
    {
     "name": "stdout",
     "output_type": "stream",
     "text": [
      "tensor([[ 56.,  70.],\n",
      "        [ 81., 101.],\n",
      "        [119., 133.],\n",
      "        [ 22.,  37.],\n",
      "        [103., 119.]])\n"
     ]
    }
   ],
   "source": [
    "# Compare with targets\n",
    "print(targets)"
   ]
  },
  {
   "cell_type": "code",
   "execution_count": 11,
   "id": "ec2022ad",
   "metadata": {
    "execution": {
     "iopub.execute_input": "2025-01-21T05:09:43.733172Z",
     "iopub.status.busy": "2025-01-21T05:09:43.732752Z",
     "iopub.status.idle": "2025-01-21T05:09:43.742854Z",
     "shell.execute_reply": "2025-01-21T05:09:43.741882Z"
    },
    "papermill": {
     "duration": 0.027716,
     "end_time": "2025-01-21T05:09:43.744473",
     "exception": false,
     "start_time": "2025-01-21T05:09:43.716757",
     "status": "completed"
    },
    "tags": []
   },
   "outputs": [
    {
     "data": {
      "text/plain": [
       "tensor(60397.9297, grad_fn=<DivBackward0>)"
      ]
     },
     "execution_count": 11,
     "metadata": {},
     "output_type": "execute_result"
    }
   ],
   "source": [
    "d = preds -targets\n",
    "torch.sum(d*d)/ d.numel()"
   ]
  },
  {
   "cell_type": "markdown",
   "id": "696abd98",
   "metadata": {
    "papermill": {
     "duration": 0.022237,
     "end_time": "2025-01-21T05:09:43.784389",
     "exception": false,
     "start_time": "2025-01-21T05:09:43.762152",
     "status": "completed"
    },
    "tags": []
   },
   "source": [
    "You can see a big difference between our model's predictions and the actual targets because we've initialized our model with random weights and biases. Obviously, we can't expect a randomly initialized model to *just work*."
   ]
  },
  {
   "cell_type": "markdown",
   "id": "ca380e92",
   "metadata": {
    "papermill": {
     "duration": 0.02055,
     "end_time": "2025-01-21T05:09:43.825770",
     "exception": false,
     "start_time": "2025-01-21T05:09:43.805220",
     "status": "completed"
    },
    "tags": []
   },
   "source": [
    "## Loss function\n",
    "\n",
    "Before we improve our model, we need a way to evaluate how well our model is performing. We can compare the model's predictions with the actual targets using the following method:\n",
    "\n",
    "* Calculate the difference between the two matrices (`preds` and `targets`).\n",
    "* Square all elements of the difference matrix to remove negative values.\n",
    "* Calculate the average of the elements in the resulting matrix.\n",
    "\n",
    "The result is a single number, known as the **mean squared error** (MSE)."
   ]
  },
  {
   "cell_type": "code",
   "execution_count": 12,
   "id": "f978fa2d",
   "metadata": {
    "execution": {
     "iopub.execute_input": "2025-01-21T05:09:43.858097Z",
     "iopub.status.busy": "2025-01-21T05:09:43.857599Z",
     "iopub.status.idle": "2025-01-21T05:09:43.861980Z",
     "shell.execute_reply": "2025-01-21T05:09:43.861032Z"
    },
    "papermill": {
     "duration": 0.023373,
     "end_time": "2025-01-21T05:09:43.864464",
     "exception": false,
     "start_time": "2025-01-21T05:09:43.841091",
     "status": "completed"
    },
    "tags": []
   },
   "outputs": [],
   "source": [
    "# MSE loss\n",
    "def mse(t1, t2):\n",
    "    diff = t1 - t2\n",
    "    return torch.sum(diff * diff) / diff.numel()"
   ]
  },
  {
   "cell_type": "markdown",
   "id": "51c06404",
   "metadata": {
    "papermill": {
     "duration": 0.025754,
     "end_time": "2025-01-21T05:09:43.917164",
     "exception": false,
     "start_time": "2025-01-21T05:09:43.891410",
     "status": "completed"
    },
    "tags": []
   },
   "source": [
    "`torch.sum` returns the sum of all the elements in a tensor. The `.numel` method of a tensor returns the number of elements in a tensor. Let's compute the mean squared error for the current predictions of our model."
   ]
  },
  {
   "cell_type": "code",
   "execution_count": 13,
   "id": "4ade44d3",
   "metadata": {
    "execution": {
     "iopub.execute_input": "2025-01-21T05:09:43.966177Z",
     "iopub.status.busy": "2025-01-21T05:09:43.965793Z",
     "iopub.status.idle": "2025-01-21T05:09:43.974435Z",
     "shell.execute_reply": "2025-01-21T05:09:43.971600Z"
    },
    "papermill": {
     "duration": 0.04098,
     "end_time": "2025-01-21T05:09:43.976778",
     "exception": false,
     "start_time": "2025-01-21T05:09:43.935798",
     "status": "completed"
    },
    "tags": []
   },
   "outputs": [
    {
     "name": "stdout",
     "output_type": "stream",
     "text": [
      "tensor(60397.9297, grad_fn=<DivBackward0>)\n"
     ]
    }
   ],
   "source": [
    "# Compute loss\n",
    "loss = mse(preds, targets)\n",
    "print(loss)"
   ]
  },
  {
   "cell_type": "markdown",
   "id": "a8c93025",
   "metadata": {
    "papermill": {
     "duration": 0.015808,
     "end_time": "2025-01-21T05:09:44.013478",
     "exception": false,
     "start_time": "2025-01-21T05:09:43.997670",
     "status": "completed"
    },
    "tags": []
   },
   "source": [
    "Here’s how we can interpret the result: *On average, each element in the prediction differs from the actual target by the square root of the loss*. And that’s pretty bad, considering the numbers we are trying to predict are themselves in the range 50–200. The result is called the *loss* because it indicates how bad the model is at predicting the target variables. It represents information loss in the model: the lower the loss, the better the model."
   ]
  },
  {
   "cell_type": "markdown",
   "id": "5079fe05",
   "metadata": {
    "papermill": {
     "duration": 0.018435,
     "end_time": "2025-01-21T05:09:44.047599",
     "exception": false,
     "start_time": "2025-01-21T05:09:44.029164",
     "status": "completed"
    },
    "tags": []
   },
   "source": [
    "## Compute gradients\n",
    "\n",
    "With PyTorch, we can automatically compute the gradient or derivative of the loss w.r.t. to the weights and biases because they have `requires_grad` set to `True`. We'll see how this is useful in just a moment."
   ]
  },
  {
   "cell_type": "code",
   "execution_count": 14,
   "id": "5052add4",
   "metadata": {
    "execution": {
     "iopub.execute_input": "2025-01-21T05:09:44.085761Z",
     "iopub.status.busy": "2025-01-21T05:09:44.085304Z",
     "iopub.status.idle": "2025-01-21T05:09:44.118721Z",
     "shell.execute_reply": "2025-01-21T05:09:44.117763Z"
    },
    "papermill": {
     "duration": 0.054537,
     "end_time": "2025-01-21T05:09:44.120650",
     "exception": false,
     "start_time": "2025-01-21T05:09:44.066113",
     "status": "completed"
    },
    "tags": []
   },
   "outputs": [],
   "source": [
    "# Compute gradients\n",
    "loss.backward()"
   ]
  },
  {
   "cell_type": "markdown",
   "id": "37358f79",
   "metadata": {
    "papermill": {
     "duration": 0.015112,
     "end_time": "2025-01-21T05:09:44.151378",
     "exception": false,
     "start_time": "2025-01-21T05:09:44.136266",
     "status": "completed"
    },
    "tags": []
   },
   "source": [
    "The gradients are stored in the `.grad` property of the respective tensors. Note that the derivative of the loss w.r.t. the weights matrix is itself a matrix with the same dimensions."
   ]
  },
  {
   "cell_type": "code",
   "execution_count": 15,
   "id": "5623280c",
   "metadata": {
    "execution": {
     "iopub.execute_input": "2025-01-21T05:09:44.183526Z",
     "iopub.status.busy": "2025-01-21T05:09:44.183201Z",
     "iopub.status.idle": "2025-01-21T05:09:44.190218Z",
     "shell.execute_reply": "2025-01-21T05:09:44.188956Z"
    },
    "papermill": {
     "duration": 0.025144,
     "end_time": "2025-01-21T05:09:44.191952",
     "exception": false,
     "start_time": "2025-01-21T05:09:44.166808",
     "status": "completed"
    },
    "tags": []
   },
   "outputs": [
    {
     "name": "stdout",
     "output_type": "stream",
     "text": [
      "tensor([[-0.3703, -1.2312, -0.9970],\n",
      "        [ 0.1277,  0.2211, -2.5231]], requires_grad=True)\n",
      "tensor([[-22182.6191, -25220.1680, -15335.5146],\n",
      "        [-16464.8711, -18545.3008, -11562.5732]])\n"
     ]
    }
   ],
   "source": [
    "# Gradients for weights\n",
    "print(w)\n",
    "print(w.grad)"
   ]
  },
  {
   "cell_type": "markdown",
   "id": "a255e516",
   "metadata": {
    "papermill": {
     "duration": 0.015684,
     "end_time": "2025-01-21T05:09:44.224830",
     "exception": false,
     "start_time": "2025-01-21T05:09:44.209146",
     "status": "completed"
    },
    "tags": []
   },
   "source": [
    "## Adjust weights and biases to reduce the loss\n",
    "\n",
    "The loss is a [quadratic function](https://en.wikipedia.org/wiki/Quadratic_function) of our weights and biases, and our objective is to find the set of weights where the loss is the lowest. If we plot a graph of the loss w.r.t any individual weight or bias element, it will look like the figure shown below. An important insight from calculus is that the gradient indicates the rate of change of the loss, i.e., the loss function's [slope](https://en.wikipedia.org/wiki/Slope) w.r.t. the weights and biases.\n",
    "\n",
    "If a gradient element is **positive**:\n",
    "\n",
    "* **increasing** the weight element's value slightly will **increase** the loss\n",
    "* **decreasing** the weight element's value slightly will **decrease** the loss\n",
    "\n",
    "![postive-gradient](https://i.imgur.com/WLzJ4xP.png)\n",
    "\n",
    "If a gradient element is **negative**:\n",
    "\n",
    "* **increasing** the weight element's value slightly will **decrease** the loss\n",
    "* **decreasing** the weight element's value slightly will **increase** the loss\n",
    "\n",
    "![negative=gradient](https://i.imgur.com/dvG2fxU.png)\n",
    "\n",
    "The increase or decrease in the loss by changing a weight element is proportional to the gradient of the loss w.r.t. that element. This observation forms the basis of _the gradient descent_ optimization algorithm that we'll use to improve our model (by _descending_ along the _gradient_).\n",
    "\n",
    "We can subtract from each weight element a small quantity proportional to the derivative of the loss w.r.t. that element to reduce the loss slightly."
   ]
  },
  {
   "cell_type": "code",
   "execution_count": 16,
   "id": "24aefb10",
   "metadata": {
    "execution": {
     "iopub.execute_input": "2025-01-21T05:09:44.257211Z",
     "iopub.status.busy": "2025-01-21T05:09:44.256798Z",
     "iopub.status.idle": "2025-01-21T05:09:44.264799Z",
     "shell.execute_reply": "2025-01-21T05:09:44.263724Z"
    },
    "papermill": {
     "duration": 0.026401,
     "end_time": "2025-01-21T05:09:44.266668",
     "exception": false,
     "start_time": "2025-01-21T05:09:44.240267",
     "status": "completed"
    },
    "tags": []
   },
   "outputs": [
    {
     "data": {
      "text/plain": [
       "(tensor([0.1076, 0.2042], requires_grad=True),\n",
       " tensor([-266.9782, -199.3571]),\n",
       " tensor([[-0.3703, -1.2312, -0.9970],\n",
       "         [ 0.1277,  0.2211, -2.5231]], requires_grad=True),\n",
       " tensor([[-22182.6191, -25220.1680, -15335.5146],\n",
       "         [-16464.8711, -18545.3008, -11562.5732]]))"
      ]
     },
     "execution_count": 16,
     "metadata": {},
     "output_type": "execute_result"
    }
   ],
   "source": [
    "b,b.grad,w,w.grad"
   ]
  },
  {
   "cell_type": "code",
   "execution_count": 17,
   "id": "c90176db",
   "metadata": {
    "execution": {
     "iopub.execute_input": "2025-01-21T05:09:44.299158Z",
     "iopub.status.busy": "2025-01-21T05:09:44.298766Z",
     "iopub.status.idle": "2025-01-21T05:09:44.304219Z",
     "shell.execute_reply": "2025-01-21T05:09:44.303322Z"
    },
    "papermill": {
     "duration": 0.023237,
     "end_time": "2025-01-21T05:09:44.305638",
     "exception": false,
     "start_time": "2025-01-21T05:09:44.282401",
     "status": "completed"
    },
    "tags": []
   },
   "outputs": [],
   "source": [
    "with torch.no_grad():\n",
    "    w -= w.grad * 1e-5\n",
    "    b -= b.grad * 1e-5"
   ]
  },
  {
   "cell_type": "markdown",
   "id": "f9bf34e9",
   "metadata": {
    "papermill": {
     "duration": 0.015457,
     "end_time": "2025-01-21T05:09:44.336743",
     "exception": false,
     "start_time": "2025-01-21T05:09:44.321286",
     "status": "completed"
    },
    "tags": []
   },
   "source": [
    "We multiply the gradients with a very small number (`10^-5` in this case) to ensure that we don't modify the weights by a very large amount. We want to take a small step in the downhill direction of the gradient, not a giant leap. This number is called the *learning rate* of the algorithm. \n",
    "\n",
    "We use `torch.no_grad` to indicate to PyTorch that we shouldn't track, calculate, or modify gradients while updating the weights and biases."
   ]
  },
  {
   "cell_type": "code",
   "execution_count": 18,
   "id": "84237a83",
   "metadata": {
    "execution": {
     "iopub.execute_input": "2025-01-21T05:09:44.370231Z",
     "iopub.status.busy": "2025-01-21T05:09:44.369823Z",
     "iopub.status.idle": "2025-01-21T05:09:44.378448Z",
     "shell.execute_reply": "2025-01-21T05:09:44.377341Z"
    },
    "papermill": {
     "duration": 0.02734,
     "end_time": "2025-01-21T05:09:44.379972",
     "exception": false,
     "start_time": "2025-01-21T05:09:44.352632",
     "status": "completed"
    },
    "tags": []
   },
   "outputs": [
    {
     "name": "stdout",
     "output_type": "stream",
     "text": [
      "tensor(41166.8203, grad_fn=<DivBackward0>)\n"
     ]
    }
   ],
   "source": [
    "# Let's verify that the loss is actually lower\n",
    "preds =model(inputs)\n",
    "loss = mse(preds, targets)\n",
    "print(loss)"
   ]
  },
  {
   "cell_type": "markdown",
   "id": "633c842f",
   "metadata": {
    "papermill": {
     "duration": 0.015201,
     "end_time": "2025-01-21T05:09:44.411048",
     "exception": false,
     "start_time": "2025-01-21T05:09:44.395847",
     "status": "completed"
    },
    "tags": []
   },
   "source": [
    "Before we proceed, we reset the gradients to zero by invoking the `.zero_()` method. We need to do this because PyTorch accumulates gradients. Otherwise, the next time we invoke `.backward` on the loss, the new gradient values are added to the existing gradients, which may lead to unexpected results."
   ]
  },
  {
   "cell_type": "code",
   "execution_count": 19,
   "id": "e3d6083f",
   "metadata": {
    "execution": {
     "iopub.execute_input": "2025-01-21T05:09:44.443343Z",
     "iopub.status.busy": "2025-01-21T05:09:44.442996Z",
     "iopub.status.idle": "2025-01-21T05:09:44.449601Z",
     "shell.execute_reply": "2025-01-21T05:09:44.448657Z"
    },
    "papermill": {
     "duration": 0.024449,
     "end_time": "2025-01-21T05:09:44.451074",
     "exception": false,
     "start_time": "2025-01-21T05:09:44.426625",
     "status": "completed"
    },
    "tags": []
   },
   "outputs": [
    {
     "name": "stdout",
     "output_type": "stream",
     "text": [
      "tensor([[0., 0., 0.],\n",
      "        [0., 0., 0.]])\n",
      "tensor([0., 0.])\n"
     ]
    }
   ],
   "source": [
    "w.grad.zero_()\n",
    "b.grad.zero_()\n",
    "print(w.grad)\n",
    "print(b.grad)"
   ]
  },
  {
   "cell_type": "markdown",
   "id": "856fd46c",
   "metadata": {
    "papermill": {
     "duration": 0.015415,
     "end_time": "2025-01-21T05:09:44.482189",
     "exception": false,
     "start_time": "2025-01-21T05:09:44.466774",
     "status": "completed"
    },
    "tags": []
   },
   "source": [
    "## Train the model using gradient descent\n",
    "\n",
    "As seen above, we reduce the loss and improve our model using the gradient descent optimization algorithm. Thus, we can _train_ the model using the following steps:\n",
    "\n",
    "1. Generate predictions\n",
    "\n",
    "2. Calculate the loss\n",
    "\n",
    "3. Compute gradients w.r.t the weights and biases\n",
    "\n",
    "4. Adjust the weights by subtracting a small quantity proportional to the gradient\n",
    "\n",
    "5. Reset the gradients to zero\n",
    "\n",
    "Let's implement the above step by step."
   ]
  },
  {
   "cell_type": "code",
   "execution_count": 20,
   "id": "8f491bc0",
   "metadata": {
    "execution": {
     "iopub.execute_input": "2025-01-21T05:09:44.515238Z",
     "iopub.status.busy": "2025-01-21T05:09:44.514874Z",
     "iopub.status.idle": "2025-01-21T05:09:44.520688Z",
     "shell.execute_reply": "2025-01-21T05:09:44.519649Z"
    },
    "papermill": {
     "duration": 0.024081,
     "end_time": "2025-01-21T05:09:44.522140",
     "exception": false,
     "start_time": "2025-01-21T05:09:44.498059",
     "status": "completed"
    },
    "tags": []
   },
   "outputs": [
    {
     "name": "stdout",
     "output_type": "stream",
     "text": [
      "tensor([[-112.6019,  -54.7418],\n",
      "        [-153.5510,  -91.5011],\n",
      "        [-192.9314,  -59.5256],\n",
      "        [ -88.3493,  -41.5764],\n",
      "        [-163.1783, -109.1246]], grad_fn=<AddBackward0>)\n"
     ]
    }
   ],
   "source": [
    "# Generate predictions\n",
    "preds = model(inputs)\n",
    "print(preds)"
   ]
  },
  {
   "cell_type": "code",
   "execution_count": 21,
   "id": "99de7225",
   "metadata": {
    "execution": {
     "iopub.execute_input": "2025-01-21T05:09:44.555082Z",
     "iopub.status.busy": "2025-01-21T05:09:44.554677Z",
     "iopub.status.idle": "2025-01-21T05:09:44.560553Z",
     "shell.execute_reply": "2025-01-21T05:09:44.559552Z"
    },
    "papermill": {
     "duration": 0.02407,
     "end_time": "2025-01-21T05:09:44.562066",
     "exception": false,
     "start_time": "2025-01-21T05:09:44.537996",
     "status": "completed"
    },
    "tags": []
   },
   "outputs": [
    {
     "name": "stdout",
     "output_type": "stream",
     "text": [
      "tensor(41166.8203, grad_fn=<DivBackward0>)\n"
     ]
    }
   ],
   "source": [
    "# Calculate the loss\n",
    "loss = mse(preds, targets)\n",
    "print(loss)"
   ]
  },
  {
   "cell_type": "code",
   "execution_count": 22,
   "id": "1d97d71d",
   "metadata": {
    "execution": {
     "iopub.execute_input": "2025-01-21T05:09:44.595992Z",
     "iopub.status.busy": "2025-01-21T05:09:44.595617Z",
     "iopub.status.idle": "2025-01-21T05:09:44.603361Z",
     "shell.execute_reply": "2025-01-21T05:09:44.602314Z"
    },
    "papermill": {
     "duration": 0.026221,
     "end_time": "2025-01-21T05:09:44.604959",
     "exception": false,
     "start_time": "2025-01-21T05:09:44.578738",
     "status": "completed"
    },
    "tags": []
   },
   "outputs": [
    {
     "name": "stdout",
     "output_type": "stream",
     "text": [
      "tensor([[-18082.4082, -20806.7539, -12613.7148],\n",
      "        [-13425.7744, -15274.9961,  -9545.3008]])\n",
      "tensor([-218.3224, -163.2939])\n"
     ]
    }
   ],
   "source": [
    "# Compute gradients\n",
    "loss.backward()\n",
    "print(w.grad)\n",
    "print(b.grad)"
   ]
  },
  {
   "cell_type": "markdown",
   "id": "afb52a0e",
   "metadata": {
    "papermill": {
     "duration": 0.015436,
     "end_time": "2025-01-21T05:09:44.636411",
     "exception": false,
     "start_time": "2025-01-21T05:09:44.620975",
     "status": "completed"
    },
    "tags": []
   },
   "source": [
    "Let's update the weights and biases using the gradients computed above."
   ]
  },
  {
   "cell_type": "code",
   "execution_count": 23,
   "id": "e23890c5",
   "metadata": {
    "execution": {
     "iopub.execute_input": "2025-01-21T05:09:44.670331Z",
     "iopub.status.busy": "2025-01-21T05:09:44.669919Z",
     "iopub.status.idle": "2025-01-21T05:09:44.674862Z",
     "shell.execute_reply": "2025-01-21T05:09:44.673909Z"
    },
    "papermill": {
     "duration": 0.024271,
     "end_time": "2025-01-21T05:09:44.676545",
     "exception": false,
     "start_time": "2025-01-21T05:09:44.652274",
     "status": "completed"
    },
    "tags": []
   },
   "outputs": [],
   "source": [
    "# Adjust weights & reset gradients\n",
    "with torch.no_grad():\n",
    "    w -= w.grad * 1e-5\n",
    "    b -= b.grad * 1e-5\n",
    "    w.grad.zero_()\n",
    "    b.grad.zero_()"
   ]
  },
  {
   "cell_type": "markdown",
   "id": "956c8171",
   "metadata": {
    "papermill": {
     "duration": 0.015412,
     "end_time": "2025-01-21T05:09:44.708819",
     "exception": false,
     "start_time": "2025-01-21T05:09:44.693407",
     "status": "completed"
    },
    "tags": []
   },
   "source": [
    "Let's take a look at the new weights and biases."
   ]
  },
  {
   "cell_type": "code",
   "execution_count": 24,
   "id": "8d1aedec",
   "metadata": {
    "execution": {
     "iopub.execute_input": "2025-01-21T05:09:44.741735Z",
     "iopub.status.busy": "2025-01-21T05:09:44.741416Z",
     "iopub.status.idle": "2025-01-21T05:09:44.747662Z",
     "shell.execute_reply": "2025-01-21T05:09:44.746531Z"
    },
    "papermill": {
     "duration": 0.02456,
     "end_time": "2025-01-21T05:09:44.749343",
     "exception": false,
     "start_time": "2025-01-21T05:09:44.724783",
     "status": "completed"
    },
    "tags": []
   },
   "outputs": [
    {
     "name": "stdout",
     "output_type": "stream",
     "text": [
      "tensor([[ 0.0323, -0.7710, -0.7175],\n",
      "        [ 0.4266,  0.5593, -2.3120]], requires_grad=True)\n",
      "tensor([0.1125, 0.2079], requires_grad=True)\n"
     ]
    }
   ],
   "source": [
    "print(w)\n",
    "print(b)"
   ]
  },
  {
   "cell_type": "markdown",
   "id": "b897671c",
   "metadata": {
    "papermill": {
     "duration": 0.015441,
     "end_time": "2025-01-21T05:09:44.781246",
     "exception": false,
     "start_time": "2025-01-21T05:09:44.765805",
     "status": "completed"
    },
    "tags": []
   },
   "source": [
    "With the new weights and biases, the model should have a lower loss."
   ]
  },
  {
   "cell_type": "code",
   "execution_count": 25,
   "id": "9e1fdec9",
   "metadata": {
    "execution": {
     "iopub.execute_input": "2025-01-21T05:09:44.816243Z",
     "iopub.status.busy": "2025-01-21T05:09:44.815869Z",
     "iopub.status.idle": "2025-01-21T05:09:44.822311Z",
     "shell.execute_reply": "2025-01-21T05:09:44.821324Z"
    },
    "papermill": {
     "duration": 0.024989,
     "end_time": "2025-01-21T05:09:44.823835",
     "exception": false,
     "start_time": "2025-01-21T05:09:44.798846",
     "status": "completed"
    },
    "tags": []
   },
   "outputs": [
    {
     "name": "stdout",
     "output_type": "stream",
     "text": [
      "tensor(28202.9473, grad_fn=<DivBackward0>)\n"
     ]
    }
   ],
   "source": [
    "# Calculate loss\n",
    "preds = model(inputs)\n",
    "loss = mse(preds, targets)\n",
    "print(loss)"
   ]
  },
  {
   "cell_type": "markdown",
   "id": "02059d5b",
   "metadata": {
    "papermill": {
     "duration": 0.015775,
     "end_time": "2025-01-21T05:09:44.856270",
     "exception": false,
     "start_time": "2025-01-21T05:09:44.840495",
     "status": "completed"
    },
    "tags": []
   },
   "source": [
    "We have already achieved a significant reduction in the loss merely by adjusting the weights and biases slightly using gradient descent."
   ]
  },
  {
   "cell_type": "markdown",
   "id": "7ddc123d",
   "metadata": {
    "papermill": {
     "duration": 0.015889,
     "end_time": "2025-01-21T05:09:44.888186",
     "exception": false,
     "start_time": "2025-01-21T05:09:44.872297",
     "status": "completed"
    },
    "tags": []
   },
   "source": [
    "## Train for multiple epochs\n",
    "\n",
    "To reduce the loss further, we can repeat the process of adjusting the weights and biases using the gradients multiple times. Each iteration is called an _epoch_. Let's train the model for 100 epochs."
   ]
  },
  {
   "cell_type": "code",
   "execution_count": 26,
   "id": "65ffe883",
   "metadata": {
    "execution": {
     "iopub.execute_input": "2025-01-21T05:09:44.921849Z",
     "iopub.status.busy": "2025-01-21T05:09:44.921532Z",
     "iopub.status.idle": "2025-01-21T05:09:44.951858Z",
     "shell.execute_reply": "2025-01-21T05:09:44.950914Z"
    },
    "papermill": {
     "duration": 0.049351,
     "end_time": "2025-01-21T05:09:44.953889",
     "exception": false,
     "start_time": "2025-01-21T05:09:44.904538",
     "status": "completed"
    },
    "tags": []
   },
   "outputs": [],
   "source": [
    "# Train for 100 epochs\n",
    "for i in range(100):\n",
    "    preds = model(inputs)\n",
    "    loss = mse(preds, targets)\n",
    "    loss.backward()\n",
    "    with torch.no_grad():\n",
    "        w -= w.grad * 1e-5\n",
    "        b -= b.grad * 1e-5\n",
    "        w.grad.zero_()\n",
    "        b.grad.zero_()"
   ]
  },
  {
   "cell_type": "markdown",
   "id": "97be2435",
   "metadata": {
    "papermill": {
     "duration": 0.016903,
     "end_time": "2025-01-21T05:09:44.987467",
     "exception": false,
     "start_time": "2025-01-21T05:09:44.970564",
     "status": "completed"
    },
    "tags": []
   },
   "source": [
    "Once again, let's verify that the loss is now lower:"
   ]
  },
  {
   "cell_type": "code",
   "execution_count": 27,
   "id": "69ba66fb",
   "metadata": {
    "execution": {
     "iopub.execute_input": "2025-01-21T05:09:45.022355Z",
     "iopub.status.busy": "2025-01-21T05:09:45.022011Z",
     "iopub.status.idle": "2025-01-21T05:09:45.028444Z",
     "shell.execute_reply": "2025-01-21T05:09:45.027325Z"
    },
    "papermill": {
     "duration": 0.024888,
     "end_time": "2025-01-21T05:09:45.030199",
     "exception": false,
     "start_time": "2025-01-21T05:09:45.005311",
     "status": "completed"
    },
    "tags": []
   },
   "outputs": [
    {
     "name": "stdout",
     "output_type": "stream",
     "text": [
      "tensor(651.6613, grad_fn=<DivBackward0>)\n"
     ]
    }
   ],
   "source": [
    "# Calculate loss\n",
    "preds = model(inputs)\n",
    "loss = mse(preds, targets)\n",
    "print(loss)"
   ]
  },
  {
   "cell_type": "markdown",
   "id": "30f94b80",
   "metadata": {
    "papermill": {
     "duration": 0.015953,
     "end_time": "2025-01-21T05:09:45.062385",
     "exception": false,
     "start_time": "2025-01-21T05:09:45.046432",
     "status": "completed"
    },
    "tags": []
   },
   "source": [
    "The loss is now much lower than its initial value. Let's look at the model's predictions and compare them with the targets."
   ]
  },
  {
   "cell_type": "code",
   "execution_count": 28,
   "id": "4eaf1805",
   "metadata": {
    "execution": {
     "iopub.execute_input": "2025-01-21T05:09:45.097120Z",
     "iopub.status.busy": "2025-01-21T05:09:45.096739Z",
     "iopub.status.idle": "2025-01-21T05:09:45.103223Z",
     "shell.execute_reply": "2025-01-21T05:09:45.102296Z"
    },
    "papermill": {
     "duration": 0.025746,
     "end_time": "2025-01-21T05:09:45.104954",
     "exception": false,
     "start_time": "2025-01-21T05:09:45.079208",
     "status": "completed"
    },
    "tags": []
   },
   "outputs": [
    {
     "data": {
      "text/plain": [
       "tensor([[ 63.9983,  76.5388],\n",
       "        [ 82.0996,  85.0717],\n",
       "        [107.9522, 158.4196],\n",
       "        [ 60.2051,  71.0198],\n",
       "        [ 78.9262,  72.2001]], grad_fn=<AddBackward0>)"
      ]
     },
     "execution_count": 28,
     "metadata": {},
     "output_type": "execute_result"
    }
   ],
   "source": [
    "# Predictions\n",
    "preds"
   ]
  },
  {
   "cell_type": "code",
   "execution_count": 29,
   "id": "1bc4c0b9",
   "metadata": {
    "execution": {
     "iopub.execute_input": "2025-01-21T05:09:45.138835Z",
     "iopub.status.busy": "2025-01-21T05:09:45.138508Z",
     "iopub.status.idle": "2025-01-21T05:09:45.144513Z",
     "shell.execute_reply": "2025-01-21T05:09:45.143671Z"
    },
    "papermill": {
     "duration": 0.024359,
     "end_time": "2025-01-21T05:09:45.145895",
     "exception": false,
     "start_time": "2025-01-21T05:09:45.121536",
     "status": "completed"
    },
    "tags": []
   },
   "outputs": [
    {
     "data": {
      "text/plain": [
       "tensor([[ 56.,  70.],\n",
       "        [ 81., 101.],\n",
       "        [119., 133.],\n",
       "        [ 22.,  37.],\n",
       "        [103., 119.]])"
      ]
     },
     "execution_count": 29,
     "metadata": {},
     "output_type": "execute_result"
    }
   ],
   "source": [
    "# Targets\n",
    "targets"
   ]
  },
  {
   "cell_type": "markdown",
   "id": "e319d945",
   "metadata": {
    "papermill": {
     "duration": 0.016052,
     "end_time": "2025-01-21T05:09:45.179214",
     "exception": false,
     "start_time": "2025-01-21T05:09:45.163162",
     "status": "completed"
    },
    "tags": []
   },
   "source": [
    "The predictions are now quite close to the target variables. We can get even better results by training for a few more epochs. "
   ]
  },
  {
   "cell_type": "markdown",
   "id": "2dafaae6",
   "metadata": {
    "papermill": {
     "duration": 0.016132,
     "end_time": "2025-01-21T05:09:45.212005",
     "exception": false,
     "start_time": "2025-01-21T05:09:45.195873",
     "status": "completed"
    },
    "tags": []
   },
   "source": [
    "## Linear regression using PyTorch built-ins\n",
    "\n",
    "We've implemented linear regression & gradient descent model using some basic tensor operations. However, since this is a common pattern in deep learning, PyTorch provides several built-in functions and classes to make it easy to create and train models with just a few lines of code.\n",
    "\n",
    "Let's begin by importing the `torch.nn` package from PyTorch, which contains utility classes for building neural networks."
   ]
  },
  {
   "cell_type": "code",
   "execution_count": 30,
   "id": "9abeb705",
   "metadata": {
    "execution": {
     "iopub.execute_input": "2025-01-21T05:09:45.246098Z",
     "iopub.status.busy": "2025-01-21T05:09:45.245687Z",
     "iopub.status.idle": "2025-01-21T05:09:45.249849Z",
     "shell.execute_reply": "2025-01-21T05:09:45.249061Z"
    },
    "papermill": {
     "duration": 0.023188,
     "end_time": "2025-01-21T05:09:45.251639",
     "exception": false,
     "start_time": "2025-01-21T05:09:45.228451",
     "status": "completed"
    },
    "tags": []
   },
   "outputs": [],
   "source": [
    "import torch.nn as nn"
   ]
  },
  {
   "cell_type": "markdown",
   "id": "c38e1ca0",
   "metadata": {
    "papermill": {
     "duration": 0.015931,
     "end_time": "2025-01-21T05:09:45.284261",
     "exception": false,
     "start_time": "2025-01-21T05:09:45.268330",
     "status": "completed"
    },
    "tags": []
   },
   "source": [
    "As before, we represent the inputs and targets and matrices."
   ]
  },
  {
   "cell_type": "code",
   "execution_count": 31,
   "id": "85620d8b",
   "metadata": {
    "execution": {
     "iopub.execute_input": "2025-01-21T05:09:45.318598Z",
     "iopub.status.busy": "2025-01-21T05:09:45.318269Z",
     "iopub.status.idle": "2025-01-21T05:09:45.324911Z",
     "shell.execute_reply": "2025-01-21T05:09:45.324043Z"
    },
    "papermill": {
     "duration": 0.025973,
     "end_time": "2025-01-21T05:09:45.326453",
     "exception": false,
     "start_time": "2025-01-21T05:09:45.300480",
     "status": "completed"
    },
    "tags": []
   },
   "outputs": [],
   "source": [
    "# Input (temp, rainfall, humidity)\n",
    "inputs = np.array([[73, 67, 43], \n",
    "                   [91, 88, 64], \n",
    "                   [87, 134, 58], \n",
    "                   [102, 43, 37], \n",
    "                   [69, 96, 70], \n",
    "                   [74, 66, 43], \n",
    "                   [91, 87, 65], \n",
    "                   [88, 134, 59], \n",
    "                   [101, 44, 37], \n",
    "                   [68, 96, 71], \n",
    "                   [73, 66, 44], \n",
    "                   [92, 87, 64], \n",
    "                   [87, 135, 57], \n",
    "                   [103, 43, 36], \n",
    "                   [68, 97, 70]], \n",
    "                  dtype='float32')\n",
    "\n",
    "# Targets (apples, oranges)\n",
    "targets = np.array([[56, 70], \n",
    "                    [81, 101], \n",
    "                    [119, 133], \n",
    "                    [22, 37], \n",
    "                    [103, 119],\n",
    "                    [57, 69], \n",
    "                    [80, 102], \n",
    "                    [118, 132], \n",
    "                    [21, 38], \n",
    "                    [104, 118], \n",
    "                    [57, 69], \n",
    "                    [82, 100], \n",
    "                    [118, 134], \n",
    "                    [20, 38], \n",
    "                    [102, 120]], \n",
    "                   dtype='float32')\n",
    "\n",
    "inputs = torch.from_numpy(inputs)\n",
    "targets = torch.from_numpy(targets)"
   ]
  },
  {
   "cell_type": "code",
   "execution_count": 32,
   "id": "8d36dc0d",
   "metadata": {
    "execution": {
     "iopub.execute_input": "2025-01-21T05:09:45.360454Z",
     "iopub.status.busy": "2025-01-21T05:09:45.360111Z",
     "iopub.status.idle": "2025-01-21T05:09:45.366852Z",
     "shell.execute_reply": "2025-01-21T05:09:45.365993Z"
    },
    "papermill": {
     "duration": 0.025725,
     "end_time": "2025-01-21T05:09:45.368430",
     "exception": false,
     "start_time": "2025-01-21T05:09:45.342705",
     "status": "completed"
    },
    "tags": []
   },
   "outputs": [
    {
     "data": {
      "text/plain": [
       "tensor([[ 73.,  67.,  43.],\n",
       "        [ 91.,  88.,  64.],\n",
       "        [ 87., 134.,  58.],\n",
       "        [102.,  43.,  37.],\n",
       "        [ 69.,  96.,  70.],\n",
       "        [ 74.,  66.,  43.],\n",
       "        [ 91.,  87.,  65.],\n",
       "        [ 88., 134.,  59.],\n",
       "        [101.,  44.,  37.],\n",
       "        [ 68.,  96.,  71.],\n",
       "        [ 73.,  66.,  44.],\n",
       "        [ 92.,  87.,  64.],\n",
       "        [ 87., 135.,  57.],\n",
       "        [103.,  43.,  36.],\n",
       "        [ 68.,  97.,  70.]])"
      ]
     },
     "execution_count": 32,
     "metadata": {},
     "output_type": "execute_result"
    }
   ],
   "source": [
    "inputs"
   ]
  },
  {
   "cell_type": "markdown",
   "id": "797a39ad",
   "metadata": {
    "papermill": {
     "duration": 0.016311,
     "end_time": "2025-01-21T05:09:45.401135",
     "exception": false,
     "start_time": "2025-01-21T05:09:45.384824",
     "status": "completed"
    },
    "tags": []
   },
   "source": [
    "We are using 15 training examples to illustrate how to work with large datasets in small batches. "
   ]
  },
  {
   "cell_type": "markdown",
   "id": "5a4e1c40",
   "metadata": {
    "papermill": {
     "duration": 0.016198,
     "end_time": "2025-01-21T05:09:45.433886",
     "exception": false,
     "start_time": "2025-01-21T05:09:45.417688",
     "status": "completed"
    },
    "tags": []
   },
   "source": [
    "## Dataset and DataLoader\n",
    "\n",
    "We'll create a `TensorDataset`, which allows access to rows from `inputs` and `targets` as tuples, and provides standard APIs for working with many different types of datasets in PyTorch."
   ]
  },
  {
   "cell_type": "code",
   "execution_count": 33,
   "id": "066e53eb",
   "metadata": {
    "execution": {
     "iopub.execute_input": "2025-01-21T05:09:45.468120Z",
     "iopub.status.busy": "2025-01-21T05:09:45.467726Z",
     "iopub.status.idle": "2025-01-21T05:09:45.471997Z",
     "shell.execute_reply": "2025-01-21T05:09:45.470980Z"
    },
    "papermill": {
     "duration": 0.023334,
     "end_time": "2025-01-21T05:09:45.473556",
     "exception": false,
     "start_time": "2025-01-21T05:09:45.450222",
     "status": "completed"
    },
    "tags": []
   },
   "outputs": [],
   "source": [
    "from torch.utils.data import TensorDataset"
   ]
  },
  {
   "cell_type": "code",
   "execution_count": 34,
   "id": "6aedd3c4",
   "metadata": {
    "execution": {
     "iopub.execute_input": "2025-01-21T05:09:45.508559Z",
     "iopub.status.busy": "2025-01-21T05:09:45.508197Z",
     "iopub.status.idle": "2025-01-21T05:09:45.519054Z",
     "shell.execute_reply": "2025-01-21T05:09:45.518028Z"
    },
    "papermill": {
     "duration": 0.030589,
     "end_time": "2025-01-21T05:09:45.520711",
     "exception": false,
     "start_time": "2025-01-21T05:09:45.490122",
     "status": "completed"
    },
    "tags": []
   },
   "outputs": [
    {
     "data": {
      "text/plain": [
       "(tensor([[ 73.,  67.,  43.],\n",
       "         [ 91.,  88.,  64.],\n",
       "         [ 87., 134.,  58.]]),\n",
       " tensor([[ 56.,  70.],\n",
       "         [ 81., 101.],\n",
       "         [119., 133.]]))"
      ]
     },
     "execution_count": 34,
     "metadata": {},
     "output_type": "execute_result"
    }
   ],
   "source": [
    "# Define dataset\n",
    "train_ds = TensorDataset(inputs, targets)\n",
    "train_ds[0:3]"
   ]
  },
  {
   "cell_type": "markdown",
   "id": "f3008677",
   "metadata": {
    "papermill": {
     "duration": 0.016335,
     "end_time": "2025-01-21T05:09:45.553784",
     "exception": false,
     "start_time": "2025-01-21T05:09:45.537449",
     "status": "completed"
    },
    "tags": []
   },
   "source": [
    "The `TensorDataset` allows us to access a small section of the training data using the array indexing notation (`[0:3]` in the above code). It returns a tuple with two elements. The first element contains the input variables for the selected rows, and the second contains the targets."
   ]
  },
  {
   "cell_type": "markdown",
   "id": "330b631d",
   "metadata": {
    "papermill": {
     "duration": 0.016528,
     "end_time": "2025-01-21T05:09:45.587216",
     "exception": false,
     "start_time": "2025-01-21T05:09:45.570688",
     "status": "completed"
    },
    "tags": []
   },
   "source": [
    "We'll also create a `DataLoader`, which can split the data into batches of a predefined size while training. It also provides other utilities like shuffling and random sampling of the data."
   ]
  },
  {
   "cell_type": "code",
   "execution_count": 35,
   "id": "b671c052",
   "metadata": {
    "execution": {
     "iopub.execute_input": "2025-01-21T05:09:45.621596Z",
     "iopub.status.busy": "2025-01-21T05:09:45.621205Z",
     "iopub.status.idle": "2025-01-21T05:09:45.625447Z",
     "shell.execute_reply": "2025-01-21T05:09:45.624384Z"
    },
    "papermill": {
     "duration": 0.023334,
     "end_time": "2025-01-21T05:09:45.627050",
     "exception": false,
     "start_time": "2025-01-21T05:09:45.603716",
     "status": "completed"
    },
    "tags": []
   },
   "outputs": [],
   "source": [
    "from torch.utils.data import DataLoader"
   ]
  },
  {
   "cell_type": "code",
   "execution_count": 36,
   "id": "d68b63fe",
   "metadata": {
    "execution": {
     "iopub.execute_input": "2025-01-21T05:09:45.661463Z",
     "iopub.status.busy": "2025-01-21T05:09:45.661105Z",
     "iopub.status.idle": "2025-01-21T05:09:45.665702Z",
     "shell.execute_reply": "2025-01-21T05:09:45.664643Z"
    },
    "papermill": {
     "duration": 0.023643,
     "end_time": "2025-01-21T05:09:45.667481",
     "exception": false,
     "start_time": "2025-01-21T05:09:45.643838",
     "status": "completed"
    },
    "tags": []
   },
   "outputs": [],
   "source": [
    "# Define data loader\n",
    "batch_size = 5\n",
    "train_dl = DataLoader(train_ds, batch_size, shuffle=True)"
   ]
  },
  {
   "cell_type": "markdown",
   "id": "03436a79",
   "metadata": {
    "papermill": {
     "duration": 0.016991,
     "end_time": "2025-01-21T05:09:45.701152",
     "exception": false,
     "start_time": "2025-01-21T05:09:45.684161",
     "status": "completed"
    },
    "tags": []
   },
   "source": [
    "We can use the data loader in a `for` loop. Let's look at an example."
   ]
  },
  {
   "cell_type": "code",
   "execution_count": 37,
   "id": "8422a450",
   "metadata": {
    "execution": {
     "iopub.execute_input": "2025-01-21T05:09:45.735195Z",
     "iopub.status.busy": "2025-01-21T05:09:45.734788Z",
     "iopub.status.idle": "2025-01-21T05:09:45.747249Z",
     "shell.execute_reply": "2025-01-21T05:09:45.745983Z"
    },
    "papermill": {
     "duration": 0.031166,
     "end_time": "2025-01-21T05:09:45.748863",
     "exception": false,
     "start_time": "2025-01-21T05:09:45.717697",
     "status": "completed"
    },
    "tags": []
   },
   "outputs": [
    {
     "name": "stdout",
     "output_type": "stream",
     "text": [
      "tensor([[ 73.,  67.,  43.],\n",
      "        [ 68.,  96.,  71.],\n",
      "        [102.,  43.,  37.],\n",
      "        [ 88., 134.,  59.],\n",
      "        [ 87., 134.,  58.]])\n",
      "tensor([[ 56.,  70.],\n",
      "        [104., 118.],\n",
      "        [ 22.,  37.],\n",
      "        [118., 132.],\n",
      "        [119., 133.]])\n"
     ]
    }
   ],
   "source": [
    "for xb, yb in train_dl:\n",
    "    print(xb)\n",
    "    print(yb)\n",
    "    break"
   ]
  },
  {
   "cell_type": "markdown",
   "id": "0401d255",
   "metadata": {
    "papermill": {
     "duration": 0.016464,
     "end_time": "2025-01-21T05:09:45.782140",
     "exception": false,
     "start_time": "2025-01-21T05:09:45.765676",
     "status": "completed"
    },
    "tags": []
   },
   "source": [
    "In each iteration, the data loader returns one batch of data with the given batch size. If `shuffle` is set to `True`, it shuffles the training data before creating batches. Shuffling helps randomize the input to the optimization algorithm, leading to a faster reduction in the loss."
   ]
  },
  {
   "cell_type": "markdown",
   "id": "dcbc0504",
   "metadata": {
    "papermill": {
     "duration": 0.016185,
     "end_time": "2025-01-21T05:09:45.816733",
     "exception": false,
     "start_time": "2025-01-21T05:09:45.800548",
     "status": "completed"
    },
    "tags": []
   },
   "source": [
    "## nn.Linear\n",
    "\n",
    "Instead of initializing the weights & biases manually, we can define the model using the `nn.Linear` class from PyTorch, which does it automatically."
   ]
  },
  {
   "cell_type": "code",
   "execution_count": 38,
   "id": "55768a33",
   "metadata": {
    "execution": {
     "iopub.execute_input": "2025-01-21T05:09:45.851517Z",
     "iopub.status.busy": "2025-01-21T05:09:45.851155Z",
     "iopub.status.idle": "2025-01-21T05:09:45.858918Z",
     "shell.execute_reply": "2025-01-21T05:09:45.857596Z"
    },
    "papermill": {
     "duration": 0.027115,
     "end_time": "2025-01-21T05:09:45.860585",
     "exception": false,
     "start_time": "2025-01-21T05:09:45.833470",
     "status": "completed"
    },
    "tags": []
   },
   "outputs": [
    {
     "name": "stdout",
     "output_type": "stream",
     "text": [
      "Parameter containing:\n",
      "tensor([[-0.0109,  0.1040, -0.2484],\n",
      "        [-0.3668, -0.1956, -0.0833]], requires_grad=True)\n",
      "Parameter containing:\n",
      "tensor([-0.4095, -0.1114], requires_grad=True)\n"
     ]
    }
   ],
   "source": [
    "# Define model\n",
    "model = nn.Linear(3, 2)\n",
    "print(model.weight)\n",
    "print(model.bias)"
   ]
  },
  {
   "cell_type": "markdown",
   "id": "c2afaec0",
   "metadata": {
    "papermill": {
     "duration": 0.016519,
     "end_time": "2025-01-21T05:09:45.893918",
     "exception": false,
     "start_time": "2025-01-21T05:09:45.877399",
     "status": "completed"
    },
    "tags": []
   },
   "source": [
    "PyTorch models also have a helpful `.parameters` method, which returns a list containing all the weights and bias matrices present in the model. For our linear regression model, we have one weight matrix and one bias matrix."
   ]
  },
  {
   "cell_type": "code",
   "execution_count": 39,
   "id": "50123b23",
   "metadata": {
    "execution": {
     "iopub.execute_input": "2025-01-21T05:09:45.928159Z",
     "iopub.status.busy": "2025-01-21T05:09:45.927756Z",
     "iopub.status.idle": "2025-01-21T05:09:45.934801Z",
     "shell.execute_reply": "2025-01-21T05:09:45.933776Z"
    },
    "papermill": {
     "duration": 0.026263,
     "end_time": "2025-01-21T05:09:45.936614",
     "exception": false,
     "start_time": "2025-01-21T05:09:45.910351",
     "status": "completed"
    },
    "tags": []
   },
   "outputs": [
    {
     "data": {
      "text/plain": [
       "[Parameter containing:\n",
       " tensor([[-0.0109,  0.1040, -0.2484],\n",
       "         [-0.3668, -0.1956, -0.0833]], requires_grad=True),\n",
       " Parameter containing:\n",
       " tensor([-0.4095, -0.1114], requires_grad=True)]"
      ]
     },
     "execution_count": 39,
     "metadata": {},
     "output_type": "execute_result"
    }
   ],
   "source": [
    "# Parameters\n",
    "list(model.parameters())"
   ]
  },
  {
   "cell_type": "markdown",
   "id": "e836f835",
   "metadata": {
    "papermill": {
     "duration": 0.016418,
     "end_time": "2025-01-21T05:09:45.970096",
     "exception": false,
     "start_time": "2025-01-21T05:09:45.953678",
     "status": "completed"
    },
    "tags": []
   },
   "source": [
    "We can use the model to generate predictions in the same way as before."
   ]
  },
  {
   "cell_type": "code",
   "execution_count": 40,
   "id": "84ebbaa0",
   "metadata": {
    "execution": {
     "iopub.execute_input": "2025-01-21T05:09:46.006680Z",
     "iopub.status.busy": "2025-01-21T05:09:46.006318Z",
     "iopub.status.idle": "2025-01-21T05:09:46.016574Z",
     "shell.execute_reply": "2025-01-21T05:09:46.015592Z"
    },
    "papermill": {
     "duration": 0.031221,
     "end_time": "2025-01-21T05:09:46.018365",
     "exception": false,
     "start_time": "2025-01-21T05:09:45.987144",
     "status": "completed"
    },
    "tags": []
   },
   "outputs": [
    {
     "data": {
      "text/plain": [
       "tensor([[ -4.9166, -43.5764],\n",
       "        [ -8.1445, -56.0360],\n",
       "        [ -1.8270, -63.0690],\n",
       "        [ -6.2379, -49.0184],\n",
       "        [ -8.5633, -50.0312],\n",
       "        [ -5.0315, -43.7476],\n",
       "        [ -8.4969, -55.9236],\n",
       "        [ -2.0862, -63.5191],\n",
       "        [ -6.1230, -48.8472],\n",
       "        [ -8.8008, -49.7477],\n",
       "        [ -5.2689, -43.4640],\n",
       "        [ -8.2594, -56.2071],\n",
       "        [ -1.4746, -63.1814],\n",
       "        [ -6.0004, -49.3019],\n",
       "        [ -8.4484, -49.8601]], grad_fn=<AddmmBackward0>)"
      ]
     },
     "execution_count": 40,
     "metadata": {},
     "output_type": "execute_result"
    }
   ],
   "source": [
    "# Generate predictions\n",
    "preds = model(inputs)\n",
    "preds"
   ]
  },
  {
   "cell_type": "markdown",
   "id": "015118ef",
   "metadata": {
    "papermill": {
     "duration": 0.016719,
     "end_time": "2025-01-21T05:09:46.051996",
     "exception": false,
     "start_time": "2025-01-21T05:09:46.035277",
     "status": "completed"
    },
    "tags": []
   },
   "source": [
    "## Loss Function\n",
    "\n",
    "Instead of defining a loss function manually, we can use the built-in loss function `mse_loss`."
   ]
  },
  {
   "cell_type": "code",
   "execution_count": 41,
   "id": "19e87fba",
   "metadata": {
    "execution": {
     "iopub.execute_input": "2025-01-21T05:09:46.086951Z",
     "iopub.status.busy": "2025-01-21T05:09:46.086560Z",
     "iopub.status.idle": "2025-01-21T05:09:46.090542Z",
     "shell.execute_reply": "2025-01-21T05:09:46.089587Z"
    },
    "papermill": {
     "duration": 0.023307,
     "end_time": "2025-01-21T05:09:46.092123",
     "exception": false,
     "start_time": "2025-01-21T05:09:46.068816",
     "status": "completed"
    },
    "tags": []
   },
   "outputs": [],
   "source": [
    "# Import nn.functional\n",
    "import torch.nn.functional as F"
   ]
  },
  {
   "cell_type": "markdown",
   "id": "75f042a0",
   "metadata": {
    "papermill": {
     "duration": 0.016855,
     "end_time": "2025-01-21T05:09:46.126432",
     "exception": false,
     "start_time": "2025-01-21T05:09:46.109577",
     "status": "completed"
    },
    "tags": []
   },
   "source": [
    "The `nn.functional` package contains many useful loss functions and several other utilities. "
   ]
  },
  {
   "cell_type": "code",
   "execution_count": 42,
   "id": "5051ad53",
   "metadata": {
    "execution": {
     "iopub.execute_input": "2025-01-21T05:09:46.161745Z",
     "iopub.status.busy": "2025-01-21T05:09:46.161407Z",
     "iopub.status.idle": "2025-01-21T05:09:46.165344Z",
     "shell.execute_reply": "2025-01-21T05:09:46.164273Z"
    },
    "papermill": {
     "duration": 0.023678,
     "end_time": "2025-01-21T05:09:46.167078",
     "exception": false,
     "start_time": "2025-01-21T05:09:46.143400",
     "status": "completed"
    },
    "tags": []
   },
   "outputs": [],
   "source": [
    "# Define loss function\n",
    "loss_fn = F.mse_loss"
   ]
  },
  {
   "cell_type": "markdown",
   "id": "8cd4692b",
   "metadata": {
    "papermill": {
     "duration": 0.016879,
     "end_time": "2025-01-21T05:09:46.201161",
     "exception": false,
     "start_time": "2025-01-21T05:09:46.184282",
     "status": "completed"
    },
    "tags": []
   },
   "source": [
    "Let's compute the loss for the current predictions of our model."
   ]
  },
  {
   "cell_type": "code",
   "execution_count": 43,
   "id": "68adb2f5",
   "metadata": {
    "execution": {
     "iopub.execute_input": "2025-01-21T05:09:46.236292Z",
     "iopub.status.busy": "2025-01-21T05:09:46.235849Z",
     "iopub.status.idle": "2025-01-21T05:09:46.248520Z",
     "shell.execute_reply": "2025-01-21T05:09:46.247269Z"
    },
    "papermill": {
     "duration": 0.032466,
     "end_time": "2025-01-21T05:09:46.250444",
     "exception": false,
     "start_time": "2025-01-21T05:09:46.217978",
     "status": "completed"
    },
    "tags": []
   },
   "outputs": [
    {
     "name": "stdout",
     "output_type": "stream",
     "text": [
      "tensor(15139.0713, grad_fn=<MseLossBackward0>)\n"
     ]
    }
   ],
   "source": [
    "loss = loss_fn(model(inputs), targets)\n",
    "print(loss)"
   ]
  },
  {
   "cell_type": "markdown",
   "id": "c1eb6d0e",
   "metadata": {
    "papermill": {
     "duration": 0.016485,
     "end_time": "2025-01-21T05:09:46.284558",
     "exception": false,
     "start_time": "2025-01-21T05:09:46.268073",
     "status": "completed"
    },
    "tags": []
   },
   "source": [
    "## Optimizer\n",
    "\n",
    "Instead of manually manipulating the model's weights & biases using gradients, we can use the optimizer `optim.SGD`. SGD is short for \"stochastic gradient descent\". The term _stochastic_ indicates that samples are selected in random batches instead of as a single group."
   ]
  },
  {
   "cell_type": "code",
   "execution_count": 44,
   "id": "f97906b2",
   "metadata": {
    "execution": {
     "iopub.execute_input": "2025-01-21T05:09:46.319673Z",
     "iopub.status.busy": "2025-01-21T05:09:46.319352Z",
     "iopub.status.idle": "2025-01-21T05:09:51.072651Z",
     "shell.execute_reply": "2025-01-21T05:09:51.071512Z"
    },
    "papermill": {
     "duration": 4.773306,
     "end_time": "2025-01-21T05:09:51.074720",
     "exception": false,
     "start_time": "2025-01-21T05:09:46.301414",
     "status": "completed"
    },
    "tags": []
   },
   "outputs": [],
   "source": [
    "# Define optimizer\n",
    "opt = torch.optim.SGD(model.parameters(), lr=1e-5)"
   ]
  },
  {
   "cell_type": "code",
   "execution_count": 45,
   "id": "20934e86",
   "metadata": {
    "execution": {
     "iopub.execute_input": "2025-01-21T05:09:51.110810Z",
     "iopub.status.busy": "2025-01-21T05:09:51.110379Z",
     "iopub.status.idle": "2025-01-21T05:09:51.115867Z",
     "shell.execute_reply": "2025-01-21T05:09:51.115095Z"
    },
    "papermill": {
     "duration": 0.025293,
     "end_time": "2025-01-21T05:09:51.117429",
     "exception": false,
     "start_time": "2025-01-21T05:09:51.092136",
     "status": "completed"
    },
    "tags": []
   },
   "outputs": [
    {
     "data": {
      "text/plain": [
       "SGD (\n",
       "Parameter Group 0\n",
       "    dampening: 0\n",
       "    differentiable: False\n",
       "    foreach: None\n",
       "    fused: None\n",
       "    lr: 1e-05\n",
       "    maximize: False\n",
       "    momentum: 0\n",
       "    nesterov: False\n",
       "    weight_decay: 0\n",
       ")"
      ]
     },
     "execution_count": 45,
     "metadata": {},
     "output_type": "execute_result"
    }
   ],
   "source": [
    "opt"
   ]
  },
  {
   "cell_type": "markdown",
   "id": "4768a1ef",
   "metadata": {
    "papermill": {
     "duration": 0.017044,
     "end_time": "2025-01-21T05:09:51.151435",
     "exception": false,
     "start_time": "2025-01-21T05:09:51.134391",
     "status": "completed"
    },
    "tags": []
   },
   "source": [
    "Note that `model.parameters()` is passed as an argument to `optim.SGD` so that the optimizer knows which matrices should be modified during the update step. Also, we can specify a learning rate that controls the amount by which the parameters are modified."
   ]
  },
  {
   "cell_type": "markdown",
   "id": "0bfe1995",
   "metadata": {
    "papermill": {
     "duration": 0.01684,
     "end_time": "2025-01-21T05:09:51.185474",
     "exception": false,
     "start_time": "2025-01-21T05:09:51.168634",
     "status": "completed"
    },
    "tags": []
   },
   "source": [
    "## Train the model\n",
    "\n",
    "We are now ready to train the model. We'll follow the same process to implement gradient descent:\n",
    "\n",
    "1. Generate predictions\n",
    "\n",
    "2. Calculate the loss\n",
    "\n",
    "3. Compute gradients w.r.t the weights and biases\n",
    "\n",
    "4. Adjust the weights by subtracting a small quantity proportional to the gradient\n",
    "\n",
    "5. Reset the gradients to zero\n",
    "\n",
    "The only change is that we'll work batches of data instead of processing the entire training data in every iteration. Let's define a utility function `fit` that trains the model for a given number of epochs."
   ]
  },
  {
   "cell_type": "code",
   "execution_count": 46,
   "id": "a40a5f5a",
   "metadata": {
    "execution": {
     "iopub.execute_input": "2025-01-21T05:09:51.220701Z",
     "iopub.status.busy": "2025-01-21T05:09:51.220356Z",
     "iopub.status.idle": "2025-01-21T05:09:51.225672Z",
     "shell.execute_reply": "2025-01-21T05:09:51.224753Z"
    },
    "papermill": {
     "duration": 0.024805,
     "end_time": "2025-01-21T05:09:51.227230",
     "exception": false,
     "start_time": "2025-01-21T05:09:51.202425",
     "status": "completed"
    },
    "tags": []
   },
   "outputs": [],
   "source": [
    "# Utility function to train the model\n",
    "def fit(num_epochs, model, loss_fn, opt, train_dl):\n",
    "    \n",
    "    # Repeat for given number of epochs\n",
    "    for epoch in range(num_epochs):\n",
    "        \n",
    "        # Train with batches of data\n",
    "        for xb,yb in train_dl:\n",
    "            \n",
    "            # 1. Generate predictions\n",
    "            pred = model(xb)\n",
    "            \n",
    "            # 2. Calculate loss\n",
    "            loss = loss_fn(pred, yb)\n",
    "            \n",
    "            # 3. Compute gradients\n",
    "            loss.backward()\n",
    "            \n",
    "            # 4. Update parameters using gradients\n",
    "            opt.step()\n",
    "            \n",
    "            # 5. Reset the gradients to zero\n",
    "            opt.zero_grad()\n",
    "        \n",
    "        # Print the progress\n",
    "        if (epoch+1) % 10 == 0:\n",
    "            print('Epoch [{}/{}], Loss: {:.4f}'.format(epoch+1, num_epochs, loss.item()))"
   ]
  },
  {
   "cell_type": "markdown",
   "id": "c88c823f",
   "metadata": {
    "papermill": {
     "duration": 0.016403,
     "end_time": "2025-01-21T05:09:51.260587",
     "exception": false,
     "start_time": "2025-01-21T05:09:51.244184",
     "status": "completed"
    },
    "tags": []
   },
   "source": [
    "Some things to note above:\n",
    "\n",
    "* We use the data loader defined earlier to get batches of data for every iteration.\n",
    "\n",
    "* Instead of updating parameters (weights and biases) manually, we use `opt.step` to perform the update and `opt.zero_grad` to reset the gradients to zero.\n",
    "\n",
    "* We've also added a log statement that prints the loss from the last batch of data for every 10th epoch to track training progress. `loss.item` returns the actual value stored in the loss tensor.\n",
    "\n",
    "Let's train the model for 100 epochs."
   ]
  },
  {
   "cell_type": "code",
   "execution_count": 47,
   "id": "dfd9698e",
   "metadata": {
    "execution": {
     "iopub.execute_input": "2025-01-21T05:09:51.295559Z",
     "iopub.status.busy": "2025-01-21T05:09:51.295202Z",
     "iopub.status.idle": "2025-01-21T05:09:51.482730Z",
     "shell.execute_reply": "2025-01-21T05:09:51.481445Z"
    },
    "papermill": {
     "duration": 0.207255,
     "end_time": "2025-01-21T05:09:51.484689",
     "exception": false,
     "start_time": "2025-01-21T05:09:51.277434",
     "status": "completed"
    },
    "tags": []
   },
   "outputs": [
    {
     "name": "stdout",
     "output_type": "stream",
     "text": [
      "Epoch [10/100], Loss: 193.6229\n",
      "Epoch [20/100], Loss: 308.1678\n",
      "Epoch [30/100], Loss: 147.3872\n",
      "Epoch [40/100], Loss: 47.6768\n",
      "Epoch [50/100], Loss: 104.9364\n",
      "Epoch [60/100], Loss: 68.9846\n",
      "Epoch [70/100], Loss: 54.7591\n",
      "Epoch [80/100], Loss: 60.1767\n",
      "Epoch [90/100], Loss: 32.9031\n",
      "Epoch [100/100], Loss: 29.9546\n"
     ]
    }
   ],
   "source": [
    "fit(100, model, loss_fn, opt, train_dl)"
   ]
  },
  {
   "cell_type": "markdown",
   "id": "460dc7b8",
   "metadata": {
    "papermill": {
     "duration": 0.016695,
     "end_time": "2025-01-21T05:09:51.518741",
     "exception": false,
     "start_time": "2025-01-21T05:09:51.502046",
     "status": "completed"
    },
    "tags": []
   },
   "source": [
    "Let's generate predictions using our model and verify that they're close to our targets."
   ]
  },
  {
   "cell_type": "code",
   "execution_count": 48,
   "id": "51bc6e2a",
   "metadata": {
    "execution": {
     "iopub.execute_input": "2025-01-21T05:09:51.553906Z",
     "iopub.status.busy": "2025-01-21T05:09:51.553541Z",
     "iopub.status.idle": "2025-01-21T05:09:51.560664Z",
     "shell.execute_reply": "2025-01-21T05:09:51.559598Z"
    },
    "papermill": {
     "duration": 0.026785,
     "end_time": "2025-01-21T05:09:51.562515",
     "exception": false,
     "start_time": "2025-01-21T05:09:51.535730",
     "status": "completed"
    },
    "tags": []
   },
   "outputs": [
    {
     "data": {
      "text/plain": [
       "tensor([[ 58.0693,  71.2970],\n",
       "        [ 79.1655,  98.4016],\n",
       "        [121.9191, 135.4938],\n",
       "        [ 28.1407,  43.3866],\n",
       "        [ 92.5913, 111.5272],\n",
       "        [ 56.9236,  70.2973],\n",
       "        [ 78.4590,  98.0772],\n",
       "        [121.9521, 135.9000],\n",
       "        [ 29.2864,  44.3863],\n",
       "        [ 93.0305, 112.2025],\n",
       "        [ 57.3629,  70.9726],\n",
       "        [ 78.0198,  97.4018],\n",
       "        [122.6255, 135.8182],\n",
       "        [ 27.7015,  42.7113],\n",
       "        [ 93.7369, 112.5269]], grad_fn=<AddmmBackward0>)"
      ]
     },
     "execution_count": 48,
     "metadata": {},
     "output_type": "execute_result"
    }
   ],
   "source": [
    "# Generate predictions\n",
    "preds = model(inputs)\n",
    "preds"
   ]
  },
  {
   "cell_type": "code",
   "execution_count": 49,
   "id": "4da1dc6c",
   "metadata": {
    "execution": {
     "iopub.execute_input": "2025-01-21T05:09:51.598753Z",
     "iopub.status.busy": "2025-01-21T05:09:51.598429Z",
     "iopub.status.idle": "2025-01-21T05:09:51.605375Z",
     "shell.execute_reply": "2025-01-21T05:09:51.604396Z"
    },
    "papermill": {
     "duration": 0.027042,
     "end_time": "2025-01-21T05:09:51.607066",
     "exception": false,
     "start_time": "2025-01-21T05:09:51.580024",
     "status": "completed"
    },
    "tags": []
   },
   "outputs": [
    {
     "data": {
      "text/plain": [
       "tensor([[ 56.,  70.],\n",
       "        [ 81., 101.],\n",
       "        [119., 133.],\n",
       "        [ 22.,  37.],\n",
       "        [103., 119.],\n",
       "        [ 57.,  69.],\n",
       "        [ 80., 102.],\n",
       "        [118., 132.],\n",
       "        [ 21.,  38.],\n",
       "        [104., 118.],\n",
       "        [ 57.,  69.],\n",
       "        [ 82., 100.],\n",
       "        [118., 134.],\n",
       "        [ 20.,  38.],\n",
       "        [102., 120.]])"
      ]
     },
     "execution_count": 49,
     "metadata": {},
     "output_type": "execute_result"
    }
   ],
   "source": [
    "# Compare with targets\n",
    "targets"
   ]
  },
  {
   "cell_type": "markdown",
   "id": "36c14b73",
   "metadata": {
    "papermill": {
     "duration": 0.017139,
     "end_time": "2025-01-21T05:09:51.641582",
     "exception": false,
     "start_time": "2025-01-21T05:09:51.624443",
     "status": "completed"
    },
    "tags": []
   },
   "source": [
    "Indeed, the predictions are quite close to our targets. We have a trained a reasonably good model to predict crop yields for apples and oranges by looking at the average temperature, rainfall, and humidity in a region. We can use it to make predictions of crop yields for new regions by passing a batch containing a single row of input."
   ]
  },
  {
   "cell_type": "code",
   "execution_count": 50,
   "id": "2fe5f2cf",
   "metadata": {
    "execution": {
     "iopub.execute_input": "2025-01-21T05:09:51.677014Z",
     "iopub.status.busy": "2025-01-21T05:09:51.676644Z",
     "iopub.status.idle": "2025-01-21T05:09:51.683800Z",
     "shell.execute_reply": "2025-01-21T05:09:51.682799Z"
    },
    "papermill": {
     "duration": 0.026857,
     "end_time": "2025-01-21T05:09:51.685560",
     "exception": false,
     "start_time": "2025-01-21T05:09:51.658703",
     "status": "completed"
    },
    "tags": []
   },
   "outputs": [
    {
     "data": {
      "text/plain": [
       "tensor([[54.1289, 68.1080]], grad_fn=<AddmmBackward0>)"
      ]
     },
     "execution_count": 50,
     "metadata": {},
     "output_type": "execute_result"
    }
   ],
   "source": [
    "model(torch.tensor([[75, 63, 44.]]))"
   ]
  },
  {
   "cell_type": "markdown",
   "id": "436f868f",
   "metadata": {
    "papermill": {
     "duration": 0.017171,
     "end_time": "2025-01-21T05:09:51.720597",
     "exception": false,
     "start_time": "2025-01-21T05:09:51.703426",
     "status": "completed"
    },
    "tags": []
   },
   "source": [
    "The predicted yield of apples is 54.3 tons per hectare, and that of oranges is 68.3 tons per hectare."
   ]
  },
  {
   "cell_type": "markdown",
   "id": "9f3c0d62",
   "metadata": {
    "papermill": {
     "duration": 0.016828,
     "end_time": "2025-01-21T05:09:51.754545",
     "exception": false,
     "start_time": "2025-01-21T05:09:51.737717",
     "status": "completed"
    },
    "tags": []
   },
   "source": [
    "## Machine Learning vs. Classical Programming\n",
    "\n",
    "The approach we've taken in this tutorial is very different from programming as you might know it. Usually, we write programs that take some inputs, perform some operations, and return a result. \n",
    "\n",
    "However, in this notebook, we've defined a \"model\" that assumes a specific relationship between the inputs and the outputs, expressed using some unknown parameters (weights & biases). We then show the model some know inputs and outputs and _train_ the model to come up with good values for the unknown parameters. Once trained, the model can be used to compute the outputs for new inputs.\n",
    "\n",
    "This paradigm of programming is known as _machine learning_, where we use data to figure out the relationship between inputs and outputs. _Deep learning_ is a branch of machine learning that uses matrix operations, non-linear activation functions and gradient descent to build and train models. Andrej Karpathy, the director of AI at Tesla Motors, has written a great blog post on this topics, titled [Software 2.0](https://medium.com/@karpathy/software-2-0-a64152b37c35).\n",
    "\n",
    "This picture from book [Deep Learning with Python](https://www.manning.com/books/deep-learning-with-python) by Francois Chollet captures the difference between classical programming and machine learning:\n",
    "\n",
    "![](https://i.imgur.com/oJEQe7k.png)\n",
    "\n",
    "Keep this picture in mind as you work through the next few tutorials. \n",
    "\n"
   ]
  },
  {
   "cell_type": "markdown",
   "id": "b11fb856",
   "metadata": {
    "papermill": {
     "duration": 0.016931,
     "end_time": "2025-01-21T05:09:51.789048",
     "exception": false,
     "start_time": "2025-01-21T05:09:51.772117",
     "status": "completed"
    },
    "tags": []
   },
   "source": [
    "Thank You for Visiting!\n",
    "\n",
    "Thank you so much for taking the time to visit my Kaggle notebook! I hope you found the analysis informative and helpful. Your interest and support mean a lot to me.\n",
    "\n",
    "If you have any questions, suggestions, or feedback, please feel free to leave a comment or reach out to me. Your input is invaluable in helping me improve and grow as a data scientist.\n",
    "\n",
    "Once again, thank you for stopping by! Wishing you all the best in your data science journey.\n",
    "\n",
    "Best regards,\n",
    "\n",
    "Akanksha"
   ]
  }
 ],
 "metadata": {
  "kaggle": {
   "accelerator": "none",
   "dataSources": [],
   "dockerImageVersionId": 30839,
   "isGpuEnabled": false,
   "isInternetEnabled": true,
   "language": "python",
   "sourceType": "notebook"
  },
  "kernelspec": {
   "display_name": "Python 3",
   "language": "python",
   "name": "python3"
  },
  "language_info": {
   "codemirror_mode": {
    "name": "ipython",
    "version": 3
   },
   "file_extension": ".py",
   "mimetype": "text/x-python",
   "name": "python",
   "nbconvert_exporter": "python",
   "pygments_lexer": "ipython3",
   "version": "3.10.12"
  },
  "papermill": {
   "default_parameters": {},
   "duration": 17.452672,
   "end_time": "2025-01-21T05:09:53.531807",
   "environment_variables": {},
   "exception": null,
   "input_path": "__notebook__.ipynb",
   "output_path": "__notebook__.ipynb",
   "parameters": {},
   "start_time": "2025-01-21T05:09:36.079135",
   "version": "2.6.0"
  }
 },
 "nbformat": 4,
 "nbformat_minor": 5
}
