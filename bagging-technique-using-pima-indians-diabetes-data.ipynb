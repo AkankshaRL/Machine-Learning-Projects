{
 "cells": [
  {
   "cell_type": "code",
   "execution_count": 1,
   "id": "a5f773fb",
   "metadata": {
    "_cell_guid": "b1076dfc-b9ad-4769-8c92-a6c4dae69d19",
    "_uuid": "8f2839f25d086af736a60e9eeb907d3b93b6e0e5",
    "execution": {
     "iopub.execute_input": "2024-06-19T12:37:57.945364Z",
     "iopub.status.busy": "2024-06-19T12:37:57.944975Z",
     "iopub.status.idle": "2024-06-19T12:37:58.782862Z",
     "shell.execute_reply": "2024-06-19T12:37:58.781408Z"
    },
    "papermill": {
     "duration": 0.854823,
     "end_time": "2024-06-19T12:37:58.785228",
     "exception": false,
     "start_time": "2024-06-19T12:37:57.930405",
     "status": "completed"
    },
    "tags": []
   },
   "outputs": [
    {
     "name": "stdout",
     "output_type": "stream",
     "text": [
      "/kaggle/input/diabetes/diabetes.csv\n"
     ]
    }
   ],
   "source": [
    "# This Python 3 environment comes with many helpful analytics libraries installed\n",
    "# It is defined by the kaggle/python Docker image: https://github.com/kaggle/docker-python\n",
    "# For example, here's several helpful packages to load\n",
    "\n",
    "import numpy as np # linear algebra\n",
    "import pandas as pd # data processing, CSV file I/O (e.g. pd.read_csv)\n",
    "\n",
    "# Input data files are available in the read-only \"../input/\" directory\n",
    "# For example, running this (by clicking run or pressing Shift+Enter) will list all files under the input directory\n",
    "\n",
    "import os\n",
    "for dirname, _, filenames in os.walk('/kaggle/input'):\n",
    "    for filename in filenames:\n",
    "        print(os.path.join(dirname, filename))\n",
    "\n",
    "# You can write up to 20GB to the current directory (/kaggle/working/) that gets preserved as output when you create a version using \"Save & Run All\" \n",
    "# You can also write temporary files to /kaggle/temp/, but they won't be saved outside of the current session"
   ]
  },
  {
   "cell_type": "markdown",
   "id": "e19560b1",
   "metadata": {
    "papermill": {
     "duration": 0.012542,
     "end_time": "2024-06-19T12:37:58.810415",
     "exception": false,
     "start_time": "2024-06-19T12:37:58.797873",
     "status": "completed"
    },
    "tags": []
   },
   "source": [
    "# Importing Necessary Libraries"
   ]
  },
  {
   "cell_type": "code",
   "execution_count": 2,
   "id": "c2f0e606",
   "metadata": {
    "execution": {
     "iopub.execute_input": "2024-06-19T12:37:58.838009Z",
     "iopub.status.busy": "2024-06-19T12:37:58.837081Z",
     "iopub.status.idle": "2024-06-19T12:38:00.288646Z",
     "shell.execute_reply": "2024-06-19T12:38:00.287712Z"
    },
    "papermill": {
     "duration": 1.467837,
     "end_time": "2024-06-19T12:38:00.291175",
     "exception": false,
     "start_time": "2024-06-19T12:37:58.823338",
     "status": "completed"
    },
    "tags": []
   },
   "outputs": [],
   "source": [
    "from sklearn.impute import SimpleImputer\n",
    "from matplotlib import pyplot as plt\n",
    "from sklearn.model_selection import train_test_split\n",
    "from sklearn.metrics import confusion_matrix, accuracy_score, classification_report\n",
    "from sklearn.tree import DecisionTreeClassifier\n",
    "from sklearn.model_selection import cross_val_score\n",
    "from sklearn.ensemble import BaggingClassifier\n",
    "from sklearn.ensemble import RandomForestClassifier\n",
    "from sklearn.ensemble import ExtraTreesClassifier"
   ]
  },
  {
   "cell_type": "markdown",
   "id": "a79d2bbf",
   "metadata": {
    "papermill": {
     "duration": 0.012252,
     "end_time": "2024-06-19T12:38:00.316034",
     "exception": false,
     "start_time": "2024-06-19T12:38:00.303782",
     "status": "completed"
    },
    "tags": []
   },
   "source": [
    "### 1. `from sklearn.impute import SimpleImputer`\n",
    "- **SimpleImputer**: This is used to handle missing data in datasets. It allows you to fill in missing values with strategies such as the mean, median, most frequent, or a constant value. It's a common preprocessing step to ensure the dataset is complete before feeding it into machine learning models.\n",
    "\n",
    "### 2. `from matplotlib import pyplot as plt`\n",
    "- **pyplot**: This is a module in the `matplotlib` library used for creating static, interactive, and animated visualizations in Python. It provides a MATLAB-like interface for plotting, enabling easy creation of plots such as line charts, scatter plots, histograms, and more.\n",
    "\n",
    "### 3. `from sklearn.model_selection import train_test_split`\n",
    "- **train_test_split**: This function is used to split a dataset into training and testing subsets. It helps in evaluating the performance of a machine learning model by training it on one portion of the data and testing it on another. This function can randomly split the data and ensures the proportion of training and testing data is consistent.\n",
    "\n",
    "### 4. `from sklearn.metrics import confusion_matrix, accuracy_score, classification_report`\n",
    "- **confusion_matrix**: This function computes a confusion matrix to evaluate the accuracy of a classification. The matrix shows the number of true positive, true negative, false positive, and false negative predictions.\n",
    "- **accuracy_score**: This function calculates the accuracy of a model, which is the ratio of correctly predicted observations to the total observations.\n",
    "- **classification_report**: This function builds a text report showing the main classification metrics, including precision, recall, F1-score, and support for each class.\n",
    "\n",
    "### 5. `from sklearn.tree import DecisionTreeClassifier`\n",
    "- **DecisionTreeClassifier**: This is a class for creating a decision tree classifier. A decision tree is a flowchart-like structure in which each internal node represents a feature (or attribute), each branch represents a decision rule, and each leaf node represents the outcome. It is a powerful and interpretable model for both classification and regression tasks.\n",
    "\n",
    "### 6. `from sklearn.model_selection import cross_val_score`\n",
    "- **cross_val_score**: This function evaluates a model by cross-validation. It splits the dataset into k folds and trains the model k times, each time using a different fold as the test set and the remaining folds as the training set. It helps in assessing how the model generalizes to an independent dataset.\n",
    "\n",
    "### 7. `from sklearn.ensemble import BaggingClassifier`\n",
    "- **BaggingClassifier**: This is an ensemble meta-estimator that fits base classifiers each on random subsets of the original dataset and then aggregates their individual predictions to form a final prediction. Bagging helps to improve the stability and accuracy of machine learning algorithms by reducing variance and helping to avoid overfitting.\n",
    "\n",
    "### 8. `from sklearn.ensemble import RandomForestClassifier`\n",
    "- **RandomForestClassifier**: This is an ensemble learning method for classification (and regression) that operates by constructing multiple decision trees during training and outputting the mode of the classes (classification) or mean prediction (regression) of the individual trees. It combines the concept of bagging and random feature selection for better performance.\n",
    "\n",
    "### 9. `from sklearn.ensemble import ExtraTreesClassifier`\n",
    "- **ExtraTreesClassifier**: This stands for Extremely Randomized Trees classifier. It is similar to a RandomForestClassifier but differs in the way splits are computed. In ExtraTrees, random splits are picked for each candidate feature and the best of these randomly chosen splits is used to split the node. This often reduces variance even more compared to RandomForest, sometimes at the cost of an increase in bias.\n",
    "\n",
    "These libraries and functions/classes provide a robust toolkit for data preprocessing, visualization, model evaluation, and implementing various machine learning algorithms to create effective predictive models."
   ]
  },
  {
   "cell_type": "markdown",
   "id": "305ad479",
   "metadata": {
    "papermill": {
     "duration": 0.012148,
     "end_time": "2024-06-19T12:38:00.341744",
     "exception": false,
     "start_time": "2024-06-19T12:38:00.329596",
     "status": "completed"
    },
    "tags": []
   },
   "source": [
    "# Importing the Dataset"
   ]
  },
  {
   "cell_type": "code",
   "execution_count": 3,
   "id": "94f15efa",
   "metadata": {
    "execution": {
     "iopub.execute_input": "2024-06-19T12:38:00.368599Z",
     "iopub.status.busy": "2024-06-19T12:38:00.368202Z",
     "iopub.status.idle": "2024-06-19T12:38:00.419489Z",
     "shell.execute_reply": "2024-06-19T12:38:00.418405Z"
    },
    "papermill": {
     "duration": 0.067449,
     "end_time": "2024-06-19T12:38:00.421842",
     "exception": false,
     "start_time": "2024-06-19T12:38:00.354393",
     "status": "completed"
    },
    "tags": []
   },
   "outputs": [
    {
     "data": {
      "text/html": [
       "<div>\n",
       "<style scoped>\n",
       "    .dataframe tbody tr th:only-of-type {\n",
       "        vertical-align: middle;\n",
       "    }\n",
       "\n",
       "    .dataframe tbody tr th {\n",
       "        vertical-align: top;\n",
       "    }\n",
       "\n",
       "    .dataframe thead th {\n",
       "        text-align: right;\n",
       "    }\n",
       "</style>\n",
       "<table border=\"1\" class=\"dataframe\">\n",
       "  <thead>\n",
       "    <tr style=\"text-align: right;\">\n",
       "      <th></th>\n",
       "      <th>Pregnancies</th>\n",
       "      <th>Glucose</th>\n",
       "      <th>BloodPressure</th>\n",
       "      <th>SkinThickness</th>\n",
       "      <th>Insulin</th>\n",
       "      <th>BMI</th>\n",
       "      <th>DiabetesPedigreeFunction</th>\n",
       "      <th>Age</th>\n",
       "      <th>Outcome</th>\n",
       "    </tr>\n",
       "  </thead>\n",
       "  <tbody>\n",
       "    <tr>\n",
       "      <th>0</th>\n",
       "      <td>6</td>\n",
       "      <td>148</td>\n",
       "      <td>72</td>\n",
       "      <td>35</td>\n",
       "      <td>0</td>\n",
       "      <td>33.6</td>\n",
       "      <td>0.627</td>\n",
       "      <td>50</td>\n",
       "      <td>1</td>\n",
       "    </tr>\n",
       "    <tr>\n",
       "      <th>1</th>\n",
       "      <td>1</td>\n",
       "      <td>85</td>\n",
       "      <td>66</td>\n",
       "      <td>29</td>\n",
       "      <td>0</td>\n",
       "      <td>26.6</td>\n",
       "      <td>0.351</td>\n",
       "      <td>31</td>\n",
       "      <td>0</td>\n",
       "    </tr>\n",
       "    <tr>\n",
       "      <th>2</th>\n",
       "      <td>8</td>\n",
       "      <td>183</td>\n",
       "      <td>64</td>\n",
       "      <td>0</td>\n",
       "      <td>0</td>\n",
       "      <td>23.3</td>\n",
       "      <td>0.672</td>\n",
       "      <td>32</td>\n",
       "      <td>1</td>\n",
       "    </tr>\n",
       "    <tr>\n",
       "      <th>3</th>\n",
       "      <td>1</td>\n",
       "      <td>89</td>\n",
       "      <td>66</td>\n",
       "      <td>23</td>\n",
       "      <td>94</td>\n",
       "      <td>28.1</td>\n",
       "      <td>0.167</td>\n",
       "      <td>21</td>\n",
       "      <td>0</td>\n",
       "    </tr>\n",
       "    <tr>\n",
       "      <th>4</th>\n",
       "      <td>0</td>\n",
       "      <td>137</td>\n",
       "      <td>40</td>\n",
       "      <td>35</td>\n",
       "      <td>168</td>\n",
       "      <td>43.1</td>\n",
       "      <td>2.288</td>\n",
       "      <td>33</td>\n",
       "      <td>1</td>\n",
       "    </tr>\n",
       "    <tr>\n",
       "      <th>...</th>\n",
       "      <td>...</td>\n",
       "      <td>...</td>\n",
       "      <td>...</td>\n",
       "      <td>...</td>\n",
       "      <td>...</td>\n",
       "      <td>...</td>\n",
       "      <td>...</td>\n",
       "      <td>...</td>\n",
       "      <td>...</td>\n",
       "    </tr>\n",
       "    <tr>\n",
       "      <th>763</th>\n",
       "      <td>10</td>\n",
       "      <td>101</td>\n",
       "      <td>76</td>\n",
       "      <td>48</td>\n",
       "      <td>180</td>\n",
       "      <td>32.9</td>\n",
       "      <td>0.171</td>\n",
       "      <td>63</td>\n",
       "      <td>0</td>\n",
       "    </tr>\n",
       "    <tr>\n",
       "      <th>764</th>\n",
       "      <td>2</td>\n",
       "      <td>122</td>\n",
       "      <td>70</td>\n",
       "      <td>27</td>\n",
       "      <td>0</td>\n",
       "      <td>36.8</td>\n",
       "      <td>0.340</td>\n",
       "      <td>27</td>\n",
       "      <td>0</td>\n",
       "    </tr>\n",
       "    <tr>\n",
       "      <th>765</th>\n",
       "      <td>5</td>\n",
       "      <td>121</td>\n",
       "      <td>72</td>\n",
       "      <td>23</td>\n",
       "      <td>112</td>\n",
       "      <td>26.2</td>\n",
       "      <td>0.245</td>\n",
       "      <td>30</td>\n",
       "      <td>0</td>\n",
       "    </tr>\n",
       "    <tr>\n",
       "      <th>766</th>\n",
       "      <td>1</td>\n",
       "      <td>126</td>\n",
       "      <td>60</td>\n",
       "      <td>0</td>\n",
       "      <td>0</td>\n",
       "      <td>30.1</td>\n",
       "      <td>0.349</td>\n",
       "      <td>47</td>\n",
       "      <td>1</td>\n",
       "    </tr>\n",
       "    <tr>\n",
       "      <th>767</th>\n",
       "      <td>1</td>\n",
       "      <td>93</td>\n",
       "      <td>70</td>\n",
       "      <td>31</td>\n",
       "      <td>0</td>\n",
       "      <td>30.4</td>\n",
       "      <td>0.315</td>\n",
       "      <td>23</td>\n",
       "      <td>0</td>\n",
       "    </tr>\n",
       "  </tbody>\n",
       "</table>\n",
       "<p>768 rows × 9 columns</p>\n",
       "</div>"
      ],
      "text/plain": [
       "     Pregnancies  Glucose  BloodPressure  SkinThickness  Insulin   BMI  \\\n",
       "0              6      148             72             35        0  33.6   \n",
       "1              1       85             66             29        0  26.6   \n",
       "2              8      183             64              0        0  23.3   \n",
       "3              1       89             66             23       94  28.1   \n",
       "4              0      137             40             35      168  43.1   \n",
       "..           ...      ...            ...            ...      ...   ...   \n",
       "763           10      101             76             48      180  32.9   \n",
       "764            2      122             70             27        0  36.8   \n",
       "765            5      121             72             23      112  26.2   \n",
       "766            1      126             60              0        0  30.1   \n",
       "767            1       93             70             31        0  30.4   \n",
       "\n",
       "     DiabetesPedigreeFunction  Age  Outcome  \n",
       "0                       0.627   50        1  \n",
       "1                       0.351   31        0  \n",
       "2                       0.672   32        1  \n",
       "3                       0.167   21        0  \n",
       "4                       2.288   33        1  \n",
       "..                        ...  ...      ...  \n",
       "763                     0.171   63        0  \n",
       "764                     0.340   27        0  \n",
       "765                     0.245   30        0  \n",
       "766                     0.349   47        1  \n",
       "767                     0.315   23        0  \n",
       "\n",
       "[768 rows x 9 columns]"
      ]
     },
     "execution_count": 3,
     "metadata": {},
     "output_type": "execute_result"
    }
   ],
   "source": [
    "df = pd.read_csv(\"/kaggle/input/diabetes/diabetes.csv\")\n",
    "df"
   ]
  },
  {
   "cell_type": "markdown",
   "id": "abac2fa3",
   "metadata": {
    "papermill": {
     "duration": 0.012742,
     "end_time": "2024-06-19T12:38:00.448020",
     "exception": false,
     "start_time": "2024-06-19T12:38:00.435278",
     "status": "completed"
    },
    "tags": []
   },
   "source": [
    "### 1. `pd.read_csv(\"/kaggle/input/diabetes/diabetes.csv\")`\n",
    "- **`pd`**: This is a common alias for the `pandas` library, which is a powerful data manipulation and analysis library in Python.\n",
    "- **`read_csv`**: This is a function provided by `pandas` to read a comma-separated values (CSV) file into a DataFrame. A DataFrame is a 2-dimensional labeled data structure with columns of potentially different types, similar to a table in a database or an Excel spreadsheet.\n",
    "- **`\"/kaggle/input/diabetes/diabetes.csv\"`**: This is the file path to the CSV file that contains the diabetes dataset. The path indicates that the file is located in a directory named `/kaggle/input/diabetes/` on the Kaggle platform.\n",
    "\n",
    "### 2. `df`\n",
    "- **`df`**: This variable stores the DataFrame created by reading the CSV file. The DataFrame `df` will contain the data from `diabetes.csv`.\n",
    "\n",
    "### 3. `df` (on its own line)\n",
    "- When `df` is placed on a line by itself in a Jupyter notebook (such as a Kaggle notebook), it triggers the display of the DataFrame. The notebook environment will render the contents of the DataFrame in a tabular format, making it easy to inspect the data visually.\n",
    "\n",
    "\n",
    "### Summary\n",
    "\n",
    "In summary, this code snippet reads a CSV file located at `/kaggle/input/diabetes/diabetes.csv` into a `pandas` DataFrame named `df` and then displays the contents of `df` when run in a Jupyter notebook environment. This is a common first step in data analysis and machine learning projects to load and inspect the dataset."
   ]
  },
  {
   "cell_type": "markdown",
   "id": "11b021ba",
   "metadata": {
    "papermill": {
     "duration": 0.013324,
     "end_time": "2024-06-19T12:38:00.474165",
     "exception": false,
     "start_time": "2024-06-19T12:38:00.460841",
     "status": "completed"
    },
    "tags": []
   },
   "source": [
    "## Dataset Description\n",
    "\n",
    "The diabetes dataset, often referred to in the context of the Pima Indians Diabetes Database, is a classic dataset used for binary classification problems in machine learning. It is commonly used to demonstrate various data analysis and machine learning techniques.\n",
    "\n",
    "### Overview of the Diabetes Dataset\n",
    "\n",
    "The dataset contains medical information for a sample of female patients of Pima Indian heritage, all of whom are at least 21 years old. The primary goal is to predict whether a patient has diabetes based on certain diagnostic measurements.\n",
    "\n",
    "### Attributes (Features)\n",
    "\n",
    "The dataset typically consists of the following columns (features):\n",
    "\n",
    "1. **Pregnancies**: Number of times the patient has been pregnant.\n",
    "2. **Glucose**: Plasma glucose concentration a 2 hours in an oral glucose tolerance test.\n",
    "3. **BloodPressure**: Diastolic blood pressure (mm Hg).\n",
    "4. **SkinThickness**: Triceps skin fold thickness (mm).\n",
    "5. **Insulin**: 2-Hour serum insulin (mu U/ml).\n",
    "6. **BMI**: Body mass index (weight in kg/(height in m)^2).\n",
    "7. **DiabetesPedigreeFunction**: Diabetes pedigree function, which is a function that scores the likelihood of diabetes based on family history.\n",
    "8. **Age**: Age of the patient (years).\n",
    "9. **Outcome**: Class variable (0 or 1), where 1 indicates the presence of diabetes and 0 indicates the absence.\n",
    "\n",
    "### Target Variable\n",
    "\n",
    "- **Outcome**: This is the target variable that the models aim to predict. It is a binary variable with values:\n",
    "  - `0`: The patient does not have diabetes.\n",
    "  - `1`: The patient has diabetes.\n",
    "\n",
    "\n",
    "In summary, the diabetes dataset provides a practical case for applying various data science techniques, from data preprocessing and visualization to model building and evaluation, making it an excellent resource for learning and experimentation."
   ]
  },
  {
   "cell_type": "code",
   "execution_count": 4,
   "id": "2eb25243",
   "metadata": {
    "execution": {
     "iopub.execute_input": "2024-06-19T12:38:00.503356Z",
     "iopub.status.busy": "2024-06-19T12:38:00.502917Z",
     "iopub.status.idle": "2024-06-19T12:38:00.513600Z",
     "shell.execute_reply": "2024-06-19T12:38:00.512550Z"
    },
    "papermill": {
     "duration": 0.028242,
     "end_time": "2024-06-19T12:38:00.516057",
     "exception": false,
     "start_time": "2024-06-19T12:38:00.487815",
     "status": "completed"
    },
    "tags": []
   },
   "outputs": [
    {
     "data": {
      "text/plain": [
       "Pregnancies                 0\n",
       "Glucose                     0\n",
       "BloodPressure               0\n",
       "SkinThickness               0\n",
       "Insulin                     0\n",
       "BMI                         0\n",
       "DiabetesPedigreeFunction    0\n",
       "Age                         0\n",
       "Outcome                     0\n",
       "dtype: int64"
      ]
     },
     "execution_count": 4,
     "metadata": {},
     "output_type": "execute_result"
    }
   ],
   "source": [
    "df.isnull().sum()"
   ]
  },
  {
   "cell_type": "markdown",
   "id": "7e40442c",
   "metadata": {
    "papermill": {
     "duration": 0.012909,
     "end_time": "2024-06-19T12:38:00.542205",
     "exception": false,
     "start_time": "2024-06-19T12:38:00.529296",
     "status": "completed"
    },
    "tags": []
   },
   "source": [
    "### Explanation\n",
    "\n",
    "1. **`df`**:\n",
    "   - This is a pandas DataFrame, typically created by reading data from a file such as a CSV.\n",
    "\n",
    "2. **`isnull()`**:\n",
    "   - This is a pandas function that checks for missing values (NaNs) in the DataFrame.\n",
    "   - It returns a DataFrame of the same shape as `df` with boolean values: `True` for missing entries and `False` for non-missing entries.\n",
    "\n",
    "3. **`sum()`**:\n",
    "   - This function is then called on the DataFrame returned by `isnull()`.\n",
    "   - When called on a DataFrame, `sum()` adds up the `True` values (which are equivalent to 1) along the specified axis (by default, the axis is 0, which means columns).\n",
    "\n",
    "### Combined Operation\n",
    "\n",
    "When combined, `df.isnull().sum()` performs the following:\n",
    "\n",
    "- **`df.isnull()`**: Generates a DataFrame of the same size as `df` but with `True` for NaN values and `False` for non-NaN values.\n",
    "  \n",
    "\n",
    "- **`.sum()`**: Adds up the `True` values (equivalent to 1) for each column, giving the total count of missing values per column.\n",
    "\n",
    "\n",
    "\n",
    "### Purpose\n",
    "\n",
    "The purpose of this code is to identify and quantify the missing values in each column of the DataFrame. This is a crucial step in data preprocessing, as handling missing values is often necessary before performing any further analysis or training machine learning models.\n",
    "\n",
    "\n",
    "In summary, `df.isnull().sum()` is a concise and effective way to check for and count missing values in each column of a pandas DataFrame."
   ]
  },
  {
   "cell_type": "code",
   "execution_count": 5,
   "id": "3d9fc82a",
   "metadata": {
    "execution": {
     "iopub.execute_input": "2024-06-19T12:38:00.571673Z",
     "iopub.status.busy": "2024-06-19T12:38:00.570147Z",
     "iopub.status.idle": "2024-06-19T12:38:00.611291Z",
     "shell.execute_reply": "2024-06-19T12:38:00.609757Z"
    },
    "papermill": {
     "duration": 0.058921,
     "end_time": "2024-06-19T12:38:00.614297",
     "exception": false,
     "start_time": "2024-06-19T12:38:00.555376",
     "status": "completed"
    },
    "tags": []
   },
   "outputs": [
    {
     "data": {
      "text/html": [
       "<div>\n",
       "<style scoped>\n",
       "    .dataframe tbody tr th:only-of-type {\n",
       "        vertical-align: middle;\n",
       "    }\n",
       "\n",
       "    .dataframe tbody tr th {\n",
       "        vertical-align: top;\n",
       "    }\n",
       "\n",
       "    .dataframe thead th {\n",
       "        text-align: right;\n",
       "    }\n",
       "</style>\n",
       "<table border=\"1\" class=\"dataframe\">\n",
       "  <thead>\n",
       "    <tr style=\"text-align: right;\">\n",
       "      <th></th>\n",
       "      <th>Pregnancies</th>\n",
       "      <th>Glucose</th>\n",
       "      <th>BloodPressure</th>\n",
       "      <th>SkinThickness</th>\n",
       "      <th>Insulin</th>\n",
       "      <th>BMI</th>\n",
       "      <th>DiabetesPedigreeFunction</th>\n",
       "      <th>Age</th>\n",
       "      <th>Outcome</th>\n",
       "    </tr>\n",
       "  </thead>\n",
       "  <tbody>\n",
       "    <tr>\n",
       "      <th>count</th>\n",
       "      <td>768.000000</td>\n",
       "      <td>768.000000</td>\n",
       "      <td>768.000000</td>\n",
       "      <td>768.000000</td>\n",
       "      <td>768.000000</td>\n",
       "      <td>768.000000</td>\n",
       "      <td>768.000000</td>\n",
       "      <td>768.000000</td>\n",
       "      <td>768.000000</td>\n",
       "    </tr>\n",
       "    <tr>\n",
       "      <th>mean</th>\n",
       "      <td>3.845052</td>\n",
       "      <td>120.894531</td>\n",
       "      <td>69.105469</td>\n",
       "      <td>20.536458</td>\n",
       "      <td>79.799479</td>\n",
       "      <td>31.992578</td>\n",
       "      <td>0.471876</td>\n",
       "      <td>33.240885</td>\n",
       "      <td>0.348958</td>\n",
       "    </tr>\n",
       "    <tr>\n",
       "      <th>std</th>\n",
       "      <td>3.369578</td>\n",
       "      <td>31.972618</td>\n",
       "      <td>19.355807</td>\n",
       "      <td>15.952218</td>\n",
       "      <td>115.244002</td>\n",
       "      <td>7.884160</td>\n",
       "      <td>0.331329</td>\n",
       "      <td>11.760232</td>\n",
       "      <td>0.476951</td>\n",
       "    </tr>\n",
       "    <tr>\n",
       "      <th>min</th>\n",
       "      <td>0.000000</td>\n",
       "      <td>0.000000</td>\n",
       "      <td>0.000000</td>\n",
       "      <td>0.000000</td>\n",
       "      <td>0.000000</td>\n",
       "      <td>0.000000</td>\n",
       "      <td>0.078000</td>\n",
       "      <td>21.000000</td>\n",
       "      <td>0.000000</td>\n",
       "    </tr>\n",
       "    <tr>\n",
       "      <th>25%</th>\n",
       "      <td>1.000000</td>\n",
       "      <td>99.000000</td>\n",
       "      <td>62.000000</td>\n",
       "      <td>0.000000</td>\n",
       "      <td>0.000000</td>\n",
       "      <td>27.300000</td>\n",
       "      <td>0.243750</td>\n",
       "      <td>24.000000</td>\n",
       "      <td>0.000000</td>\n",
       "    </tr>\n",
       "    <tr>\n",
       "      <th>50%</th>\n",
       "      <td>3.000000</td>\n",
       "      <td>117.000000</td>\n",
       "      <td>72.000000</td>\n",
       "      <td>23.000000</td>\n",
       "      <td>30.500000</td>\n",
       "      <td>32.000000</td>\n",
       "      <td>0.372500</td>\n",
       "      <td>29.000000</td>\n",
       "      <td>0.000000</td>\n",
       "    </tr>\n",
       "    <tr>\n",
       "      <th>75%</th>\n",
       "      <td>6.000000</td>\n",
       "      <td>140.250000</td>\n",
       "      <td>80.000000</td>\n",
       "      <td>32.000000</td>\n",
       "      <td>127.250000</td>\n",
       "      <td>36.600000</td>\n",
       "      <td>0.626250</td>\n",
       "      <td>41.000000</td>\n",
       "      <td>1.000000</td>\n",
       "    </tr>\n",
       "    <tr>\n",
       "      <th>max</th>\n",
       "      <td>17.000000</td>\n",
       "      <td>199.000000</td>\n",
       "      <td>122.000000</td>\n",
       "      <td>99.000000</td>\n",
       "      <td>846.000000</td>\n",
       "      <td>67.100000</td>\n",
       "      <td>2.420000</td>\n",
       "      <td>81.000000</td>\n",
       "      <td>1.000000</td>\n",
       "    </tr>\n",
       "  </tbody>\n",
       "</table>\n",
       "</div>"
      ],
      "text/plain": [
       "       Pregnancies     Glucose  BloodPressure  SkinThickness     Insulin  \\\n",
       "count   768.000000  768.000000     768.000000     768.000000  768.000000   \n",
       "mean      3.845052  120.894531      69.105469      20.536458   79.799479   \n",
       "std       3.369578   31.972618      19.355807      15.952218  115.244002   \n",
       "min       0.000000    0.000000       0.000000       0.000000    0.000000   \n",
       "25%       1.000000   99.000000      62.000000       0.000000    0.000000   \n",
       "50%       3.000000  117.000000      72.000000      23.000000   30.500000   \n",
       "75%       6.000000  140.250000      80.000000      32.000000  127.250000   \n",
       "max      17.000000  199.000000     122.000000      99.000000  846.000000   \n",
       "\n",
       "              BMI  DiabetesPedigreeFunction         Age     Outcome  \n",
       "count  768.000000                768.000000  768.000000  768.000000  \n",
       "mean    31.992578                  0.471876   33.240885    0.348958  \n",
       "std      7.884160                  0.331329   11.760232    0.476951  \n",
       "min      0.000000                  0.078000   21.000000    0.000000  \n",
       "25%     27.300000                  0.243750   24.000000    0.000000  \n",
       "50%     32.000000                  0.372500   29.000000    0.000000  \n",
       "75%     36.600000                  0.626250   41.000000    1.000000  \n",
       "max     67.100000                  2.420000   81.000000    1.000000  "
      ]
     },
     "execution_count": 5,
     "metadata": {},
     "output_type": "execute_result"
    }
   ],
   "source": [
    "df.describe()"
   ]
  },
  {
   "cell_type": "markdown",
   "id": "0e036029",
   "metadata": {
    "papermill": {
     "duration": 0.013845,
     "end_time": "2024-06-19T12:38:00.642300",
     "exception": false,
     "start_time": "2024-06-19T12:38:00.628455",
     "status": "completed"
    },
    "tags": []
   },
   "source": [
    "### Explanation\n",
    "\n",
    "The `describe()` method provides a summary of statistics pertaining to the DataFrame's numerical columns. By default, it includes the following statistics for each numerical column:\n",
    "\n",
    "- **Count**: The number of non-missing values.\n",
    "- **Mean**: The average of the values.\n",
    "- **Std (Standard Deviation)**: The standard deviation of the values, which measures the amount of variation or dispersion of the values.\n",
    "- **Min**: The minimum value.\n",
    "- **25%**: The 25th percentile (also known as the first quartile), indicating that 25% of the data points are below this value.\n",
    "- **50%**: The 50th percentile (also known as the median), indicating that 50% of the data points are below this value.\n",
    "- **75%**: The 75th percentile (also known as the third quartile), indicating that 75% of the data points are below this value.\n",
    "- **Max**: The maximum value.\n",
    "\n",
    "### Purpose\n",
    "\n",
    "The purpose of using `df.describe()` is to get a quick statistical summary of the numerical data in the DataFrame. This summary provides insights into the distribution and spread of the data, helping to identify:\n",
    "- **Outliers**: Extremely high or low values.\n",
    "- **Central Tendency**: Mean and median values to understand the center of the data.\n",
    "- **Spread**: Standard deviation and range (min to max) to understand the variability in the data.\n",
    "- **Data Quality**: By comparing counts across columns, one can detect missing values (if `count` is less than the total number of rows).\n",
    "\n",
    "### Usage in Data Analysis\n",
    "\n",
    "In data analysis, `df.describe()` is commonly used during the exploratory data analysis (EDA) phase to:\n",
    "- Get an initial understanding of the dataset.\n",
    "- Identify potential issues with the data, such as outliers or missing values.\n",
    "- Formulate hypotheses about the data.\n",
    "- Guide further detailed analysis and data cleaning steps.\n",
    "\n",
    "In summary, `df.describe()` is a powerful tool for quickly obtaining a statistical overview of a pandas DataFrame, aiding in the understanding and analysis of the data."
   ]
  },
  {
   "cell_type": "code",
   "execution_count": 6,
   "id": "88d7cd40",
   "metadata": {
    "execution": {
     "iopub.execute_input": "2024-06-19T12:38:00.673935Z",
     "iopub.status.busy": "2024-06-19T12:38:00.672807Z",
     "iopub.status.idle": "2024-06-19T12:38:00.687505Z",
     "shell.execute_reply": "2024-06-19T12:38:00.686101Z"
    },
    "papermill": {
     "duration": 0.033866,
     "end_time": "2024-06-19T12:38:00.690335",
     "exception": false,
     "start_time": "2024-06-19T12:38:00.656469",
     "status": "completed"
    },
    "tags": []
   },
   "outputs": [
    {
     "data": {
      "text/plain": [
       "Outcome\n",
       "0    500\n",
       "1    268\n",
       "Name: count, dtype: int64"
      ]
     },
     "execution_count": 6,
     "metadata": {},
     "output_type": "execute_result"
    }
   ],
   "source": [
    "df['Outcome'].value_counts()"
   ]
  },
  {
   "cell_type": "markdown",
   "id": "7895dc39",
   "metadata": {
    "papermill": {
     "duration": 0.014413,
     "end_time": "2024-06-19T12:38:00.718942",
     "exception": false,
     "start_time": "2024-06-19T12:38:00.704529",
     "status": "completed"
    },
    "tags": []
   },
   "source": [
    "### Explanation\n",
    "\n",
    "When combined, `df['Outcome'].value_counts()` performs the following:\n",
    "\n",
    "- **`df['Outcome']`**: Selects the 'Outcome' column from the DataFrame, resulting in a Series of binary values (0 and 1).\n",
    "- **`value_counts()`**: Counts the number of occurrences of each unique value (0 and 1) in the 'Outcome' Series.\n",
    "\n",
    "\n",
    "This output indicates that:\n",
    "- There are 500 instances where the 'Outcome' is `0` (the patient does not have diabetes).\n",
    "- There are 268 instances where the 'Outcome' is `1` (the patient has diabetes).\n",
    "\n",
    "### Purpose\n",
    "\n",
    "The purpose of using `df['Outcome'].value_counts()` is to:\n",
    "- Get a quick summary of the distribution of the target variable ('Outcome') in the dataset.\n",
    "- Understand the class balance or imbalance in the dataset.\n",
    "\n",
    "### Usage in Data Analysis\n",
    "\n",
    "In data analysis and machine learning, understanding the distribution of the target variable is crucial for several reasons:\n",
    "- **Class Imbalance**: Identifying if there is an imbalance between classes, which can affect model performance. In classification problems, highly imbalanced classes might require special techniques such as resampling (oversampling the minority class or undersampling the majority class), using different evaluation metrics, or applying specific algorithms designed to handle imbalance.\n",
    "- **Exploratory Data Analysis (EDA)**: Providing insights into the data, which can guide further analysis and preprocessing steps.\n",
    "\n",
    "In summary, `df['Outcome'].value_counts()` is a simple yet powerful way to obtain the frequency distribution of the values in the 'Outcome' column, helping to understand the class distribution in the dataset."
   ]
  },
  {
   "cell_type": "markdown",
   "id": "ff80523f",
   "metadata": {
    "papermill": {
     "duration": 0.013946,
     "end_time": "2024-06-19T12:38:00.747569",
     "exception": false,
     "start_time": "2024-06-19T12:38:00.733623",
     "status": "completed"
    },
    "tags": []
   },
   "source": [
    "# Data Pre-Processing"
   ]
  },
  {
   "cell_type": "code",
   "execution_count": 7,
   "id": "9298d9aa",
   "metadata": {
    "execution": {
     "iopub.execute_input": "2024-06-19T12:38:00.778861Z",
     "iopub.status.busy": "2024-06-19T12:38:00.778387Z",
     "iopub.status.idle": "2024-06-19T12:38:00.786560Z",
     "shell.execute_reply": "2024-06-19T12:38:00.785194Z"
    },
    "papermill": {
     "duration": 0.027396,
     "end_time": "2024-06-19T12:38:00.789263",
     "exception": false,
     "start_time": "2024-06-19T12:38:00.761867",
     "status": "completed"
    },
    "tags": []
   },
   "outputs": [
    {
     "data": {
      "text/plain": [
       "Index(['Pregnancies', 'Glucose', 'BloodPressure', 'SkinThickness', 'Insulin',\n",
       "       'BMI', 'DiabetesPedigreeFunction', 'Age', 'Outcome'],\n",
       "      dtype='object')"
      ]
     },
     "execution_count": 7,
     "metadata": {},
     "output_type": "execute_result"
    }
   ],
   "source": [
    "df.columns"
   ]
  },
  {
   "cell_type": "code",
   "execution_count": 8,
   "id": "1b45dc27",
   "metadata": {
    "execution": {
     "iopub.execute_input": "2024-06-19T12:38:00.820531Z",
     "iopub.status.busy": "2024-06-19T12:38:00.819621Z",
     "iopub.status.idle": "2024-06-19T12:38:00.828098Z",
     "shell.execute_reply": "2024-06-19T12:38:00.826740Z"
    },
    "papermill": {
     "duration": 0.026919,
     "end_time": "2024-06-19T12:38:00.830597",
     "exception": false,
     "start_time": "2024-06-19T12:38:00.803678",
     "status": "completed"
    },
    "tags": []
   },
   "outputs": [
    {
     "data": {
      "text/plain": [
       "Index(['Pregnancies', 'Glucose', 'BloodPressure', 'SkinThickness', 'Insulin',\n",
       "       'BMI', 'DiabetesPedigreeFunction', 'Age'],\n",
       "      dtype='object')"
      ]
     },
     "execution_count": 8,
     "metadata": {},
     "output_type": "execute_result"
    }
   ],
   "source": [
    "col = df.columns[:-1]\n",
    "col"
   ]
  },
  {
   "cell_type": "code",
   "execution_count": 9,
   "id": "87640117",
   "metadata": {
    "execution": {
     "iopub.execute_input": "2024-06-19T12:38:00.861437Z",
     "iopub.status.busy": "2024-06-19T12:38:00.861038Z",
     "iopub.status.idle": "2024-06-19T12:38:00.873478Z",
     "shell.execute_reply": "2024-06-19T12:38:00.871958Z"
    },
    "papermill": {
     "duration": 0.031206,
     "end_time": "2024-06-19T12:38:00.876335",
     "exception": false,
     "start_time": "2024-06-19T12:38:00.845129",
     "status": "completed"
    },
    "tags": []
   },
   "outputs": [
    {
     "name": "stdout",
     "output_type": "stream",
     "text": [
      "Pregnancies 111\n",
      "Glucose 5\n",
      "BloodPressure 35\n",
      "SkinThickness 227\n",
      "Insulin 374\n",
      "BMI 11\n",
      "DiabetesPedigreeFunction 0\n",
      "Age 0\n"
     ]
    }
   ],
   "source": [
    "for i in col:\n",
    "    print(i, len(df.loc[df[i] == 0]))"
   ]
  },
  {
   "cell_type": "markdown",
   "id": "a9b8760e",
   "metadata": {
    "execution": {
     "iopub.execute_input": "2024-06-19T12:09:43.961590Z",
     "iopub.status.busy": "2024-06-19T12:09:43.961150Z",
     "iopub.status.idle": "2024-06-19T12:09:44.037294Z",
     "shell.execute_reply": "2024-06-19T12:09:44.035653Z",
     "shell.execute_reply.started": "2024-06-19T12:09:43.961534Z"
    },
    "papermill": {
     "duration": 0.014805,
     "end_time": "2024-06-19T12:38:00.905797",
     "exception": false,
     "start_time": "2024-06-19T12:38:00.890992",
     "status": "completed"
    },
    "tags": []
   },
   "source": [
    "### Explanation\n",
    "\n",
    "1. **`df.columns[:-1]`**:\n",
    "   - `df.columns` is a pandas property that returns an Index object containing the column labels of the DataFrame `df`.\n",
    "   - `[:-1]` is slicing notation that selects all columns except the last one. This is useful if the last column is the target variable, and you want to focus on the feature columns.\n",
    "\n",
    "2. **`col = df.columns[:-1]`**:\n",
    "   - This assigns the list of all columns except the last one to the variable `col`.\n",
    "\n",
    "3. **`for i in col:`**:\n",
    "   - This initiates a for loop that iterates over each column name in `col`.\n",
    "\n",
    "4. **`df.loc[df[i] == 0]`**:\n",
    "   - `df.loc` is used to access a group of rows and columns by labels or a boolean array.\n",
    "   - `df[i] == 0` creates a boolean Series that is `True` where the column `i` has a value of 0 and `False` elsewhere.\n",
    "   - `df.loc[df[i] == 0]` selects all rows where the column `i` has a value of 0.\n",
    "\n",
    "5. **`len(df.loc[df[i] == 0])`**:\n",
    "   - This calculates the number of rows where the column `i` has a value of 0 by getting the length of the DataFrame subset created by `df.loc[df[i] == 0]`.\n",
    "\n",
    "6. **`print(i, len(df.loc[df[i] == 0]))`**:\n",
    "   - This prints the column name `i` followed by the count of rows where the column `i` has a value of 0.\n",
    "\n",
    "### Combined Operation\n",
    "\n",
    "This code iterates through each column (except the last one) in the DataFrame `df` and prints the name of the column along with the number of rows where the column value is 0.\n",
    "\n",
    "### Purpose\n",
    "\n",
    "The purpose of this code is to identify and count the occurrences of zero values in each feature column of the DataFrame. This can be particularly useful for identifying columns where 0 might be used as a placeholder for missing or special values.\n",
    "\n",
    "This output indicates:\n",
    "- There are 111 rows where 'Pregnancies' is 0.\n",
    "- There are 5 rows where 'Glucose' is 0.\n",
    "- And so on for each column.\n",
    "\n",
    "### Usage in Data Analysis\n",
    "\n",
    "Identifying zero values is useful because:\n",
    "- **Data Cleaning**: Zeros might represent missing or invalid data, especially for biological measurements like glucose or BMI where a value of 0 is not feasible.\n",
    "- **Feature Engineering**: Knowing where zeros occur can help in deciding how to handle them (e.g., imputation, removal, or special treatment).\n",
    "- **Exploratory Data Analysis (EDA)**: Provides insights into the data distribution and potential issues that need to be addressed before applying machine learning algorithms.\n",
    "\n",
    "In summary, this code snippet is used to count and print the number of zero values in each feature column of a DataFrame, which is an essential step in understanding and preprocessing the dataset."
   ]
  },
  {
   "cell_type": "code",
   "execution_count": 10,
   "id": "6c3a796f",
   "metadata": {
    "execution": {
     "iopub.execute_input": "2024-06-19T12:38:00.938023Z",
     "iopub.status.busy": "2024-06-19T12:38:00.937626Z",
     "iopub.status.idle": "2024-06-19T12:38:00.958566Z",
     "shell.execute_reply": "2024-06-19T12:38:00.957282Z"
    },
    "papermill": {
     "duration": 0.040159,
     "end_time": "2024-06-19T12:38:00.961616",
     "exception": false,
     "start_time": "2024-06-19T12:38:00.921457",
     "status": "completed"
    },
    "tags": []
   },
   "outputs": [
    {
     "name": "stdout",
     "output_type": "stream",
     "text": [
      "Pregnancies 0\n",
      "Glucose 0\n",
      "BloodPressure 0\n",
      "SkinThickness 0\n",
      "Insulin 0\n",
      "BMI 0\n",
      "DiabetesPedigreeFunction 0\n",
      "Age 0\n"
     ]
    }
   ],
   "source": [
    "val = SimpleImputer(missing_values = 0, strategy = \"mean\", copy = False)\n",
    "df[col] = val.fit_transform(df[col])\n",
    "\n",
    "\n",
    "for i in col:\n",
    "    print(i, len(df.loc[df[i] == 0]))"
   ]
  },
  {
   "cell_type": "markdown",
   "id": "57c1a7d5",
   "metadata": {
    "papermill": {
     "duration": 0.014977,
     "end_time": "2024-06-19T12:38:00.991399",
     "exception": false,
     "start_time": "2024-06-19T12:38:00.976422",
     "status": "completed"
    },
    "tags": []
   },
   "source": [
    "### Explanation\n",
    "\n",
    "1. **`SimpleImputer(missing_values = 0, strategy = \"mean\", copy = False)`**:\n",
    "   - `SimpleImputer`: This is a class from the `sklearn.impute` module used for imputing missing values.\n",
    "   - `missing_values = 0`: This parameter specifies that the value `0` should be treated as missing. This is useful when `0` is used as a placeholder for missing data.\n",
    "   - `strategy = \"mean\"`: This parameter specifies that missing values should be replaced with the mean of the column.\n",
    "   - `copy = False`: This parameter specifies that the imputation should be done in place, modifying the existing DataFrame instead of creating a copy.\n",
    "\n",
    "2. **`val = SimpleImputer(missing_values = 0, strategy = \"mean\", copy = False)`**:\n",
    "   - This line creates an instance of `SimpleImputer` with the specified parameters, stored in the variable `val`.\n",
    "\n",
    "3. **`df[col] = val.fit_transform(df[col])`**:\n",
    "   - `df[col]`: This selects the columns specified in `col` from the DataFrame `df`.\n",
    "   - `val.fit_transform(df[col])`: This method fits the imputer on the selected columns (calculates the mean of each column) and then transforms the columns by replacing the missing values (`0`s) with the calculated means.\n",
    "   - The transformed columns are then assigned back to `df[col]`, effectively updating the DataFrame with the imputed values.\n",
    "\n",
    "4. **`for i in col:`**:\n",
    "   - This initiates a for loop that iterates over each column name in `col`.\n",
    "\n",
    "5. **`print(i, len(df.loc[df[i] == 0]))`**:\n",
    "   - This prints the name of the column `i` and the number of rows where the column `i` has a value of `0` after the imputation.\n",
    "\n",
    "### Combined Operation\n",
    "\n",
    "The code performs the following steps:\n",
    "1. Identifies `0` values in the specified columns (`col`) as missing values.\n",
    "2. Replaces these `0` values with the mean of the respective columns.\n",
    "3. Prints the count of `0` values in each column after the imputation to verify if there are any remaining `0` values.\n",
    "\n",
    "### Example in Context\n",
    "\n",
    "1. Any `0` values in columns such as `Glucose`, `BloodPressure`, `SkinThickness`, `Insulin`, `BMI`, etc., are replaced with the mean of the respective column.\n",
    "2. After the imputation, the script prints out the count of remaining `0` values for each column.\n",
    "\n",
    "\n",
    "\n",
    "### Purpose\n",
    "\n",
    "The purpose of this code is to handle missing values (represented as `0`s) in the dataset by replacing them with the mean of the respective columns, ensuring that the data is suitable for further analysis or machine learning modeling. The subsequent print statements help verify that the imputation was successful.\n",
    "\n",
    "### Usage in Data Analysis\n",
    "\n",
    "This code snippet is part of the data preprocessing phase, ensuring that the dataset has no missing values that could negatively impact the performance of machine learning algorithms. It is crucial for:\n",
    "- **Data Cleaning**: Replacing invalid or placeholder values with meaningful statistical values.\n",
    "- **Model Training**: Ensuring the data fed into machine learning models is complete and clean, leading to better model performance."
   ]
  },
  {
   "cell_type": "markdown",
   "id": "d74664b0",
   "metadata": {
    "papermill": {
     "duration": 0.014327,
     "end_time": "2024-06-19T12:38:01.021245",
     "exception": false,
     "start_time": "2024-06-19T12:38:01.006918",
     "status": "completed"
    },
    "tags": []
   },
   "source": [
    "# Visualizations"
   ]
  },
  {
   "cell_type": "code",
   "execution_count": 11,
   "id": "e2133d4c",
   "metadata": {
    "execution": {
     "iopub.execute_input": "2024-06-19T12:38:01.138454Z",
     "iopub.status.busy": "2024-06-19T12:38:01.137963Z",
     "iopub.status.idle": "2024-06-19T12:38:01.493342Z",
     "shell.execute_reply": "2024-06-19T12:38:01.491999Z"
    },
    "papermill": {
     "duration": 0.459985,
     "end_time": "2024-06-19T12:38:01.496007",
     "exception": false,
     "start_time": "2024-06-19T12:38:01.036022",
     "status": "completed"
    },
    "tags": []
   },
   "outputs": [
    {
     "data": {
      "text/plain": [
       "<Axes: title={'center': 'Pregnancies'}, ylabel='Frequency'>"
      ]
     },
     "execution_count": 11,
     "metadata": {},
     "output_type": "execute_result"
    },
    {
     "data": {
      "image/png": "[encoded data removed]",
      "text/plain": [
       "<Figure size 640x480 with 1 Axes>"
      ]
     },
     "metadata": {},
     "output_type": "display_data"
    }
   ],
   "source": [
    "df['Pregnancies'].plot(kind='hist', bins=20, title='Pregnancies')"
   ]
  },
  {
   "cell_type": "markdown",
   "id": "2287e699",
   "metadata": {
    "papermill": {
     "duration": 0.014301,
     "end_time": "2024-06-19T12:38:01.524940",
     "exception": false,
     "start_time": "2024-06-19T12:38:01.510639",
     "status": "completed"
    },
    "tags": []
   },
   "source": [
    "### Explanation\n",
    "\n",
    "1. **`df['Pregnancies']`**:\n",
    "   - This accesses the 'Pregnancies' column from the pandas DataFrame `df`.\n",
    "\n",
    "2. **`.plot()`**:\n",
    "   - This is a pandas method that provides a simple interface for plotting data from a DataFrame or Series.\n",
    "\n",
    "3. **`kind='hist'`**:\n",
    "   - The `kind` parameter specifies the type of plot. In this case, `'hist'` indicates that a histogram should be plotted.\n",
    "   - A histogram is a graphical representation of the distribution of a dataset. It partitions the data into bins (intervals) and shows how many data points fall into each bin.\n",
    "\n",
    "4. **`bins=20`**:\n",
    "   - The `bins` parameter specifies the number of bins (intervals) to use in the histogram. Here, the histogram will divide the 'Pregnancies' data into 20 bins.\n",
    "   - The choice of bins can affect the appearance and interpretation of the histogram.\n",
    "\n",
    "5. **`title='Pregnancies'`**:\n",
    "   - The `title` parameter sets the title of the plot. In this case, the plot will have the title 'Pregnancies'.\n",
    "\n",
    "### Combined Operation\n",
    "\n",
    "The code creates and displays a histogram of the 'Pregnancies' column from the DataFrame `df`, dividing the data into 20 bins and setting the title of the plot to 'Pregnancies'.\n",
    "\n",
    "### Purpose\n",
    "\n",
    "The purpose of this code is to visualize the distribution of the 'Pregnancies' column in the dataset. This helps to understand:\n",
    "\n",
    "- **Frequency Distribution**: How frequently different numbers of pregnancies occur in the dataset.\n",
    "- **Central Tendency**: Where most data points are concentrated (e.g., around 0-2 pregnancies).\n",
    "- **Spread and Range**: How spread out the data points are, and the range of values.\n",
    "- **Outliers**: If there are any unusual values (e.g., a very high number of pregnancies).\n",
    "\n",
    "### Usage in Data Analysis\n",
    "\n",
    "Creating histograms is a fundamental part of Exploratory Data Analysis (EDA). Histograms provide insights into the structure and distribution of the data, which is crucial for:\n",
    "\n",
    "- **Identifying Data Patterns**: Recognizing common patterns, such as skewness or bimodality.\n",
    "- **Detecting Anomalies**: Spotting outliers or unusual values that may need further investigation.\n",
    "- **Guiding Data Preprocessing**: Informing decisions about data normalization, scaling, or transformations.\n",
    "\n",
    "In summary, `df['Pregnancies'].plot(kind='hist', bins=20, title='Pregnancies')` is a straightforward way to visualize the distribution of the 'Pregnancies' column in a dataset, providing valuable insights into the data's characteristics."
   ]
  },
  {
   "cell_type": "code",
   "execution_count": 12,
   "id": "6d897ca5",
   "metadata": {
    "execution": {
     "iopub.execute_input": "2024-06-19T12:38:01.557180Z",
     "iopub.status.busy": "2024-06-19T12:38:01.556330Z",
     "iopub.status.idle": "2024-06-19T12:38:01.817835Z",
     "shell.execute_reply": "2024-06-19T12:38:01.816789Z"
    },
    "papermill": {
     "duration": 0.280729,
     "end_time": "2024-06-19T12:38:01.820180",
     "exception": false,
     "start_time": "2024-06-19T12:38:01.539451",
     "status": "completed"
    },
    "tags": []
   },
   "outputs": [
    {
     "data": {
      "text/plain": [
       "<Axes: title={'center': 'Glucose'}, ylabel='Frequency'>"
      ]
     },
     "execution_count": 12,
     "metadata": {},
     "output_type": "execute_result"
    },
    {
     "data": {
      "image/png": "[encoded data removed]",
      "text/plain": [
       "<Figure size 640x480 with 1 Axes>"
      ]
     },
     "metadata": {},
     "output_type": "display_data"
    }
   ],
   "source": [
    "df['Glucose'].plot(kind='hist', bins=20, title='Glucose')"
   ]
  },
  {
   "cell_type": "markdown",
   "id": "20392695",
   "metadata": {
    "papermill": {
     "duration": 0.014431,
     "end_time": "2024-06-19T12:38:01.849491",
     "exception": false,
     "start_time": "2024-06-19T12:38:01.835060",
     "status": "completed"
    },
    "tags": []
   },
   "source": [
    "### Explanation\n",
    "\n",
    "1. **`df['Glucose']`**:\n",
    "   - This accesses the 'Glucose' column from the pandas DataFrame `df`.\n",
    "\n",
    "2. **`.plot()`**:\n",
    "   - This is a pandas method that provides a simple interface for plotting data from a DataFrame or Series.\n",
    "\n",
    "3. **`kind='hist'`**:\n",
    "   - The `kind` parameter specifies the type of plot. In this case, `'hist'` indicates that a histogram should be plotted.\n",
    "   - A histogram is a graphical representation of the distribution of a dataset. It partitions the data into bins (intervals) and shows how many data points fall into each bin.\n",
    "\n",
    "4. **`bins=20`**:\n",
    "   - The `bins` parameter specifies the number of bins (intervals) to use in the histogram. Here, the histogram will divide the 'Glucose' data into 20 bins.\n",
    "   - The choice of bins can affect the appearance and interpretation of the histogram.\n",
    "\n",
    "5. **`title='Glucose'`**:\n",
    "   - The `title` parameter sets the title of the plot. In this case, the plot will have the title 'Glucose'.\n",
    "\n",
    "### Combined Operation\n",
    "\n",
    "The code creates and displays a histogram of the 'Glucose' column from the DataFrame `df`, dividing the data into 20 bins and setting the title of the plot to 'Glucose'.\n",
    "\n",
    "\n",
    "### Purpose\n",
    "\n",
    "The purpose of this code is to visualize the distribution of the 'Glucose' column in the dataset. This helps to understand:\n",
    "\n",
    "- **Frequency Distribution**: How frequently different glucose levels occur in the dataset.\n",
    "- **Central Tendency**: Where most data points are concentrated (e.g., around typical glucose levels).\n",
    "- **Spread and Range**: How spread out the data points are, and the range of glucose values.\n",
    "- **Outliers**: If there are any unusual glucose values (e.g., very high or very low levels).\n",
    "\n",
    "### Usage in Data Analysis\n",
    "\n",
    "Creating histograms is a fundamental part of Exploratory Data Analysis (EDA). Histograms provide insights into the structure and distribution of the data, which is crucial for:\n",
    "\n",
    "- **Identifying Data Patterns**: Recognizing common patterns, such as skewness or bimodality in glucose levels.\n",
    "- **Detecting Anomalies**: Spotting outliers or unusual glucose values that may need further investigation.\n",
    "- **Guiding Data Preprocessing**: Informing decisions about data normalization, scaling, or transformations.\n",
    "\n",
    "In summary, `df['Glucose'].plot(kind='hist', bins=20, title='Glucose')` is a straightforward way to visualize the distribution of the 'Glucose' column in a dataset, providing valuable insights into the data's characteristics."
   ]
  },
  {
   "cell_type": "code",
   "execution_count": 13,
   "id": "fb5f6ed4",
   "metadata": {
    "execution": {
     "iopub.execute_input": "2024-06-19T12:38:01.881082Z",
     "iopub.status.busy": "2024-06-19T12:38:01.880141Z",
     "iopub.status.idle": "2024-06-19T12:38:02.184105Z",
     "shell.execute_reply": "2024-06-19T12:38:02.182964Z"
    },
    "papermill": {
     "duration": 0.322306,
     "end_time": "2024-06-19T12:38:02.186448",
     "exception": false,
     "start_time": "2024-06-19T12:38:01.864142",
     "status": "completed"
    },
    "tags": []
   },
   "outputs": [
    {
     "data": {
      "text/plain": [
       "<Axes: title={'center': 'BloodPressure'}, ylabel='Frequency'>"
      ]
     },
     "execution_count": 13,
     "metadata": {},
     "output_type": "execute_result"
    },
    {
     "data": {
      "image/png": "[encoded data removed]",
      "text/plain": [
       "<Figure size 640x480 with 1 Axes>"
      ]
     },
     "metadata": {},
     "output_type": "display_data"
    }
   ],
   "source": [
    "df['BloodPressure'].plot(kind='hist', bins=20, title='BloodPressure')"
   ]
  },
  {
   "cell_type": "code",
   "execution_count": 14,
   "id": "e57da564",
   "metadata": {
    "execution": {
     "iopub.execute_input": "2024-06-19T12:38:02.218962Z",
     "iopub.status.busy": "2024-06-19T12:38:02.218525Z",
     "iopub.status.idle": "2024-06-19T12:38:02.501567Z",
     "shell.execute_reply": "2024-06-19T12:38:02.500251Z"
    },
    "papermill": {
     "duration": 0.302356,
     "end_time": "2024-06-19T12:38:02.504130",
     "exception": false,
     "start_time": "2024-06-19T12:38:02.201774",
     "status": "completed"
    },
    "tags": []
   },
   "outputs": [
    {
     "data": {
      "text/plain": [
       "<Axes: title={'center': 'BMI'}, ylabel='Frequency'>"
      ]
     },
     "execution_count": 14,
     "metadata": {},
     "output_type": "execute_result"
    },
    {
     "data": {
      "image/png": "[encoded data removed]",
      "text/plain": [
       "<Figure size 640x480 with 1 Axes>"
      ]
     },
     "metadata": {},
     "output_type": "display_data"
    }
   ],
   "source": [
    "df['BMI'].plot(kind='hist', bins=20, title='BMI')"
   ]
  },
  {
   "cell_type": "code",
   "execution_count": 15,
   "id": "3f2439b0",
   "metadata": {
    "execution": {
     "iopub.execute_input": "2024-06-19T12:38:02.538271Z",
     "iopub.status.busy": "2024-06-19T12:38:02.537872Z",
     "iopub.status.idle": "2024-06-19T12:38:02.954412Z",
     "shell.execute_reply": "2024-06-19T12:38:02.953301Z"
    },
    "papermill": {
     "duration": 0.436282,
     "end_time": "2024-06-19T12:38:02.956935",
     "exception": false,
     "start_time": "2024-06-19T12:38:02.520653",
     "status": "completed"
    },
    "tags": []
   },
   "outputs": [
    {
     "data": {
      "image/png": "[encoded data removed]",
      "text/plain": [
       "<Figure size 1000x600 with 1 Axes>"
      ]
     },
     "metadata": {},
     "output_type": "display_data"
    }
   ],
   "source": [
    "plt.figure(figsize=(10, 6))\n",
    "plt.hist(df[df['Outcome'] == 0]['DiabetesPedigreeFunction'], alpha=0.5, label='Outcome 0', bins=20)\n",
    "plt.hist(df[df['Outcome'] == 1]['DiabetesPedigreeFunction'], alpha=0.5, label='Outcome 1', bins=20)\n",
    "plt.xlabel('Diabetes Pedigree Function')\n",
    "plt.ylabel('Frequency')\n",
    "plt.title('Distribution of Diabetes Pedigree Function by Outcome')\n",
    "_ = plt.legend()"
   ]
  },
  {
   "cell_type": "markdown",
   "id": "0ce86db6",
   "metadata": {
    "papermill": {
     "duration": 0.016972,
     "end_time": "2024-06-19T12:38:02.990574",
     "exception": false,
     "start_time": "2024-06-19T12:38:02.973602",
     "status": "completed"
    },
    "tags": []
   },
   "source": [
    "\n",
    "### Explanation\n",
    "\n",
    "1. **`plt.figure(figsize=(10, 6))`**:\n",
    "   - `plt.figure()` is a function from the matplotlib library used to create a new figure for plotting.\n",
    "   - `figsize=(10, 6)` sets the size of the figure to 10 inches in width and 6 inches in height.\n",
    "\n",
    "2. **`plt.hist(df[df['Outcome'] == 0]['DiabetesPedigreeFunction'], alpha=0.5, label='Outcome 0', bins=20)`**:\n",
    "   - `plt.hist()` is a function in matplotlib used to plot a histogram.\n",
    "   - `df[df['Outcome'] == 0]['DiabetesPedigreeFunction']` selects the 'DiabetesPedigreeFunction' column from rows where 'Outcome' is 0.\n",
    "   - `alpha=0.5` sets the transparency of the histogram bars to 50%.\n",
    "   - `label='Outcome 0'` assigns a label to this histogram, which will be used in the legend.\n",
    "   - `bins=20` specifies the number of bins (intervals) to use in the histogram.\n",
    "\n",
    "3. **`plt.hist(df[df['Outcome'] == 1]['DiabetesPedigreeFunction'], alpha=0.5, label='Outcome 1', bins=20)`**:\n",
    "   - Similar to the previous line, this plots a histogram for the 'DiabetesPedigreeFunction' column where 'Outcome' is 1.\n",
    "   - `alpha=0.5` and `label='Outcome 1'` are used similarly to the previous `plt.hist()` call.\n",
    "\n",
    "4. **`plt.xlabel('Diabetes Pedigree Function')`**:\n",
    "   - Sets the label for the x-axis of the plot.\n",
    "\n",
    "5. **`plt.ylabel('Frequency')`**:\n",
    "   - Sets the label for the y-axis of the plot.\n",
    "\n",
    "6. **`plt.title('Distribution of Diabetes Pedigree Function by Outcome')`**:\n",
    "   - Sets the title of the plot.\n",
    "\n",
    "7. **`_ = plt.legend()`**:\n",
    "   - `plt.legend()` displays the legend on the plot, automatically using the labels provided in the `plt.hist()` calls.\n",
    "   - `_ = ` is used to suppress the output of `plt.legend()` to avoid displaying unnecessary information in the notebook.\n",
    "\n",
    "### Combined Operation\n",
    "\n",
    "This code creates a figure with a size of 10x6 inches and plots two histograms on the same plot:\n",
    "- One histogram shows the distribution of 'DiabetesPedigreeFunction' for rows where 'Outcome' is 0 (no diabetes).\n",
    "- The other histogram shows the distribution of 'DiabetesPedigreeFunction' for rows where 'Outcome' is 1 (diabetes).\n",
    "- The histograms are overlaid with transparency (`alpha=0.5`) to better visualize their overlap.\n",
    "- Labels, title, and axis labels are added to provide context and clarity to the plot.\n",
    "\n",
    "### Purpose\n",
    "\n",
    "The purpose of this code is to visualize and compare the distribution of the 'DiabetesPedigreeFunction' feature between two different outcomes ('Outcome' 0 and 'Outcome' 1). This visualization helps to understand how the 'DiabetesPedigreeFunction' values are distributed among diabetic and non-diabetic individuals in the dataset.\n",
    "\n",
    "### Usage in Data Analysis\n",
    "\n",
    "Such visualizations are essential in Exploratory Data Analysis (EDA) to:\n",
    "- **Compare Distributions**: Understand how different variables behave across different categories (in this case, diabetic and non-diabetic outcomes).\n",
    "- **Identify Patterns**: Spot any differences or similarities in the distributions that might be relevant for modeling or further analysis.\n",
    "- **Hypothesis Generation**: Formulate hypotheses about potential relationships between variables based on visual patterns observed.\n",
    "\n",
    "In summary, this code snippet uses matplotlib to create a histogram overlay plot to compare the distribution of 'DiabetesPedigreeFunction' across two outcomes ('Outcome' 0 and 'Outcome' 1) in the dataset, providing insights into the relationship between this feature and the target variable."
   ]
  },
  {
   "cell_type": "code",
   "execution_count": 16,
   "id": "9d28133a",
   "metadata": {
    "execution": {
     "iopub.execute_input": "2024-06-19T12:38:03.025283Z",
     "iopub.status.busy": "2024-06-19T12:38:03.024877Z",
     "iopub.status.idle": "2024-06-19T12:38:03.390202Z",
     "shell.execute_reply": "2024-06-19T12:38:03.389109Z"
    },
    "papermill": {
     "duration": 0.385241,
     "end_time": "2024-06-19T12:38:03.392708",
     "exception": false,
     "start_time": "2024-06-19T12:38:03.007467",
     "status": "completed"
    },
    "tags": []
   },
   "outputs": [
    {
     "data": {
      "image/png": "[encoded data removed]",
      "text/plain": [
       "<Figure size 640x480 with 1 Axes>"
      ]
     },
     "metadata": {},
     "output_type": "display_data"
    }
   ],
   "source": [
    "plt.hist(df[df['Outcome'] == 0]['Glucose'], alpha=0.5, label='Outcome 0')\n",
    "plt.hist(df[df['Outcome'] == 1]['Glucose'], alpha=0.5, label='Outcome 1')\n",
    "plt.xlabel('Glucose')\n",
    "plt.ylabel('Frequency')\n",
    "plt.title('Distribution of Glucose by Outcome')\n",
    "_ = plt.legend()"
   ]
  },
  {
   "cell_type": "markdown",
   "id": "fe77686e",
   "metadata": {
    "papermill": {
     "duration": 0.01592,
     "end_time": "2024-06-19T12:38:03.426128",
     "exception": false,
     "start_time": "2024-06-19T12:38:03.410208",
     "status": "completed"
    },
    "tags": []
   },
   "source": [
    "### Explanation\n",
    "\n",
    "1. **`plt.hist(df[df['Outcome'] == 0]['Glucose'], alpha=0.5, label='Outcome 0')`**:\n",
    "   - `plt.hist()` is a function in matplotlib used to plot a histogram.\n",
    "   - `df[df['Outcome'] == 0]['Glucose']` selects the 'Glucose' column from rows where 'Outcome' is 0.\n",
    "   - `alpha=0.5` sets the transparency of the histogram bars to 50%.\n",
    "   - `label='Outcome 0'` assigns a label to this histogram, which will be used in the legend.\n",
    "\n",
    "2. **`plt.hist(df[df['Outcome'] == 1]['Glucose'], alpha=0.5, label='Outcome 1')`**:\n",
    "   - Similar to the previous line, this plots a histogram for the 'Glucose' column where 'Outcome' is 1.\n",
    "   - `alpha=0.5` and `label='Outcome 1'` are used similarly to the previous `plt.hist()` call.\n",
    "\n",
    "3. **`plt.xlabel('Glucose')`**:\n",
    "   - Sets the label for the x-axis of the plot to 'Glucose'.\n",
    "\n",
    "4. **`plt.ylabel('Frequency')`**:\n",
    "   - Sets the label for the y-axis of the plot to 'Frequency'.\n",
    "\n",
    "5. **`plt.title('Distribution of Glucose by Outcome')`**:\n",
    "   - Sets the title of the plot to 'Distribution of Glucose by Outcome'.\n",
    "\n",
    "6. **`_ = plt.legend()`**:\n",
    "   - `plt.legend()` displays the legend on the plot, automatically using the labels provided in the `plt.hist()` calls.\n",
    "   - `_ = ` is used to suppress the output of `plt.legend()` to avoid displaying unnecessary information in the notebook.\n",
    "\n",
    "### Combined Operation\n",
    "\n",
    "This code creates a histogram plot to visualize the distribution of the 'Glucose' column in the DataFrame `df` based on the outcome ('Outcome' column). Specifically:\n",
    "- It plots two histograms on the same plot:\n",
    "  - One histogram shows the distribution of 'Glucose' for rows where 'Outcome' is 0 (no diabetes).\n",
    "  - The other histogram shows the distribution of 'Glucose' for rows where 'Outcome' is 1 (diabetes).\n",
    "- The histograms are overlaid with transparency (`alpha=0.5`) to better visualize their overlap.\n",
    "- Labels (`label='Outcome 0'` and `label='Outcome 1'`), title, and axis labels are added to provide context and clarity to the plot.\n",
    "\n",
    "### Purpose\n",
    "\n",
    "The purpose of this code is to visually compare the distribution of the 'Glucose' levels between two different outcomes ('Outcome' 0 and 'Outcome' 1). This visualization helps to understand how 'Glucose' levels differ between diabetic and non-diabetic individuals in the dataset.\n",
    "\n",
    "### Usage in Data Analysis\n",
    "\n",
    "Visualizations like this are crucial in Exploratory Data Analysis (EDA) to:\n",
    "- **Compare Distributions**: Understand how a particular feature ('Glucose' in this case) behaves across different categories (diabetic and non-diabetic outcomes).\n",
    "- **Identify Patterns**: Detect any differences or similarities in the distributions that might be relevant for further analysis or modeling.\n",
    "- **Hypothesis Generation**: Formulate hypotheses about potential relationships between variables based on visual patterns observed.\n",
    "\n",
    "In summary, this code snippet uses matplotlib to create a histogram overlay plot to compare the distribution of 'Glucose' levels across two outcomes ('Outcome' 0 and 'Outcome' 1) in the dataset, providing insights into the relationship between this feature and the target variable."
   ]
  },
  {
   "cell_type": "code",
   "execution_count": 17,
   "id": "dab428b9",
   "metadata": {
    "execution": {
     "iopub.execute_input": "2024-06-19T12:38:03.461080Z",
     "iopub.status.busy": "2024-06-19T12:38:03.460635Z",
     "iopub.status.idle": "2024-06-19T12:38:03.894465Z",
     "shell.execute_reply": "2024-06-19T12:38:03.892777Z"
    },
    "papermill": {
     "duration": 0.45526,
     "end_time": "2024-06-19T12:38:03.897849",
     "exception": false,
     "start_time": "2024-06-19T12:38:03.442589",
     "status": "completed"
    },
    "tags": []
   },
   "outputs": [
    {
     "data": {
      "image/png": "[encoded data removed]",
      "text/plain": [
       "<Figure size 1000x600 with 2 Axes>"
      ]
     },
     "metadata": {},
     "output_type": "display_data"
    }
   ],
   "source": [
    "plt.figure(figsize=(10, 6))\n",
    "plt.scatter(df['BMI'], df['BloodPressure'], c=df['Age'], cmap='viridis')\n",
    "plt.colorbar(label='Age')\n",
    "plt.xlabel('BMI')\n",
    "plt.ylabel('Blood Pressure')\n",
    "_ = plt.title('Blood Pressure vs BMI by Age Group')"
   ]
  },
  {
   "cell_type": "markdown",
   "id": "58f0d21c",
   "metadata": {
    "papermill": {
     "duration": 0.021568,
     "end_time": "2024-06-19T12:38:03.945205",
     "exception": false,
     "start_time": "2024-06-19T12:38:03.923637",
     "status": "completed"
    },
    "tags": []
   },
   "source": [
    "### Explanation\n",
    "\n",
    "1. **`plt.figure(figsize=(10, 6))`**:\n",
    "   - `plt.figure()` is a function from the matplotlib library used to create a new figure for plotting.\n",
    "   - `figsize=(10, 6)` sets the size of the figure to 10 inches in width and 6 inches in height. This ensures that the subsequent plot (`scatter` plot in this case) will be displayed in a larger, more readable format.\n",
    "\n",
    "2. **`plt.scatter(df['BMI'], df['BloodPressure'], c=df['Age'], cmap='viridis')`**:\n",
    "   - `plt.scatter()` is a function in matplotlib used to create a scatter plot.\n",
    "   - `df['BMI']` and `df['BloodPressure']` are used as the x-axis and y-axis data, respectively.\n",
    "   - `c=df['Age']` specifies that the color of each point in the scatter plot will be based on the values in the 'Age' column of the DataFrame `df`.\n",
    "   - `cmap='viridis'` specifies the colormap to use for mapping the 'Age' values to colors. 'Viridis' is a perceptually uniform colormap which is helpful in visualizing continuous data.\n",
    "\n",
    "3. **`plt.colorbar(label='Age')`**:\n",
    "   - `plt.colorbar()` adds a colorbar to the plot, which provides a visual representation of the mapping between colors and values.\n",
    "   - `label='Age'` sets the label for the colorbar to 'Age', indicating that the color of each point corresponds to the age value in the dataset.\n",
    "\n",
    "4. **`plt.xlabel('BMI')`**:\n",
    "   - Sets the label for the x-axis of the plot to 'BMI'.\n",
    "\n",
    "5. **`plt.ylabel('Blood Pressure')`**:\n",
    "   - Sets the label for the y-axis of the plot to 'Blood Pressure'.\n",
    "\n",
    "6. **`_ = plt.title('Blood Pressure vs BMI by Age Group')`**:\n",
    "   - Sets the title of the plot to 'Blood Pressure vs BMI by Age Group'.\n",
    "   - `_ = ` is used to suppress the output of `plt.title()` to avoid displaying unnecessary information in the notebook.\n",
    "\n",
    "### Combined Operation\n",
    "\n",
    "This code creates a scatter plot to visualize the relationship between 'BMI' (Body Mass Index) and 'Blood Pressure', with the color of each point representing the age of individuals in the dataset. The figure size is set to 10x6 inches for better readability. Additional annotations such as axis labels, a colorbar, and a title are included to provide context and interpretation for the plot.\n",
    "\n",
    "### Purpose\n",
    "\n",
    "The purpose of this code is to explore and visualize how 'BMI' and 'Blood Pressure' are related across different age groups. By using color to represent age, the plot can reveal any patterns or correlations between these variables and age.\n",
    "\n",
    "### Usage in Data Analysis\n",
    "\n",
    "Scatter plots with color-coded data points (like this one) are valuable in exploratory data analysis (EDA) because they:\n",
    "- **Show Multivariate Relationships**: Display relationships between multiple variables ('BMI', 'Blood Pressure', and 'Age' in this case) simultaneously.\n",
    "- **Highlight Patterns**: Identify clusters or trends in the data that may not be evident from individual scatter plots.\n",
    "- **Facilitate Insight**: Provide a visual means to interpret complex relationships and correlations between variables.\n",
    "\n",
    "In summary, this code snippet uses matplotlib to create a scatter plot where 'BMI' and 'Blood Pressure' are plotted against each other, with colors representing different age groups. It helps in understanding how these variables relate across different age categories in the dataset."
   ]
  },
  {
   "cell_type": "code",
   "execution_count": 18,
   "id": "c7453c01",
   "metadata": {
    "execution": {
     "iopub.execute_input": "2024-06-19T12:38:03.984119Z",
     "iopub.status.busy": "2024-06-19T12:38:03.983434Z",
     "iopub.status.idle": "2024-06-19T12:38:04.409489Z",
     "shell.execute_reply": "2024-06-19T12:38:04.408329Z"
    },
    "papermill": {
     "duration": 0.448164,
     "end_time": "2024-06-19T12:38:04.411828",
     "exception": false,
     "start_time": "2024-06-19T12:38:03.963664",
     "status": "completed"
    },
    "tags": []
   },
   "outputs": [
    {
     "data": {
      "image/png": "[encoded data removed]",
      "text/plain": [
       "<Figure size 800x600 with 2 Axes>"
      ]
     },
     "metadata": {},
     "output_type": "display_data"
    }
   ],
   "source": [
    "plt.figure(figsize=(8, 6))\n",
    "plt.scatter(df['BMI'], df['SkinThickness'], c=df['Outcome'], cmap='coolwarm')\n",
    "plt.colorbar(label='Outcome')\n",
    "plt.xlabel('BMI')\n",
    "plt.ylabel('Skin Thickness')\n",
    "_ = plt.title('Skin Thickness vs BMI by Outcome')"
   ]
  },
  {
   "cell_type": "markdown",
   "id": "c90c4cdc",
   "metadata": {
    "papermill": {
     "duration": 0.020258,
     "end_time": "2024-06-19T12:38:04.452587",
     "exception": false,
     "start_time": "2024-06-19T12:38:04.432329",
     "status": "completed"
    },
    "tags": []
   },
   "source": [
    "### Explanation\n",
    "\n",
    "1. **`plt.figure(figsize=(8, 6))`**:\n",
    "   - `plt.figure()` is a function from the matplotlib library used to create a new figure for plotting.\n",
    "   - `figsize=(8, 6)` sets the size of the figure to 8 inches in width and 6 inches in height. This ensures that the subsequent plot (`scatter` plot in this case) will be displayed in a larger, more readable format.\n",
    "\n",
    "2. **`plt.scatter(df['BMI'], df['SkinThickness'], c=df['Outcome'], cmap='coolwarm')`**:\n",
    "   - `plt.scatter()` is a function in matplotlib used to create a scatter plot.\n",
    "   - `df['BMI']` and `df['SkinThickness']` are used as the x-axis and y-axis data, respectively.\n",
    "   - `c=df['Outcome']` specifies that the color of each point in the scatter plot will be based on the values in the 'Outcome' column of the DataFrame `df`.\n",
    "   - `cmap='coolwarm'` specifies the colormap to use for mapping the 'Outcome' values to colors. 'Coolwarm' is a colormap that ranges from blue (representing Outcome 0) to red (representing Outcome 1).\n",
    "\n",
    "3. **`plt.colorbar(label='Outcome')`**:\n",
    "   - `plt.colorbar()` adds a colorbar to the plot, which provides a visual representation of the mapping between colors and values.\n",
    "   - `label='Outcome'` sets the label for the colorbar to 'Outcome', indicating that the color of each point corresponds to the outcome value (0 or 1) in the dataset.\n",
    "\n",
    "4. **`plt.xlabel('BMI')`**:\n",
    "   - Sets the label for the x-axis of the plot to 'BMI'.\n",
    "\n",
    "5. **`plt.ylabel('Skin Thickness')`**:\n",
    "   - Sets the label for the y-axis of the plot to 'Skin Thickness'.\n",
    "\n",
    "6. **`_ = plt.title('Skin Thickness vs BMI by Outcome')`**:\n",
    "   - Sets the title of the plot to 'Skin Thickness vs BMI by Outcome'.\n",
    "   - `_ = ` is used to suppress the output of `plt.title()` to avoid displaying unnecessary information in the notebook.\n",
    "\n",
    "### Combined Operation\n",
    "\n",
    "This code creates a scatter plot to visualize the relationship between 'BMI' (Body Mass Index) and 'Skin Thickness', with the color of each point representing the outcome ('Outcome' column) of individuals in the dataset. The figure size is set to 8x6 inches for better readability. Additional annotations such as axis labels, a colorbar, and a title are included to provide context and interpretation for the plot.\n",
    "\n",
    "### Purpose\n",
    "\n",
    "The purpose of this code is to explore and visualize how 'BMI' and 'Skin Thickness' are related across different outcomes (0 and 1) in the dataset. By using color to represent the outcome, the plot can reveal any patterns or correlations between these variables and the likelihood of diabetes (Outcome).\n",
    "\n",
    "### Usage in Data Analysis\n",
    "\n",
    "Scatter plots with color-coded data points (like this one) are useful in exploratory data analysis (EDA) because they:\n",
    "- **Show Multivariate Relationships**: Display relationships between multiple variables ('BMI', 'Skin Thickness', and 'Outcome' in this case) simultaneously.\n",
    "- **Highlight Patterns**: Identify clusters or trends in the data that may not be evident from individual scatter plots.\n",
    "- **Facilitate Insight**: Provide a visual means to interpret complex relationships and correlations between variables.\n",
    "\n",
    "In summary, this code snippet uses matplotlib to create a scatter plot where 'BMI' and 'Skin Thickness' are plotted against each other, with colors representing different outcomes (0 and 1). It helps in understanding how these variables relate to the likelihood of diabetes as indicated by the 'Outcome' column in the dataset."
   ]
  },
  {
   "cell_type": "markdown",
   "id": "c8f60243",
   "metadata": {
    "papermill": {
     "duration": 0.01952,
     "end_time": "2024-06-19T12:38:04.492200",
     "exception": false,
     "start_time": "2024-06-19T12:38:04.472680",
     "status": "completed"
    },
    "tags": []
   },
   "source": [
    "# Train - Test - Split"
   ]
  },
  {
   "cell_type": "code",
   "execution_count": 19,
   "id": "48c074de",
   "metadata": {
    "execution": {
     "iopub.execute_input": "2024-06-19T12:38:04.535121Z",
     "iopub.status.busy": "2024-06-19T12:38:04.534373Z",
     "iopub.status.idle": "2024-06-19T12:38:04.540676Z",
     "shell.execute_reply": "2024-06-19T12:38:04.539639Z"
    },
    "papermill": {
     "duration": 0.029955,
     "end_time": "2024-06-19T12:38:04.542783",
     "exception": false,
     "start_time": "2024-06-19T12:38:04.512828",
     "status": "completed"
    },
    "tags": []
   },
   "outputs": [],
   "source": [
    "x = df.drop('Outcome', axis = 1)\n",
    "y = df['Outcome']"
   ]
  },
  {
   "cell_type": "code",
   "execution_count": 20,
   "id": "a2181788",
   "metadata": {
    "execution": {
     "iopub.execute_input": "2024-06-19T12:38:04.584138Z",
     "iopub.status.busy": "2024-06-19T12:38:04.583458Z",
     "iopub.status.idle": "2024-06-19T12:38:04.593426Z",
     "shell.execute_reply": "2024-06-19T12:38:04.592511Z"
    },
    "papermill": {
     "duration": 0.033302,
     "end_time": "2024-06-19T12:38:04.595836",
     "exception": false,
     "start_time": "2024-06-19T12:38:04.562534",
     "status": "completed"
    },
    "tags": []
   },
   "outputs": [],
   "source": [
    "x_train, x_test, y_train, y_test = train_test_split(x, y, stratify = y, random_state = 42)"
   ]
  },
  {
   "cell_type": "markdown",
   "id": "f2556f65",
   "metadata": {
    "papermill": {
     "duration": 0.019582,
     "end_time": "2024-06-19T12:38:04.635423",
     "exception": false,
     "start_time": "2024-06-19T12:38:04.615841",
     "status": "completed"
    },
    "tags": []
   },
   "source": [
    "### Explanation\n",
    "\n",
    "1. **`train_test_split()`**:\n",
    "   - `train_test_split` is a function from the `sklearn.model_selection` module in scikit-learn (imported earlier as `from sklearn.model_selection import train_test_split`).\n",
    "   - It splits arrays or matrices (`x` and `y`) into random train and test subsets.\n",
    "   - The function signature is `train_test_split(arrays, options)`, where:\n",
    "     - `arrays`: This refers to the data to be split, typically `x` (features) and `y` (target).\n",
    "     - `options`: Additional parameters to control the split.\n",
    "\n",
    "2. **`x` and `y`**:\n",
    "   - `x` typically represents the feature dataset (independent variables).\n",
    "   - `y` typically represents the target dataset (dependent variable or label).\n",
    "\n",
    "3. **`stratify=y`**:\n",
    "   - The `stratify` parameter ensures that the train and test datasets have the same proportion of class labels as the input dataset `y`.\n",
    "   - This is particularly useful for classification tasks where the target variable `y` is categorical.\n",
    "   - Ensuring that each class is proportionally represented in both training and testing sets helps in maintaining the overall distribution of the target variable.\n",
    "\n",
    "4. **`random_state=42`**:\n",
    "   - `random_state` is used to ensure reproducibility of the split.\n",
    "   - When `random_state` is set to a specific integer (here, 42), `train_test_split()` will always split the data in the same way if run multiple times, provided the same dataset and parameters are used.\n",
    "   - This is crucial for reproducibility in machine learning experiments.\n",
    "\n",
    "5. **`x_train, x_test, y_train, y_test`**:\n",
    "   - These variables hold the resulting training and testing sets after splitting.\n",
    "   - `x_train` and `y_train` are the training set features and labels, respectively.\n",
    "   - `x_test` and `y_test` are the testing set features and labels, respectively.\n",
    "\n",
    "### Purpose\n",
    "\n",
    "The purpose of splitting a dataset into training and testing sets is to evaluate the performance of a machine learning model. Typically, the model is trained on the training set (`x_train` and `y_train`) and then evaluated on the unseen testing set (`x_test` and `y_test`). This split helps in assessing how well the model generalizes to new, unseen data.\n",
    "\n",
    "### Usage in Machine Learning\n",
    "\n",
    "- **Model Training**: The training set (`x_train`, `y_train`) is used to fit the model and adjust its parameters.\n",
    "- **Model Evaluation**: The testing set (`x_test`, `y_test`) is used to evaluate the model's performance and assess its predictive ability on new data.\n",
    "- **Validation**: By comparing model performance on training and testing sets, one can detect issues such as overfitting (where the model performs well on training data but poorly on testing data).\n",
    "\n",
    "In summary, `train_test_split()` is a fundamental function in machine learning for splitting datasets into training and testing sets, enabling robust model evaluation and validation. The `stratify` parameter ensures balanced class distributions in the splits, and `random_state` ensures reproducibility of the split across different runs."
   ]
  },
  {
   "cell_type": "code",
   "execution_count": 21,
   "id": "d5fd4221",
   "metadata": {
    "execution": {
     "iopub.execute_input": "2024-06-19T12:38:04.676807Z",
     "iopub.status.busy": "2024-06-19T12:38:04.676439Z",
     "iopub.status.idle": "2024-06-19T12:38:04.683227Z",
     "shell.execute_reply": "2024-06-19T12:38:04.682045Z"
    },
    "papermill": {
     "duration": 0.029972,
     "end_time": "2024-06-19T12:38:04.685448",
     "exception": false,
     "start_time": "2024-06-19T12:38:04.655476",
     "status": "completed"
    },
    "tags": []
   },
   "outputs": [
    {
     "data": {
      "text/plain": [
       "((576, 8), (576,), (192, 8), (192,))"
      ]
     },
     "execution_count": 21,
     "metadata": {},
     "output_type": "execute_result"
    }
   ],
   "source": [
    "x_train.shape, y_train.shape, x_test.shape, y_test.shape"
   ]
  },
  {
   "cell_type": "code",
   "execution_count": 22,
   "id": "401c28f9",
   "metadata": {
    "execution": {
     "iopub.execute_input": "2024-06-19T12:38:04.727122Z",
     "iopub.status.busy": "2024-06-19T12:38:04.726703Z",
     "iopub.status.idle": "2024-06-19T12:38:04.734020Z",
     "shell.execute_reply": "2024-06-19T12:38:04.732908Z"
    },
    "papermill": {
     "duration": 0.03074,
     "end_time": "2024-06-19T12:38:04.736122",
     "exception": false,
     "start_time": "2024-06-19T12:38:04.705382",
     "status": "completed"
    },
    "tags": []
   },
   "outputs": [],
   "source": [
    "def evalute(model, x_train, x_test, y_train, y_test):\n",
    "    y_train_pred = model.predict(x_train)\n",
    "    y_test_pred  = model.predict(x_test)\n",
    "    \n",
    "    print(\"Training Results\\n\")\n",
    "    \n",
    "    rep = pd.DataFrame(classification_report(y_train, y_train_pred, output_dict = True))\n",
    "    print(\"Confusion Matrix\\n\",confusion_matrix(y_train, y_train_pred))\n",
    "    print(\"Accuracy Score\\n\",accuracy_score(y_train, y_train_pred))\n",
    "    print(\"Classification Report\",rep)\n",
    "    \n",
    "    print(\"\\nTesting Results\\n\")\n",
    "    \n",
    "    rep = pd.DataFrame(classification_report(y_test, y_test_pred, output_dict = True))\n",
    "    print(\"Confusion Matrix\\n\",confusion_matrix(y_test, y_test_pred))\n",
    "    print(\"Accuracy Score\\n\",accuracy_score(y_test, y_test_pred))\n",
    "    print(\"Classification Report\",rep)\n",
    "    \n",
    "    "
   ]
  },
  {
   "cell_type": "markdown",
   "id": "a7bd5de3",
   "metadata": {
    "papermill": {
     "duration": 0.019447,
     "end_time": "2024-06-19T12:38:04.775703",
     "exception": false,
     "start_time": "2024-06-19T12:38:04.756256",
     "status": "completed"
    },
    "tags": []
   },
   "source": [
    "This Python function `evaluate` is designed to evaluate the performance of a machine learning model on both training and testing datasets. \n",
    "\n",
    "### Explanation\n",
    "\n",
    "1. **Function Definition**:\n",
    "   - `def evaluate(model, x_train, x_test, y_train, y_test):`\n",
    "     - This defines a function named `evaluate` that takes five parameters:\n",
    "       - `model`: The machine learning model to evaluate (assumed to have a `predict` method).\n",
    "       - `x_train`: The features of the training set.\n",
    "       - `x_test`: The features of the testing set.\n",
    "       - `y_train`: The true labels of the training set.\n",
    "       - `y_test`: The true labels of the testing set.\n",
    "\n",
    "2. **Predictions**:\n",
    "   - `y_train_pred = model.predict(x_train)`: Predicts labels for the training set using the provided model.\n",
    "   - `y_test_pred  = model.predict(x_test)`: Predicts labels for the testing set using the provided model.\n",
    "\n",
    "3. **Printing Training Results**:\n",
    "   - Prints training evaluation metrics:\n",
    "     - **Confusion Matrix**: Shows the number of true positive, true negative, false positive, and false negative predictions.\n",
    "     - **Accuracy Score**: Calculates the accuracy of the model on the training set.\n",
    "     - **Classification Report**: Provides precision, recall, F1-score, and support metrics for each class in the training set.\n",
    "\n",
    "4. **Printing Testing Results**:\n",
    "   - Prints testing evaluation metrics:\n",
    "     - **Confusion Matrix**: Shows the number of true positive, true negative, false positive, and false negative predictions for the testing set.\n",
    "     - **Accuracy Score**: Calculates the accuracy of the model on the testing set.\n",
    "     - **Classification Report**: Provides precision, recall, F1-score, and support metrics for each class in the testing set.\n",
    "\n",
    "5. **Output Formatting**:\n",
    "   - Uses pandas (`pd.DataFrame`) to format the classification report into a DataFrame for better presentation and analysis.\n",
    "\n",
    "### Purpose\n",
    "\n",
    "The purpose of this `evaluate` function is to streamline the process of evaluating a machine learning model by:\n",
    "- Generating predictions on both training and testing datasets.\n",
    "- Calculating and printing key evaluation metrics (confusion matrix, accuracy score, and classification report) for both datasets.\n",
    "- Providing insights into how well the model performs on both seen (training) and unseen (testing) data.\n",
    "\n",
    "### Usage\n",
    "\n",
    "- **Model Development**: After fitting a model (`model`) on training data (`x_train`, `y_train`), this function helps assess its performance.\n",
    "- **Model Comparison**: Facilitates comparison of multiple models by providing standardized evaluation outputs.\n",
    "- **Tuning**: Helps in tuning model hyperparameters based on evaluation metrics.\n",
    "- **Reporting**: Generates detailed reports that can be used to communicate model performance to stakeholders or for documentation purposes.\n",
    "\n",
    "In summary, `evaluate` is a utility function that enhances the efficiency and clarity of model evaluation in machine learning workflows, providing essential insights into model performance across training and testing datasets."
   ]
  },
  {
   "cell_type": "markdown",
   "id": "81e31f3c",
   "metadata": {
    "papermill": {
     "duration": 0.019624,
     "end_time": "2024-06-19T12:38:04.815101",
     "exception": false,
     "start_time": "2024-06-19T12:38:04.795477",
     "status": "completed"
    },
    "tags": []
   },
   "source": [
    "# Model Building"
   ]
  },
  {
   "cell_type": "markdown",
   "id": "c027c17d",
   "metadata": {
    "papermill": {
     "duration": 0.019583,
     "end_time": "2024-06-19T12:38:04.854455",
     "exception": false,
     "start_time": "2024-06-19T12:38:04.834872",
     "status": "completed"
    },
    "tags": []
   },
   "source": [
    "## DecisionTree"
   ]
  },
  {
   "cell_type": "code",
   "execution_count": 23,
   "id": "13be5454",
   "metadata": {
    "execution": {
     "iopub.execute_input": "2024-06-19T12:38:04.896224Z",
     "iopub.status.busy": "2024-06-19T12:38:04.895807Z",
     "iopub.status.idle": "2024-06-19T12:38:04.950034Z",
     "shell.execute_reply": "2024-06-19T12:38:04.948927Z"
    },
    "papermill": {
     "duration": 0.078195,
     "end_time": "2024-06-19T12:38:04.952518",
     "exception": false,
     "start_time": "2024-06-19T12:38:04.874323",
     "status": "completed"
    },
    "tags": []
   },
   "outputs": [
    {
     "data": {
      "text/plain": [
       "array([0.63636364, 0.64935065, 0.64935065, 0.83006536, 0.7254902 ])"
      ]
     },
     "execution_count": 23,
     "metadata": {},
     "output_type": "execute_result"
    }
   ],
   "source": [
    "model = DecisionTreeClassifier()\n",
    "score = cross_val_score(model, x,y, cv = 5)\n",
    "score"
   ]
  },
  {
   "cell_type": "markdown",
   "id": "b3f09536",
   "metadata": {
    "papermill": {
     "duration": 0.02087,
     "end_time": "2024-06-19T12:38:04.993580",
     "exception": false,
     "start_time": "2024-06-19T12:38:04.972710",
     "status": "completed"
    },
    "tags": []
   },
   "source": [
    "### Explanation\n",
    "\n",
    "1. **`model = DecisionTreeClassifier()`**:\n",
    "   - This line creates an instance of the `DecisionTreeClassifier` class from scikit-learn (`sklearn`).\n",
    "   - `DecisionTreeClassifier` is a class that implements a decision tree algorithm, which is a supervised learning method used for classification tasks.\n",
    "\n",
    "2. **`cross_val_score(model, x, y, cv=5)`**:\n",
    "   - `cross_val_score` is a function from the `sklearn.model_selection` module used for cross-validation.\n",
    "   - Parameters:\n",
    "     - `model`: The machine learning model to be evaluated, in this case, a `DecisionTreeClassifier`.\n",
    "     - `x`: The input features (independent variables) of the dataset.\n",
    "     - `y`: The target labels (dependent variable) of the dataset.\n",
    "     - `cv=5`: The number of folds (or partitions) in the cross-validation process. Here, `cv=5` specifies 5-fold cross-validation.\n",
    "\n",
    "3. **`score`**:\n",
    "   - `cross_val_score` returns an array of scores, where each score corresponds to the accuracy of the model for each fold in the cross-validation.\n",
    "   - The variable `score` stores these scores.\n",
    "\n",
    "### Purpose\n",
    "\n",
    "The purpose of this code snippet is to:\n",
    "- Create a `DecisionTreeClassifier` model.\n",
    "- Use 5-fold cross-validation (`cv=5`) to evaluate the model's performance on the dataset.\n",
    "- Obtain and store the cross-validation scores in the `score` variable.\n",
    "\n",
    "### Usage in Machine Learning\n",
    "\n",
    "- **Model Evaluation**: Cross-validation is used to evaluate how well a model performs on unseen data by partitioning the dataset into multiple subsets (folds). It helps assess the model's robustness and generalization capability.\n",
    "- **Parameter Tuning**: Cross-validation is often used in hyperparameter tuning to select the optimal parameters that yield the best model performance.\n",
    "- **Model Selection**: By comparing cross-validation scores across different models, one can select the best-performing model for deployment.\n",
    "\n",
    "### Output Interpretation\n",
    "\n",
    "The `score` variable will contain an array of accuracy scores (one for each fold) from the cross-validation process. These scores can be used to assess the average performance of the `DecisionTreeClassifier` model on the dataset and provide insights into its variability across different subsets.\n",
    "\n",
    "In summary, this code snippet demonstrates how to use `DecisionTreeClassifier` with 5-fold cross-validation to evaluate and obtain performance scores for a classification task, providing essential information for model assessment and selection."
   ]
  },
  {
   "cell_type": "code",
   "execution_count": 24,
   "id": "43ec754d",
   "metadata": {
    "execution": {
     "iopub.execute_input": "2024-06-19T12:38:05.035871Z",
     "iopub.status.busy": "2024-06-19T12:38:05.035507Z",
     "iopub.status.idle": "2024-06-19T12:38:05.042283Z",
     "shell.execute_reply": "2024-06-19T12:38:05.041251Z"
    },
    "papermill": {
     "duration": 0.030733,
     "end_time": "2024-06-19T12:38:05.044408",
     "exception": false,
     "start_time": "2024-06-19T12:38:05.013675",
     "status": "completed"
    },
    "tags": []
   },
   "outputs": [
    {
     "data": {
      "text/plain": [
       "0.6981240981240981"
      ]
     },
     "execution_count": 24,
     "metadata": {},
     "output_type": "execute_result"
    }
   ],
   "source": [
    "score.mean()"
   ]
  },
  {
   "cell_type": "markdown",
   "id": "5fb81667",
   "metadata": {
    "papermill": {
     "duration": 0.01988,
     "end_time": "2024-06-19T12:38:05.084510",
     "exception": false,
     "start_time": "2024-06-19T12:38:05.064630",
     "status": "completed"
    },
    "tags": []
   },
   "source": [
    "## BaggingClassifier"
   ]
  },
  {
   "cell_type": "code",
   "execution_count": 25,
   "id": "c4d331ac",
   "metadata": {
    "execution": {
     "iopub.execute_input": "2024-06-19T12:38:05.126536Z",
     "iopub.status.busy": "2024-06-19T12:38:05.126137Z",
     "iopub.status.idle": "2024-06-19T12:38:10.851630Z",
     "shell.execute_reply": "2024-06-19T12:38:10.850359Z"
    },
    "papermill": {
     "duration": 5.749379,
     "end_time": "2024-06-19T12:38:10.854119",
     "exception": false,
     "start_time": "2024-06-19T12:38:05.104740",
     "status": "completed"
    },
    "tags": []
   },
   "outputs": [
    {
     "data": {
      "text/plain": [
       "0.7638888888888888"
      ]
     },
     "execution_count": 25,
     "metadata": {},
     "output_type": "execute_result"
    }
   ],
   "source": [
    "model = BaggingClassifier(\n",
    "    estimator = DecisionTreeClassifier(),\n",
    "    n_estimators = 1500,\n",
    "    max_samples = 0.8,\n",
    "    oob_score = True, ## OUT OF BAG : - used for testing the model- say out of all the samples,29 was not selected in any models, use that 29 to test the model. After testing, whatever the majority/avg score is thats the oob_score\n",
    "    random_state = 42\n",
    ")\n",
    "\n",
    "model.fit(x_train, y_train)\n",
    "model.oob_score_"
   ]
  },
  {
   "cell_type": "markdown",
   "id": "1cff4f6e",
   "metadata": {
    "papermill": {
     "duration": 0.020535,
     "end_time": "2024-06-19T12:38:10.894979",
     "exception": false,
     "start_time": "2024-06-19T12:38:10.874444",
     "status": "completed"
    },
    "tags": []
   },
   "source": [
    "### Explanation\n",
    "\n",
    "1. **`model = BaggingClassifier(...)`**:\n",
    "   - This initializes a `BaggingClassifier` model from scikit-learn (`sklearn`).\n",
    "   - **Parameters**:\n",
    "     - **`estimator=DecisionTreeClassifier()`**: Specifies the base estimator used for the ensemble, which is a `DecisionTreeClassifier` in this case. Each base estimator will be trained on a random subset of the dataset.\n",
    "     - **`n_estimators=1500`**: Specifies the number of base estimators (decision trees) to create in the ensemble. In this case, 1500 decision trees will be trained.\n",
    "     - **`max_samples=0.8`**: Specifies the fraction of samples to be used for training each base estimator. Here, 80% (`0.8`) of the training data (`x_train` and `y_train`) will be randomly sampled with replacement for each decision tree.\n",
    "     - **`oob_score=True`**: Enables out-of-bag (OOB) scoring. OOB score is a method for estimating the performance of the ensemble model without the need for a separate validation set. Each base estimator in the bagging ensemble is trained on a subset of the data, leaving out a fraction of the data (approximately 20% in this case) which serves as a test set for that estimator.\n",
    "     - **`random_state=42`**: Sets the random seed for reproducibility. The same seed (`42` in this case) ensures that the results are reproducible across different runs.\n",
    "\n",
    "2. **`model.fit(x_train, y_train)`**:\n",
    "   - Trains the bagging classifier model (`model`) on the training data (`x_train` and `y_train`).\n",
    "\n",
    "3. **`model.oob_score_`**:\n",
    "   - After fitting the model, `model.oob_score_` retrieves the out-of-bag score of the bagging classifier.\n",
    "   - The out-of-bag score is the accuracy of the ensemble model measured on the out-of-bag samples (the approximately 20% of data that was not used to train each base estimator).\n",
    "   - It provides an estimate of how well the bagging classifier is expected to perform on unseen data.\n",
    "\n",
    "### Purpose\n",
    "\n",
    "The purpose of using a `BaggingClassifier` with out-of-bag scoring (`oob_score=True`) is to:\n",
    "- **Improve Model Performance**: Bagging (Bootstrap Aggregating) improves model accuracy and reduces overfitting by training multiple base estimators on different subsets of the training data.\n",
    "- **Evaluate Performance**: The out-of-bag score (`oob_score_`) gives an estimate of the classifier's accuracy without the need for an additional validation set, thus optimizing resource usage.\n",
    "- **Enhance Stability**: By using multiple base estimators (decision trees in this case), variability in predictions can be reduced, leading to a more stable model.\n",
    "\n",
    "### Usage in Machine Learning\n",
    "\n",
    "- **Ensemble Learning**: Bagging is a technique used in ensemble learning where multiple models (base estimators) are trained independently and their predictions are aggregated to improve overall performance.\n",
    "- **Handling Large Datasets**: It can handle large datasets efficiently by training base estimators in parallel on different subsets of data.\n",
    "- **Hyperparameter Tuning**: Parameters such as `n_estimators`, `max_samples`, and `random_state` can be tuned to optimize model performance based on specific dataset characteristics.\n",
    "\n",
    "In summary, this code snippet demonstrates how to create and train a `BaggingClassifier` using `DecisionTreeClassifier` as the base estimator, enabling out-of-bag scoring to estimate model performance without additional validation sets."
   ]
  },
  {
   "cell_type": "code",
   "execution_count": 26,
   "id": "ca6f564c",
   "metadata": {
    "execution": {
     "iopub.execute_input": "2024-06-19T12:38:10.938524Z",
     "iopub.status.busy": "2024-06-19T12:38:10.937686Z",
     "iopub.status.idle": "2024-06-19T12:38:11.136051Z",
     "shell.execute_reply": "2024-06-19T12:38:11.134996Z"
    },
    "papermill": {
     "duration": 0.222919,
     "end_time": "2024-06-19T12:38:11.138428",
     "exception": false,
     "start_time": "2024-06-19T12:38:10.915509",
     "status": "completed"
    },
    "tags": []
   },
   "outputs": [
    {
     "data": {
      "text/plain": [
       "0.71875"
      ]
     },
     "execution_count": 26,
     "metadata": {},
     "output_type": "execute_result"
    }
   ],
   "source": [
    "model.score(x_test, y_test)"
   ]
  },
  {
   "cell_type": "code",
   "execution_count": 27,
   "id": "74db4b31",
   "metadata": {
    "execution": {
     "iopub.execute_input": "2024-06-19T12:38:11.181297Z",
     "iopub.status.busy": "2024-06-19T12:38:11.180393Z",
     "iopub.status.idle": "2024-06-19T12:38:11.669503Z",
     "shell.execute_reply": "2024-06-19T12:38:11.668367Z"
    },
    "papermill": {
     "duration": 0.513507,
     "end_time": "2024-06-19T12:38:11.672150",
     "exception": false,
     "start_time": "2024-06-19T12:38:11.158643",
     "status": "completed"
    },
    "tags": []
   },
   "outputs": [
    {
     "name": "stdout",
     "output_type": "stream",
     "text": [
      "Training Results\n",
      "\n",
      "Confusion Matrix\n",
      " [[375   0]\n",
      " [  0 201]]\n",
      "Accuracy Score\n",
      " 1.0\n",
      "Classification Report                0      1  accuracy  macro avg  weighted avg\n",
      "precision    1.0    1.0       1.0        1.0           1.0\n",
      "recall       1.0    1.0       1.0        1.0           1.0\n",
      "f1-score     1.0    1.0       1.0        1.0           1.0\n",
      "support    375.0  201.0       1.0      576.0         576.0\n",
      "\n",
      "Testing Results\n",
      "\n",
      "Confusion Matrix\n",
      " [[103  22]\n",
      " [ 32  35]]\n",
      "Accuracy Score\n",
      " 0.71875\n",
      "Classification Report                     0          1  accuracy   macro avg  weighted avg\n",
      "precision    0.762963   0.614035   0.71875    0.688499      0.710993\n",
      "recall       0.824000   0.522388   0.71875    0.673194      0.718750\n",
      "f1-score     0.792308   0.564516   0.71875    0.678412      0.712818\n",
      "support    125.000000  67.000000   0.71875  192.000000    192.000000\n"
     ]
    }
   ],
   "source": [
    "evalute(model, x_train, x_test, y_train, y_test)"
   ]
  },
  {
   "cell_type": "code",
   "execution_count": 28,
   "id": "c59ef96c",
   "metadata": {
    "execution": {
     "iopub.execute_input": "2024-06-19T12:38:11.715382Z",
     "iopub.status.busy": "2024-06-19T12:38:11.714294Z",
     "iopub.status.idle": "2024-06-19T12:38:41.541256Z",
     "shell.execute_reply": "2024-06-19T12:38:41.540163Z"
    },
    "papermill": {
     "duration": 29.850918,
     "end_time": "2024-06-19T12:38:41.543597",
     "exception": false,
     "start_time": "2024-06-19T12:38:11.692679",
     "status": "completed"
    },
    "tags": []
   },
   "outputs": [
    {
     "data": {
      "text/plain": [
       "0.751362363127069"
      ]
     },
     "execution_count": 28,
     "metadata": {},
     "output_type": "execute_result"
    }
   ],
   "source": [
    "model = BaggingClassifier(\n",
    "    estimator = DecisionTreeClassifier(),\n",
    "    n_estimators = 1500,\n",
    "    max_samples = 0.8,\n",
    "    oob_score = True, ## OUT OF BAG : - used for testing the model- say out of all the samples,29 was not selected in any models, use that 29 to test the model. After testing, whatever the majority/avg score is thats the oob_score\n",
    "    random_state = 42\n",
    ")\n",
    "\n",
    "\n",
    "scores = cross_val_score(model, x,y, cv = 5)\n",
    "scores.mean()"
   ]
  },
  {
   "cell_type": "markdown",
   "id": "9c5e832a",
   "metadata": {
    "papermill": {
     "duration": 0.02012,
     "end_time": "2024-06-19T12:38:41.584567",
     "exception": false,
     "start_time": "2024-06-19T12:38:41.564447",
     "status": "completed"
    },
    "tags": []
   },
   "source": [
    "## RandomForest"
   ]
  },
  {
   "cell_type": "code",
   "execution_count": 29,
   "id": "0bb8afec",
   "metadata": {
    "execution": {
     "iopub.execute_input": "2024-06-19T12:38:41.626932Z",
     "iopub.status.busy": "2024-06-19T12:38:41.626521Z",
     "iopub.status.idle": "2024-06-19T12:38:43.988786Z",
     "shell.execute_reply": "2024-06-19T12:38:43.987489Z"
    },
    "papermill": {
     "duration": 2.386408,
     "end_time": "2024-06-19T12:38:43.991261",
     "exception": false,
     "start_time": "2024-06-19T12:38:41.604853",
     "status": "completed"
    },
    "tags": []
   },
   "outputs": [
    {
     "name": "stdout",
     "output_type": "stream",
     "text": [
      "Training Results\n",
      "\n",
      "Confusion Matrix\n",
      " [[375   0]\n",
      " [  0 201]]\n",
      "Accuracy Score\n",
      " 1.0\n",
      "Classification Report                0      1  accuracy  macro avg  weighted avg\n",
      "precision    1.0    1.0       1.0        1.0           1.0\n",
      "recall       1.0    1.0       1.0        1.0           1.0\n",
      "f1-score     1.0    1.0       1.0        1.0           1.0\n",
      "support    375.0  201.0       1.0      576.0         576.0\n",
      "\n",
      "Testing Results\n",
      "\n",
      "Confusion Matrix\n",
      " [[105  20]\n",
      " [ 31  36]]\n",
      "Accuracy Score\n",
      " 0.734375\n",
      "Classification Report                     0          1  accuracy   macro avg  weighted avg\n",
      "precision    0.772059   0.642857  0.734375    0.707458      0.726973\n",
      "recall       0.840000   0.537313  0.734375    0.688657      0.734375\n",
      "f1-score     0.804598   0.585366  0.734375    0.694982      0.728095\n",
      "support    125.000000  67.000000  0.734375  192.000000    192.000000\n"
     ]
    }
   ],
   "source": [
    "model = RandomForestClassifier(random_state=42, n_estimators = 1000)\n",
    "\n",
    "model.fit(x_train,y_train)\n",
    "\n",
    "evalute(model, x_train, x_test, y_train, y_test)"
   ]
  },
  {
   "cell_type": "markdown",
   "id": "6d28aa9b",
   "metadata": {
    "papermill": {
     "duration": 0.020468,
     "end_time": "2024-06-19T12:38:44.032529",
     "exception": false,
     "start_time": "2024-06-19T12:38:44.012061",
     "status": "completed"
    },
    "tags": []
   },
   "source": [
    "### Explanation\n",
    "\n",
    "1. **`model = RandomForestClassifier(random_state=42, n_estimators=1000)`**:\n",
    "   - This line initializes a `RandomForestClassifier` model from scikit-learn (`sklearn`).\n",
    "   - **Parameters**:\n",
    "     - **`random_state=42`**: Sets the random seed for reproducibility. The same seed (`42` in this case) ensures that the results are reproducible across different runs.\n",
    "     - **`n_estimators=1000`**: Specifies the number of decision trees (estimators) to be used in the random forest ensemble. In this case, 1000 decision trees will be created and trained.\n",
    "\n",
    "2. **`model.fit(x_train, y_train)`**:\n",
    "   - This method trains the `RandomForestClassifier` model (`model`) on the training data (`x_train` and `y_train`).\n",
    "   - The `fit()` method fits (or trains) the model by learning patterns from the input data (`x_train`) and corresponding target labels (`y_train`).\n",
    "\n",
    "3. **`evaluate(model, x_train, x_test, y_train, y_test)`**:\n",
    "   - Calls the `evaluate()` function, which likely prints evaluation metrics for the trained model on both the training and testing datasets.\n",
    "   - This function was previously defined to print metrics such as confusion matrix, accuracy score, and classification report for both training and testing sets.\n",
    "\n",
    "### Purpose\n",
    "\n",
    "The purpose of this code snippet is to:\n",
    "- Create and train a `RandomForestClassifier` model using 1000 decision trees (`n_estimators=1000`).\n",
    "- Use a specified `random_state` for reproducibility.\n",
    "- Evaluate the performance of the trained model (`model`) using the `evaluate()` function on both the training (`x_train`, `y_train`) and testing (`x_test`, `y_test`) datasets.\n",
    "\n",
    "### Random Forest Classifier\n",
    "\n",
    "- **Ensemble Method**: Random Forest is an ensemble learning method that constructs multiple decision trees during training and outputs the class that is the mode of the classes (classification) or mean prediction (regression) of the individual trees.\n",
    "- **Reduces Overfitting**: By averaging multiple decision trees, Random Forest tends to reduce overfitting and improve generalization compared to individual decision trees.\n",
    "- **Feature Importance**: It provides an estimate of feature importance, which can help in understanding which features are most influential in predicting the target variable.\n",
    "\n",
    "### Usage in Machine Learning\n",
    "\n",
    "- **Classification Tasks**: Random Forests are particularly effective for classification tasks, where they can handle both numerical and categorical data.\n",
    "- **Robustness**: They are robust against overfitting, handle missing values, and maintain accuracy even when a large proportion of the data is missing.\n",
    "- **Hyperparameter Tuning**: Parameters such as `n_estimators`, `max_depth`, `min_samples_split`, and `random_state` can be tuned to optimize model performance based on specific dataset characteristics.\n",
    "\n",
    "### Evaluation\n",
    "\n",
    "- The `evaluate()` function is likely used to assess and print various evaluation metrics:\n",
    "  - **Confusion Matrix**: Shows the number of true positive, true negative, false positive, and false negative predictions.\n",
    "  - **Accuracy Score**: Calculates the accuracy of the model on the training and testing sets.\n",
    "  - **Classification Report**: Provides precision, recall, F1-score, and support metrics for each class in the dataset.\n",
    "\n",
    "In summary, this code snippet demonstrates how to create, train, and evaluate a `RandomForestClassifier` model for a classification task using scikit-learn, aiming to assess its performance on both training and testing datasets."
   ]
  },
  {
   "cell_type": "code",
   "execution_count": 30,
   "id": "011b0841",
   "metadata": {
    "execution": {
     "iopub.execute_input": "2024-06-19T12:38:44.091323Z",
     "iopub.status.busy": "2024-06-19T12:38:44.090509Z",
     "iopub.status.idle": "2024-06-19T12:38:45.268407Z",
     "shell.execute_reply": "2024-06-19T12:38:45.267162Z"
    },
    "papermill": {
     "duration": 1.209632,
     "end_time": "2024-06-19T12:38:45.270714",
     "exception": false,
     "start_time": "2024-06-19T12:38:44.061082",
     "status": "completed"
    },
    "tags": []
   },
   "outputs": [
    {
     "data": {
      "text/plain": [
       "0.7605126899244546"
      ]
     },
     "execution_count": 30,
     "metadata": {},
     "output_type": "execute_result"
    }
   ],
   "source": [
    "scores = cross_val_score(RandomForestClassifier(), x, y, cv = 5)\n",
    "scores.mean()"
   ]
  },
  {
   "cell_type": "markdown",
   "id": "381cfb8d",
   "metadata": {
    "papermill": {
     "duration": 0.021186,
     "end_time": "2024-06-19T12:38:45.312951",
     "exception": false,
     "start_time": "2024-06-19T12:38:45.291765",
     "status": "completed"
    },
    "tags": []
   },
   "source": [
    "## Extra Tress"
   ]
  },
  {
   "cell_type": "code",
   "execution_count": 31,
   "id": "77476d55",
   "metadata": {
    "execution": {
     "iopub.execute_input": "2024-06-19T12:38:45.355454Z",
     "iopub.status.busy": "2024-06-19T12:38:45.355043Z",
     "iopub.status.idle": "2024-06-19T12:38:46.582246Z",
     "shell.execute_reply": "2024-06-19T12:38:46.581153Z"
    },
    "papermill": {
     "duration": 1.251109,
     "end_time": "2024-06-19T12:38:46.584566",
     "exception": false,
     "start_time": "2024-06-19T12:38:45.333457",
     "status": "completed"
    },
    "tags": []
   },
   "outputs": [
    {
     "data": {
      "text/plain": [
       "0.7487394957983193"
      ]
     },
     "execution_count": 31,
     "metadata": {},
     "output_type": "execute_result"
    }
   ],
   "source": [
    "extra = ExtraTreesClassifier(n_estimators = 100, max_features = 7, random_state = 42)\n",
    "extra.fit(x_train, y_train)\n",
    "\n",
    "scores = cross_val_score(extra, x,y, cv=5)\n",
    "scores.mean()"
   ]
  },
  {
   "cell_type": "markdown",
   "id": "ed0bde61",
   "metadata": {
    "papermill": {
     "duration": 0.021031,
     "end_time": "2024-06-19T12:38:46.627678",
     "exception": false,
     "start_time": "2024-06-19T12:38:46.606647",
     "status": "completed"
    },
    "tags": []
   },
   "source": [
    "### Explanation\n",
    "\n",
    "1. **`extra = ExtraTreesClassifier(n_estimators=100, max_features=7, random_state=42)`**:\n",
    "   - This line initializes an `ExtraTreesClassifier` model from scikit-learn (`sklearn`).\n",
    "   - **Parameters**:\n",
    "     - **`n_estimators=100`**: Specifies the number of decision trees (estimators) to be used in the ensemble. In this case, 100 decision trees will be created.\n",
    "     - **`max_features=7`**: Specifies the number of features to consider when looking for the best split at each node. Here, 7 features will be randomly selected and considered for each split.\n",
    "     - **`random_state=42`**: Sets the random seed for reproducibility. The same seed (`42` in this case) ensures that the results are reproducible across different runs.\n",
    "\n",
    "2. **`extra.fit(x_train, y_train)`**:\n",
    "   - This method trains the `ExtraTreesClassifier` model (`extra`) on the training data (`x_train` and `y_train`).\n",
    "   - The `fit()` method fits (or trains) the model by learning patterns from the input data (`x_train`) and corresponding target labels (`y_train`).\n",
    "\n",
    "3. **`scores = cross_val_score(extra, x, y, cv=5)`**:\n",
    "   - `cross_val_score` is a function from the `sklearn.model_selection` module used for cross-validation.\n",
    "   - Parameters:\n",
    "     - `extra`: The machine learning model (`ExtraTreesClassifier`) to be evaluated.\n",
    "     - `x`: The input features (independent variables) of the dataset.\n",
    "     - `y`: The target labels (dependent variable) of the dataset.\n",
    "     - `cv=5`: The number of folds (or partitions) in the cross-validation process. Here, `cv=5` specifies 5-fold cross-validation.\n",
    "   - `cross_val_score` computes the cross-validated scores (accuracy in classification tasks) for each fold and returns an array of scores.\n",
    "\n",
    "4. **`scores.mean()`**:\n",
    "   - Calculates the mean of the cross-validated scores (`scores`) obtained from `cross_val_score`.\n",
    "   - This provides an estimate of the model's performance based on cross-validation.\n",
    "\n",
    "### Purpose\n",
    "\n",
    "The purpose of this code snippet is to:\n",
    "- Create and train an `ExtraTreesClassifier` model using specified parameters (`n_estimators`, `max_features`, `random_state`).\n",
    "- Evaluate the model's performance using 5-fold cross-validation (`cv=5`) and compute the average score (`scores.mean()`).\n",
    "\n",
    "### Extra Trees Classifier\n",
    "\n",
    "- **Ensemble Method**: Extra Trees (Extremely Randomized Trees) is an ensemble learning method similar to Random Forests but with some differences in the way splits are made.\n",
    "- **Randomized Splits**: Unlike Random Forests, Extra Trees randomly select feature thresholds instead of searching for the best possible thresholds.\n",
    "- **Reduces Variance**: Extra Trees can further reduce variance compared to Random Forests, although at the cost of increased bias.\n",
    "\n",
    "### Usage in Machine Learning\n",
    "\n",
    "- **Handling Noisy Data**: Extra Trees can perform well in the presence of noisy data due to the randomization in feature selection.\n",
    "- **Efficiency**: It can be computationally more efficient than Random Forests because of its randomized splitting process.\n",
    "- **Hyperparameter Tuning**: Parameters such as `n_estimators`, `max_features`, and `random_state` can be tuned to optimize model performance based on specific dataset characteristics.\n",
    "\n",
    "### Cross-Validation\n",
    "\n",
    "- **Evaluation**: Cross-validation helps assess the model's performance by training and evaluating it multiple times on different subsets of the data.\n",
    "- **Bias-Variance Trade-off**: It provides a more reliable estimate of model performance compared to a single train-test split, as it reduces the impact of data variability.\n",
    "\n",
    "In summary, this code snippet demonstrates how to create, train, and evaluate an `ExtraTreesClassifier` model using scikit-learn, while also leveraging cross-validation to estimate its performance on a given dataset."
   ]
  },
  {
   "cell_type": "code",
   "execution_count": 32,
   "id": "1ade1125",
   "metadata": {
    "execution": {
     "iopub.execute_input": "2024-06-19T12:38:46.671784Z",
     "iopub.status.busy": "2024-06-19T12:38:46.670764Z",
     "iopub.status.idle": "2024-06-19T12:38:46.726084Z",
     "shell.execute_reply": "2024-06-19T12:38:46.725059Z"
    },
    "papermill": {
     "duration": 0.079953,
     "end_time": "2024-06-19T12:38:46.728488",
     "exception": false,
     "start_time": "2024-06-19T12:38:46.648535",
     "status": "completed"
    },
    "tags": []
   },
   "outputs": [
    {
     "name": "stdout",
     "output_type": "stream",
     "text": [
      "Training Results\n",
      "\n",
      "Confusion Matrix\n",
      " [[375   0]\n",
      " [  0 201]]\n",
      "Accuracy Score\n",
      " 1.0\n",
      "Classification Report                0      1  accuracy  macro avg  weighted avg\n",
      "precision    1.0    1.0       1.0        1.0           1.0\n",
      "recall       1.0    1.0       1.0        1.0           1.0\n",
      "f1-score     1.0    1.0       1.0        1.0           1.0\n",
      "support    375.0  201.0       1.0      576.0         576.0\n",
      "\n",
      "Testing Results\n",
      "\n",
      "Confusion Matrix\n",
      " [[102  23]\n",
      " [ 29  38]]\n",
      "Accuracy Score\n",
      " 0.7291666666666666\n",
      "Classification Report                     0          1  accuracy   macro avg  weighted avg\n",
      "precision    0.778626   0.622951  0.729167    0.700788      0.724302\n",
      "recall       0.816000   0.567164  0.729167    0.691582      0.729167\n",
      "f1-score     0.796875   0.593750  0.729167    0.695312      0.725993\n",
      "support    125.000000  67.000000  0.729167  192.000000    192.000000\n"
     ]
    }
   ],
   "source": [
    "evalute(extra, x_train, x_test, y_train, y_test)"
   ]
  },
  {
   "cell_type": "markdown",
   "id": "987a26c7",
   "metadata": {
    "papermill": {
     "duration": 0.020402,
     "end_time": "2024-06-19T12:38:46.770048",
     "exception": false,
     "start_time": "2024-06-19T12:38:46.749646",
     "status": "completed"
    },
    "tags": []
   },
   "source": [
    "## Thank You for Visiting!\n",
    "\n",
    "Thank you so much for taking the time to visit my Kaggle notebook! I hope you found the analysis informative and helpful. Your interest and support mean a lot to me.\n",
    "\n",
    "If you have any questions, suggestions, or feedback, please feel free to leave a comment or reach out to me. Your input is invaluable in helping me improve and grow as a data scientist.\n",
    "\n",
    "Once again, thank you for stopping by! Wishing you all the best in your data science journey.\n",
    "\n",
    "Best regards,\n",
    "\n",
    "Akanksha"
   ]
  }
 ],
 "metadata": {
  "kaggle": {
   "accelerator": "none",
   "dataSources": [
    {
     "datasetId": 1109781,
     "sourceId": 1864668,
     "sourceType": "datasetVersion"
    }
   ],
   "dockerImageVersionId": 30732,
   "isGpuEnabled": false,
   "isInternetEnabled": true,
   "language": "python",
   "sourceType": "notebook"
  },
  "kernelspec": {
   "display_name": "Python 3",
   "language": "python",
   "name": "python3"
  },
  "language_info": {
   "codemirror_mode": {
    "name": "ipython",
    "version": 3
   },
   "file_extension": ".py",
   "mimetype": "text/x-python",
   "name": "python",
   "nbconvert_exporter": "python",
   "pygments_lexer": "ipython3",
   "version": "3.10.13"
  },
  "papermill": {
   "default_parameters": {},
   "duration": 52.169455,
   "end_time": "2024-06-19T12:38:47.411540",
   "environment_variables": {},
   "exception": null,
   "input_path": "__notebook__.ipynb",
   "output_path": "__notebook__.ipynb",
   "parameters": {},
   "start_time": "2024-06-19T12:37:55.242085",
   "version": "2.5.0"
  }
 },
 "nbformat": 4,
 "nbformat_minor": 5
}
