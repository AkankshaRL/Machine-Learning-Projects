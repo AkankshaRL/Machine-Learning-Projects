{
 "cells": [
  {
   "cell_type": "code",
   "execution_count": 1,
   "id": "b1e0a40c",
   "metadata": {
    "_cell_guid": "b1076dfc-b9ad-4769-8c92-a6c4dae69d19",
    "_uuid": "8f2839f25d086af736a60e9eeb907d3b93b6e0e5",
    "execution": {
     "iopub.execute_input": "2024-06-30T14:51:59.763690Z",
     "iopub.status.busy": "2024-06-30T14:51:59.763149Z",
     "iopub.status.idle": "2024-06-30T14:51:59.781332Z",
     "shell.execute_reply": "2024-06-30T14:51:59.780041Z"
    },
    "papermill": {
     "duration": 0.041032,
     "end_time": "2024-06-30T14:51:59.784556",
     "exception": false,
     "start_time": "2024-06-30T14:51:59.743524",
     "status": "completed"
    },
    "tags": []
   },
   "outputs": [
    {
     "name": "stdout",
     "output_type": "stream",
     "text": [
      "/kaggle/input/digit-recognizer/sample_submission.csv\n",
      "/kaggle/input/digit-recognizer/train.csv\n",
      "/kaggle/input/digit-recognizer/test.csv\n"
     ]
    }
   ],
   "source": [
    "# This Python 3 environment comes with many helpful analytics libraries installed\n",
    "# It is defined by the kaggle/python Docker image: https://github.com/kaggle/docker-python\n",
    "# For example, here's several helpful packages to load\n",
    "\n",
    "import numpy as np # linear algebra\n",
    "import pandas as pd # data processing, CSV file I/O (e.g. pd.read_csv)\n",
    "\n",
    "# Input data files are available in the read-only \"../input/\" directory\n",
    "# For example, running this (by clicking run or pressing Shift+Enter) will list all files under the input directory\n",
    "\n",
    "import os\n",
    "for dirname, _, filenames in os.walk('/kaggle/input'):\n",
    "    for filename in filenames:\n",
    "        print(os.path.join(dirname, filename))\n",
    "\n",
    "# You can write up to 20GB to the current directory (/kaggle/working/) that gets preserved as output when you create a version using \"Save & Run All\" \n",
    "# You can also write temporary files to /kaggle/temp/, but they won't be saved outside of the current session"
   ]
  },
  {
   "cell_type": "markdown",
   "id": "a476d29a",
   "metadata": {
    "papermill": {
     "duration": 0.01435,
     "end_time": "2024-06-30T14:51:59.815379",
     "exception": false,
     "start_time": "2024-06-30T14:51:59.801029",
     "status": "completed"
    },
    "tags": []
   },
   "source": [
    "# Importing Necessary Libraries"
   ]
  },
  {
   "cell_type": "code",
   "execution_count": 2,
   "id": "49ca09be",
   "metadata": {
    "execution": {
     "iopub.execute_input": "2024-06-30T14:51:59.850974Z",
     "iopub.status.busy": "2024-06-30T14:51:59.850494Z",
     "iopub.status.idle": "2024-06-30T14:52:09.107212Z",
     "shell.execute_reply": "2024-06-30T14:52:09.105806Z"
    },
    "papermill": {
     "duration": 9.278978,
     "end_time": "2024-06-30T14:52:09.111047",
     "exception": false,
     "start_time": "2024-06-30T14:51:59.832069",
     "status": "completed"
    },
    "tags": []
   },
   "outputs": [],
   "source": [
    "# Importing Tensorflow and keras\n",
    "#Keras is built into TF 2.0\n",
    "\n",
    "import tensorflow as tf\n",
    "from tensorflow.keras import layers\n",
    "from tensorflow.keras.preprocessing.image import ImageDataGenerator\n",
    "import pandas as pd\n",
    "import numpy as np\n",
    "import seaborn as sns\n",
    "import matplotlib.pyplot as plt\n",
    "import matplotlib.image as img\n",
    "%matplotlib inline\n",
    "\n",
    "np.random.seed(2)\n",
    "\n",
    "from sklearn.model_selection import train_test_split\n",
    "from sklearn.metrics import confusion_matrix\n",
    "import itertools\n",
    "\n",
    "#Setting the Theme of the data visualizer Seaborn\n",
    "sns.set(style=\"dark\",context=\"notebook\",palette=\"muted\")\n"
   ]
  },
  {
   "cell_type": "markdown",
   "id": "dca1858c",
   "metadata": {
    "papermill": {
     "duration": 0.014943,
     "end_time": "2024-06-30T14:52:09.141430",
     "exception": false,
     "start_time": "2024-06-30T14:52:09.126487",
     "status": "completed"
    },
    "tags": []
   },
   "source": [
    "# Importing Dataset"
   ]
  },
  {
   "cell_type": "code",
   "execution_count": 3,
   "id": "aeaa5498",
   "metadata": {
    "execution": {
     "iopub.execute_input": "2024-06-30T14:52:09.174337Z",
     "iopub.status.busy": "2024-06-30T14:52:09.173454Z",
     "iopub.status.idle": "2024-06-30T14:52:16.484604Z",
     "shell.execute_reply": "2024-06-30T14:52:16.483193Z"
    },
    "papermill": {
     "duration": 7.33134,
     "end_time": "2024-06-30T14:52:16.487860",
     "exception": false,
     "start_time": "2024-06-30T14:52:09.156520",
     "status": "completed"
    },
    "tags": []
   },
   "outputs": [],
   "source": [
    "train = pd.read_csv(\"../input/digit-recognizer/train.csv\")\n",
    "test = pd.read_csv(\"../input/digit-recognizer/test.csv\")"
   ]
  },
  {
   "cell_type": "markdown",
   "id": "19594042",
   "metadata": {
    "papermill": {
     "duration": 0.014246,
     "end_time": "2024-06-30T14:52:16.517330",
     "exception": false,
     "start_time": "2024-06-30T14:52:16.503084",
     "status": "completed"
    },
    "tags": []
   },
   "source": [
    "# Data Processing "
   ]
  },
  {
   "cell_type": "code",
   "execution_count": 4,
   "id": "885b3839",
   "metadata": {
    "execution": {
     "iopub.execute_input": "2024-06-30T14:52:16.550063Z",
     "iopub.status.busy": "2024-06-30T14:52:16.549573Z",
     "iopub.status.idle": "2024-06-30T14:52:16.982390Z",
     "shell.execute_reply": "2024-06-30T14:52:16.981125Z"
    },
    "papermill": {
     "duration": 0.4531,
     "end_time": "2024-06-30T14:52:16.985480",
     "exception": false,
     "start_time": "2024-06-30T14:52:16.532380",
     "status": "completed"
    },
    "tags": []
   },
   "outputs": [
    {
     "name": "stderr",
     "output_type": "stream",
     "text": [
      "/opt/conda/lib/python3.7/site-packages/seaborn/_decorators.py:43: FutureWarning: Pass the following variable as a keyword arg: x. From version 0.12, the only valid positional argument will be `data`, and passing other arguments without an explicit keyword will result in an error or misinterpretation.\n",
      "  FutureWarning\n"
     ]
    },
    {
     "data": {
      "text/plain": [
       "1    4684\n",
       "7    4401\n",
       "3    4351\n",
       "9    4188\n",
       "2    4177\n",
       "6    4137\n",
       "0    4132\n",
       "4    4072\n",
       "8    4063\n",
       "5    3795\n",
       "Name: label, dtype: int64"
      ]
     },
     "execution_count": 4,
     "metadata": {},
     "output_type": "execute_result"
    },
    {
     "data": {
      "image/png": "[encoded data removed]",
      "text/plain": [
       "<Figure size 432x288 with 1 Axes>"
      ]
     },
     "metadata": {},
     "output_type": "display_data"
    }
   ],
   "source": [
    "Y_train = train['label']\n",
    "\n",
    "#Dropping Label Column\n",
    "X_train = train.drop(labels=['label'],axis=1)\n",
    "\n",
    "#free up some space\n",
    "del train\n",
    "\n",
    "graph = sns.countplot(Y_train)\n",
    " \n",
    "Y_train.value_counts()"
   ]
  },
  {
   "cell_type": "markdown",
   "id": "40889f72",
   "metadata": {
    "papermill": {
     "duration": 0.015943,
     "end_time": "2024-06-30T14:52:17.016894",
     "exception": false,
     "start_time": "2024-06-30T14:52:17.000951",
     "status": "completed"
    },
    "tags": []
   },
   "source": [
    "\n",
    "1. **Extracting Labels:**\n",
    "\n",
    "   ```python\n",
    "   Y_train = train['label']\n",
    "   ```\n",
    "\n",
    "   Here, `train` is a DataFrame containing the MNIST training data. The 'label' column represents the digit (0-9) that each image in the dataset corresponds to. This line extracts the labels from the 'label' column and stores them in `Y_train`.\n",
    "\n",
    "2. **Dropping the Label Column:**\n",
    "\n",
    "   ```python\n",
    "   X_train = train.drop(labels=['label'],axis=1)\n",
    "   ```\n",
    "\n",
    "   This line removes the 'label' column from the `train` DataFrame, leaving only the pixel data of the images. `X_train` now contains only the feature data (pixel values) of the images, without the labels.\n",
    "\n",
    "3. **Freeing Up Memory:**\n",
    "\n",
    "   ```python\n",
    "   del train\n",
    "   ```\n",
    "\n",
    "   This line deletes the `train` DataFrame to free up some memory. After extracting the labels and features, the original `train` DataFrame is no longer needed, so it is removed from memory.\n",
    "\n",
    "4. **Visualizing the Distribution of Labels:**\n",
    "\n",
    "   ```python\n",
    "   graph = sns.countplot(Y_train)\n",
    "   ```\n",
    "\n",
    "   This line uses Seaborn to create a count plot of the `Y_train` labels. This helps visualize the distribution of different digits (0-9) in the training set. \n",
    "\n",
    "5. **Counting the Occurrences of Each Label:**\n",
    "\n",
    "   ```python\n",
    "   Y_train.value_counts()\n",
    "   ```\n",
    "\n",
    "   This line counts the occurrences of each digit in the `Y_train` labels. It returns a Series with the counts of each unique label value, which helps to verify the balance of the dataset.\n",
    "\n",
    "### Context in Building a CNN Model\n",
    "\n",
    "In the context of building a CNN model for the MNIST dataset, these steps are part of the data preprocessing stage. \n",
    "\n",
    "- **Extracting and Separating Data:** The first two steps ensure that the labels (target variable) and the pixel values (features) are separated for further processing.\n",
    "- **Freeing Memory:** The deletion of the original DataFrame helps manage memory usage, which can be crucial when working with large datasets.\n",
    "- **Visualization and Analysis:** Visualizing the label distribution and counting the occurrences help in understanding the dataset better. It can reveal whether the dataset is balanced or if there are any biases in the data, which can affect the training process.\n",
    "\n",
    "After these steps, the next steps would typically involve normalizing the pixel values, reshaping the data to fit the input shape required by the CNN, and then defining and training the CNN model."
   ]
  },
  {
   "cell_type": "markdown",
   "id": "1f16be81",
   "metadata": {
    "papermill": {
     "duration": 0.014875,
     "end_time": "2024-06-30T14:52:17.047570",
     "exception": false,
     "start_time": "2024-06-30T14:52:17.032695",
     "status": "completed"
    },
    "tags": []
   },
   "source": [
    "## Checking for Null Values"
   ]
  },
  {
   "cell_type": "code",
   "execution_count": 5,
   "id": "72954b1f",
   "metadata": {
    "execution": {
     "iopub.execute_input": "2024-06-30T14:52:17.081228Z",
     "iopub.status.busy": "2024-06-30T14:52:17.079765Z",
     "iopub.status.idle": "2024-06-30T14:52:17.125106Z",
     "shell.execute_reply": "2024-06-30T14:52:17.123771Z"
    },
    "papermill": {
     "duration": 0.065199,
     "end_time": "2024-06-30T14:52:17.128015",
     "exception": false,
     "start_time": "2024-06-30T14:52:17.062816",
     "status": "completed"
    },
    "tags": []
   },
   "outputs": [
    {
     "data": {
      "text/plain": [
       "count       784\n",
       "unique        1\n",
       "top       False\n",
       "freq        784\n",
       "dtype: object"
      ]
     },
     "execution_count": 5,
     "metadata": {},
     "output_type": "execute_result"
    }
   ],
   "source": [
    "#Checking for any null or missing values\n",
    "X_train.isnull().any().describe()\n",
    "\n",
    "test.isnull().any().describe()"
   ]
  },
  {
   "cell_type": "markdown",
   "id": "f2938975",
   "metadata": {
    "papermill": {
     "duration": 0.015664,
     "end_time": "2024-06-30T14:52:17.159942",
     "exception": false,
     "start_time": "2024-06-30T14:52:17.144278",
     "status": "completed"
    },
    "tags": []
   },
   "source": [
    "## Normalisation"
   ]
  },
  {
   "cell_type": "code",
   "execution_count": 6,
   "id": "7d0338ce",
   "metadata": {
    "execution": {
     "iopub.execute_input": "2024-06-30T14:52:17.193468Z",
     "iopub.status.busy": "2024-06-30T14:52:17.193021Z",
     "iopub.status.idle": "2024-06-30T14:52:17.342790Z",
     "shell.execute_reply": "2024-06-30T14:52:17.341597Z"
    },
    "papermill": {
     "duration": 0.170245,
     "end_time": "2024-06-30T14:52:17.346051",
     "exception": false,
     "start_time": "2024-06-30T14:52:17.175806",
     "status": "completed"
    },
    "tags": []
   },
   "outputs": [],
   "source": [
    "X_train = X_train/255\n",
    "test = test/255"
   ]
  },
  {
   "cell_type": "markdown",
   "id": "0a0ae529",
   "metadata": {
    "papermill": {
     "duration": 0.015554,
     "end_time": "2024-06-30T14:52:17.377509",
     "exception": false,
     "start_time": "2024-06-30T14:52:17.361955",
     "status": "completed"
    },
    "tags": []
   },
   "source": [
    "### Code Explanation\n",
    "\n",
    "1. **Normalizing Training Data:**\n",
    "\n",
    "   ```python\n",
    "   X_train = X_train / 255\n",
    "   ```\n",
    "\n",
    "   Here, `X_train` contains the pixel values of the training images. The pixel values in the MNIST dataset range from 0 to 255. By dividing each pixel value by 255, the values are scaled to a range between 0 and 1. This normalization step is important for several reasons:\n",
    "   - **Improved Convergence:** Normalizing the input data can help the neural network converge faster during training.\n",
    "   - **Stability:** It helps in maintaining numerical stability in the calculations performed by the network.\n",
    "   - **Consistency:** Ensures that all input features (pixel values) are on the same scale.\n",
    "\n",
    "2. **Normalizing Test Data:**\n",
    "\n",
    "   ```python\n",
    "   test = test / 255\n",
    "   ```\n",
    "\n",
    "   Similarly, this line normalizes the pixel values in the test dataset. `test` contains the pixel values of the images in the test set. Like the training data, the pixel values are scaled to a range between 0 and 1.\n",
    "\n",
    "### Why Normalization is Important in CNNs\n",
    "\n",
    "Normalization is a common preprocessing step in training machine learning models, especially neural networks, for the following reasons:\n",
    "\n",
    "- **Faster Training:** When the input features are normalized, gradient descent can converge more quickly because the gradients are more uniform.\n",
    "- **Better Performance:** Models often perform better when the input data is normalized, as it helps avoid issues with varying scales of input features.\n",
    "- **Prevents Saturation:** For certain activation functions (like sigmoid or tanh), normalization helps prevent the saturation of neurons, where they output values that are too high or too low, making the gradients vanish or explode.\n",
    "\n",
    "### Context in Building a CNN Model for MNIST\n",
    "\n",
    "In the context of building a CNN model for the MNIST dataset, these normalization steps ensure that the pixel values of the images are in a suitable range for the neural network to process effectively. This preprocessing step is typically followed by reshaping the data to fit the input dimensions required by the CNN layers (e.g., adding channel dimensions) and then feeding the normalized data into the CNN for training and evaluation."
   ]
  },
  {
   "cell_type": "code",
   "execution_count": 7,
   "id": "8bb94e58",
   "metadata": {
    "execution": {
     "iopub.execute_input": "2024-06-30T14:52:17.412677Z",
     "iopub.status.busy": "2024-06-30T14:52:17.411748Z",
     "iopub.status.idle": "2024-06-30T14:52:17.419720Z",
     "shell.execute_reply": "2024-06-30T14:52:17.417761Z"
    },
    "papermill": {
     "duration": 0.029058,
     "end_time": "2024-06-30T14:52:17.422485",
     "exception": false,
     "start_time": "2024-06-30T14:52:17.393427",
     "status": "completed"
    },
    "tags": []
   },
   "outputs": [],
   "source": [
    "X_train = X_train.values.reshape(-1,28,28,1)\n",
    "test = test.values.reshape(-1,28,28,1)"
   ]
  },
  {
   "cell_type": "markdown",
   "id": "78894165",
   "metadata": {
    "papermill": {
     "duration": 0.015635,
     "end_time": "2024-06-30T14:52:17.454568",
     "exception": false,
     "start_time": "2024-06-30T14:52:17.438933",
     "status": "completed"
    },
    "tags": []
   },
   "source": [
    "This code snippet is reshaping the data to fit the input requirements of a Convolutional Neural Network (CNN).\n",
    "\n",
    "### Code Explanation\n",
    "\n",
    "1. **Reshaping Training Data:**\n",
    "\n",
    "   ```python\n",
    "   X_train = X_train.values.reshape(-1, 28, 28, 1)\n",
    "   ```\n",
    "\n",
    "   Here, `X_train` contains the normalized pixel values of the training images. The `values` attribute of a DataFrame returns a NumPy array representation of the DataFrame. The `reshape` method is then used to change the shape of this array.\n",
    "\n",
    "   - `-1`: This means that the dimension is inferred from the length of the array and the remaining dimensions specified. Essentially, it computes the correct size for this dimension so that the total size of the array remains unchanged.\n",
    "   - `28, 28`: The MNIST images are 28x28 pixels.\n",
    "   - `1`: This represents the number of channels. For grayscale images, there is only one channel. For colored images, this number would be 3 (representing RGB channels).\n",
    "\n",
    "   After reshaping, `X_train` will have the shape `(number_of_images, 28, 28, 1)`, which is the format expected by CNNs in many deep learning frameworks like TensorFlow and Keras.\n",
    "\n",
    "2. **Reshaping Test Data:**\n",
    "\n",
    "   ```python\n",
    "   test = test.values.reshape(-1, 28, 28, 1)\n",
    "   ```\n",
    "\n",
    "   Similarly, this line reshapes the `test` data. The process is the same as with the training data. The `test` array, which contains the normalized pixel values of the test images, is reshaped to have the shape `(number_of_images, 28, 28, 1)`.\n",
    "\n",
    "### Why Reshaping is Necessary for CNNs\n",
    "\n",
    "Convolutional Neural Networks (CNNs) are designed to work with multi-dimensional data, especially image data that has spatial dimensions (height and width) and a depth dimension (channels). The required input shape for CNNs typically includes:\n",
    "\n",
    "- **Batch size:** Number of images processed together in one forward/backward pass.\n",
    "- **Height and Width:** Dimensions of each image (28x28 for MNIST).\n",
    "- **Channels:** Number of color channels per image (1 for grayscale, 3 for RGB).\n",
    "\n",
    "By reshaping the data to `(number_of_images, 28, 28, 1)`, you ensure that each image is correctly formatted with height, width, and channel dimensions, making it suitable for the convolutional layers of the network.\n",
    "\n",
    "### Context in Building a CNN Model for MNIST\n",
    "\n",
    "In the context of building a CNN model for the MNIST dataset, these reshaping steps are crucial because:\n",
    "\n",
    "1. **Compatibility:** CNN layers require inputs to be in specific shapes to perform convolutions and pooling operations correctly.\n",
    "2. **Efficient Computation:** Properly shaped data ensures that the computational graph is optimized for the operations performed by the CNN.\n",
    "3. **Accurate Modeling:** Ensures that the spatial structure of the image data is preserved, allowing the CNN to effectively learn spatial hierarchies and patterns in the data."
   ]
  },
  {
   "cell_type": "code",
   "execution_count": 8,
   "id": "263b0ca6",
   "metadata": {
    "execution": {
     "iopub.execute_input": "2024-06-30T14:52:17.487773Z",
     "iopub.status.busy": "2024-06-30T14:52:17.487206Z",
     "iopub.status.idle": "2024-06-30T14:52:17.497169Z",
     "shell.execute_reply": "2024-06-30T14:52:17.495783Z"
    },
    "papermill": {
     "duration": 0.030306,
     "end_time": "2024-06-30T14:52:17.500306",
     "exception": false,
     "start_time": "2024-06-30T14:52:17.470000",
     "status": "completed"
    },
    "tags": []
   },
   "outputs": [],
   "source": [
    "Y_train = tf.keras.utils.to_categorical(Y_train, num_classes=10)"
   ]
  },
  {
   "cell_type": "markdown",
   "id": "7ec175ba",
   "metadata": {
    "papermill": {
     "duration": 0.01577,
     "end_time": "2024-06-30T14:52:17.533029",
     "exception": false,
     "start_time": "2024-06-30T14:52:17.517259",
     "status": "completed"
    },
    "tags": []
   },
   "source": [
    "This code snippet converts the labels of the training data into a one-hot encoded format, which is a common preprocessing step when working with categorical data in neural networks. Let's break it down:\n",
    "\n",
    "### Code Explanation\n",
    "\n",
    "```python\n",
    "Y_train = tf.keras.utils.to_categorical(Y_train, num_classes=10)\n",
    "```\n",
    "\n",
    "- **`tf.keras.utils.to_categorical`:** This is a utility function provided by TensorFlow's Keras API. It converts a class vector (integers) into a binary class matrix (one-hot encoding).\n",
    "\n",
    "- **`Y_train`:** This is the array containing the labels of the training data. In the context of the MNIST dataset, each label is an integer between 0 and 9, representing the digit in the image.\n",
    "\n",
    "- **`num_classes=10`:** This specifies the number of classes. For the MNIST dataset, there are 10 possible classes (digits 0 through 9).\n",
    "\n",
    "### What is One-Hot Encoding?\n",
    "\n",
    "One-hot encoding is a process that converts categorical labels into a format that can be provided to machine learning algorithms to do a better job in prediction. \n",
    "\n",
    "For example, if `Y_train` contains the labels `[1, 0, 3, 9]`, after one-hot encoding with `num_classes=10`, it will be transformed into:\n",
    "\n",
    "```\n",
    "[\n",
    " [0, 1, 0, 0, 0, 0, 0, 0, 0, 0],  # label 1\n",
    " [1, 0, 0, 0, 0, 0, 0, 0, 0, 0],  # label 0\n",
    " [0, 0, 0, 1, 0, 0, 0, 0, 0, 0],  # label 3\n",
    " [0, 0, 0, 0, 0, 0, 0, 0, 0, 1]   # label 9\n",
    "]\n",
    "```\n",
    "\n",
    "Each label is converted into a binary vector of length equal to the number of classes, where the index corresponding to the class is set to 1 and all other indices are set to 0.\n",
    "\n",
    "### Why One-Hot Encoding is Important in CNNs\n",
    "\n",
    "- **Compatibility with Loss Functions:** Many loss functions, such as categorical cross-entropy, expect the target labels to be in a one-hot encoded format.\n",
    "- **Avoids Ordinal Relationships:** One-hot encoding ensures that the model does not assume any ordinal relationship between categories. In the case of MNIST, it prevents the model from interpreting the digits as having a numerical order that might affect the learning process.\n",
    "- **Efficient Computation:** One-hot encoded vectors make it easier to compute the loss and perform the backpropagation step during training.\n",
    "\n",
    "### Context in Building a CNN Model for MNIST\n",
    "\n",
    "In the context of building a CNN model for the MNIST dataset, converting the labels to one-hot encoded format is a crucial step. This ensures that the labels are in a suitable format for the output layer of the CNN, which typically uses a softmax activation function for multi-class classification. The softmax function outputs a probability distribution over the classes, and the one-hot encoded labels provide a clear target for computing the loss during training."
   ]
  },
  {
   "cell_type": "markdown",
   "id": "b6c29525",
   "metadata": {
    "papermill": {
     "duration": 0.015271,
     "end_time": "2024-06-30T14:52:17.564112",
     "exception": false,
     "start_time": "2024-06-30T14:52:17.548841",
     "status": "completed"
    },
    "tags": []
   },
   "source": [
    "# Train_Test_Split"
   ]
  },
  {
   "cell_type": "code",
   "execution_count": 9,
   "id": "1cf58916",
   "metadata": {
    "execution": {
     "iopub.execute_input": "2024-06-30T14:52:17.598512Z",
     "iopub.status.busy": "2024-06-30T14:52:17.596935Z",
     "iopub.status.idle": "2024-06-30T14:52:18.259742Z",
     "shell.execute_reply": "2024-06-30T14:52:18.258289Z"
    },
    "papermill": {
     "duration": 0.68329,
     "end_time": "2024-06-30T14:52:18.262891",
     "exception": false,
     "start_time": "2024-06-30T14:52:17.579601",
     "status": "completed"
    },
    "tags": []
   },
   "outputs": [],
   "source": [
    "#Spliting Train and test set\n",
    "random_seed =2\n",
    "\n",
    "X_train,X_val,Y_train,Y_val = train_test_split(X_train,Y_train,test_size=0.1,random_state = random_seed)"
   ]
  },
  {
   "cell_type": "markdown",
   "id": "fedf1013",
   "metadata": {
    "papermill": {
     "duration": 0.015996,
     "end_time": "2024-06-30T14:52:18.294955",
     "exception": false,
     "start_time": "2024-06-30T14:52:18.278959",
     "status": "completed"
    },
    "tags": []
   },
   "source": [
    "This code snippet splits the training data into a new training set and a validation set.\n",
    "\n",
    "### Code Explanation\n",
    "\n",
    "1. **Setting a Random Seed:**\n",
    "\n",
    "   ```python\n",
    "   random_seed = 2\n",
    "   ```\n",
    "\n",
    "   A random seed ensures reproducibility. By setting `random_seed` to a specific value, you ensure that the random processes in the code (like shuffling and splitting the data) produce the same results each time you run the code. This is useful for debugging and comparing results consistently.\n",
    "\n",
    "2. **Splitting the Data:**\n",
    "\n",
    "   ```python\n",
    "   X_train, X_val, Y_train, Y_val = train_test_split(X_train, Y_train, test_size=0.1, random_state=random_seed)\n",
    "   ```\n",
    "\n",
    "   - **`train_test_split`:** This function from the `sklearn.model_selection` module splits arrays or matrices into random train and test subsets.\n",
    "   - **`X_train`:** The feature data (pixel values) for the training set before the split.\n",
    "   - **`Y_train`:** The labels for the training set before the split.\n",
    "   - **`test_size=0.1`:** This specifies that 10% of the data should be set aside for validation. Therefore, 90% of the data will remain in the new training set.\n",
    "   - **`random_state=random_seed`:** Ensures the split is reproducible by setting the seed for the random number generator.\n",
    "\n",
    "After this operation, the data is split as follows:\n",
    "- **`X_train`:** 90% of the original training feature data, which will be used to train the model.\n",
    "- **`X_val`:** 10% of the original training feature data, which will be used to validate the model during training.\n",
    "- **`Y_train`:** 90% of the original training labels, corresponding to `X_train`.\n",
    "- **`Y_val`:** 10% of the original training labels, corresponding to `X_val`.\n",
    "\n",
    "### Why Splitting Data is Important\n",
    "\n",
    "- **Validation Set:** Having a separate validation set helps in evaluating the model's performance during training. By validating the model on unseen data, you can get a better estimate of how well the model generalizes to new data.\n",
    "- **Hyperparameter Tuning:** The validation set can be used to tune hyperparameters, such as learning rate, batch size, and the architecture of the model, without affecting the test set.\n",
    "- **Avoid Overfitting:** By monitoring the validation performance, you can detect overfitting early. If the model performs well on the training set but poorly on the validation set, it indicates that the model is overfitting to the training data.\n",
    "\n",
    "### Context in Building a CNN Model for MNIST\n",
    "\n",
    "In the context of building a CNN model for the MNIST dataset, splitting the data into training and validation sets is crucial for:\n",
    "\n",
    "1. **Model Evaluation:** The validation set provides an unbiased evaluation of the model during the training phase.\n",
    "2. **Model Selection:** Helps in selecting the best model architecture and hyperparameters by comparing performance on the validation set.\n",
    "3. **Improving Generalization:** Ensures that the model is capable of generalizing well to new, unseen data by preventing overfitting.\n",
    "\n",
    "By splitting the data appropriately, you ensure that the CNN model is trained effectively and its performance is evaluated accurately."
   ]
  },
  {
   "cell_type": "code",
   "execution_count": 10,
   "id": "41e533ca",
   "metadata": {
    "execution": {
     "iopub.execute_input": "2024-06-30T14:52:18.328781Z",
     "iopub.status.busy": "2024-06-30T14:52:18.328268Z",
     "iopub.status.idle": "2024-06-30T14:52:18.634478Z",
     "shell.execute_reply": "2024-06-30T14:52:18.632956Z"
    },
    "papermill": {
     "duration": 0.326626,
     "end_time": "2024-06-30T14:52:18.637595",
     "exception": false,
     "start_time": "2024-06-30T14:52:18.310969",
     "status": "completed"
    },
    "tags": []
   },
   "outputs": [
    {
     "data": {
      "image/png": "[encoded data removed]",
      "text/plain": [
       "<Figure size 432x288 with 1 Axes>"
      ]
     },
     "metadata": {},
     "output_type": "display_data"
    }
   ],
   "source": [
    "g = plt.imshow(X_train[0][:,:,0])"
   ]
  },
  {
   "cell_type": "markdown",
   "id": "23bc190c",
   "metadata": {
    "papermill": {
     "duration": 0.016037,
     "end_time": "2024-06-30T14:52:18.670480",
     "exception": false,
     "start_time": "2024-06-30T14:52:18.654443",
     "status": "completed"
    },
    "tags": []
   },
   "source": [
    "# Model Building"
   ]
  },
  {
   "cell_type": "code",
   "execution_count": 11,
   "id": "3ab55fef",
   "metadata": {
    "execution": {
     "iopub.execute_input": "2024-06-30T14:52:18.705265Z",
     "iopub.status.busy": "2024-06-30T14:52:18.704776Z",
     "iopub.status.idle": "2024-06-30T14:52:18.935601Z",
     "shell.execute_reply": "2024-06-30T14:52:18.934054Z"
    },
    "papermill": {
     "duration": 0.252178,
     "end_time": "2024-06-30T14:52:18.938884",
     "exception": false,
     "start_time": "2024-06-30T14:52:18.686706",
     "status": "completed"
    },
    "tags": []
   },
   "outputs": [],
   "source": [
    "# Model Building\n",
    "\n",
    "model = tf.keras.Sequential()\n",
    "\n",
    "model.add(layers.Conv2D(filters=32, kernel_size=(5,5), padding='Same', \n",
    "                       activation=tf.nn.relu, input_shape = (28,28,1)))\n",
    "model.add(layers.Conv2D(filters=32, kernel_size=(5,5), padding='Same', \n",
    "                       activation=tf.nn.relu))\n",
    "model.add(layers.MaxPool2D(pool_size=(2,2)))\n",
    "model.add(layers.Dropout(0.25))\n",
    "\n",
    "\n",
    "model.add(layers.Conv2D(filters=64, kernel_size=(3,3), padding='Same', \n",
    "                       activation=tf.nn.relu, input_shape = (28,28,1)))\n",
    "model.add(layers.Conv2D(filters=64, kernel_size=(3,3), padding='Same', \n",
    "                       activation=tf.nn.relu))\n",
    "model.add(layers.MaxPool2D(pool_size=(2,2),strides=(2,2)))\n",
    "model.add(layers.Dropout(0.25))\n",
    "\n",
    "model.add(layers.Flatten())\n",
    "model.add(layers.Dense(256,activation=tf.nn.relu))\n",
    "model.add(layers.Dropout(0.25))\n",
    "model.add(layers.Dense(10,activation=tf.nn.softmax))"
   ]
  },
  {
   "cell_type": "markdown",
   "id": "109dc3a5",
   "metadata": {
    "papermill": {
     "duration": 0.01853,
     "end_time": "2024-06-30T14:52:18.976341",
     "exception": false,
     "start_time": "2024-06-30T14:52:18.957811",
     "status": "completed"
    },
    "tags": []
   },
   "source": [
    "This code defines a Convolutional Neural Network (CNN) model using TensorFlow's Keras API for image classification tasks on the MNIST dataset. Let's break it down step by step:\n",
    "\n",
    "### Code Explanation\n",
    "\n",
    "1. **Model Initialization:**\n",
    "\n",
    "   ```python\n",
    "   model = tf.keras.Sequential()\n",
    "   ```\n",
    "\n",
    "   This initializes a Sequential model. A Sequential model is a linear stack of layers, meaning that you can add layers one by one in a sequential order.\n",
    "\n",
    "2. **First Convolutional Block:**\n",
    "\n",
    "   ```python\n",
    "   model.add(layers.Conv2D(filters=32, kernel_size=(5,5), padding='Same', \n",
    "                           activation=tf.nn.relu, input_shape=(28,28,1)))\n",
    "   model.add(layers.Conv2D(filters=32, kernel_size=(5,5), padding='Same', \n",
    "                           activation=tf.nn.relu))\n",
    "   model.add(layers.MaxPool2D(pool_size=(2,2)))\n",
    "   model.add(layers.Dropout(0.25))\n",
    "   ```\n",
    "\n",
    "   - **Conv2D Layer:** The first convolutional layer has 32 filters, each of size 5x5, and uses the ReLU activation function. `padding='Same'` means the output feature map will have the same width and height as the input.\n",
    "   - **Conv2D Layer:** The second convolutional layer is similar to the first one with 32 filters and 5x5 kernel size, also using ReLU activation.\n",
    "   - **MaxPool2D Layer:** A max-pooling layer with a pool size of 2x2. This reduces the spatial dimensions of the feature map by half, which helps in reducing the computational load and helps in capturing the most important features.\n",
    "   - **Dropout Layer:** A dropout layer with a rate of 0.25, which means 25% of the neurons will be randomly set to zero during each training step. This helps in preventing overfitting.\n",
    "\n",
    "3. **Second Convolutional Block:**\n",
    "\n",
    "   ```python\n",
    "   model.add(layers.Conv2D(filters=64, kernel_size=(3,3), padding='Same', \n",
    "                           activation=tf.nn.relu))\n",
    "   model.add(layers.Conv2D(filters=64, kernel_size=(3,3), padding='Same', \n",
    "                           activation=tf.nn.relu))\n",
    "   model.add(layers.MaxPool2D(pool_size=(2,2), strides=(2,2)))\n",
    "   model.add(layers.Dropout(0.25))\n",
    "   ```\n",
    "\n",
    "   - **Conv2D Layer:** The first convolutional layer in this block has 64 filters with a 3x3 kernel size and ReLU activation.\n",
    "   - **Conv2D Layer:** The second convolutional layer is similar to the first one with 64 filters and 3x3 kernel size, also using ReLU activation.\n",
    "   - **MaxPool2D Layer:** A max-pooling layer with a pool size of 2x2 and strides of 2x2, further reducing the spatial dimensions of the feature map.\n",
    "   - **Dropout Layer:** A dropout layer with a rate of 0.25, similar to the previous dropout layer.\n",
    "\n",
    "4. **Fully Connected Layers:**\n",
    "\n",
    "   ```python\n",
    "   model.add(layers.Flatten())\n",
    "   model.add(layers.Dense(256, activation=tf.nn.relu))\n",
    "   model.add(layers.Dropout(0.25))\n",
    "   model.add(layers.Dense(10, activation=tf.nn.softmax))\n",
    "   ```\n",
    "\n",
    "   - **Flatten Layer:** Flattens the input, converting the 2D matrix into a 1D vector, which can be fed into a fully connected (dense) layer.\n",
    "   - **Dense Layer:** A fully connected layer with 256 neurons and ReLU activation.\n",
    "   - **Dropout Layer:** Another dropout layer with a rate of 0.25 to prevent overfitting.\n",
    "   - **Dense Layer:** The output layer with 10 neurons (one for each class in the MNIST dataset) and softmax activation, which outputs a probability distribution over the 10 classes.\n",
    "\n",
    "### Summary\n",
    "\n",
    "- **Input Shape:** The input shape of the model is `(28, 28, 1)`, matching the dimensions of the MNIST images (28x28 pixels, 1 channel for grayscale).\n",
    "- **Conv2D Layers:** Apply convolution operations to extract spatial features.\n",
    "- **MaxPool2D Layers:** Reduce the spatial dimensions to make the computation more efficient and to capture the most important features.\n",
    "- **Dropout Layers:** Help prevent overfitting by randomly setting a fraction of input units to zero during training.\n",
    "- **Dense Layers:** Fully connected layers that interpret the extracted features to perform classification.\n",
    "- **Softmax Output Layer:** Produces a probability distribution over the 10 classes, useful for multi-class classification tasks like MNIST.\n",
    "\n",
    "This architecture combines convolutional layers for feature extraction and fully connected layers for classification, making it a suitable and effective CNN model for image classification tasks."
   ]
  },
  {
   "cell_type": "markdown",
   "id": "d594a96b",
   "metadata": {
    "papermill": {
     "duration": 0.020834,
     "end_time": "2024-06-30T14:52:19.017588",
     "exception": false,
     "start_time": "2024-06-30T14:52:18.996754",
     "status": "completed"
    },
    "tags": []
   },
   "source": [
    "## Selecting Optimizer "
   ]
  },
  {
   "cell_type": "code",
   "execution_count": 12,
   "id": "ba45e182",
   "metadata": {
    "execution": {
     "iopub.execute_input": "2024-06-30T14:52:19.058054Z",
     "iopub.status.busy": "2024-06-30T14:52:19.057487Z",
     "iopub.status.idle": "2024-06-30T14:52:19.065693Z",
     "shell.execute_reply": "2024-06-30T14:52:19.064323Z"
    },
    "papermill": {
     "duration": 0.03292,
     "end_time": "2024-06-30T14:52:19.068359",
     "exception": false,
     "start_time": "2024-06-30T14:52:19.035439",
     "status": "completed"
    },
    "tags": []
   },
   "outputs": [],
   "source": [
    "#Defining Optimizer\n",
    "\n",
    "optimizer = tf.keras.optimizers.RMSprop(learning_rate=0.001, rho=0.9, epsilon=1e-08, decay=0.0)"
   ]
  },
  {
   "cell_type": "markdown",
   "id": "0a4acde8",
   "metadata": {
    "papermill": {
     "duration": 0.015725,
     "end_time": "2024-06-30T14:52:19.100104",
     "exception": false,
     "start_time": "2024-06-30T14:52:19.084379",
     "status": "completed"
    },
    "tags": []
   },
   "source": [
    "This code snippet defines an optimizer for training a neural network using TensorFlow's Keras API. In this case, the optimizer is RMSprop (Root Mean Square Propagation). Let's break down each component:\n",
    "\n",
    "### Code Explanation\n",
    "\n",
    "```python\n",
    "optimizer = tf.keras.optimizers.RMSprop(learning_rate=0.001, rho=0.9, epsilon=1e-08, decay=0.0)\n",
    "```\n",
    "\n",
    "- **`tf.keras.optimizers.RMSprop`:** This initializes an RMSprop optimizer instance. RMSprop is a popular optimization algorithm used in training neural networks. It adjusts the learning rate for each parameter based on the average of recent magnitudes of the gradients (running average of the squared gradients).\n",
    "\n",
    "### Parameters:\n",
    "\n",
    "1. **`learning_rate=0.001`:**\n",
    "   - **Definition:** The learning rate determines the size of the steps the optimizer takes during each iteration of training.\n",
    "   - **Value:** `0.001` is a common starting point for the learning rate. It controls how quickly the model learns. A smaller value makes the learning process more stable but slower, while a larger value can speed up learning but may cause instability.\n",
    "\n",
    "2. **`rho=0.9`:**\n",
    "   - **Definition:** The `rho` parameter is the decay factor used to calculate the moving average of the squared gradients.\n",
    "   - **Value:** `0.9` means that the moving average of squared gradients is given a weight of `0.9`, and the remaining `0.1` comes from the current squared gradient. This helps in smoothing the gradient updates.\n",
    "\n",
    "3. **`epsilon=1e-08`:**\n",
    "   - **Definition:** The `epsilon` parameter is a small constant added to avoid division by zero during the optimization process.\n",
    "   - **Value:** `1e-08` ensures numerical stability when dividing by the moving average of squared gradients.\n",
    "\n",
    "4. **`decay=0.0`:**\n",
    "   - **Definition:** The `decay` parameter is used to apply decay to the learning rate over time.\n",
    "   - **Value:** `0.0` means that no decay is applied to the learning rate. If `decay` were set to a positive value, the learning rate would decrease over time according to the decay rate.\n",
    "\n",
    "### How RMSprop Works\n",
    "\n",
    "RMSprop is designed to overcome some of the problems of standard gradient descent and its variants, such as:\n",
    "\n",
    "- **Adaptive Learning Rates:** RMSprop adapts the learning rate for each parameter individually based on the average of recent squared gradients. This helps in managing the learning rate more effectively for each parameter, which is particularly useful for dealing with noisy gradients and varying gradient magnitudes.\n",
    "- **Stabilizes Training:** By adjusting the learning rate for each parameter, RMSprop helps stabilize the training process, especially in scenarios where gradients are sparse or have large variance.\n",
    "\n",
    "### Context in Building a CNN Model\n",
    "\n",
    "In the context of building and training a Convolutional Neural Network (CNN) for the MNIST dataset or any other image classification task:\n",
    "\n",
    "- **Optimizer Choice:** RMSprop is chosen for its ability to adaptively adjust learning rates, which can be beneficial for complex models and datasets with varying gradient scales.\n",
    "- **Learning Rate Management:** Proper configuration of the learning rate and other parameters is crucial for effective model training. RMSprop’s adaptive learning rates help the model converge more efficiently and potentially avoid issues like slow convergence or divergence.\n",
    "- **Stability:** RMSprop's use of moving averages for gradient magnitudes helps to provide more stable updates and can lead to better performance in training deep neural networks.\n",
    "\n",
    "By defining this optimizer, you are preparing the CNN model to use RMSprop for optimizing the weights during training, aiming for efficient and stable learning."
   ]
  },
  {
   "cell_type": "code",
   "execution_count": 13,
   "id": "c86ac37e",
   "metadata": {
    "execution": {
     "iopub.execute_input": "2024-06-30T14:52:19.136021Z",
     "iopub.status.busy": "2024-06-30T14:52:19.135298Z",
     "iopub.status.idle": "2024-06-30T14:52:19.160052Z",
     "shell.execute_reply": "2024-06-30T14:52:19.158279Z"
    },
    "papermill": {
     "duration": 0.046549,
     "end_time": "2024-06-30T14:52:19.163564",
     "exception": false,
     "start_time": "2024-06-30T14:52:19.117015",
     "status": "completed"
    },
    "tags": []
   },
   "outputs": [],
   "source": [
    "model.compile(optimizer = optimizer, loss='categorical_crossentropy', metrics=[\"accuracy\"])"
   ]
  },
  {
   "cell_type": "markdown",
   "id": "ece00932",
   "metadata": {
    "papermill": {
     "duration": 0.017038,
     "end_time": "2024-06-30T14:52:19.202048",
     "exception": false,
     "start_time": "2024-06-30T14:52:19.185010",
     "status": "completed"
    },
    "tags": []
   },
   "source": [
    "This code snippet compiles the CNN model using TensorFlow's Keras API. Compiling a model is an essential step before training, as it configures the model with the optimizer, loss function, and evaluation metrics. Let’s break down each component:\n",
    "\n",
    "### Code Explanation\n",
    "\n",
    "```python\n",
    "model.compile(optimizer=optimizer, loss='categorical_crossentropy', metrics=[\"accuracy\"])\n",
    "```\n",
    "\n",
    "- **`optimizer=optimizer`:**\n",
    "  - **Definition:** This parameter specifies the optimization algorithm to be used during training. In this case, it uses the `optimizer` object defined previously, which is an instance of the RMSprop optimizer.\n",
    "  - **Purpose:** The optimizer updates the model’s weights based on the gradients computed during backpropagation to minimize the loss function.\n",
    "\n",
    "- **`loss='categorical_crossentropy'`:**\n",
    "  - **Definition:** This parameter specifies the loss function to be used. `categorical_crossentropy` is a loss function suitable for multi-class classification problems where the labels are one-hot encoded.\n",
    "  - **Purpose:** The loss function measures how well the model's predictions match the true labels. During training, the model aims to minimize this loss. For the MNIST dataset, where each label is one-hot encoded (i.e., a vector with a single `1` and the rest `0`), `categorical_crossentropy` is appropriate because it computes the cross-entropy loss between the true labels and predicted probabilities.\n",
    "\n",
    "- **`metrics=[\"accuracy\"]`:**\n",
    "  - **Definition:** This parameter specifies the metrics to be evaluated during training and testing. Here, `accuracy` is used as the metric.\n",
    "  - **Purpose:** Metrics are used to monitor the performance of the model. `accuracy` measures the percentage of correctly classified images out of the total number of images. During training, Keras will report the accuracy of the model on both the training and validation sets (if a validation set is provided).\n",
    "\n",
    "### Why Compilation is Important\n",
    "\n",
    "1. **Optimizer Configuration:** The optimizer defines how the model’s weights are updated based on the gradients. Proper configuration of the optimizer is crucial for effective training.\n",
    "\n",
    "2. **Loss Function Selection:** The loss function quantifies the difference between the model's predictions and the true values. Choosing the appropriate loss function is essential for guiding the training process in the right direction.\n",
    "\n",
    "3. **Metrics Monitoring:** Metrics provide insights into the model’s performance and help in understanding how well the model is learning. They are useful for tracking progress during training and for evaluating the model's performance on validation or test data.\n",
    "\n",
    "### Context in Building a CNN Model for MNIST\n",
    "\n",
    "In the context of building and training a CNN model for the MNIST dataset:\n",
    "\n",
    "- **Optimizer (RMSprop):** RMSprop is chosen for its adaptive learning rate capabilities, which helps in training deep networks by adjusting learning rates for each parameter.\n",
    "- **Loss Function (Categorical Cross-Entropy):** Since MNIST is a multi-class classification problem with one-hot encoded labels, categorical cross-entropy is suitable for measuring how well the model's predicted probabilities align with the true labels.\n",
    "- **Metric (Accuracy):** Accuracy is a straightforward and useful metric for evaluating the performance of the model on classification tasks. It provides a clear indication of how well the model is performing in terms of correct classifications.\n",
    "\n",
    "By compiling the model with these settings, you prepare it for training with the chosen optimizer, loss function, and evaluation metrics."
   ]
  },
  {
   "cell_type": "markdown",
   "id": "9b113702",
   "metadata": {
    "papermill": {
     "duration": 0.016666,
     "end_time": "2024-06-30T14:52:19.234603",
     "exception": false,
     "start_time": "2024-06-30T14:52:19.217937",
     "status": "completed"
    },
    "tags": []
   },
   "source": [
    "## Setting Learning Rate"
   ]
  },
  {
   "cell_type": "code",
   "execution_count": 14,
   "id": "4b596040",
   "metadata": {
    "execution": {
     "iopub.execute_input": "2024-06-30T14:52:19.268359Z",
     "iopub.status.busy": "2024-06-30T14:52:19.267928Z",
     "iopub.status.idle": "2024-06-30T14:52:19.274807Z",
     "shell.execute_reply": "2024-06-30T14:52:19.273200Z"
    },
    "papermill": {
     "duration": 0.027274,
     "end_time": "2024-06-30T14:52:19.277752",
     "exception": false,
     "start_time": "2024-06-30T14:52:19.250478",
     "status": "completed"
    },
    "tags": []
   },
   "outputs": [],
   "source": [
    "#Setting Learning rate\n",
    "\n",
    "learning_rate_reduction = tf.keras.callbacks.ReduceLROnPlateau(monitor='val_acc', patience=3, verbose=1, factor=0.5, min_lr=0.00001)"
   ]
  },
  {
   "cell_type": "markdown",
   "id": "7ae7d3e5",
   "metadata": {
    "papermill": {
     "duration": 0.015735,
     "end_time": "2024-06-30T14:52:19.309889",
     "exception": false,
     "start_time": "2024-06-30T14:52:19.294154",
     "status": "completed"
    },
    "tags": []
   },
   "source": [
    "This code sets up a callback for adjusting the learning rate during training based on the model's performance on the validation set. The callback is `ReduceLROnPlateau`, which is part of TensorFlow's Keras API. Let's break down each component:\n",
    "\n",
    "### Code Explanation\n",
    "\n",
    "```python\n",
    "learning_rate_reduction = tf.keras.callbacks.ReduceLROnPlateau(\n",
    "    monitor='val_acc',\n",
    "    patience=3,\n",
    "    verbose=1,\n",
    "    factor=0.5,\n",
    "    min_lr=0.00001\n",
    ")\n",
    "```\n",
    "\n",
    "- **`tf.keras.callbacks.ReduceLROnPlateau`:**\n",
    "  - **Definition:** This callback monitors a specified metric and reduces the learning rate when the metric stops improving. It's useful for adjusting the learning rate dynamically based on the training process to help the model converge better.\n",
    "  - **Purpose:** Helps in fine-tuning the learning rate to improve model performance and training efficiency, especially if the model's performance plateaus.\n",
    "\n",
    "### Parameters\n",
    "\n",
    "1. **`monitor='val_acc'`:**\n",
    "   - **Definition:** The metric to monitor for deciding when to reduce the learning rate.\n",
    "   - **Purpose:** `'val_acc'` (or `val_accuracy` in newer versions of TensorFlow) indicates that the callback will monitor the validation accuracy. When validation accuracy stops improving, the learning rate will be reduced.\n",
    "   - **Note:** Depending on the TensorFlow/Keras version, the metric might be `'val_accuracy'` rather than `'val_acc'`.\n",
    "\n",
    "2. **`patience=3`:**\n",
    "   - **Definition:** The number of epochs with no improvement after which the learning rate will be reduced.\n",
    "   - **Purpose:** If the validation accuracy does not improve for 3 consecutive epochs, the learning rate will be reduced. This helps to prevent premature learning rate adjustments and ensures that the model has enough epochs to show improvement before reducing the learning rate.\n",
    "\n",
    "3. **`verbose=1`:**\n",
    "   - **Definition:** Controls the verbosity mode. `verbose=1` means that the callback will print messages when the learning rate is reduced.\n",
    "   - **Purpose:** Provides feedback during training about when and how the learning rate is adjusted, which can be useful for monitoring the training process.\n",
    "\n",
    "4. **`factor=0.5`:**\n",
    "   - **Definition:** The factor by which the learning rate will be reduced.\n",
    "   - **Purpose:** When the learning rate is reduced, it will be multiplied by 0.5. For example, if the current learning rate is 0.001, it will be reduced to 0.0005.\n",
    "\n",
    "5. **`min_lr=0.00001`:**\n",
    "   - **Definition:** The minimum learning rate allowed.\n",
    "   - **Purpose:** Ensures that the learning rate does not fall below 0.00001, which prevents the learning rate from becoming too small and potentially causing training to stall.\n",
    "\n",
    "### Why ReduceLROnPlateau is Useful\n",
    "\n",
    "- **Dynamic Adjustment:** It allows the learning rate to be adjusted based on the model's performance during training, rather than using a fixed learning rate. This can help in achieving better convergence and avoiding overshooting minima.\n",
    "- **Improved Performance:** Reducing the learning rate when the model's performance plateaus can help in fine-tuning the model and improving its final performance.\n",
    "- **Training Efficiency:** Helps in making the most out of the available training epochs by dynamically adjusting the learning rate to ensure continued progress.\n",
    "\n",
    "### Context in Building a CNN Model for MNIST\n",
    "\n",
    "In the context of training a CNN model for the MNIST dataset:\n",
    "\n",
    "- **Monitoring Validation Accuracy:** By monitoring validation accuracy, you ensure that the learning rate is adjusted based on how well the model generalizes to unseen data, rather than just fitting to the training data.\n",
    "- **Adaptive Learning Rate:** This callback helps in adapting the learning rate to the training dynamics, which can be particularly useful if the model's performance improvement slows down during training.\n",
    "- **Preventing Overfitting:** Dynamic adjustment of the learning rate can also help in reducing overfitting by allowing the model to continue learning effectively even when the performance on the validation set plateaus.\n",
    "\n",
    "By setting up this callback, you enhance the training process of your CNN model, allowing it to adaptively adjust the learning rate for potentially better training outcomes."
   ]
  },
  {
   "cell_type": "code",
   "execution_count": 15,
   "id": "cbc8d0b1",
   "metadata": {
    "execution": {
     "iopub.execute_input": "2024-06-30T14:52:19.345296Z",
     "iopub.status.busy": "2024-06-30T14:52:19.344663Z",
     "iopub.status.idle": "2024-06-30T14:52:19.358422Z",
     "shell.execute_reply": "2024-06-30T14:52:19.356812Z"
    },
    "papermill": {
     "duration": 0.035892,
     "end_time": "2024-06-30T14:52:19.361554",
     "exception": false,
     "start_time": "2024-06-30T14:52:19.325662",
     "status": "completed"
    },
    "tags": []
   },
   "outputs": [],
   "source": [
    "epochs= 15\n",
    "batch_size = 128"
   ]
  },
  {
   "cell_type": "markdown",
   "id": "42f3f084",
   "metadata": {
    "papermill": {
     "duration": 0.015328,
     "end_time": "2024-06-30T14:52:19.392481",
     "exception": false,
     "start_time": "2024-06-30T14:52:19.377153",
     "status": "completed"
    },
    "tags": []
   },
   "source": [
    "# Model Fitting"
   ]
  },
  {
   "cell_type": "code",
   "execution_count": 16,
   "id": "30d2f8b5",
   "metadata": {
    "execution": {
     "iopub.execute_input": "2024-06-30T14:52:19.426879Z",
     "iopub.status.busy": "2024-06-30T14:52:19.426180Z",
     "iopub.status.idle": "2024-06-30T14:52:19.590865Z",
     "shell.execute_reply": "2024-06-30T14:52:19.589572Z"
    },
    "papermill": {
     "duration": 0.186746,
     "end_time": "2024-06-30T14:52:19.594963",
     "exception": false,
     "start_time": "2024-06-30T14:52:19.408217",
     "status": "completed"
    },
    "tags": []
   },
   "outputs": [],
   "source": [
    "model1 = ImageDataGenerator(\n",
    "        featurewise_center=False,  \n",
    "        samplewise_center=False,  \n",
    "        featurewise_std_normalization=False,  \n",
    "        samplewise_std_normalization=False, \n",
    "        zca_whitening=False, \n",
    "        rotation_range=10,  \n",
    "        zoom_range = 0.1,\n",
    "        width_shift_range=0.1, \n",
    "        height_shift_range=0.1,  \n",
    "        horizontal_flip=False, \n",
    "        vertical_flip=False)  \n",
    "\n",
    "model1.fit(X_train)"
   ]
  },
  {
   "cell_type": "markdown",
   "id": "95614779",
   "metadata": {
    "papermill": {
     "duration": 0.015573,
     "end_time": "2024-06-30T14:52:19.630578",
     "exception": false,
     "start_time": "2024-06-30T14:52:19.615005",
     "status": "completed"
    },
    "tags": []
   },
   "source": [
    "This code snippet sets up an `ImageDataGenerator` for data augmentation and then attempts to fit a model using this generator. Let's break it down in detail:\n",
    "\n",
    "### Code Explanation\n",
    "\n",
    "#### ImageDataGenerator Configuration\n",
    "\n",
    "```python\n",
    "model1 = ImageDataGenerator(\n",
    "    featurewise_center=False,  # set input mean to 0 over the dataset\n",
    "    samplewise_center=False,  # set each sample mean to 0\n",
    "    featurewise_std_normalization=False,  # divide inputs by std of the dataset\n",
    "    samplewise_std_normalization=False,  # divide each input by its std\n",
    "    zca_whitening=False,  # apply ZCA whitening\n",
    "    rotation_range=10,  # randomly rotate images in the range (degrees, 0 to 180)\n",
    "    zoom_range=0.1,  # randomly zoom image\n",
    "    width_shift_range=0.1,  # randomly shift images horizontally (fraction of total width)\n",
    "    height_shift_range=0.1,  # randomly shift images vertically (fraction of total height)\n",
    "    horizontal_flip=False,  # randomly flip images horizontally\n",
    "    vertical_flip=False)  # randomly flip images vertically\n",
    "```\n",
    "\n",
    "- **`ImageDataGenerator`:** This is a Keras utility that allows you to generate batches of tensor image data with real-time data augmentation. This is useful for improving model generalization by creating variations of the training data.\n",
    "\n",
    "##### Parameters:\n",
    "\n",
    "1. **`featurewise_center=False`:**\n",
    "   - **Definition:** When `True`, it subtracts the mean of the dataset from each image, making the average pixel value 0.\n",
    "   - **Purpose:** Helps in normalizing the input data, but here it is turned off.\n",
    "\n",
    "2. **`samplewise_center=False`:**\n",
    "   - **Definition:** When `True`, it subtracts the mean of each image from itself, making the mean of each image 0.\n",
    "   - **Purpose:** Normalizes each sample individually, but here it is turned off.\n",
    "\n",
    "3. **`featurewise_std_normalization=False`:**\n",
    "   - **Definition:** When `True`, it divides each image by the standard deviation of the dataset.\n",
    "   - **Purpose:** Normalizes the dataset by scaling the features, but it is turned off here.\n",
    "\n",
    "4. **`samplewise_std_normalization=False`:**\n",
    "   - **Definition:** When `True`, it divides each image by its own standard deviation.\n",
    "   - **Purpose:** Scales each sample individually, but it is turned off.\n",
    "\n",
    "5. **`zca_whitening=False`:**\n",
    "   - **Definition:** When `True`, it applies ZCA (Zero Component Analysis) whitening to the images.\n",
    "   - **Purpose:** Helps in decorrelating and normalizing the input features, but it is turned off.\n",
    "\n",
    "6. **`rotation_range=10`:**\n",
    "   - **Definition:** Specifies the range (in degrees) for random rotations.\n",
    "   - **Purpose:** Randomly rotates images by up to 10 degrees to make the model invariant to small rotations.\n",
    "\n",
    "7. **`zoom_range=0.1`:**\n",
    "   - **Definition:** Specifies the range for random zoom.\n",
    "   - **Purpose:** Randomly zooms in or out of the image by up to 10% to improve robustness to zoom variations.\n",
    "\n",
    "8. **`width_shift_range=0.1`:**\n",
    "   - **Definition:** Specifies the range for random horizontal shifts.\n",
    "   - **Purpose:** Randomly shifts images horizontally by up to 10% of the width to enhance model generalization.\n",
    "\n",
    "9. **`height_shift_range=0.1`:**\n",
    "   - **Definition:** Specifies the range for random vertical shifts.\n",
    "   - **Purpose:** Randomly shifts images vertically by up to 10% of the height to improve robustness to vertical shifts.\n",
    "\n",
    "10. **`horizontal_flip=False`:**\n",
    "    - **Definition:** When `True`, it randomly flips images horizontally.\n",
    "    - **Purpose:** Helps in learning invariance to horizontal flipping, but it is turned off here.\n",
    "\n",
    "11. **`vertical_flip=False`:**\n",
    "    - **Definition:** When `True`, it randomly flips images vertically.\n",
    "    - **Purpose:** Helps in learning invariance to vertical flipping, but it is turned off.\n",
    "\n",
    "#### Fitting the Model\n",
    "\n",
    "```python\n",
    "model1.fit(X_train)\n",
    "```\n",
    "\n",
    "- **`model1.fit(X_train)`:** This line is meant to fit the model (which is actually an `ImageDataGenerator`) on the data `X_train`.\n",
    "\n",
    "### Important Notes\n",
    "\n",
    "- **Correct Usage:** `ImageDataGenerator` is typically used with methods like `flow()` or `flow_from_directory()` to generate batches of augmented images. It does not have a `fit()` method itself. Instead, it should be used with a model’s `fit()` method like this:\n",
    "\n",
    "   ```python\n",
    "   model.fit(model1.flow(X_train, Y_train), epochs=num_epochs)\n",
    "   ```\n",
    "\n",
    "   Here, `model1.flow(X_train, Y_train)` generates batches of augmented images and their corresponding labels for training.\n",
    "\n",
    "- **Purpose of Data Augmentation:** The `ImageDataGenerator` is used to augment the training data in real-time during the training process. This helps in improving the model's ability to generalize by exposing it to variations of the training data.\n",
    "\n",
    "### Summary\n",
    "\n",
    "- **Data Augmentation:** `ImageDataGenerator` is configured to perform various augmentations such as rotation, zoom, and shifting to enrich the training dataset.\n",
    "- **Normalization and Whitening:** These features are turned off in this setup, meaning no normalization or whitening is applied.\n",
    "- **Model Training:** `ImageDataGenerator` is used for data augmentation, but it should be correctly integrated with the `fit` method of a Keras model to be effective.\n",
    "\n",
    "Ensure to integrate `ImageDataGenerator` properly with your model training process to leverage data augmentation effectively."
   ]
  },
  {
   "cell_type": "code",
   "execution_count": 17,
   "id": "d00eb0ca",
   "metadata": {
    "execution": {
     "iopub.execute_input": "2024-06-30T14:52:19.665824Z",
     "iopub.status.busy": "2024-06-30T14:52:19.664124Z",
     "iopub.status.idle": "2024-06-30T15:21:02.868345Z",
     "shell.execute_reply": "2024-06-30T15:21:02.866638Z"
    },
    "papermill": {
     "duration": 1723.225645,
     "end_time": "2024-06-30T15:21:02.872213",
     "exception": false,
     "start_time": "2024-06-30T14:52:19.646568",
     "status": "completed"
    },
    "tags": []
   },
   "outputs": [
    {
     "name": "stderr",
     "output_type": "stream",
     "text": [
      "/opt/conda/lib/python3.7/site-packages/keras/engine/training.py:1972: UserWarning: `Model.fit_generator` is deprecated and will be removed in a future version. Please use `Model.fit`, which supports generators.\n",
      "  warnings.warn('`Model.fit_generator` is deprecated and '\n"
     ]
    },
    {
     "name": "stdout",
     "output_type": "stream",
     "text": [
      "Epoch 1/15\n",
      "295/295 - 85s - loss: 0.4251 - accuracy: 0.8654 - val_loss: 0.0723 - val_accuracy: 0.9779\n",
      "Epoch 2/15\n",
      "295/295 - 84s - loss: 0.1144 - accuracy: 0.9650 - val_loss: 0.0514 - val_accuracy: 0.9857\n",
      "Epoch 3/15\n",
      "295/295 - 83s - loss: 0.0799 - accuracy: 0.9753 - val_loss: 0.0317 - val_accuracy: 0.9898\n",
      "Epoch 4/15\n",
      "295/295 - 84s - loss: 0.0662 - accuracy: 0.9799 - val_loss: 0.0354 - val_accuracy: 0.9900\n",
      "Epoch 5/15\n",
      "295/295 - 85s - loss: 0.0576 - accuracy: 0.9824 - val_loss: 0.0340 - val_accuracy: 0.9886\n",
      "Epoch 6/15\n",
      "295/295 - 84s - loss: 0.0532 - accuracy: 0.9839 - val_loss: 0.0264 - val_accuracy: 0.9907\n",
      "Epoch 7/15\n",
      "295/295 - 84s - loss: 0.0481 - accuracy: 0.9854 - val_loss: 0.0263 - val_accuracy: 0.9921\n",
      "Epoch 8/15\n",
      "295/295 - 84s - loss: 0.0480 - accuracy: 0.9857 - val_loss: 0.0220 - val_accuracy: 0.9924\n",
      "Epoch 9/15\n",
      "295/295 - 83s - loss: 0.0450 - accuracy: 0.9866 - val_loss: 0.0206 - val_accuracy: 0.9940\n",
      "Epoch 10/15\n",
      "295/295 - 83s - loss: 0.0427 - accuracy: 0.9871 - val_loss: 0.0202 - val_accuracy: 0.9943\n",
      "Epoch 11/15\n",
      "295/295 - 84s - loss: 0.0401 - accuracy: 0.9878 - val_loss: 0.0192 - val_accuracy: 0.9936\n",
      "Epoch 12/15\n",
      "295/295 - 85s - loss: 0.0392 - accuracy: 0.9890 - val_loss: 0.0226 - val_accuracy: 0.9931\n",
      "Epoch 13/15\n",
      "295/295 - 83s - loss: 0.0391 - accuracy: 0.9881 - val_loss: 0.0200 - val_accuracy: 0.9933\n",
      "Epoch 14/15\n",
      "295/295 - 84s - loss: 0.0371 - accuracy: 0.9895 - val_loss: 0.0210 - val_accuracy: 0.9948\n",
      "Epoch 15/15\n",
      "295/295 - 85s - loss: 0.0382 - accuracy: 0.9896 - val_loss: 0.0310 - val_accuracy: 0.9929\n"
     ]
    }
   ],
   "source": [
    "# Fit the model\n",
    "history = model.fit_generator(model1.flow(X_train,Y_train, batch_size=batch_size),\n",
    "                              epochs = epochs, validation_data = (X_val,Y_val),\n",
    "                              verbose = 2, steps_per_epoch=X_train.shape[0] // batch_size,\n",
    "                              callbacks=[learning_rate_reduction])"
   ]
  },
  {
   "cell_type": "markdown",
   "id": "9b7adada",
   "metadata": {
    "papermill": {
     "duration": 0.018262,
     "end_time": "2024-06-30T15:21:02.910552",
     "exception": false,
     "start_time": "2024-06-30T15:21:02.892290",
     "status": "completed"
    },
    "tags": []
   },
   "source": [
    "This code snippet is used to train a Keras model with data augmentation using the `ImageDataGenerator`. It employs `model.fit_generator` to fit the model on augmented data generated by the `ImageDataGenerator`. Here’s a detailed explanation of each component of this code:\n",
    "\n",
    "### Code Explanation\n",
    "\n",
    "```python\n",
    "history = model.fit_generator(\n",
    "    model1.flow(X_train, Y_train, batch_size=batch_size),\n",
    "    epochs=epochs,\n",
    "    validation_data=(X_val, Y_val),\n",
    "    verbose=2,\n",
    "    steps_per_epoch=X_train.shape[0] // batch_size,\n",
    "    callbacks=[learning_rate_reduction]\n",
    ")\n",
    "```\n",
    "\n",
    "#### Parameters and Components\n",
    "\n",
    "1. **`model.fit_generator(...)`**:\n",
    "   - **Definition:** `fit_generator` is used to train the model on data generated batch-by-batch by a Python generator or a `tf.keras.utils.ImageDataGenerator` instance. Note that `fit_generator` is deprecated in favor of `model.fit` in newer versions of TensorFlow/Keras, but it’s still useful in older versions.\n",
    "   - **Purpose:** It allows for training on data that is generated in real-time, which is especially useful for data augmentation.\n",
    "\n",
    "2. **`model1.flow(X_train, Y_train, batch_size=batch_size)`**:\n",
    "   - **Definition:** `model1.flow(...)` is a method of the `ImageDataGenerator` that generates batches of augmented data.\n",
    "   - **Purpose:** It takes the training data `X_train` and labels `Y_train`, and generates augmented batches of data with the specified `batch_size`. The generator produces batches of data in real-time with the augmentations specified in the `ImageDataGenerator`.\n",
    "\n",
    "3. **`epochs=epochs`**:\n",
    "   - **Definition:** The number of epochs to train the model.\n",
    "   - **Purpose:** It specifies how many times the entire training dataset will be passed through the model during training.\n",
    "\n",
    "4. **`validation_data=(X_val, Y_val)`**:\n",
    "   - **Definition:** Tuple of validation data and labels.\n",
    "   - **Purpose:** This data is used to evaluate the model's performance on unseen data after each epoch. It helps in monitoring the model’s ability to generalize.\n",
    "\n",
    "5. **`verbose=2`**:\n",
    "   - **Definition:** Controls the verbosity of the output during training.\n",
    "   - **Purpose:** `verbose=2` provides a more detailed output, showing progress of training for each epoch.\n",
    "\n",
    "6. **`steps_per_epoch=X_train.shape[0] // batch_size`**:\n",
    "   - **Definition:** Number of steps (batches) to draw from the generator for each epoch.\n",
    "   - **Purpose:** It determines how many batches the model should process before declaring an epoch finished. It’s calculated by dividing the number of training samples by the batch size. This ensures that each epoch processes the entire training dataset.\n",
    "\n",
    "7. **`callbacks=[learning_rate_reduction]`**:\n",
    "   - **Definition:** A list of callback functions to apply during training.\n",
    "   - **Purpose:** `learning_rate_reduction` is an instance of `ReduceLROnPlateau`, which dynamically adjusts the learning rate based on the performance of the model. This callback helps in fine-tuning the learning rate to improve convergence.\n",
    "\n",
    "### Summary of Training Process\n",
    "\n",
    "- **Data Generation:** `model1.flow(X_train, Y_train, batch_size=batch_size)` generates batches of augmented training data in real-time. This helps in enhancing model generalization by exposing it to various transformations of the training data.\n",
    "  \n",
    "- **Epochs and Steps:** The model trains for a specified number of epochs. During each epoch, it processes `X_train.shape[0] // batch_size` batches of data.\n",
    "\n",
    "- **Validation:** After each epoch, the model’s performance is evaluated on the validation set `(X_val, Y_val)`.\n",
    "\n",
    "- **Callbacks:** The `learning_rate_reduction` callback is used to adjust the learning rate dynamically if the validation accuracy plateaus.\n",
    "\n",
    "- **Verbose Output:** `verbose=2` provides detailed logs about the training progress.\n",
    "\n",
    "### Important Notes\n",
    "\n",
    "- **Deprecation:** In newer versions of TensorFlow/Keras, `fit_generator` has been replaced by `fit`, which can also accept data generators directly.\n",
    "\n",
    "- **Integration:** Ensure that `model1` is correctly set up as an `ImageDataGenerator` and that `batch_size` and `epochs` are properly defined variables.\n",
    "\n",
    "By using this setup, you effectively train your model with augmented data and dynamically adjust the learning rate to enhance training efficiency and performance.\n"
   ]
  },
  {
   "cell_type": "code",
   "execution_count": 18,
   "id": "70eb7a2b",
   "metadata": {
    "execution": {
     "iopub.execute_input": "2024-06-30T15:21:02.953078Z",
     "iopub.status.busy": "2024-06-30T15:21:02.951582Z",
     "iopub.status.idle": "2024-06-30T15:21:03.503832Z",
     "shell.execute_reply": "2024-06-30T15:21:03.502422Z"
    },
    "papermill": {
     "duration": 0.576695,
     "end_time": "2024-06-30T15:21:03.507116",
     "exception": false,
     "start_time": "2024-06-30T15:21:02.930421",
     "status": "completed"
    },
    "tags": []
   },
   "outputs": [
    {
     "data": {
      "image/png": "[encoded data removed]",
      "text/plain": [
       "<Figure size 432x288 with 2 Axes>"
      ]
     },
     "metadata": {},
     "output_type": "display_data"
    }
   ],
   "source": [
    "# Plot the loss and accuracy curves for training and validation \n",
    "fig, ax = plt.subplots(2,1)\n",
    "ax[0].plot(history.history['loss'], color='b', label=\"Training loss\")\n",
    "ax[0].plot(history.history['val_loss'], color='r', label=\"validation loss\",axes =ax[0])\n",
    "legend = ax[0].legend(loc='best')\n",
    "\n",
    "ax[1].plot(history.history['accuracy'], color='b', label=\"Training accuracy\")\n",
    "ax[1].plot(history.history['val_accuracy'], color='r',label=\"Validation accuracy\")\n",
    "legend = ax[1].legend(loc='best')"
   ]
  },
  {
   "cell_type": "markdown",
   "id": "560f1534",
   "metadata": {
    "papermill": {
     "duration": 0.019311,
     "end_time": "2024-06-30T15:21:03.546655",
     "exception": false,
     "start_time": "2024-06-30T15:21:03.527344",
     "status": "completed"
    },
    "tags": []
   },
   "source": [
    "This code snippet is used to visualize the training and validation performance of a machine learning model by plotting the loss and accuracy curves. It leverages Matplotlib, a popular Python library for plotting, to create two subplots that display these metrics over the training epochs. Here’s a detailed breakdown of each component:\n",
    "\n",
    "### Code Explanation\n",
    "\n",
    "```python\n",
    "# Plot the loss and accuracy curves for training and validation \n",
    "fig, ax = plt.subplots(2,1)\n",
    "ax[0].plot(history.history['loss'], color='b', label=\"Training loss\")\n",
    "ax[0].plot(history.history['val_loss'], color='r', label=\"Validation loss\")\n",
    "legend = ax[0].legend(loc='best')\n",
    "\n",
    "ax[1].plot(history.history['accuracy'], color='b', label=\"Training accuracy\")\n",
    "ax[1].plot(history.history['val_accuracy'], color='r', label=\"Validation accuracy\")\n",
    "legend = ax[1].legend(loc='best')\n",
    "```\n",
    "\n",
    "#### Components:\n",
    "\n",
    "1. **`fig, ax = plt.subplots(2, 1)`**:\n",
    "   - **Definition:** Creates a figure and a set of subplots. In this case, `plt.subplots(2, 1)` creates a figure with 2 subplots arranged vertically (2 rows, 1 column).\n",
    "   - **Purpose:** Sets up the plotting area where the loss and accuracy curves will be drawn. `fig` represents the entire figure, and `ax` is an array containing the two subplot axes.\n",
    "\n",
    "2. **`ax[0].plot(history.history['loss'], color='b', label=\"Training loss\")`**:\n",
    "   - **Definition:** Plots the training loss values on the first subplot (`ax[0]`).\n",
    "   - **Purpose:** Displays how the training loss changes over epochs. The `color='b'` argument sets the line color to blue, and `label=\"Training loss\"` adds a label for the legend.\n",
    "\n",
    "3. **`ax[0].plot(history.history['val_loss'], color='r', label=\"Validation loss\")`**:\n",
    "   - **Definition:** Plots the validation loss values on the first subplot (`ax[0]`).\n",
    "   - **Purpose:** Displays how the validation loss changes over epochs. The `color='r'` argument sets the line color to red, and `label=\"Validation loss\"` adds a label for the legend.\n",
    "\n",
    "4. **`legend = ax[0].legend(loc='best')`**:\n",
    "   - **Definition:** Adds a legend to the first subplot (`ax[0]`).\n",
    "   - **Purpose:** `loc='best'` automatically places the legend in the best location on the plot to avoid overlapping with the plotted lines.\n",
    "\n",
    "5. **`ax[1].plot(history.history['accuracy'], color='b', label=\"Training accuracy\")`**:\n",
    "   - **Definition:** Plots the training accuracy values on the second subplot (`ax[1]`).\n",
    "   - **Purpose:** Shows how the training accuracy changes over epochs. The `color='b'` argument sets the line color to blue, and `label=\"Training accuracy\"` adds a label for the legend.\n",
    "\n",
    "6. **`ax[1].plot(history.history['val_accuracy'], color='r', label=\"Validation accuracy\")`**:\n",
    "   - **Definition:** Plots the validation accuracy values on the second subplot (`ax[1]`).\n",
    "   - **Purpose:** Displays how the validation accuracy changes over epochs. The `color='r'` argument sets the line color to red, and `label=\"Validation accuracy\"` adds a label for the legend.\n",
    "\n",
    "7. **`legend = ax[1].legend(loc='best')`**:\n",
    "   - **Definition:** Adds a legend to the second subplot (`ax[1]`).\n",
    "   - **Purpose:** `loc='best'` automatically places the legend in the best location on the plot to avoid overlapping with the plotted lines.\n",
    "\n",
    "### Summary\n",
    "\n",
    "- **Visualization Purpose:** This code creates visualizations of how the training and validation loss and accuracy change over the course of training epochs. This helps in diagnosing how well the model is learning and generalizing.\n",
    "  \n",
    "- **Training Loss vs. Validation Loss:** Plotting both allows you to see if the model is overfitting (i.e., if the training loss decreases while validation loss increases).\n",
    "\n",
    "- **Training Accuracy vs. Validation Accuracy:** Similarly, plotting both training and validation accuracy helps in understanding the model’s performance and generalization ability.\n",
    "\n",
    "- **Plot Arrangement:** Using `plt.subplots(2, 1)` creates two vertical plots, one for loss and one for accuracy, to easily compare the metrics.\n",
    "\n",
    "### Visualization Insights\n",
    "\n",
    "- **Overfitting or Underfitting:** You can observe if the training loss decreases but validation loss starts increasing (overfitting) or if both losses are high (underfitting).\n",
    "\n",
    "- **Learning Progress:** The accuracy curves show how well the model improves its performance over time. Smooth and increasing curves generally indicate good learning.\n",
    "\n",
    "By plotting these metrics, you can gain valuable insights into the training dynamics of your model and make informed decisions for further adjustments in model architecture or training parameters."
   ]
  },
  {
   "cell_type": "markdown",
   "id": "b4fb7b96",
   "metadata": {
    "papermill": {
     "duration": 0.018819,
     "end_time": "2024-06-30T15:21:03.585068",
     "exception": false,
     "start_time": "2024-06-30T15:21:03.566249",
     "status": "completed"
    },
    "tags": []
   },
   "source": [
    "# Result Prediction"
   ]
  },
  {
   "cell_type": "code",
   "execution_count": 19,
   "id": "8d1ca6e4",
   "metadata": {
    "execution": {
     "iopub.execute_input": "2024-06-30T15:21:03.625754Z",
     "iopub.status.busy": "2024-06-30T15:21:03.625235Z",
     "iopub.status.idle": "2024-06-30T15:21:22.893759Z",
     "shell.execute_reply": "2024-06-30T15:21:22.892197Z"
    },
    "papermill": {
     "duration": 19.293912,
     "end_time": "2024-06-30T15:21:22.897992",
     "exception": false,
     "start_time": "2024-06-30T15:21:03.604080",
     "status": "completed"
    },
    "tags": []
   },
   "outputs": [],
   "source": [
    "# predict results\n",
    "results = model.predict(test)\n",
    "\n",
    "# select the indix with the maximum probability\n",
    "results = np.argmax(results,axis = 1)\n",
    "\n",
    "results = pd.Series(results,name=\"Label\")"
   ]
  },
  {
   "cell_type": "markdown",
   "id": "4f8fdc17",
   "metadata": {
    "papermill": {
     "duration": 0.018695,
     "end_time": "2024-06-30T15:21:22.936396",
     "exception": false,
     "start_time": "2024-06-30T15:21:22.917701",
     "status": "completed"
    },
    "tags": []
   },
   "source": [
    "This code snippet performs predictions using a trained machine learning model, processes the predicted results, and formats them into a suitable format for further use or submission. Let’s break down each part of the code:\n",
    "\n",
    "### Code Explanation\n",
    "\n",
    "```python\n",
    "# predict results\n",
    "results = model.predict(test)\n",
    "\n",
    "# select the index with the maximum probability\n",
    "results = np.argmax(results, axis=1)\n",
    "\n",
    "results = pd.Series(results, name=\"Label\")\n",
    "```\n",
    "\n",
    "#### Detailed Breakdown\n",
    "\n",
    "1. **`results = model.predict(test)`**:\n",
    "   - **Definition:** `model.predict(test)` generates predictions for the input data `test` using the trained model.\n",
    "   - **Purpose:** The `predict` method outputs the model’s predicted probabilities for each class for the given input data. For classification tasks, this will typically return a 2D array where each row corresponds to a sample and each column corresponds to the probability of that sample belonging to a particular class.\n",
    "\n",
    "2. **`results = np.argmax(results, axis=1)`**:\n",
    "   - **Definition:** `np.argmax(results, axis=1)` finds the index of the maximum value along the specified axis (axis=1 in this case).\n",
    "   - **Purpose:** For each row in the `results` array (which represents each sample), `np.argmax` returns the index of the class with the highest probability. This converts the probability distributions into class predictions. For example, if the model predicts probabilities `[0.1, 0.3, 0.6]` for a sample, `np.argmax` will return `2`, indicating that class 2 has the highest probability.\n",
    "\n",
    "3. **`results = pd.Series(results, name=\"Label\")`**:\n",
    "   - **Definition:** `pd.Series(results, name=\"Label\")` converts the numpy array of predicted class indices into a pandas Series object and names it \"Label\".\n",
    "   - **Purpose:** Converting the predictions into a pandas Series makes it easier to handle and analyze the results, especially if you need to save or manipulate them further. Naming the Series \"Label\" is useful for clarity, especially if you are preparing data for a DataFrame or for submission where the column name \"Label\" is expected.\n",
    "\n",
    "### Summary\n",
    "\n",
    "- **Model Prediction:** The model predicts probabilities for each class for the input data.\n",
    "- **Class Prediction:** `np.argmax` is used to convert these probabilities into class labels by selecting the index of the maximum probability.\n",
    "- **Format Results:** The predictions are then converted into a pandas Series, which is a common format for data manipulation and analysis in Python.\n",
    "\n",
    "### Example Use Case\n",
    "\n",
    "- **In a Classification Task:** For a dataset like MNIST (handwritten digit classification), where you have 10 classes (digits 0 through 9), this code will produce class labels for each test image based on the model’s predictions.\n",
    "- **Preparing Submission:** If you are preparing results for submission in a competition or for evaluation, converting predictions into a pandas Series with a name like \"Label\" can be useful for exporting to a CSV file or for further analysis.\n",
    "\n",
    "This code snippet effectively bridges the gap between raw model predictions and a user-friendly format that can be easily interpreted or submitted."
   ]
  },
  {
   "cell_type": "markdown",
   "id": "980b5362",
   "metadata": {
    "papermill": {
     "duration": 0.01847,
     "end_time": "2024-06-30T15:21:22.974756",
     "exception": false,
     "start_time": "2024-06-30T15:21:22.956286",
     "status": "completed"
    },
    "tags": []
   },
   "source": [
    "# Submission"
   ]
  },
  {
   "cell_type": "code",
   "execution_count": 20,
   "id": "9cec0640",
   "metadata": {
    "execution": {
     "iopub.execute_input": "2024-06-30T15:21:23.016399Z",
     "iopub.status.busy": "2024-06-30T15:21:23.015855Z",
     "iopub.status.idle": "2024-06-30T15:21:23.082894Z",
     "shell.execute_reply": "2024-06-30T15:21:23.081455Z"
    },
    "papermill": {
     "duration": 0.092564,
     "end_time": "2024-06-30T15:21:23.086154",
     "exception": false,
     "start_time": "2024-06-30T15:21:22.993590",
     "status": "completed"
    },
    "tags": []
   },
   "outputs": [],
   "source": [
    "submission = pd.concat([pd.Series(range(1,28001),name = \"ImageId\"),results],axis = 1)\n",
    "\n",
    "submission.to_csv(\"submission.csv\",index=False)"
   ]
  },
  {
   "cell_type": "markdown",
   "id": "7ea888fc",
   "metadata": {
    "papermill": {
     "duration": 0.01882,
     "end_time": "2024-06-30T15:21:23.123899",
     "exception": false,
     "start_time": "2024-06-30T15:21:23.105079",
     "status": "completed"
    },
    "tags": []
   },
   "source": [
    "This code snippet is used to prepare and save the final predictions of a model to a CSV file, typically for submission in machine learning competitions or evaluations. It combines the predicted labels with a unique identifier for each image and then exports the results to a CSV file. Here’s a detailed breakdown of each part:\n",
    "\n",
    "### Code Explanation\n",
    "\n",
    "```python\n",
    "submission = pd.concat([pd.Series(range(1, 28001), name=\"ImageId\"), results], axis=1)\n",
    "\n",
    "submission.to_csv(\"mnist.csv\", index=False)\n",
    "```\n",
    "\n",
    "#### Detailed Breakdown\n",
    "\n",
    "1. **`pd.Series(range(1, 28001), name=\"ImageId\")`**:\n",
    "   - **Definition:** `pd.Series` creates a pandas Series from the given data. `range(1, 28001)` generates a sequence of numbers from 1 to 28000 (inclusive), and `name=\"ImageId\"` names the Series as \"ImageId\".\n",
    "   - **Purpose:** This Series acts as a unique identifier for each image in the test set. It’s used to create a column in the final DataFrame that indicates which image each prediction corresponds to.\n",
    "\n",
    "2. **`pd.concat([pd.Series(range(1, 28001), name=\"ImageId\"), results], axis=1)`**:\n",
    "   - **Definition:** `pd.concat` concatenates two or more pandas objects along a specified axis. Here, it concatenates the Series of image IDs with the `results` Series (which contains the predicted labels).\n",
    "   - **Parameters:**\n",
    "     - **`[pd.Series(range(1, 28001), name=\"ImageId\"), results]`:** List of objects to concatenate. The first object is the Series of image IDs, and the second is the Series of predicted labels.\n",
    "     - **`axis=1`:** Specifies that concatenation should occur along the columns (horizontally).\n",
    "   - **Purpose:** This creates a DataFrame where the first column is \"ImageId\" and the second column contains the predicted labels. The `axis=1` argument ensures that the Series are concatenated side by side.\n",
    "\n",
    "3. **`submission.to_csv(\"mnist.csv\", index=False)`**:\n",
    "   - **Definition:** `to_csv` writes the DataFrame `submission` to a CSV file.\n",
    "   - **Parameters:**\n",
    "     - **`\"mnist.csv\"`:** The name of the file to which the DataFrame is saved.\n",
    "     - **`index=False`:** Ensures that the DataFrame’s index is not included in the CSV file. Only the columns \"ImageId\" and the predicted labels will be written to the file.\n",
    "   - **Purpose:** Saves the DataFrame as a CSV file named \"mnist.csv\". This file can be used for submission in competitions, for further analysis, or for sharing results.\n",
    "\n",
    "### Summary\n",
    "\n",
    "- **Creating Identifiers:** A Series of image IDs is created to uniquely identify each test sample.\n",
    "- **Combining Results:** The image IDs and the predicted labels are combined into a single DataFrame.\n",
    "- **Saving Results:** The DataFrame is saved to a CSV file, which is a common format for storing and sharing data.\n",
    "\n",
    "### Example Use Case\n",
    "\n",
    "- **Competition Submission:** In a competition like Kaggle’s MNIST digit classification challenge, submissions usually require a CSV file where each row corresponds to an image ID and its predicted label. This code prepares that file.\n",
    "- **Evaluation:** The CSV file can be used to evaluate model performance on a test set by comparing predictions against ground truth labels.\n",
    "\n",
    "By using this code, you ensure that your model’s predictions are formatted correctly and saved in a way that’s easy to use for evaluations or submissions."
   ]
  },
  {
   "cell_type": "markdown",
   "id": "76d09761",
   "metadata": {
    "papermill": {
     "duration": 0.01877,
     "end_time": "2024-06-30T15:21:23.162929",
     "exception": false,
     "start_time": "2024-06-30T15:21:23.144159",
     "status": "completed"
    },
    "tags": []
   },
   "source": [
    "Thank You for Visiting!\n",
    "\n",
    "Thank you so much for taking the time to visit my Kaggle notebook! I hope you found the analysis informative and helpful. Your interest and support mean a lot to me.\n",
    "\n",
    "If you have any questions, suggestions, or feedback, please feel free to leave a comment or reach out to me. Your input is invaluable in helping me improve and grow as a data scientist.\n",
    "\n",
    "Once again, thank you for stopping by! Wishing you all the best in your data science journey.\n",
    "\n",
    "Best regards,\n",
    "\n",
    "Akanksha"
   ]
  }
 ],
 "metadata": {
  "kaggle": {
   "accelerator": "none",
   "dataSources": [
    {
     "databundleVersionId": 861823,
     "sourceId": 3004,
     "sourceType": "competition"
    }
   ],
   "dockerImageVersionId": 30301,
   "isGpuEnabled": false,
   "isInternetEnabled": true,
   "language": "python",
   "sourceType": "notebook"
  },
  "kernelspec": {
   "display_name": "Python 3",
   "language": "python",
   "name": "python3"
  },
  "language_info": {
   "codemirror_mode": {
    "name": "ipython",
    "version": 3
   },
   "file_extension": ".py",
   "mimetype": "text/x-python",
   "name": "python",
   "nbconvert_exporter": "python",
   "pygments_lexer": "ipython3",
   "version": "3.7.12"
  },
  "papermill": {
   "default_parameters": {},
   "duration": 1778.491214,
   "end_time": "2024-06-30T15:21:25.957586",
   "environment_variables": {},
   "exception": null,
   "input_path": "__notebook__.ipynb",
   "output_path": "__notebook__.ipynb",
   "parameters": {},
   "start_time": "2024-06-30T14:51:47.466372",
   "version": "2.3.4"
  }
 },
 "nbformat": 4,
 "nbformat_minor": 5
}
