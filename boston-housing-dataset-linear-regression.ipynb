{
 "cells": [
  {
   "cell_type": "code",
   "execution_count": 1,
   "id": "eab6c63a",
   "metadata": {
    "_cell_guid": "b1076dfc-b9ad-4769-8c92-a6c4dae69d19",
    "_uuid": "8f2839f25d086af736a60e9eeb907d3b93b6e0e5",
    "execution": {
     "iopub.execute_input": "2024-03-01T06:43:39.081143Z",
     "iopub.status.busy": "2024-03-01T06:43:39.079914Z",
     "iopub.status.idle": "2024-03-01T06:43:40.011819Z",
     "shell.execute_reply": "2024-03-01T06:43:40.010585Z"
    },
    "papermill": {
     "duration": 0.946606,
     "end_time": "2024-03-01T06:43:40.015611",
     "exception": false,
     "start_time": "2024-03-01T06:43:39.069005",
     "status": "completed"
    },
    "tags": []
   },
   "outputs": [
    {
     "name": "stdout",
     "output_type": "stream",
     "text": [
      "/kaggle/input/boston-housing-dataset-with-column-names/housing.csv\n"
     ]
    }
   ],
   "source": [
    "# This Python 3 environment comes with many helpful analytics libraries installed\n",
    "# It is defined by the kaggle/python Docker image: https://github.com/kaggle/docker-python\n",
    "# For example, here's several helpful packages to load\n",
    "\n",
    "import numpy as np # linear algebra\n",
    "import pandas as pd # data processing, CSV file I/O (e.g. pd.read_csv)\n",
    "\n",
    "# Input data files are available in the read-only \"../input/\" directory\n",
    "# For example, running this (by clicking run or pressing Shift+Enter) will list all files under the input directory\n",
    "\n",
    "import os\n",
    "for dirname, _, filenames in os.walk('/kaggle/input'):\n",
    "    for filename in filenames:\n",
    "        print(os.path.join(dirname, filename))\n",
    "\n",
    "# You can write up to 20GB to the current directory (/kaggle/working/) that gets preserved as output when you create a version using \"Save & Run All\" \n",
    "# You can also write temporary files to /kaggle/temp/, but they won't be saved outside of the current session"
   ]
  },
  {
   "cell_type": "code",
   "execution_count": 2,
   "id": "6691cd3a",
   "metadata": {
    "execution": {
     "iopub.execute_input": "2024-03-01T06:43:40.034533Z",
     "iopub.status.busy": "2024-03-01T06:43:40.033962Z",
     "iopub.status.idle": "2024-03-01T06:43:41.482642Z",
     "shell.execute_reply": "2024-03-01T06:43:41.480910Z"
    },
    "papermill": {
     "duration": 1.461333,
     "end_time": "2024-03-01T06:43:41.485827",
     "exception": false,
     "start_time": "2024-03-01T06:43:40.024494",
     "status": "completed"
    },
    "tags": []
   },
   "outputs": [],
   "source": [
    "import matplotlib.pyplot as plt \n",
    "import seaborn as sns \n",
    "\n",
    "%matplotlib inline"
   ]
  },
  {
   "cell_type": "markdown",
   "id": "9725ce5b",
   "metadata": {
    "papermill": {
     "duration": 0.007811,
     "end_time": "2024-03-01T06:43:41.501792",
     "exception": false,
     "start_time": "2024-03-01T06:43:41.493981",
     "status": "completed"
    },
    "tags": []
   },
   "source": [
    "The Boston Housing Dataset is a widely used dataset in machine learning and statistics, particularly for regression analysis. It was collected by researchers from the University of Chicago and the Massachusetts Institute of Technology (MIT) in the 1970s and is often used to demonstrate and test regression algorithms. The dataset is built around the task of predicting the median value of owner-occupied homes in various Boston suburbs.\n",
    "\n",
    "Here are key details about the Boston Housing Dataset:\n",
    "\n",
    "1. **Attributes/Features:**\n",
    "   - There are 13 numerical input features in the dataset.\n",
    "   - Features include data related to factors influencing housing prices, such as crime rate, property tax, teacher-student ratio, etc.\n",
    "\n",
    "2. **Target Variable:**\n",
    "   - The target variable is the median value of owner-occupied homes (in thousands of dollars) for a given suburb.\n",
    "   - This variable, often denoted as \"MEDV,\" is the variable that a linear regression model would typically try to predict.\n",
    "\n",
    "3. **Size:**\n",
    "   - The dataset consists of a total of 506 data points, each representing a suburb in Boston.\n",
    "\n",
    "4. **Usage:**\n",
    "   - The dataset is frequently used for regression analysis tasks, especially to test and demonstrate linear regression models.\n",
    "   - Researchers and practitioners often use it as a benchmark for evaluating the performance of different regression algorithms.\n",
    "\n",
    "5. **Purpose:**\n",
    "   - The dataset was originally collected to study the relationship between various socio-economic factors and housing prices in Boston suburbs.\n",
    "   - It serves as a valuable resource for understanding the complexities involved in predicting real-world housing prices.\n",
    "\n",
    "6. **Availability:**\n",
    "   - The Boston Housing Dataset is readily available in popular machine learning libraries such as scikit-learn.\n",
    "   - It can also be accessed through online repositories and is often included in educational materials and tutorials.\n",
    "\n",
    "For linear regression modeling, one can use the features in the dataset to build a model that predicts the median value of owner-occupied homes. The goal is to find the linear relationship between the input features and the target variable, allowing for the estimation of housing prices based on different factors. The dataset is suitable for exploring concepts like feature selection, model evaluation, and understanding the impact of various features on the prediction of housing prices."
   ]
  },
  {
   "cell_type": "code",
   "execution_count": 3,
   "id": "9efdc3b3",
   "metadata": {
    "execution": {
     "iopub.execute_input": "2024-03-01T06:43:41.519718Z",
     "iopub.status.busy": "2024-03-01T06:43:41.519276Z",
     "iopub.status.idle": "2024-03-01T06:43:41.576365Z",
     "shell.execute_reply": "2024-03-01T06:43:41.575139Z"
    },
    "papermill": {
     "duration": 0.069354,
     "end_time": "2024-03-01T06:43:41.579266",
     "exception": false,
     "start_time": "2024-03-01T06:43:41.509912",
     "status": "completed"
    },
    "tags": []
   },
   "outputs": [
    {
     "data": {
      "text/html": [
       "<div>\n",
       "<style scoped>\n",
       "    .dataframe tbody tr th:only-of-type {\n",
       "        vertical-align: middle;\n",
       "    }\n",
       "\n",
       "    .dataframe tbody tr th {\n",
       "        vertical-align: top;\n",
       "    }\n",
       "\n",
       "    .dataframe thead th {\n",
       "        text-align: right;\n",
       "    }\n",
       "</style>\n",
       "<table border=\"1\" class=\"dataframe\">\n",
       "  <thead>\n",
       "    <tr style=\"text-align: right;\">\n",
       "      <th></th>\n",
       "      <th>CRIM</th>\n",
       "      <th>ZN</th>\n",
       "      <th>INDUS</th>\n",
       "      <th>CHAS</th>\n",
       "      <th>NOX</th>\n",
       "      <th>RM</th>\n",
       "      <th>AGE</th>\n",
       "      <th>DIS</th>\n",
       "      <th>RAD</th>\n",
       "      <th>TAX</th>\n",
       "      <th>PTRATIO</th>\n",
       "      <th>B</th>\n",
       "      <th>LSTAT</th>\n",
       "      <th>MEDV</th>\n",
       "    </tr>\n",
       "  </thead>\n",
       "  <tbody>\n",
       "    <tr>\n",
       "      <th>0</th>\n",
       "      <td>0.00632</td>\n",
       "      <td>18.0</td>\n",
       "      <td>2.31</td>\n",
       "      <td>0</td>\n",
       "      <td>0.538</td>\n",
       "      <td>6.575</td>\n",
       "      <td>65.2</td>\n",
       "      <td>4.0900</td>\n",
       "      <td>1</td>\n",
       "      <td>296.0</td>\n",
       "      <td>15.3</td>\n",
       "      <td>396.90</td>\n",
       "      <td>4.98</td>\n",
       "      <td>24.0</td>\n",
       "    </tr>\n",
       "    <tr>\n",
       "      <th>1</th>\n",
       "      <td>0.02731</td>\n",
       "      <td>0.0</td>\n",
       "      <td>7.07</td>\n",
       "      <td>0</td>\n",
       "      <td>0.469</td>\n",
       "      <td>6.421</td>\n",
       "      <td>78.9</td>\n",
       "      <td>4.9671</td>\n",
       "      <td>2</td>\n",
       "      <td>242.0</td>\n",
       "      <td>17.8</td>\n",
       "      <td>396.90</td>\n",
       "      <td>9.14</td>\n",
       "      <td>21.6</td>\n",
       "    </tr>\n",
       "    <tr>\n",
       "      <th>2</th>\n",
       "      <td>0.02729</td>\n",
       "      <td>0.0</td>\n",
       "      <td>7.07</td>\n",
       "      <td>0</td>\n",
       "      <td>0.469</td>\n",
       "      <td>7.185</td>\n",
       "      <td>61.1</td>\n",
       "      <td>4.9671</td>\n",
       "      <td>2</td>\n",
       "      <td>242.0</td>\n",
       "      <td>17.8</td>\n",
       "      <td>392.83</td>\n",
       "      <td>4.03</td>\n",
       "      <td>34.7</td>\n",
       "    </tr>\n",
       "    <tr>\n",
       "      <th>3</th>\n",
       "      <td>0.03237</td>\n",
       "      <td>0.0</td>\n",
       "      <td>2.18</td>\n",
       "      <td>0</td>\n",
       "      <td>0.458</td>\n",
       "      <td>6.998</td>\n",
       "      <td>45.8</td>\n",
       "      <td>6.0622</td>\n",
       "      <td>3</td>\n",
       "      <td>222.0</td>\n",
       "      <td>18.7</td>\n",
       "      <td>394.63</td>\n",
       "      <td>2.94</td>\n",
       "      <td>33.4</td>\n",
       "    </tr>\n",
       "    <tr>\n",
       "      <th>4</th>\n",
       "      <td>0.06905</td>\n",
       "      <td>0.0</td>\n",
       "      <td>2.18</td>\n",
       "      <td>0</td>\n",
       "      <td>0.458</td>\n",
       "      <td>7.147</td>\n",
       "      <td>54.2</td>\n",
       "      <td>6.0622</td>\n",
       "      <td>3</td>\n",
       "      <td>222.0</td>\n",
       "      <td>18.7</td>\n",
       "      <td>396.90</td>\n",
       "      <td>5.33</td>\n",
       "      <td>36.2</td>\n",
       "    </tr>\n",
       "    <tr>\n",
       "      <th>...</th>\n",
       "      <td>...</td>\n",
       "      <td>...</td>\n",
       "      <td>...</td>\n",
       "      <td>...</td>\n",
       "      <td>...</td>\n",
       "      <td>...</td>\n",
       "      <td>...</td>\n",
       "      <td>...</td>\n",
       "      <td>...</td>\n",
       "      <td>...</td>\n",
       "      <td>...</td>\n",
       "      <td>...</td>\n",
       "      <td>...</td>\n",
       "      <td>...</td>\n",
       "    </tr>\n",
       "    <tr>\n",
       "      <th>501</th>\n",
       "      <td>0.06263</td>\n",
       "      <td>0.0</td>\n",
       "      <td>11.93</td>\n",
       "      <td>0</td>\n",
       "      <td>0.573</td>\n",
       "      <td>6.593</td>\n",
       "      <td>69.1</td>\n",
       "      <td>2.4786</td>\n",
       "      <td>1</td>\n",
       "      <td>273.0</td>\n",
       "      <td>21.0</td>\n",
       "      <td>391.99</td>\n",
       "      <td>9.67</td>\n",
       "      <td>22.4</td>\n",
       "    </tr>\n",
       "    <tr>\n",
       "      <th>502</th>\n",
       "      <td>0.04527</td>\n",
       "      <td>0.0</td>\n",
       "      <td>11.93</td>\n",
       "      <td>0</td>\n",
       "      <td>0.573</td>\n",
       "      <td>6.120</td>\n",
       "      <td>76.7</td>\n",
       "      <td>2.2875</td>\n",
       "      <td>1</td>\n",
       "      <td>273.0</td>\n",
       "      <td>21.0</td>\n",
       "      <td>396.90</td>\n",
       "      <td>9.08</td>\n",
       "      <td>20.6</td>\n",
       "    </tr>\n",
       "    <tr>\n",
       "      <th>503</th>\n",
       "      <td>0.06076</td>\n",
       "      <td>0.0</td>\n",
       "      <td>11.93</td>\n",
       "      <td>0</td>\n",
       "      <td>0.573</td>\n",
       "      <td>6.976</td>\n",
       "      <td>91.0</td>\n",
       "      <td>2.1675</td>\n",
       "      <td>1</td>\n",
       "      <td>273.0</td>\n",
       "      <td>21.0</td>\n",
       "      <td>396.90</td>\n",
       "      <td>5.64</td>\n",
       "      <td>23.9</td>\n",
       "    </tr>\n",
       "    <tr>\n",
       "      <th>504</th>\n",
       "      <td>0.10959</td>\n",
       "      <td>0.0</td>\n",
       "      <td>11.93</td>\n",
       "      <td>0</td>\n",
       "      <td>0.573</td>\n",
       "      <td>6.794</td>\n",
       "      <td>89.3</td>\n",
       "      <td>2.3889</td>\n",
       "      <td>1</td>\n",
       "      <td>273.0</td>\n",
       "      <td>21.0</td>\n",
       "      <td>393.45</td>\n",
       "      <td>6.48</td>\n",
       "      <td>22.0</td>\n",
       "    </tr>\n",
       "    <tr>\n",
       "      <th>505</th>\n",
       "      <td>0.04741</td>\n",
       "      <td>0.0</td>\n",
       "      <td>11.93</td>\n",
       "      <td>0</td>\n",
       "      <td>0.573</td>\n",
       "      <td>6.030</td>\n",
       "      <td>80.8</td>\n",
       "      <td>2.5050</td>\n",
       "      <td>1</td>\n",
       "      <td>273.0</td>\n",
       "      <td>21.0</td>\n",
       "      <td>396.90</td>\n",
       "      <td>7.88</td>\n",
       "      <td>11.9</td>\n",
       "    </tr>\n",
       "  </tbody>\n",
       "</table>\n",
       "<p>506 rows × 14 columns</p>\n",
       "</div>"
      ],
      "text/plain": [
       "        CRIM    ZN  INDUS  CHAS    NOX     RM   AGE     DIS  RAD    TAX  \\\n",
       "0    0.00632  18.0   2.31     0  0.538  6.575  65.2  4.0900    1  296.0   \n",
       "1    0.02731   0.0   7.07     0  0.469  6.421  78.9  4.9671    2  242.0   \n",
       "2    0.02729   0.0   7.07     0  0.469  7.185  61.1  4.9671    2  242.0   \n",
       "3    0.03237   0.0   2.18     0  0.458  6.998  45.8  6.0622    3  222.0   \n",
       "4    0.06905   0.0   2.18     0  0.458  7.147  54.2  6.0622    3  222.0   \n",
       "..       ...   ...    ...   ...    ...    ...   ...     ...  ...    ...   \n",
       "501  0.06263   0.0  11.93     0  0.573  6.593  69.1  2.4786    1  273.0   \n",
       "502  0.04527   0.0  11.93     0  0.573  6.120  76.7  2.2875    1  273.0   \n",
       "503  0.06076   0.0  11.93     0  0.573  6.976  91.0  2.1675    1  273.0   \n",
       "504  0.10959   0.0  11.93     0  0.573  6.794  89.3  2.3889    1  273.0   \n",
       "505  0.04741   0.0  11.93     0  0.573  6.030  80.8  2.5050    1  273.0   \n",
       "\n",
       "     PTRATIO       B  LSTAT  MEDV  \n",
       "0       15.3  396.90   4.98  24.0  \n",
       "1       17.8  396.90   9.14  21.6  \n",
       "2       17.8  392.83   4.03  34.7  \n",
       "3       18.7  394.63   2.94  33.4  \n",
       "4       18.7  396.90   5.33  36.2  \n",
       "..       ...     ...    ...   ...  \n",
       "501     21.0  391.99   9.67  22.4  \n",
       "502     21.0  396.90   9.08  20.6  \n",
       "503     21.0  396.90   5.64  23.9  \n",
       "504     21.0  393.45   6.48  22.0  \n",
       "505     21.0  396.90   7.88  11.9  \n",
       "\n",
       "[506 rows x 14 columns]"
      ]
     },
     "execution_count": 3,
     "metadata": {},
     "output_type": "execute_result"
    }
   ],
   "source": [
    "df1 = pd.read_csv(\"/kaggle/input/boston-housing-dataset-with-column-names/housing.csv\")\n",
    "df1"
   ]
  },
  {
   "cell_type": "code",
   "execution_count": 4,
   "id": "1028e28b",
   "metadata": {
    "execution": {
     "iopub.execute_input": "2024-03-01T06:43:41.598841Z",
     "iopub.status.busy": "2024-03-01T06:43:41.598450Z",
     "iopub.status.idle": "2024-03-01T06:43:41.625600Z",
     "shell.execute_reply": "2024-03-01T06:43:41.624501Z"
    },
    "papermill": {
     "duration": 0.039532,
     "end_time": "2024-03-01T06:43:41.627951",
     "exception": false,
     "start_time": "2024-03-01T06:43:41.588419",
     "status": "completed"
    },
    "tags": []
   },
   "outputs": [
    {
     "name": "stdout",
     "output_type": "stream",
     "text": [
      "<class 'pandas.core.frame.DataFrame'>\n",
      "RangeIndex: 506 entries, 0 to 505\n",
      "Data columns (total 14 columns):\n",
      " #   Column   Non-Null Count  Dtype  \n",
      "---  ------   --------------  -----  \n",
      " 0   CRIM     506 non-null    float64\n",
      " 1   ZN       506 non-null    float64\n",
      " 2   INDUS    506 non-null    float64\n",
      " 3   CHAS     506 non-null    int64  \n",
      " 4   NOX      506 non-null    float64\n",
      " 5   RM       506 non-null    float64\n",
      " 6   AGE      506 non-null    float64\n",
      " 7   DIS      506 non-null    float64\n",
      " 8   RAD      506 non-null    int64  \n",
      " 9   TAX      506 non-null    float64\n",
      " 10  PTRATIO  506 non-null    float64\n",
      " 11  B        506 non-null    float64\n",
      " 12  LSTAT    506 non-null    float64\n",
      " 13  MEDV     506 non-null    float64\n",
      "dtypes: float64(12), int64(2)\n",
      "memory usage: 55.5 KB\n"
     ]
    }
   ],
   "source": [
    "df1.info()"
   ]
  },
  {
   "cell_type": "markdown",
   "id": "13dace60",
   "metadata": {
    "papermill": {
     "duration": 0.00842,
     "end_time": "2024-03-01T06:43:41.645678",
     "exception": false,
     "start_time": "2024-03-01T06:43:41.637258",
     "status": "completed"
    },
    "tags": []
   },
   "source": [
    "CRIM: Per capita crime rate by town\n",
    "\n",
    "ZN: Proportion of residential land zoned for lots over 25,000 sq. ft\n",
    "\n",
    "INDUS: Proportion of non-retail business acres per town\n",
    "\n",
    "CHAS: Charles River dummy variable (= 1 if tract bounds river; 0 otherwise)\n",
    "\n",
    "NOX: Nitric oxide concentration (parts per 10 million)\n",
    "\n",
    "RM: Average number of rooms per dwelling\n",
    "\n",
    "AGE: Proportion of owner-occupied units built prior to 1940\n",
    "\n",
    "DIS: Weighted distances to five Boston employment centers\n",
    "\n",
    "RAD: Index of accessibility to radial highways\n",
    "\n",
    "TAX: Full-value property tax rate per $10,000\n",
    "\n",
    "PTRATIO: Pupil-teacher ratio by town\n",
    "\n",
    "B: 1000(Bk — 0.63)², where Bk is the proportion of (people of African American descent) by town\n",
    "\n",
    "LSTAT: Percentage of lower status of the population\n",
    "\n",
    "MEDV: Median value of owner-occupied homes in $1000s"
   ]
  },
  {
   "cell_type": "code",
   "execution_count": 5,
   "id": "4566a60f",
   "metadata": {
    "execution": {
     "iopub.execute_input": "2024-03-01T06:43:41.664920Z",
     "iopub.status.busy": "2024-03-01T06:43:41.664526Z",
     "iopub.status.idle": "2024-03-01T06:43:41.674164Z",
     "shell.execute_reply": "2024-03-01T06:43:41.672955Z"
    },
    "papermill": {
     "duration": 0.022047,
     "end_time": "2024-03-01T06:43:41.676547",
     "exception": false,
     "start_time": "2024-03-01T06:43:41.654500",
     "status": "completed"
    },
    "tags": []
   },
   "outputs": [
    {
     "data": {
      "text/plain": [
       "CRIM       0\n",
       "ZN         0\n",
       "INDUS      0\n",
       "CHAS       0\n",
       "NOX        0\n",
       "RM         0\n",
       "AGE        0\n",
       "DIS        0\n",
       "RAD        0\n",
       "TAX        0\n",
       "PTRATIO    0\n",
       "B          0\n",
       "LSTAT      0\n",
       "MEDV       0\n",
       "dtype: int64"
      ]
     },
     "execution_count": 5,
     "metadata": {},
     "output_type": "execute_result"
    }
   ],
   "source": [
    "df1.isnull().sum()"
   ]
  },
  {
   "cell_type": "markdown",
   "id": "1be4671c",
   "metadata": {
    "papermill": {
     "duration": 0.008543,
     "end_time": "2024-03-01T06:43:41.693902",
     "exception": false,
     "start_time": "2024-03-01T06:43:41.685359",
     "status": "completed"
    },
    "tags": []
   },
   "source": [
    "Before we make any changes to the dataset, let's duplicate the dataset."
   ]
  },
  {
   "cell_type": "code",
   "execution_count": 6,
   "id": "1c7942df",
   "metadata": {
    "execution": {
     "iopub.execute_input": "2024-03-01T06:43:41.713207Z",
     "iopub.status.busy": "2024-03-01T06:43:41.712835Z",
     "iopub.status.idle": "2024-03-01T06:43:41.718022Z",
     "shell.execute_reply": "2024-03-01T06:43:41.716892Z"
    },
    "papermill": {
     "duration": 0.017868,
     "end_time": "2024-03-01T06:43:41.720538",
     "exception": false,
     "start_time": "2024-03-01T06:43:41.702670",
     "status": "completed"
    },
    "tags": []
   },
   "outputs": [],
   "source": [
    "df = df1.copy()"
   ]
  },
  {
   "cell_type": "markdown",
   "id": "79836da2",
   "metadata": {
    "papermill": {
     "duration": 0.008436,
     "end_time": "2024-03-01T06:43:41.737791",
     "exception": false,
     "start_time": "2024-03-01T06:43:41.729355",
     "status": "completed"
    },
    "tags": []
   },
   "source": [
    "## Understanding the dataset"
   ]
  },
  {
   "cell_type": "code",
   "execution_count": 7,
   "id": "aa183c82",
   "metadata": {
    "execution": {
     "iopub.execute_input": "2024-03-01T06:43:41.756906Z",
     "iopub.status.busy": "2024-03-01T06:43:41.756534Z",
     "iopub.status.idle": "2024-03-01T06:43:42.924928Z",
     "shell.execute_reply": "2024-03-01T06:43:42.923683Z"
    },
    "papermill": {
     "duration": 1.181304,
     "end_time": "2024-03-01T06:43:42.927784",
     "exception": false,
     "start_time": "2024-03-01T06:43:41.746480",
     "status": "completed"
    },
    "tags": []
   },
   "outputs": [
    {
     "data": {
      "text/plain": [
       "<Axes: >"
      ]
     },
     "execution_count": 7,
     "metadata": {},
     "output_type": "execute_result"
    },
    {
     "data": {
      "image/png": "[encoded data removed]",
      "text/plain": [
       "<Figure size 1000x1000 with 2 Axes>"
      ]
     },
     "metadata": {},
     "output_type": "display_data"
    }
   ],
   "source": [
    "plt.figure(figsize=(10, 10))\n",
    "sns.heatmap(data = df.corr().round(2), annot =True, cmap = \"coolwarm\")"
   ]
  },
  {
   "cell_type": "markdown",
   "id": "5d8117a6",
   "metadata": {
    "papermill": {
     "duration": 0.011791,
     "end_time": "2024-03-01T06:43:42.952320",
     "exception": false,
     "start_time": "2024-03-01T06:43:42.940529",
     "status": "completed"
    },
    "tags": []
   },
   "source": [
    "The correlation coefficient ranges from -1 to 1. If the value is close to 1, it means that there is a strong positive correlation between the two variables. When it is close to -1, the variables have a strong negative correlation.\n",
    "\n",
    "**Observations:**\n",
    "\n",
    "- To fit a linear regression model, we select those features which have a high correlation with our target variable MEDV. By looking at the correlation matrix we can see that RM has a strong positive correlation with MEDV (0.7) where as LSTAT has a high negative correlation with MEDV(-0.74).\n",
    "\n",
    "- An important point in selecting features for a linear regression model is to check for multi-co-linearity. The features RAD, TAX have a correlation of 0.91. These feature pairs are strongly correlated to each other. We should not select both these features together for training the model. Check this for an explanation. Same goes for the features DIS and AGE which have a correlation of -0.75."
   ]
  },
  {
   "cell_type": "markdown",
   "id": "0a5090f6",
   "metadata": {
    "papermill": {
     "duration": 0.011335,
     "end_time": "2024-03-01T06:43:42.975219",
     "exception": false,
     "start_time": "2024-03-01T06:43:42.963884",
     "status": "completed"
    },
    "tags": []
   },
   "source": [
    "## Model Building"
   ]
  },
  {
   "cell_type": "markdown",
   "id": "a3e80994",
   "metadata": {
    "papermill": {
     "duration": 0.011561,
     "end_time": "2024-03-01T06:43:42.999554",
     "exception": false,
     "start_time": "2024-03-01T06:43:42.987993",
     "status": "completed"
    },
    "tags": []
   },
   "source": [
    "Train-test split is a crucial step in machine learning model development. It involves dividing a dataset into two subsets: a training set used to train the model, and a testing set to evaluate its performance. This ensures an unbiased assessment of the model's generalization capabilities and helps prevent overfitting to the training data."
   ]
  },
  {
   "cell_type": "code",
   "execution_count": 8,
   "id": "26c17067",
   "metadata": {
    "execution": {
     "iopub.execute_input": "2024-03-01T06:43:43.026356Z",
     "iopub.status.busy": "2024-03-01T06:43:43.025311Z",
     "iopub.status.idle": "2024-03-01T06:43:43.295989Z",
     "shell.execute_reply": "2024-03-01T06:43:43.295015Z"
    },
    "papermill": {
     "duration": 0.286474,
     "end_time": "2024-03-01T06:43:43.298641",
     "exception": false,
     "start_time": "2024-03-01T06:43:43.012167",
     "status": "completed"
    },
    "tags": []
   },
   "outputs": [],
   "source": [
    "from sklearn.model_selection import train_test_split"
   ]
  },
  {
   "cell_type": "code",
   "execution_count": 9,
   "id": "c9bd274d",
   "metadata": {
    "execution": {
     "iopub.execute_input": "2024-03-01T06:43:43.324321Z",
     "iopub.status.busy": "2024-03-01T06:43:43.323147Z",
     "iopub.status.idle": "2024-03-01T06:43:43.334660Z",
     "shell.execute_reply": "2024-03-01T06:43:43.333462Z"
    },
    "papermill": {
     "duration": 0.027717,
     "end_time": "2024-03-01T06:43:43.337906",
     "exception": false,
     "start_time": "2024-03-01T06:43:43.310189",
     "status": "completed"
    },
    "tags": []
   },
   "outputs": [],
   "source": [
    "X = df.drop(['MEDV'],axis=1)\n",
    "y = df['MEDV']\n",
    "\n",
    "X_train, X_test, y_train, y_test = train_test_split(X, y, test_size=0.3, random_state=42)"
   ]
  },
  {
   "cell_type": "markdown",
   "id": "6567a067",
   "metadata": {
    "papermill": {
     "duration": 0.011173,
     "end_time": "2024-03-01T06:43:43.361211",
     "exception": false,
     "start_time": "2024-03-01T06:43:43.350038",
     "status": "completed"
    },
    "tags": []
   },
   "source": [
    "This code performs a train-test split on a dataset using scikit-learn's `train_test_split` function. \n",
    "\n",
    "1. **Feature and Target Variable Separation:**\n",
    "   ```python\n",
    "   X = df.drop(['MEDV'], axis=1)\n",
    "   y = df['MEDV']\n",
    "   ```\n",
    "   - `X` is assigned the DataFrame `df` with the 'MEDV' column dropped, representing the feature variables.\n",
    "   - `y` is assigned the 'MEDV' column, representing the target variable (the variable to be predicted).\n",
    "\n",
    "2. **Train-Test Split:**\n",
    "   ```python\n",
    "   X_train, X_test, y_train, y_test = train_test_split(X, y, test_size=0.3, random_state=42)\n",
    "   ```\n",
    "   - `train_test_split` divides the dataset into training and testing sets.\n",
    "   - `X_train` and `y_train` are the feature and target variables for the training set, respectively.\n",
    "   - `X_test` and `y_test` are the feature and target variables for the testing set, respectively.\n",
    "   - `test_size=0.3` specifies that 30% of the data will be used for testing, and the remaining 70% for training.\n",
    "   - `random_state=42` ensures reproducibility by fixing the random seed, so the split will be the same each time the code is run.\n",
    "\n",
    "In summary, this code prepares the data for machine learning by separating features and target variable and then splitting them into training and testing sets. This is a common practice to assess a model's performance on unseen data and avoid overfitting."
   ]
  },
  {
   "cell_type": "code",
   "execution_count": 10,
   "id": "2871dd94",
   "metadata": {
    "execution": {
     "iopub.execute_input": "2024-03-01T06:43:43.387562Z",
     "iopub.status.busy": "2024-03-01T06:43:43.387127Z",
     "iopub.status.idle": "2024-03-01T06:43:43.395163Z",
     "shell.execute_reply": "2024-03-01T06:43:43.393890Z"
    },
    "papermill": {
     "duration": 0.024102,
     "end_time": "2024-03-01T06:43:43.397928",
     "exception": false,
     "start_time": "2024-03-01T06:43:43.373826",
     "status": "completed"
    },
    "tags": []
   },
   "outputs": [
    {
     "data": {
      "text/plain": [
       "((354, 13), (152, 13), (354,), (152,))"
      ]
     },
     "execution_count": 10,
     "metadata": {},
     "output_type": "execute_result"
    }
   ],
   "source": [
    "X_train.shape, X_test.shape, y_train.shape, y_test.shape"
   ]
  },
  {
   "cell_type": "markdown",
   "id": "778b3181",
   "metadata": {
    "papermill": {
     "duration": 0.011626,
     "end_time": "2024-03-01T06:43:43.421621",
     "exception": false,
     "start_time": "2024-03-01T06:43:43.409995",
     "status": "completed"
    },
    "tags": []
   },
   "source": [
    "### Training and testing the model\n",
    "\n",
    "We use scikit-learn’s LinearRegression to train our model on both the training and test sets."
   ]
  },
  {
   "cell_type": "code",
   "execution_count": 11,
   "id": "8ec02026",
   "metadata": {
    "execution": {
     "iopub.execute_input": "2024-03-01T06:43:43.447691Z",
     "iopub.status.busy": "2024-03-01T06:43:43.446880Z",
     "iopub.status.idle": "2024-03-01T06:43:43.588148Z",
     "shell.execute_reply": "2024-03-01T06:43:43.586364Z"
    },
    "papermill": {
     "duration": 0.157415,
     "end_time": "2024-03-01T06:43:43.591126",
     "exception": false,
     "start_time": "2024-03-01T06:43:43.433711",
     "status": "completed"
    },
    "tags": []
   },
   "outputs": [
    {
     "data": {
      "text/html": [
       "<style>#sk-container-id-1 {color: black;background-color: white;}#sk-container-id-1 pre{padding: 0;}#sk-container-id-1 div.sk-toggleable {background-color: white;}#sk-container-id-1 label.sk-toggleable__label {cursor: pointer;display: block;width: 100%;margin-bottom: 0;padding: 0.3em;box-sizing: border-box;text-align: center;}#sk-container-id-1 label.sk-toggleable__label-arrow:before {content: \"▸\";float: left;margin-right: 0.25em;color: #696969;}#sk-container-id-1 label.sk-toggleable__label-arrow:hover:before {color: black;}#sk-container-id-1 div.sk-estimator:hover label.sk-toggleable__label-arrow:before {color: black;}#sk-container-id-1 div.sk-toggleable__content {max-height: 0;max-width: 0;overflow: hidden;text-align: left;background-color: #f0f8ff;}#sk-container-id-1 div.sk-toggleable__content pre {margin: 0.2em;color: black;border-radius: 0.25em;background-color: #f0f8ff;}#sk-container-id-1 input.sk-toggleable__control:checked~div.sk-toggleable__content {max-height: 200px;max-width: 100%;overflow: auto;}#sk-container-id-1 input.sk-toggleable__control:checked~label.sk-toggleable__label-arrow:before {content: \"▾\";}#sk-container-id-1 div.sk-estimator input.sk-toggleable__control:checked~label.sk-toggleable__label {background-color: #d4ebff;}#sk-container-id-1 div.sk-label input.sk-toggleable__control:checked~label.sk-toggleable__label {background-color: #d4ebff;}#sk-container-id-1 input.sk-hidden--visually {border: 0;clip: rect(1px 1px 1px 1px);clip: rect(1px, 1px, 1px, 1px);height: 1px;margin: -1px;overflow: hidden;padding: 0;position: absolute;width: 1px;}#sk-container-id-1 div.sk-estimator {font-family: monospace;background-color: #f0f8ff;border: 1px dotted black;border-radius: 0.25em;box-sizing: border-box;margin-bottom: 0.5em;}#sk-container-id-1 div.sk-estimator:hover {background-color: #d4ebff;}#sk-container-id-1 div.sk-parallel-item::after {content: \"\";width: 100%;border-bottom: 1px solid gray;flex-grow: 1;}#sk-container-id-1 div.sk-label:hover label.sk-toggleable__label {background-color: #d4ebff;}#sk-container-id-1 div.sk-serial::before {content: \"\";position: absolute;border-left: 1px solid gray;box-sizing: border-box;top: 0;bottom: 0;left: 50%;z-index: 0;}#sk-container-id-1 div.sk-serial {display: flex;flex-direction: column;align-items: center;background-color: white;padding-right: 0.2em;padding-left: 0.2em;position: relative;}#sk-container-id-1 div.sk-item {position: relative;z-index: 1;}#sk-container-id-1 div.sk-parallel {display: flex;align-items: stretch;justify-content: center;background-color: white;position: relative;}#sk-container-id-1 div.sk-item::before, #sk-container-id-1 div.sk-parallel-item::before {content: \"\";position: absolute;border-left: 1px solid gray;box-sizing: border-box;top: 0;bottom: 0;left: 50%;z-index: -1;}#sk-container-id-1 div.sk-parallel-item {display: flex;flex-direction: column;z-index: 1;position: relative;background-color: white;}#sk-container-id-1 div.sk-parallel-item:first-child::after {align-self: flex-end;width: 50%;}#sk-container-id-1 div.sk-parallel-item:last-child::after {align-self: flex-start;width: 50%;}#sk-container-id-1 div.sk-parallel-item:only-child::after {width: 0;}#sk-container-id-1 div.sk-dashed-wrapped {border: 1px dashed gray;margin: 0 0.4em 0.5em 0.4em;box-sizing: border-box;padding-bottom: 0.4em;background-color: white;}#sk-container-id-1 div.sk-label label {font-family: monospace;font-weight: bold;display: inline-block;line-height: 1.2em;}#sk-container-id-1 div.sk-label-container {text-align: center;}#sk-container-id-1 div.sk-container {/* jupyter's `normalize.less` sets `[hidden] { display: none; }` but bootstrap.min.css set `[hidden] { display: none !important; }` so we also need the `!important` here to be able to override the default hidden behavior on the sphinx rendered scikit-learn.org. See: https://github.com/scikit-learn/scikit-learn/issues/21755 */display: inline-block !important;position: relative;}#sk-container-id-1 div.sk-text-repr-fallback {display: none;}</style><div id=\"sk-container-id-1\" class=\"sk-top-container\"><div class=\"sk-text-repr-fallback\"><pre>LinearRegression()</pre><b>In a Jupyter environment, please rerun this cell to show the HTML representation or trust the notebook. <br />On GitHub, the HTML representation is unable to render, please try loading this page with nbviewer.org.</b></div><div class=\"sk-container\" hidden><div class=\"sk-item\"><div class=\"sk-estimator sk-toggleable\"><input class=\"sk-toggleable__control sk-hidden--visually\" id=\"sk-estimator-id-1\" type=\"checkbox\" checked><label for=\"sk-estimator-id-1\" class=\"sk-toggleable__label sk-toggleable__label-arrow\">LinearRegression</label><div class=\"sk-toggleable__content\"><pre>LinearRegression()</pre></div></div></div></div></div>"
      ],
      "text/plain": [
       "LinearRegression()"
      ]
     },
     "execution_count": 11,
     "metadata": {},
     "output_type": "execute_result"
    }
   ],
   "source": [
    "from sklearn.linear_model import LinearRegression\n",
    "from sklearn.metrics import mean_squared_error, r2_score\n",
    "\n",
    "lin_model = LinearRegression()\n",
    "lin_model.fit(X_train, y_train)"
   ]
  },
  {
   "cell_type": "markdown",
   "id": "843da311",
   "metadata": {
    "papermill": {
     "duration": 0.011745,
     "end_time": "2024-03-01T06:43:43.615173",
     "exception": false,
     "start_time": "2024-03-01T06:43:43.603428",
     "status": "completed"
    },
    "tags": []
   },
   "source": [
    "### Model evaluation\n",
    "We will evaluate our model using RMSE and R2-score."
   ]
  },
  {
   "cell_type": "code",
   "execution_count": 12,
   "id": "16bd329e",
   "metadata": {
    "execution": {
     "iopub.execute_input": "2024-03-01T06:43:43.642281Z",
     "iopub.status.busy": "2024-03-01T06:43:43.641895Z",
     "iopub.status.idle": "2024-03-01T06:43:43.659946Z",
     "shell.execute_reply": "2024-03-01T06:43:43.658604Z"
    },
    "papermill": {
     "duration": 0.035552,
     "end_time": "2024-03-01T06:43:43.662828",
     "exception": false,
     "start_time": "2024-03-01T06:43:43.627276",
     "status": "completed"
    },
    "tags": []
   },
   "outputs": [
    {
     "name": "stdout",
     "output_type": "stream",
     "text": [
      "The model performance for training set\n",
      "RMSE is 4.748208239685937\n",
      "R2 score is 0.7434997532004697\n",
      "\n",
      "The model performance for testing set\n",
      "RMSE is 4.63868992617283\n",
      "R2 score is 0.711226005748492\n"
     ]
    }
   ],
   "source": [
    "# model evaluation for training set\n",
    "y_train_predict = lin_model.predict(X_train)\n",
    "rmse = (np.sqrt(mean_squared_error(y_train, y_train_predict)))\n",
    "r2 = r2_score(y_train, y_train_predict)\n",
    "\n",
    "print(\"The model performance for training set\")\n",
    "print('RMSE is',(rmse))\n",
    "print('R2 score is',(r2))\n",
    "\n",
    "# model evaluation for testing set\n",
    "y_test_predict = lin_model.predict(X_test)\n",
    "rmse = (np.sqrt(mean_squared_error(y_test, y_test_predict)))\n",
    "r2 = r2_score(y_test, y_test_predict)\n",
    "\n",
    "print(\"\\nThe model performance for testing set\")\n",
    "print('RMSE is',(rmse))\n",
    "print('R2 score is',(r2))"
   ]
  },
  {
   "cell_type": "markdown",
   "id": "3a660df7",
   "metadata": {
    "papermill": {
     "duration": 0.011549,
     "end_time": "2024-03-01T06:43:43.687079",
     "exception": false,
     "start_time": "2024-03-01T06:43:43.675530",
     "status": "completed"
    },
    "tags": []
   },
   "source": [
    "This code evaluates the performance of a linear regression model on both the training and testing sets using common regression metrics. \n",
    "\n",
    "1. **Model Prediction on Training Set:**\n",
    "   ```python\n",
    "   y_train_predict = lin_model.predict(X_train)\n",
    "   ```\n",
    "   - The trained linear regression model `lin_model` predicts the target variable (`y_train_predict`) based on the feature variables in the training set (`X_train`).\n",
    "\n",
    "2. **Calculation of Metrics for Training Set:**\n",
    "   ```python\n",
    "   rmse = (np.sqrt(mean_squared_error(y_train, y_train_predict)))\n",
    "   r2 = r2_score(y_train, y_train_predict)\n",
    "   ```\n",
    "   - `rmse` calculates the **root mean squared error** between the actual target values (`y_train`) and the predicted values for the training set (`y_train_predict`).\n",
    "   - `r2` calculates the **R-squared score**, which measures the proportion of the variance in the dependent variable (target) that is predictable from the independent variables (features).\n",
    "\n",
    "3. **Printing Training Set Metrics:**\n",
    "   - The code prints the performance metrics for the training set, including the RMSE and R2 score.\n",
    "\n",
    "4. **Model Prediction on Testing Set:**\n",
    "   ```python\n",
    "   y_test_predict = lin_model.predict(X_test)\n",
    "   ```\n",
    "   - The trained linear regression model predicts the target variable for the testing set (`y_test_predict`) based on the feature variables in the testing set (`X_test`).\n",
    "\n",
    "5. **Calculation of Metrics for Testing Set:**\n",
    "\n",
    "   - Similar to the training set, it calculates the RMSE and R2 score for the testing set.\n",
    "\n",
    "6. **Printing Testing Set Metrics:**\n",
    "   \n",
    "   - The code prints the performance metrics for the testing set, allowing the assessment of how well the model generalizes to new, unseen data."
   ]
  },
  {
   "cell_type": "code",
   "execution_count": 13,
   "id": "404f0c24",
   "metadata": {
    "execution": {
     "iopub.execute_input": "2024-03-01T06:43:43.713238Z",
     "iopub.status.busy": "2024-03-01T06:43:43.712832Z",
     "iopub.status.idle": "2024-03-01T06:43:43.725131Z",
     "shell.execute_reply": "2024-03-01T06:43:43.723801Z"
    },
    "papermill": {
     "duration": 0.028935,
     "end_time": "2024-03-01T06:43:43.727985",
     "exception": false,
     "start_time": "2024-03-01T06:43:43.699050",
     "status": "completed"
    },
    "tags": []
   },
   "outputs": [
    {
     "data": {
      "text/html": [
       "<div>\n",
       "<style scoped>\n",
       "    .dataframe tbody tr th:only-of-type {\n",
       "        vertical-align: middle;\n",
       "    }\n",
       "\n",
       "    .dataframe tbody tr th {\n",
       "        vertical-align: top;\n",
       "    }\n",
       "\n",
       "    .dataframe thead th {\n",
       "        text-align: right;\n",
       "    }\n",
       "</style>\n",
       "<table border=\"1\" class=\"dataframe\">\n",
       "  <thead>\n",
       "    <tr style=\"text-align: right;\">\n",
       "      <th></th>\n",
       "      <th>Coefficients</th>\n",
       "    </tr>\n",
       "  </thead>\n",
       "  <tbody>\n",
       "    <tr>\n",
       "      <th>CRIM</th>\n",
       "      <td>-0.133470</td>\n",
       "    </tr>\n",
       "    <tr>\n",
       "      <th>ZN</th>\n",
       "      <td>0.035809</td>\n",
       "    </tr>\n",
       "    <tr>\n",
       "      <th>INDUS</th>\n",
       "      <td>0.049523</td>\n",
       "    </tr>\n",
       "    <tr>\n",
       "      <th>CHAS</th>\n",
       "      <td>3.119835</td>\n",
       "    </tr>\n",
       "    <tr>\n",
       "      <th>NOX</th>\n",
       "      <td>-15.417061</td>\n",
       "    </tr>\n",
       "    <tr>\n",
       "      <th>RM</th>\n",
       "      <td>4.057199</td>\n",
       "    </tr>\n",
       "    <tr>\n",
       "      <th>AGE</th>\n",
       "      <td>-0.010821</td>\n",
       "    </tr>\n",
       "    <tr>\n",
       "      <th>DIS</th>\n",
       "      <td>-1.385998</td>\n",
       "    </tr>\n",
       "    <tr>\n",
       "      <th>RAD</th>\n",
       "      <td>0.242727</td>\n",
       "    </tr>\n",
       "    <tr>\n",
       "      <th>TAX</th>\n",
       "      <td>-0.008702</td>\n",
       "    </tr>\n",
       "    <tr>\n",
       "      <th>PTRATIO</th>\n",
       "      <td>-0.910685</td>\n",
       "    </tr>\n",
       "    <tr>\n",
       "      <th>B</th>\n",
       "      <td>0.011794</td>\n",
       "    </tr>\n",
       "    <tr>\n",
       "      <th>LSTAT</th>\n",
       "      <td>-0.547113</td>\n",
       "    </tr>\n",
       "  </tbody>\n",
       "</table>\n",
       "</div>"
      ],
      "text/plain": [
       "         Coefficients\n",
       "CRIM        -0.133470\n",
       "ZN           0.035809\n",
       "INDUS        0.049523\n",
       "CHAS         3.119835\n",
       "NOX        -15.417061\n",
       "RM           4.057199\n",
       "AGE         -0.010821\n",
       "DIS         -1.385998\n",
       "RAD          0.242727\n",
       "TAX         -0.008702\n",
       "PTRATIO     -0.910685\n",
       "B            0.011794\n",
       "LSTAT       -0.547113"
      ]
     },
     "execution_count": 13,
     "metadata": {},
     "output_type": "execute_result"
    }
   ],
   "source": [
    "df_coff = pd.DataFrame(lin_model.coef_, \n",
    "                       index=X.columns, \n",
    "                       columns=['Coefficients'])\n",
    "df_coff"
   ]
  },
  {
   "cell_type": "markdown",
   "id": "447d0acf",
   "metadata": {
    "papermill": {
     "duration": 0.011986,
     "end_time": "2024-03-01T06:43:43.752718",
     "exception": false,
     "start_time": "2024-03-01T06:43:43.740732",
     "status": "completed"
    },
    "tags": []
   },
   "source": [
    "The output from the code provides insights into the coefficients of a linear regression model (`lin_model`) for predicting housing prices based on different features. Each row in the DataFrame `df_coff` represents a feature, and the corresponding value in the \"Coefficients\" column indicates the impact of that feature on the predicted target variable (housing prices).\n",
    "\n",
    "Key insights:\n",
    "\n",
    "1. **Positive Coefficients:**\n",
    "   - Features with positive coefficients (e.g., ZN, INDUS, CHAS, RM, RAD, B) positively contribute to the predicted housing prices.\n",
    "   - For example, an increase in the number of rooms (RM) is associated with an increase in predicted housing prices.\n",
    "\n",
    "2. **Negative Coefficients:**\n",
    "   - Features with negative coefficients (e.g., CRIM, NOX, AGE, DIS, TAX, PTRATIO, LSTAT) have a negative impact on the predicted housing prices.\n",
    "   - For instance, an increase in the crime rate (CRIM) or the percentage of lower-status population (LSTAT) is associated with a decrease in predicted housing prices.\n",
    "\n",
    "3. **Relative Importance:**\n",
    "   - The magnitude of the coefficients indicates the relative importance of each feature in influencing the predicted housing prices.\n",
    "   - Features with larger absolute values have a greater impact on the predictions.\n"
   ]
  }
 ],
 "metadata": {
  "kaggle": {
   "accelerator": "none",
   "dataSources": [
    {
     "datasetId": 821976,
     "sourceId": 1405883,
     "sourceType": "datasetVersion"
    }
   ],
   "dockerImageVersionId": 30664,
   "isGpuEnabled": false,
   "isInternetEnabled": true,
   "language": "python",
   "sourceType": "notebook"
  },
  "kernelspec": {
   "display_name": "Python 3",
   "language": "python",
   "name": "python3"
  },
  "language_info": {
   "codemirror_mode": {
    "name": "ipython",
    "version": 3
   },
   "file_extension": ".py",
   "mimetype": "text/x-python",
   "name": "python",
   "nbconvert_exporter": "python",
   "pygments_lexer": "ipython3",
   "version": "3.10.13"
  },
  "papermill": {
   "default_parameters": {},
   "duration": 8.550977,
   "end_time": "2024-03-01T06:43:44.488943",
   "environment_variables": {},
   "exception": null,
   "input_path": "__notebook__.ipynb",
   "output_path": "__notebook__.ipynb",
   "parameters": {},
   "start_time": "2024-03-01T06:43:35.937966",
   "version": "2.5.0"
  }
 },
 "nbformat": 4,
 "nbformat_minor": 5
}
